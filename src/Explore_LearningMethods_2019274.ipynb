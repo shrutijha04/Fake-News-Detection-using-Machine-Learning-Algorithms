{
  "cells": [
    {
      "cell_type": "markdown",
      "metadata": {
        "id": "JQyf_IT1bKs8"
      },
      "source": [
        "0. Loading the dataset and Pre-processing"
      ]
    },
    {
      "cell_type": "code",
      "source": [
        "!pip install --upgrade --no-cache-dir gdown"
      ],
      "metadata": {
        "colab": {
          "base_uri": "https://localhost:8080/"
        },
        "id": "mi9bI4IjdwvF",
        "outputId": "52df877b-48da-4b17-e1f3-10afefc21c4c"
      },
      "execution_count": null,
      "outputs": [
        {
          "output_type": "stream",
          "name": "stdout",
          "text": [
            "Requirement already satisfied: gdown in /usr/local/lib/python3.7/dist-packages (4.4.0)\n",
            "Requirement already satisfied: beautifulsoup4 in /usr/local/lib/python3.7/dist-packages (from gdown) (4.6.3)\n",
            "Requirement already satisfied: six in /usr/local/lib/python3.7/dist-packages (from gdown) (1.15.0)\n",
            "Requirement already satisfied: tqdm in /usr/local/lib/python3.7/dist-packages (from gdown) (4.64.0)\n",
            "Requirement already satisfied: requests[socks] in /usr/local/lib/python3.7/dist-packages (from gdown) (2.23.0)\n",
            "Requirement already satisfied: filelock in /usr/local/lib/python3.7/dist-packages (from gdown) (3.6.0)\n",
            "Requirement already satisfied: urllib3!=1.25.0,!=1.25.1,<1.26,>=1.21.1 in /usr/local/lib/python3.7/dist-packages (from requests[socks]->gdown) (1.24.3)\n",
            "Requirement already satisfied: idna<3,>=2.5 in /usr/local/lib/python3.7/dist-packages (from requests[socks]->gdown) (2.10)\n",
            "Requirement already satisfied: certifi>=2017.4.17 in /usr/local/lib/python3.7/dist-packages (from requests[socks]->gdown) (2021.10.8)\n",
            "Requirement already satisfied: chardet<4,>=3.0.2 in /usr/local/lib/python3.7/dist-packages (from requests[socks]->gdown) (3.0.4)\n",
            "Requirement already satisfied: PySocks!=1.5.7,>=1.5.6 in /usr/local/lib/python3.7/dist-packages (from requests[socks]->gdown) (1.7.1)\n"
          ]
        }
      ]
    },
    {
      "cell_type": "code",
      "execution_count": null,
      "metadata": {
        "colab": {
          "base_uri": "https://localhost:8080/"
        },
        "id": "mkyWGh1AbNrt",
        "outputId": "f9065eb7-66c4-493a-c52b-16dfaf3a271c"
      },
      "outputs": [
        {
          "output_type": "stream",
          "name": "stdout",
          "text": [
            "/usr/local/lib/python3.7/dist-packages/gdown/cli.py:131: FutureWarning: Option `--id` was deprecated in version 4.3.1 and will be removed in 5.0. You don't need to pass it anymore to use a file ID.\n",
            "  category=FutureWarning,\n",
            "Downloading...\n",
            "From: https://drive.google.com/uc?id=1E8OTtNK_UNSAdmkg3OuB0k2FsKKF9QpY\n",
            "To: /content/train.csv\n",
            "100% 98.6M/98.6M [00:00<00:00, 227MB/s]\n",
            "/usr/local/lib/python3.7/dist-packages/gdown/cli.py:131: FutureWarning: Option `--id` was deprecated in version 4.3.1 and will be removed in 5.0. You don't need to pass it anymore to use a file ID.\n",
            "  category=FutureWarning,\n",
            "Downloading...\n",
            "From: https://drive.google.com/uc?id=1-pm6_kvT9CBrYER40uIkRiG0KMlHnH7L\n",
            "To: /content/test.csv\n",
            "100% 25.1M/25.1M [00:00<00:00, 142MB/s]\n",
            "/usr/local/lib/python3.7/dist-packages/gdown/cli.py:131: FutureWarning: Option `--id` was deprecated in version 4.3.1 and will be removed in 5.0. You don't need to pass it anymore to use a file ID.\n",
            "  category=FutureWarning,\n",
            "Downloading...\n",
            "From: https://drive.google.com/uc?id=1oiVQignVg1wvE1LXKFvOLHPl0P8GNSDp\n",
            "To: /content/submit.csv\n",
            "100% 41.6k/41.6k [00:00<00:00, 48.5MB/s]\n",
            "/usr/local/lib/python3.7/dist-packages/gdown/cli.py:131: FutureWarning: Option `--id` was deprecated in version 4.3.1 and will be removed in 5.0. You don't need to pass it anymore to use a file ID.\n",
            "  category=FutureWarning,\n",
            "Downloading...\n",
            "From: https://drive.google.com/uc?id=1HofeiIpUTM2MOeCXU7UVmBsoHfpwytwD\n",
            "To: /content/preprocessed_train2.csv\n",
            "100% 307M/307M [00:01<00:00, 210MB/s]\n",
            "/usr/local/lib/python3.7/dist-packages/gdown/cli.py:131: FutureWarning: Option `--id` was deprecated in version 4.3.1 and will be removed in 5.0. You don't need to pass it anymore to use a file ID.\n",
            "  category=FutureWarning,\n",
            "Downloading...\n",
            "From: https://drive.google.com/uc?id=1C4vxrdTjUwVaBeFGjN7XOTR-fn2r0v9R\n",
            "To: /content/preprocessed_test2.csv\n",
            "100% 77.3M/77.3M [00:00<00:00, 211MB/s]\n"
          ]
        }
      ],
      "source": [
        "#load the training and test set from Kaggle\n",
        "\n",
        "#also load csv of preprocessed datasets (to reduce runtime by preprocessing once and storing the preprocessed dataset into csv)\n",
        "\n",
        "! gdown --id 1E8OTtNK_UNSAdmkg3OuB0k2FsKKF9QpY\n",
        "! gdown --id 1-pm6_kvT9CBrYER40uIkRiG0KMlHnH7L\n",
        "! gdown --id 1oiVQignVg1wvE1LXKFvOLHPl0P8GNSDp\n",
        "\n",
        "! gdown --id 1HofeiIpUTM2MOeCXU7UVmBsoHfpwytwD\n",
        "! gdown --id 1C4vxrdTjUwVaBeFGjN7XOTR-fn2r0v9R"
      ]
    },
    {
      "cell_type": "code",
      "execution_count": null,
      "metadata": {
        "id": "L3wTlDK2eKPc"
      },
      "outputs": [],
      "source": [
        "import numpy as np\n",
        "import pandas as pd"
      ]
    },
    {
      "cell_type": "code",
      "execution_count": null,
      "metadata": {
        "id": "WvMcjj16ePcy"
      },
      "outputs": [],
      "source": [
        "train_data = pd.read_csv(\"train.csv\")\n",
        "test_data = pd.read_csv(\"test.csv\")\n",
        "submit_data = pd.read_csv(\"submit.csv\")"
      ]
    },
    {
      "cell_type": "code",
      "source": [
        "test_data = test_data.join(submit_data[\"label\"])"
      ],
      "metadata": {
        "id": "lbJvnK8Cd2Lo"
      },
      "execution_count": null,
      "outputs": []
    },
    {
      "cell_type": "code",
      "source": [
        "train_data[\"author\"].fillna(\"-NO AUTHOR-\", inplace = True)\n",
        "test_data[\"author\"].fillna(\"-NO AUTHOR-\", inplace = True)"
      ],
      "metadata": {
        "id": "8jTYX44qk4Kh"
      },
      "execution_count": null,
      "outputs": []
    },
    {
      "cell_type": "code",
      "execution_count": null,
      "metadata": {
        "colab": {
          "base_uri": "https://localhost:8080/"
        },
        "id": "9jSc0uI3eWMv",
        "outputId": "4a6108b6-3f0a-45c9-95c9-4f891c8c40bf"
      },
      "outputs": [
        {
          "output_type": "execute_result",
          "data": {
            "text/plain": [
              "id          0\n",
              "title     558\n",
              "author      0\n",
              "text       39\n",
              "label       0\n",
              "dtype: int64"
            ]
          },
          "metadata": {},
          "execution_count": 7
        }
      ],
      "source": [
        "# Checking null values\n",
        "train_data.isnull().sum()"
      ]
    },
    {
      "cell_type": "code",
      "execution_count": null,
      "metadata": {
        "id": "BRmuRMkqeeKo"
      },
      "outputs": [],
      "source": [
        "# Removing null values\n",
        "train_data.dropna(inplace=True)\n",
        "train_data.drop(train_data.loc[train_data['text']==\" \"].index, inplace=True)\n",
        "train_data.drop(train_data.loc[train_data['text']==\"  \"].index, inplace=True)\n",
        "train_data.drop(train_data.loc[train_data['text']==\"\\n\"].index, inplace=True)\n",
        "\n",
        "# Resetting index\n",
        "train_data.reset_index(inplace=True)"
      ]
    },
    {
      "cell_type": "code",
      "execution_count": null,
      "metadata": {
        "colab": {
          "base_uri": "https://localhost:8080/",
          "height": 206
        },
        "id": "3vnDrY48fa9n",
        "outputId": "56a77dd8-c64c-4ccf-b135-4946e0883ceb"
      },
      "outputs": [
        {
          "output_type": "execute_result",
          "data": {
            "text/plain": [
              "   index  id                                              title  \\\n",
              "0      0   0  House Dem Aide: We Didn’t Even See Comey’s Let...   \n",
              "1      1   1  FLYNN: Hillary Clinton, Big Woman on Campus - ...   \n",
              "2      2   2                  Why the Truth Might Get You Fired   \n",
              "3      3   3  15 Civilians Killed In Single US Airstrike Hav...   \n",
              "4      4   4  Iranian woman jailed for fictional unpublished...   \n",
              "\n",
              "               author                                               text  \\\n",
              "0       Darrell Lucus  House Dem Aide: We Didn’t Even See Comey’s Let...   \n",
              "1     Daniel J. Flynn  Ever get the feeling your life circles the rou...   \n",
              "2  Consortiumnews.com  Why the Truth Might Get You Fired October 29, ...   \n",
              "3     Jessica Purkiss  Videos 15 Civilians Killed In Single US Airstr...   \n",
              "4      Howard Portnoy  Print \\nAn Iranian woman has been sentenced to...   \n",
              "\n",
              "   label  \n",
              "0      1  \n",
              "1      0  \n",
              "2      1  \n",
              "3      1  \n",
              "4      1  "
            ],
            "text/html": [
              "\n",
              "  <div id=\"df-1e30bf04-bdd2-4b51-a278-69db64e17f45\">\n",
              "    <div class=\"colab-df-container\">\n",
              "      <div>\n",
              "<style scoped>\n",
              "    .dataframe tbody tr th:only-of-type {\n",
              "        vertical-align: middle;\n",
              "    }\n",
              "\n",
              "    .dataframe tbody tr th {\n",
              "        vertical-align: top;\n",
              "    }\n",
              "\n",
              "    .dataframe thead th {\n",
              "        text-align: right;\n",
              "    }\n",
              "</style>\n",
              "<table border=\"1\" class=\"dataframe\">\n",
              "  <thead>\n",
              "    <tr style=\"text-align: right;\">\n",
              "      <th></th>\n",
              "      <th>index</th>\n",
              "      <th>id</th>\n",
              "      <th>title</th>\n",
              "      <th>author</th>\n",
              "      <th>text</th>\n",
              "      <th>label</th>\n",
              "    </tr>\n",
              "  </thead>\n",
              "  <tbody>\n",
              "    <tr>\n",
              "      <th>0</th>\n",
              "      <td>0</td>\n",
              "      <td>0</td>\n",
              "      <td>House Dem Aide: We Didn’t Even See Comey’s Let...</td>\n",
              "      <td>Darrell Lucus</td>\n",
              "      <td>House Dem Aide: We Didn’t Even See Comey’s Let...</td>\n",
              "      <td>1</td>\n",
              "    </tr>\n",
              "    <tr>\n",
              "      <th>1</th>\n",
              "      <td>1</td>\n",
              "      <td>1</td>\n",
              "      <td>FLYNN: Hillary Clinton, Big Woman on Campus - ...</td>\n",
              "      <td>Daniel J. Flynn</td>\n",
              "      <td>Ever get the feeling your life circles the rou...</td>\n",
              "      <td>0</td>\n",
              "    </tr>\n",
              "    <tr>\n",
              "      <th>2</th>\n",
              "      <td>2</td>\n",
              "      <td>2</td>\n",
              "      <td>Why the Truth Might Get You Fired</td>\n",
              "      <td>Consortiumnews.com</td>\n",
              "      <td>Why the Truth Might Get You Fired October 29, ...</td>\n",
              "      <td>1</td>\n",
              "    </tr>\n",
              "    <tr>\n",
              "      <th>3</th>\n",
              "      <td>3</td>\n",
              "      <td>3</td>\n",
              "      <td>15 Civilians Killed In Single US Airstrike Hav...</td>\n",
              "      <td>Jessica Purkiss</td>\n",
              "      <td>Videos 15 Civilians Killed In Single US Airstr...</td>\n",
              "      <td>1</td>\n",
              "    </tr>\n",
              "    <tr>\n",
              "      <th>4</th>\n",
              "      <td>4</td>\n",
              "      <td>4</td>\n",
              "      <td>Iranian woman jailed for fictional unpublished...</td>\n",
              "      <td>Howard Portnoy</td>\n",
              "      <td>Print \\nAn Iranian woman has been sentenced to...</td>\n",
              "      <td>1</td>\n",
              "    </tr>\n",
              "  </tbody>\n",
              "</table>\n",
              "</div>\n",
              "      <button class=\"colab-df-convert\" onclick=\"convertToInteractive('df-1e30bf04-bdd2-4b51-a278-69db64e17f45')\"\n",
              "              title=\"Convert this dataframe to an interactive table.\"\n",
              "              style=\"display:none;\">\n",
              "        \n",
              "  <svg xmlns=\"http://www.w3.org/2000/svg\" height=\"24px\"viewBox=\"0 0 24 24\"\n",
              "       width=\"24px\">\n",
              "    <path d=\"M0 0h24v24H0V0z\" fill=\"none\"/>\n",
              "    <path d=\"M18.56 5.44l.94 2.06.94-2.06 2.06-.94-2.06-.94-.94-2.06-.94 2.06-2.06.94zm-11 1L8.5 8.5l.94-2.06 2.06-.94-2.06-.94L8.5 2.5l-.94 2.06-2.06.94zm10 10l.94 2.06.94-2.06 2.06-.94-2.06-.94-.94-2.06-.94 2.06-2.06.94z\"/><path d=\"M17.41 7.96l-1.37-1.37c-.4-.4-.92-.59-1.43-.59-.52 0-1.04.2-1.43.59L10.3 9.45l-7.72 7.72c-.78.78-.78 2.05 0 2.83L4 21.41c.39.39.9.59 1.41.59.51 0 1.02-.2 1.41-.59l7.78-7.78 2.81-2.81c.8-.78.8-2.07 0-2.86zM5.41 20L4 18.59l7.72-7.72 1.47 1.35L5.41 20z\"/>\n",
              "  </svg>\n",
              "      </button>\n",
              "      \n",
              "  <style>\n",
              "    .colab-df-container {\n",
              "      display:flex;\n",
              "      flex-wrap:wrap;\n",
              "      gap: 12px;\n",
              "    }\n",
              "\n",
              "    .colab-df-convert {\n",
              "      background-color: #E8F0FE;\n",
              "      border: none;\n",
              "      border-radius: 50%;\n",
              "      cursor: pointer;\n",
              "      display: none;\n",
              "      fill: #1967D2;\n",
              "      height: 32px;\n",
              "      padding: 0 0 0 0;\n",
              "      width: 32px;\n",
              "    }\n",
              "\n",
              "    .colab-df-convert:hover {\n",
              "      background-color: #E2EBFA;\n",
              "      box-shadow: 0px 1px 2px rgba(60, 64, 67, 0.3), 0px 1px 3px 1px rgba(60, 64, 67, 0.15);\n",
              "      fill: #174EA6;\n",
              "    }\n",
              "\n",
              "    [theme=dark] .colab-df-convert {\n",
              "      background-color: #3B4455;\n",
              "      fill: #D2E3FC;\n",
              "    }\n",
              "\n",
              "    [theme=dark] .colab-df-convert:hover {\n",
              "      background-color: #434B5C;\n",
              "      box-shadow: 0px 1px 3px 1px rgba(0, 0, 0, 0.15);\n",
              "      filter: drop-shadow(0px 1px 2px rgba(0, 0, 0, 0.3));\n",
              "      fill: #FFFFFF;\n",
              "    }\n",
              "  </style>\n",
              "\n",
              "      <script>\n",
              "        const buttonEl =\n",
              "          document.querySelector('#df-1e30bf04-bdd2-4b51-a278-69db64e17f45 button.colab-df-convert');\n",
              "        buttonEl.style.display =\n",
              "          google.colab.kernel.accessAllowed ? 'block' : 'none';\n",
              "\n",
              "        async function convertToInteractive(key) {\n",
              "          const element = document.querySelector('#df-1e30bf04-bdd2-4b51-a278-69db64e17f45');\n",
              "          const dataTable =\n",
              "            await google.colab.kernel.invokeFunction('convertToInteractive',\n",
              "                                                     [key], {});\n",
              "          if (!dataTable) return;\n",
              "\n",
              "          const docLinkHtml = 'Like what you see? Visit the ' +\n",
              "            '<a target=\"_blank\" href=https://colab.research.google.com/notebooks/data_table.ipynb>data table notebook</a>'\n",
              "            + ' to learn more about interactive tables.';\n",
              "          element.innerHTML = '';\n",
              "          dataTable['output_type'] = 'display_data';\n",
              "          await google.colab.output.renderOutput(dataTable, element);\n",
              "          const docLink = document.createElement('div');\n",
              "          docLink.innerHTML = docLinkHtml;\n",
              "          element.appendChild(docLink);\n",
              "        }\n",
              "      </script>\n",
              "    </div>\n",
              "  </div>\n",
              "  "
            ]
          },
          "metadata": {},
          "execution_count": 9
        }
      ],
      "source": [
        "train_data.head()"
      ]
    },
    {
      "cell_type": "code",
      "execution_count": null,
      "metadata": {
        "id": "uORN7GD_fNME"
      },
      "outputs": [],
      "source": [
        "train_data= train_data.apply(lambda x: x.astype(str).str.lower())"
      ]
    },
    {
      "cell_type": "code",
      "execution_count": null,
      "metadata": {
        "colab": {
          "base_uri": "https://localhost:8080/",
          "height": 423
        },
        "id": "wNoHxyUwftlg",
        "outputId": "210baadd-6d75-4070-ec1a-10665ccb7fb5"
      },
      "outputs": [
        {
          "output_type": "execute_result",
          "data": {
            "text/plain": [
              "                                                   title  \\\n",
              "0      house dem aide: we didn’t even see comey’s let...   \n",
              "1      flynn: hillary clinton, big woman on campus - ...   \n",
              "2                      why the truth might get you fired   \n",
              "3      15 civilians killed in single us airstrike hav...   \n",
              "4      iranian woman jailed for fictional unpublished...   \n",
              "...                                                  ...   \n",
              "20121  rapper t.i.: trump a ’poster child for white s...   \n",
              "20122  n.f.l. playoffs: schedule, matchups and odds -...   \n",
              "20123  macy’s is said to receive takeover approach by...   \n",
              "20124  nato, russia to hold parallel exercises in bal...   \n",
              "20125                          what keeps the f-35 alive   \n",
              "\n",
              "                                          author  \\\n",
              "0                                  darrell lucus   \n",
              "1                                daniel j. flynn   \n",
              "2                             consortiumnews.com   \n",
              "3                                jessica purkiss   \n",
              "4                                 howard portnoy   \n",
              "...                                          ...   \n",
              "20121                              jerome hudson   \n",
              "20122                           benjamin hoffman   \n",
              "20123  michael j. de la merced and rachel abrams   \n",
              "20124                                alex ansary   \n",
              "20125                              david swanson   \n",
              "\n",
              "                                                    text label  \n",
              "0      house dem aide: we didn’t even see comey’s let...     1  \n",
              "1      ever get the feeling your life circles the rou...     0  \n",
              "2      why the truth might get you fired october 29, ...     1  \n",
              "3      videos 15 civilians killed in single us airstr...     1  \n",
              "4      print \\nan iranian woman has been sentenced to...     1  \n",
              "...                                                  ...   ...  \n",
              "20121  rapper t. i. unloaded on black celebrities who...     0  \n",
              "20122  when the green bay packers lost to the washing...     0  \n",
              "20123  the macy’s of today grew from the union of sev...     0  \n",
              "20124  nato, russia to hold parallel exercises in bal...     1  \n",
              "20125    david swanson is an author, activist, journa...     1  \n",
              "\n",
              "[20126 rows x 4 columns]"
            ],
            "text/html": [
              "\n",
              "  <div id=\"df-8e836c61-06c3-4044-89e6-82ffb3807f97\">\n",
              "    <div class=\"colab-df-container\">\n",
              "      <div>\n",
              "<style scoped>\n",
              "    .dataframe tbody tr th:only-of-type {\n",
              "        vertical-align: middle;\n",
              "    }\n",
              "\n",
              "    .dataframe tbody tr th {\n",
              "        vertical-align: top;\n",
              "    }\n",
              "\n",
              "    .dataframe thead th {\n",
              "        text-align: right;\n",
              "    }\n",
              "</style>\n",
              "<table border=\"1\" class=\"dataframe\">\n",
              "  <thead>\n",
              "    <tr style=\"text-align: right;\">\n",
              "      <th></th>\n",
              "      <th>title</th>\n",
              "      <th>author</th>\n",
              "      <th>text</th>\n",
              "      <th>label</th>\n",
              "    </tr>\n",
              "  </thead>\n",
              "  <tbody>\n",
              "    <tr>\n",
              "      <th>0</th>\n",
              "      <td>house dem aide: we didn’t even see comey’s let...</td>\n",
              "      <td>darrell lucus</td>\n",
              "      <td>house dem aide: we didn’t even see comey’s let...</td>\n",
              "      <td>1</td>\n",
              "    </tr>\n",
              "    <tr>\n",
              "      <th>1</th>\n",
              "      <td>flynn: hillary clinton, big woman on campus - ...</td>\n",
              "      <td>daniel j. flynn</td>\n",
              "      <td>ever get the feeling your life circles the rou...</td>\n",
              "      <td>0</td>\n",
              "    </tr>\n",
              "    <tr>\n",
              "      <th>2</th>\n",
              "      <td>why the truth might get you fired</td>\n",
              "      <td>consortiumnews.com</td>\n",
              "      <td>why the truth might get you fired october 29, ...</td>\n",
              "      <td>1</td>\n",
              "    </tr>\n",
              "    <tr>\n",
              "      <th>3</th>\n",
              "      <td>15 civilians killed in single us airstrike hav...</td>\n",
              "      <td>jessica purkiss</td>\n",
              "      <td>videos 15 civilians killed in single us airstr...</td>\n",
              "      <td>1</td>\n",
              "    </tr>\n",
              "    <tr>\n",
              "      <th>4</th>\n",
              "      <td>iranian woman jailed for fictional unpublished...</td>\n",
              "      <td>howard portnoy</td>\n",
              "      <td>print \\nan iranian woman has been sentenced to...</td>\n",
              "      <td>1</td>\n",
              "    </tr>\n",
              "    <tr>\n",
              "      <th>...</th>\n",
              "      <td>...</td>\n",
              "      <td>...</td>\n",
              "      <td>...</td>\n",
              "      <td>...</td>\n",
              "    </tr>\n",
              "    <tr>\n",
              "      <th>20121</th>\n",
              "      <td>rapper t.i.: trump a ’poster child for white s...</td>\n",
              "      <td>jerome hudson</td>\n",
              "      <td>rapper t. i. unloaded on black celebrities who...</td>\n",
              "      <td>0</td>\n",
              "    </tr>\n",
              "    <tr>\n",
              "      <th>20122</th>\n",
              "      <td>n.f.l. playoffs: schedule, matchups and odds -...</td>\n",
              "      <td>benjamin hoffman</td>\n",
              "      <td>when the green bay packers lost to the washing...</td>\n",
              "      <td>0</td>\n",
              "    </tr>\n",
              "    <tr>\n",
              "      <th>20123</th>\n",
              "      <td>macy’s is said to receive takeover approach by...</td>\n",
              "      <td>michael j. de la merced and rachel abrams</td>\n",
              "      <td>the macy’s of today grew from the union of sev...</td>\n",
              "      <td>0</td>\n",
              "    </tr>\n",
              "    <tr>\n",
              "      <th>20124</th>\n",
              "      <td>nato, russia to hold parallel exercises in bal...</td>\n",
              "      <td>alex ansary</td>\n",
              "      <td>nato, russia to hold parallel exercises in bal...</td>\n",
              "      <td>1</td>\n",
              "    </tr>\n",
              "    <tr>\n",
              "      <th>20125</th>\n",
              "      <td>what keeps the f-35 alive</td>\n",
              "      <td>david swanson</td>\n",
              "      <td>david swanson is an author, activist, journa...</td>\n",
              "      <td>1</td>\n",
              "    </tr>\n",
              "  </tbody>\n",
              "</table>\n",
              "<p>20126 rows × 4 columns</p>\n",
              "</div>\n",
              "      <button class=\"colab-df-convert\" onclick=\"convertToInteractive('df-8e836c61-06c3-4044-89e6-82ffb3807f97')\"\n",
              "              title=\"Convert this dataframe to an interactive table.\"\n",
              "              style=\"display:none;\">\n",
              "        \n",
              "  <svg xmlns=\"http://www.w3.org/2000/svg\" height=\"24px\"viewBox=\"0 0 24 24\"\n",
              "       width=\"24px\">\n",
              "    <path d=\"M0 0h24v24H0V0z\" fill=\"none\"/>\n",
              "    <path d=\"M18.56 5.44l.94 2.06.94-2.06 2.06-.94-2.06-.94-.94-2.06-.94 2.06-2.06.94zm-11 1L8.5 8.5l.94-2.06 2.06-.94-2.06-.94L8.5 2.5l-.94 2.06-2.06.94zm10 10l.94 2.06.94-2.06 2.06-.94-2.06-.94-.94-2.06-.94 2.06-2.06.94z\"/><path d=\"M17.41 7.96l-1.37-1.37c-.4-.4-.92-.59-1.43-.59-.52 0-1.04.2-1.43.59L10.3 9.45l-7.72 7.72c-.78.78-.78 2.05 0 2.83L4 21.41c.39.39.9.59 1.41.59.51 0 1.02-.2 1.41-.59l7.78-7.78 2.81-2.81c.8-.78.8-2.07 0-2.86zM5.41 20L4 18.59l7.72-7.72 1.47 1.35L5.41 20z\"/>\n",
              "  </svg>\n",
              "      </button>\n",
              "      \n",
              "  <style>\n",
              "    .colab-df-container {\n",
              "      display:flex;\n",
              "      flex-wrap:wrap;\n",
              "      gap: 12px;\n",
              "    }\n",
              "\n",
              "    .colab-df-convert {\n",
              "      background-color: #E8F0FE;\n",
              "      border: none;\n",
              "      border-radius: 50%;\n",
              "      cursor: pointer;\n",
              "      display: none;\n",
              "      fill: #1967D2;\n",
              "      height: 32px;\n",
              "      padding: 0 0 0 0;\n",
              "      width: 32px;\n",
              "    }\n",
              "\n",
              "    .colab-df-convert:hover {\n",
              "      background-color: #E2EBFA;\n",
              "      box-shadow: 0px 1px 2px rgba(60, 64, 67, 0.3), 0px 1px 3px 1px rgba(60, 64, 67, 0.15);\n",
              "      fill: #174EA6;\n",
              "    }\n",
              "\n",
              "    [theme=dark] .colab-df-convert {\n",
              "      background-color: #3B4455;\n",
              "      fill: #D2E3FC;\n",
              "    }\n",
              "\n",
              "    [theme=dark] .colab-df-convert:hover {\n",
              "      background-color: #434B5C;\n",
              "      box-shadow: 0px 1px 3px 1px rgba(0, 0, 0, 0.15);\n",
              "      filter: drop-shadow(0px 1px 2px rgba(0, 0, 0, 0.3));\n",
              "      fill: #FFFFFF;\n",
              "    }\n",
              "  </style>\n",
              "\n",
              "      <script>\n",
              "        const buttonEl =\n",
              "          document.querySelector('#df-8e836c61-06c3-4044-89e6-82ffb3807f97 button.colab-df-convert');\n",
              "        buttonEl.style.display =\n",
              "          google.colab.kernel.accessAllowed ? 'block' : 'none';\n",
              "\n",
              "        async function convertToInteractive(key) {\n",
              "          const element = document.querySelector('#df-8e836c61-06c3-4044-89e6-82ffb3807f97');\n",
              "          const dataTable =\n",
              "            await google.colab.kernel.invokeFunction('convertToInteractive',\n",
              "                                                     [key], {});\n",
              "          if (!dataTable) return;\n",
              "\n",
              "          const docLinkHtml = 'Like what you see? Visit the ' +\n",
              "            '<a target=\"_blank\" href=https://colab.research.google.com/notebooks/data_table.ipynb>data table notebook</a>'\n",
              "            + ' to learn more about interactive tables.';\n",
              "          element.innerHTML = '';\n",
              "          dataTable['output_type'] = 'display_data';\n",
              "          await google.colab.output.renderOutput(dataTable, element);\n",
              "          const docLink = document.createElement('div');\n",
              "          docLink.innerHTML = docLinkHtml;\n",
              "          element.appendChild(docLink);\n",
              "        }\n",
              "      </script>\n",
              "    </div>\n",
              "  </div>\n",
              "  "
            ]
          },
          "metadata": {},
          "execution_count": 11
        }
      ],
      "source": [
        "train_data.drop(columns=[\"id\", \"index\"])"
      ]
    },
    {
      "cell_type": "code",
      "source": [
        "# Checking null values\n",
        "test_data.isnull().sum()"
      ],
      "metadata": {
        "colab": {
          "base_uri": "https://localhost:8080/"
        },
        "id": "AiE66y5keBVV",
        "outputId": "5e87e92a-419a-49c5-fa7c-59fb217d9a2d"
      },
      "execution_count": null,
      "outputs": [
        {
          "output_type": "execute_result",
          "data": {
            "text/plain": [
              "id          0\n",
              "title     122\n",
              "author      0\n",
              "text        7\n",
              "label       0\n",
              "dtype: int64"
            ]
          },
          "metadata": {},
          "execution_count": 12
        }
      ]
    },
    {
      "cell_type": "code",
      "source": [
        "# Removing null values\n",
        "test_data.dropna(inplace=True)\n",
        "test_data.drop(test_data.loc[test_data['text']==\" \"].index, inplace=True)\n",
        "test_data.drop(test_data.loc[test_data['text']==\"  \"].index, inplace=True)\n",
        "test_data.drop(test_data.loc[test_data['text']==\"\\n\"].index, inplace=True)\n",
        "\n",
        "# Resetting index\n",
        "test_data.reset_index(inplace=True)"
      ],
      "metadata": {
        "id": "tXy-DiMceBfj"
      },
      "execution_count": null,
      "outputs": []
    },
    {
      "cell_type": "code",
      "source": [
        "test_data= test_data.apply(lambda x: x.astype(str).str.lower())"
      ],
      "metadata": {
        "id": "3qSMYElxeBuh"
      },
      "execution_count": null,
      "outputs": []
    },
    {
      "cell_type": "code",
      "source": [
        "test_data = test_data.drop(columns=[\"id\",\"index\"])"
      ],
      "metadata": {
        "id": "VEc2Mf7eeFRy"
      },
      "execution_count": null,
      "outputs": []
    },
    {
      "cell_type": "code",
      "source": [
        "transformed_df = pd.read_csv(\"preprocessed_train2.csv\")\n",
        "transformed_df_test = pd.read_csv(\"preprocessed_test2.csv\")"
      ],
      "metadata": {
        "id": "SGLXrTmaeFXq"
      },
      "execution_count": null,
      "outputs": []
    },
    {
      "cell_type": "code",
      "source": [
        "X_test = transformed_df_test.values\n",
        "y_test = test_data[\"label\"].values "
      ],
      "metadata": {
        "id": "-ujy5vPCeFc5"
      },
      "execution_count": null,
      "outputs": []
    },
    {
      "cell_type": "code",
      "source": [
        "X = transformed_df.values\n",
        "y = train_data[\"label\"].values"
      ],
      "metadata": {
        "id": "RECpULTpeKre"
      },
      "execution_count": null,
      "outputs": []
    },
    {
      "cell_type": "code",
      "source": [
        ""
      ],
      "metadata": {
        "id": "yOHTq-cseK0d"
      },
      "execution_count": null,
      "outputs": []
    },
    {
      "cell_type": "code",
      "execution_count": null,
      "metadata": {
        "id": "wnxqC60tA7tQ"
      },
      "outputs": [],
      "source": [
        "#Kfold (k=5) split for training data\n",
        "\n",
        "from sklearn.model_selection import StratifiedKFold\n",
        "skf = StratifiedKFold(n_splits=5)\n",
        "\n",
        "\n",
        "X_train=[]\n",
        "X_val=[]\n",
        "y_train=[]\n",
        "y_val=[]\n",
        "\n",
        "for train_index, test_index in skf.split(X, y):\n",
        "  X_train.append(X[train_index])\n",
        "  X_val.append(X[test_index]) \n",
        "  y_train.append(y[train_index])\n",
        "  y_val.append(y[test_index])\n"
      ]
    },
    {
      "cell_type": "markdown",
      "source": [
        "1. Learning Methods explored for different ML models"
      ],
      "metadata": {
        "id": "lm8nUToFPHNw"
      }
    },
    {
      "cell_type": "code",
      "execution_count": null,
      "metadata": {
        "id": "MSzr_Ow3cjn0"
      },
      "outputs": [],
      "source": [
        "##Learning methods explored"
      ]
    },
    {
      "cell_type": "markdown",
      "source": [
        "1.1 SVM"
      ],
      "metadata": {
        "id": "-poQqsJwPLdg"
      }
    },
    {
      "cell_type": "code",
      "execution_count": null,
      "metadata": {
        "id": "CXO1K1kncm6t"
      },
      "outputs": [],
      "source": [
        "#Model 1: SVM\n",
        "\n",
        "from sklearn.linear_model import SGDClassifier"
      ]
    },
    {
      "cell_type": "code",
      "execution_count": null,
      "metadata": {
        "id": "uCKaAbeKRZh_"
      },
      "outputs": [],
      "source": [
        "#(i) stochastic gradient descent (SGD)\n",
        "\n",
        "svm_1_sgd = SGDClassifier(loss='hinge', random_state=0)\n",
        "svm_2_sgd = SGDClassifier(loss='hinge', random_state=0)\n",
        "svm_3_sgd = SGDClassifier(loss='hinge', random_state=0)\n",
        "svm_4_sgd = SGDClassifier(loss='hinge', random_state=0)\n",
        "svm_5_sgd = SGDClassifier(loss='hinge', random_state=0)"
      ]
    },
    {
      "cell_type": "code",
      "execution_count": null,
      "metadata": {
        "id": "uBbUnqhIRZkC",
        "colab": {
          "base_uri": "https://localhost:8080/"
        },
        "outputId": "9d328922-dd7a-4753-8ff2-1b04322e2711"
      },
      "outputs": [
        {
          "output_type": "execute_result",
          "data": {
            "text/plain": [
              "SGDClassifier(random_state=0)"
            ]
          },
          "metadata": {},
          "execution_count": 23
        }
      ],
      "source": [
        "svm_1_sgd.fit(X_train[0], y_train[0].astype('int'))\n",
        "svm_2_sgd.fit(X_train[1], y_train[1].astype('int'))\n",
        "svm_3_sgd.fit(X_train[2], y_train[2].astype('int'))\n",
        "svm_4_sgd.fit(X_train[3], y_train[3].astype('int'))\n",
        "svm_5_sgd.fit(X_train[4], y_train[4].astype('int'))"
      ]
    },
    {
      "cell_type": "code",
      "execution_count": null,
      "metadata": {
        "id": "w9o_C3saRZnp"
      },
      "outputs": [],
      "source": [
        "y_pred_0 = svm_1_sgd.predict(X_val[0])\n",
        "y_pred_1 = svm_2_sgd.predict(X_val[1])\n",
        "y_pred_2 = svm_3_sgd.predict(X_val[2])\n",
        "y_pred_3 = svm_4_sgd.predict(X_val[3])\n",
        "y_pred_4 = svm_5_sgd.predict(X_val[4])"
      ]
    },
    {
      "cell_type": "code",
      "execution_count": null,
      "metadata": {
        "id": "zeUGwNTSRxg5",
        "colab": {
          "base_uri": "https://localhost:8080/"
        },
        "outputId": "4e9007cb-623d-4686-8e1d-78496c6fa363"
      },
      "outputs": [
        {
          "output_type": "stream",
          "name": "stdout",
          "text": [
            "Comparing the 5 DT models on resp. val set\n",
            "\n",
            "Evaluation Metrics for Model 1:\n",
            "Accuracy:  0.9503229011425732\n",
            "Precision:  0.9459183673469388\n",
            "Recall:  0.9517453798767967\n",
            "f1-score:  0.9488229273285569\n",
            "\n",
            "Evaluation Metrics for Model 2:\n",
            "Accuracy:  0.9463354037267081\n",
            "Precision:  0.9477766287487074\n",
            "Recall:  0.9409650924024641\n",
            "f1-score:  0.9443585780525503\n",
            "\n",
            "Evaluation Metrics for Model 3:\n",
            "Accuracy:  0.9565217391304348\n",
            "Precision:  0.9511450381679389\n",
            "Recall:  0.9594455852156057\n",
            "f1-score:  0.9552772808586762\n",
            "\n",
            "Evaluation Metrics for Model 4:\n",
            "Accuracy:  0.9426086956521739\n",
            "Precision:  0.9346835443037975\n",
            "Recall:  0.9476386036960985\n",
            "f1-score:  0.9411164924802446\n",
            "\n",
            "Evaluation Metrics for Model 5:\n",
            "Accuracy:  0.9503105590062112\n",
            "Precision:  0.9609498680738786\n",
            "Recall:  0.9352850539291218\n",
            "f1-score:  0.9479437792816241\n",
            "Average Evaluation metrics for DT are: \n",
            "Accuracy:  0.9492198597316202\n",
            "Precision:  0.9480946893282522\n",
            "Recall:  0.9470159430240173\n",
            "f1-score:  0.9475038116003305\n"
          ]
        }
      ],
      "source": [
        "# comparing the 5 model performances on resp. validation sets\n",
        "from sklearn.metrics import precision_score, recall_score, f1_score, accuracy_score\n",
        "\n",
        "print('Comparing the 5 DT models on resp. val set')\n",
        "#model 1\n",
        "accuracy_0 = accuracy_score(y_val[0].astype('int'), y_pred_0)\n",
        "precision_0 = precision_score(y_val[0].astype('int'), y_pred_0)\n",
        "recall_0 =  recall_score(y_val[0].astype('int'), y_pred_0)\n",
        "f1_0 = f1_score(y_val[0].astype('int'), y_pred_0)\n",
        "\n",
        "print('\\nEvaluation Metrics for Model 1:')\n",
        "print(\"Accuracy: \", accuracy_0)\n",
        "print(\"Precision: \", precision_0)\n",
        "print(\"Recall: \", recall_0)\n",
        "print(\"f1-score: \", f1_0)\n",
        "\n",
        "#model 2\n",
        "accuracy_1 = accuracy_score(y_val[1].astype('int'), y_pred_1)\n",
        "precision_1 = precision_score(y_val[1].astype('int'), y_pred_1)\n",
        "recall_1 =  recall_score(y_val[1].astype('int'), y_pred_1)\n",
        "f1_1 = f1_score(y_val[1].astype('int'), y_pred_1)\n",
        "\n",
        "print('\\nEvaluation Metrics for Model 2:')\n",
        "print(\"Accuracy: \", accuracy_1)\n",
        "print(\"Precision: \", precision_1)\n",
        "print(\"Recall: \", recall_1)\n",
        "print(\"f1-score: \", f1_1)\n",
        "\n",
        "#model 3\n",
        "accuracy_2 = accuracy_score(y_val[2].astype('int'), y_pred_2)\n",
        "precision_2 = precision_score(y_val[2].astype('int'), y_pred_2)\n",
        "recall_2 =  recall_score(y_val[2].astype('int'), y_pred_2)\n",
        "f1_2 = f1_score(y_val[2].astype('int'), y_pred_2)\n",
        "\n",
        "print('\\nEvaluation Metrics for Model 3:')\n",
        "print(\"Accuracy: \", accuracy_2)\n",
        "print(\"Precision: \", precision_2)\n",
        "print(\"Recall: \", recall_2)\n",
        "print(\"f1-score: \", f1_2)\n",
        "\n",
        "#model 4\n",
        "accuracy_3 = accuracy_score(y_val[3].astype('int'), y_pred_3)\n",
        "precision_3 = precision_score(y_val[3].astype('int'), y_pred_3)\n",
        "recall_3 =  recall_score(y_val[3].astype('int'), y_pred_3)\n",
        "f1_3 = f1_score(y_val[3].astype('int'), y_pred_3)\n",
        "\n",
        "print('\\nEvaluation Metrics for Model 4:')\n",
        "print(\"Accuracy: \", accuracy_3)\n",
        "print(\"Precision: \", precision_3)\n",
        "print(\"Recall: \", recall_3)\n",
        "print(\"f1-score: \", f1_3)\n",
        "\n",
        "#model 5\n",
        "accuracy_4 = accuracy_score(y_val[4].astype('int'), y_pred_4)\n",
        "precision_4 = precision_score(y_val[4].astype('int'), y_pred_4)\n",
        "recall_4 =  recall_score(y_val[4].astype('int'), y_pred_4)\n",
        "f1_4 = f1_score(y_val[4].astype('int'), y_pred_4)\n",
        "\n",
        "print('\\nEvaluation Metrics for Model 5:')\n",
        "print(\"Accuracy: \", accuracy_4)\n",
        "print(\"Precision: \", precision_4)\n",
        "print(\"Recall: \", recall_4)\n",
        "print(\"f1-score: \", f1_4)\n",
        "\n",
        "print('Average Evaluation metrics for DT are: ')\n",
        "print(\"Accuracy: \", np.mean([accuracy_0, accuracy_1, accuracy_2, accuracy_3, accuracy_4]))\n",
        "print(\"Precision: \", np.mean([precision_0, precision_1, precision_2, precision_3, precision_4]))\n",
        "print(\"Recall: \", np.mean([recall_0, recall_1, recall_2, recall_3, recall_4]))\n",
        "print(\"f1-score: \", np.mean([f1_0, f1_1, f1_2, f1_3, f1_4]))\n"
      ]
    },
    {
      "cell_type": "code",
      "execution_count": null,
      "metadata": {
        "id": "7QKAjf64W1i3",
        "colab": {
          "base_uri": "https://localhost:8080/"
        },
        "outputId": "7eb575f9-a137-49ac-ac10-4da89c80c4fe"
      },
      "outputs": [
        {
          "output_type": "stream",
          "name": "stdout",
          "text": [
            "Comparing the 5 DT models on test set\n",
            "\n",
            "Evaluation Metrics for Model 1:\n",
            "Accuracy:  0.6273809523809524\n",
            "Precision:  0.6688417618270799\n",
            "Recall:  0.6060606060606061\n",
            "f1-score:  0.6359053896859247\n",
            "\n",
            "Evaluation Metrics for Model 2:\n",
            "Accuracy:  0.6248015873015873\n",
            "Precision:  0.668041237113402\n",
            "Recall:  0.5986696230598669\n",
            "f1-score:  0.6314558565581758\n",
            "\n",
            "Evaluation Metrics for Model 3:\n",
            "Accuracy:  0.6224206349206349\n",
            "Precision:  0.6644817697664891\n",
            "Recall:  0.5994087213599408\n",
            "f1-score:  0.6302700602292597\n",
            "\n",
            "Evaluation Metrics for Model 4:\n",
            "Accuracy:  0.6220238095238095\n",
            "Precision:  0.6636697997548018\n",
            "Recall:  0.6001478196600147\n",
            "f1-score:  0.630312439355715\n",
            "\n",
            "Evaluation Metrics for Model 5:\n",
            "Accuracy:  0.6200396825396826\n",
            "Precision:  0.6649979140592407\n",
            "Recall:  0.5890613451589062\n",
            "f1-score:  0.6247305506564766\n",
            "Average Evaluation metrics for DT are: \n",
            "Accuracy:  0.6233333333333334\n",
            "Precision:  0.6660064965042027\n",
            "Recall:  0.5986696230598669\n",
            "f1-score:  0.6305348592971104\n"
          ]
        }
      ],
      "source": [
        "# comparing the 5 model performances on resp. validation sets\n",
        "from sklearn.metrics import precision_score, recall_score, f1_score, accuracy_score\n",
        "\n",
        "#evaluation metrics on test set\n",
        "y_pred_0 = svm_1_sgd.predict(X_test)\n",
        "y_pred_1 = svm_2_sgd.predict(X_test)\n",
        "y_pred_2 = svm_3_sgd.predict(X_test)\n",
        "y_pred_3 = svm_4_sgd.predict(X_test)\n",
        "y_pred_4 = svm_5_sgd.predict(X_test)\n",
        "\n",
        "print('Comparing the 5 DT models on test set')\n",
        "#model 1\n",
        "accuracy_0 = accuracy_score(y_test.astype('int'), y_pred_0)\n",
        "precision_0 = precision_score(y_test.astype('int'), y_pred_0)\n",
        "recall_0 =  recall_score(y_test.astype('int'), y_pred_0)\n",
        "f1_0 = f1_score(y_test.astype('int'), y_pred_0)\n",
        "\n",
        "print('\\nEvaluation Metrics for Model 1:')\n",
        "print(\"Accuracy: \", accuracy_0)\n",
        "print(\"Precision: \", precision_0)\n",
        "print(\"Recall: \", recall_0)\n",
        "print(\"f1-score: \", f1_0)\n",
        "\n",
        "#model 2\n",
        "accuracy_1 = accuracy_score(y_test.astype('int'), y_pred_1)\n",
        "precision_1 = precision_score(y_test.astype('int'), y_pred_1)\n",
        "recall_1 =  recall_score(y_test.astype('int'), y_pred_1)\n",
        "f1_1 = f1_score(y_test.astype('int'), y_pred_1)\n",
        "\n",
        "print('\\nEvaluation Metrics for Model 2:')\n",
        "print(\"Accuracy: \", accuracy_1)\n",
        "print(\"Precision: \", precision_1)\n",
        "print(\"Recall: \", recall_1)\n",
        "print(\"f1-score: \", f1_1)\n",
        "\n",
        "#model 3\n",
        "accuracy_2 = accuracy_score(y_test.astype('int'), y_pred_2)\n",
        "precision_2 = precision_score(y_test.astype('int'), y_pred_2)\n",
        "recall_2 =  recall_score(y_test.astype('int'), y_pred_2)\n",
        "f1_2 = f1_score(y_test.astype('int'), y_pred_2)\n",
        "\n",
        "print('\\nEvaluation Metrics for Model 3:')\n",
        "print(\"Accuracy: \", accuracy_2)\n",
        "print(\"Precision: \", precision_2)\n",
        "print(\"Recall: \", recall_2)\n",
        "print(\"f1-score: \", f1_2)\n",
        "\n",
        "#model 4\n",
        "accuracy_3 = accuracy_score(y_test.astype('int'), y_pred_3)\n",
        "precision_3 = precision_score(y_test.astype('int'), y_pred_3)\n",
        "recall_3 =  recall_score(y_test.astype('int'), y_pred_3)\n",
        "f1_3 = f1_score(y_test.astype('int'), y_pred_3)\n",
        "\n",
        "print('\\nEvaluation Metrics for Model 4:')\n",
        "print(\"Accuracy: \", accuracy_3)\n",
        "print(\"Precision: \", precision_3)\n",
        "print(\"Recall: \", recall_3)\n",
        "print(\"f1-score: \", f1_3)\n",
        "\n",
        "#model 5\n",
        "accuracy_4 = accuracy_score(y_test.astype('int'), y_pred_4)\n",
        "precision_4 = precision_score(y_test.astype('int'), y_pred_4)\n",
        "recall_4 =  recall_score(y_test.astype('int'), y_pred_4)\n",
        "f1_4 = f1_score(y_test.astype('int'), y_pred_4)\n",
        "\n",
        "print('\\nEvaluation Metrics for Model 5:')\n",
        "print(\"Accuracy: \", accuracy_4)\n",
        "print(\"Precision: \", precision_4)\n",
        "print(\"Recall: \", recall_4)\n",
        "print(\"f1-score: \", f1_4)\n",
        "\n",
        "print('Average Evaluation metrics for DT are: ')\n",
        "print(\"Accuracy: \", np.mean([accuracy_0, accuracy_1, accuracy_2, accuracy_3, accuracy_4]))\n",
        "print(\"Precision: \", np.mean([precision_0, precision_1, precision_2, precision_3, precision_4]))\n",
        "print(\"Recall: \", np.mean([recall_0, recall_1, recall_2, recall_3, recall_4]))\n",
        "print(\"f1-score: \", np.mean([f1_0, f1_1, f1_2, f1_3, f1_4]))\n"
      ]
    },
    {
      "cell_type": "markdown",
      "source": [
        "1.2 MLP"
      ],
      "metadata": {
        "id": "yarR1dX-PdMl"
      }
    },
    {
      "cell_type": "code",
      "execution_count": null,
      "metadata": {
        "id": "MYs9GzDqW1p_"
      },
      "outputs": [],
      "source": [
        "#Model 3: MLP\n",
        "from sklearn.neural_network import MLPClassifier"
      ]
    },
    {
      "cell_type": "code",
      "execution_count": null,
      "metadata": {
        "id": "zA1wvopqYTvd"
      },
      "outputs": [],
      "source": [
        "#(i) Stochastic Gradient Descent\n",
        "\n",
        "mlp_1_sgd = MLPClassifier(random_state=0)\n",
        "mlp_2_sgd = MLPClassifier(random_state=0)\n",
        "mlp_3_sgd = MLPClassifier(random_state=0)\n",
        "mlp_4_sgd = MLPClassifier(random_state=0)\n",
        "mlp_5_sgd = MLPClassifier(random_state=0)"
      ]
    },
    {
      "cell_type": "code",
      "execution_count": null,
      "metadata": {
        "id": "6eAc2LzLYT4V",
        "colab": {
          "base_uri": "https://localhost:8080/"
        },
        "outputId": "5a8514b6-806c-4ef2-8419-ad7e1d3f2461"
      },
      "outputs": [
        {
          "output_type": "execute_result",
          "data": {
            "text/plain": [
              "MLPClassifier(random_state=0)"
            ]
          },
          "metadata": {},
          "execution_count": 40
        }
      ],
      "source": [
        "mlp_1_sgd.fit(X_train[0], y_train[0].astype('int'))\n",
        "mlp_2_sgd.fit(X_train[1], y_train[1].astype('int'))\n",
        "mlp_3_sgd.fit(X_train[2], y_train[2].astype('int'))\n",
        "mlp_4_sgd.fit(X_train[3], y_train[3].astype('int'))\n",
        "mlp_5_sgd.fit(X_train[4], y_train[4].astype('int'))"
      ]
    },
    {
      "cell_type": "code",
      "execution_count": null,
      "metadata": {
        "id": "2jfv74OCY1Tk"
      },
      "outputs": [],
      "source": [
        "y_pred_0 = mlp_1_sgd.predict(X_val[0])\n",
        "y_pred_1 = mlp_2_sgd.predict(X_val[1])\n",
        "y_pred_2 = mlp_3_sgd.predict(X_val[2])\n",
        "y_pred_3 = mlp_4_sgd.predict(X_val[3])\n",
        "y_pred_4 = mlp_5_sgd.predict(X_val[4])"
      ]
    },
    {
      "cell_type": "code",
      "execution_count": null,
      "metadata": {
        "id": "vT_BWxKcY1XZ",
        "colab": {
          "base_uri": "https://localhost:8080/"
        },
        "outputId": "8ec55343-db4b-4d97-f78a-a29fcedf663c"
      },
      "outputs": [
        {
          "output_type": "stream",
          "name": "stdout",
          "text": [
            "Comparing the 5 DT models on resp. val set\n",
            "\n",
            "Evaluation Metrics for Model 1:\n",
            "Accuracy:  0.9467471863848477\n",
            "Precision:  0.941025641025641\n",
            "Recall:  0.935031847133758\n",
            "f1-score:  0.9380191693290735\n",
            "\n",
            "Evaluation Metrics for Model 2:\n",
            "Accuracy:  0.9360241625480505\n",
            "Precision:  0.9271565495207668\n",
            "Recall:  0.924203821656051\n",
            "f1-score:  0.9256778309409888\n",
            "\n",
            "Evaluation Metrics for Model 3:\n",
            "Accuracy:  0.9467325645249862\n",
            "Precision:  0.9283935242839353\n",
            "Recall:  0.9496815286624204\n",
            "f1-score:  0.9389168765743073\n",
            "\n",
            "Evaluation Metrics for Model 4:\n",
            "Accuracy:  0.9412410763316859\n",
            "Precision:  0.9296577946768061\n",
            "Recall:  0.9343949044585987\n",
            "f1-score:  0.932020330368488\n",
            "\n",
            "Evaluation Metrics for Model 5:\n",
            "Accuracy:  0.9395936298736958\n",
            "Precision:  0.939453125\n",
            "Recall:  0.9191082802547771\n",
            "f1-score:  0.9291693496458466\n",
            "Average Evaluation metrics for DT are: \n",
            "Accuracy:  0.9420677239326531\n",
            "Precision:  0.9331373269014298\n",
            "Recall:  0.932484076433121\n",
            "f1-score:  0.9327607113717408\n"
          ]
        }
      ],
      "source": [
        "\n",
        "# comparing the 5 model performances on resp. validation sets\n",
        "from sklearn.metrics import precision_score, recall_score, f1_score, accuracy_score\n",
        "\n",
        "print('Comparing the 5 DT models on resp. val set')\n",
        "#model 1\n",
        "accuracy_0 = accuracy_score(y_val[0].astype('int'), y_pred_0)\n",
        "precision_0 = precision_score(y_val[0].astype('int'), y_pred_0)\n",
        "recall_0 =  recall_score(y_val[0].astype('int'), y_pred_0)\n",
        "f1_0 = f1_score(y_val[0].astype('int'), y_pred_0)\n",
        "\n",
        "print('\\nEvaluation Metrics for Model 1:')\n",
        "print(\"Accuracy: \", accuracy_0)\n",
        "print(\"Precision: \", precision_0)\n",
        "print(\"Recall: \", recall_0)\n",
        "print(\"f1-score: \", f1_0)\n",
        "\n",
        "#model 2\n",
        "accuracy_1 = accuracy_score(y_val[1].astype('int'), y_pred_1)\n",
        "precision_1 = precision_score(y_val[1].astype('int'), y_pred_1)\n",
        "recall_1 =  recall_score(y_val[1].astype('int'), y_pred_1)\n",
        "f1_1 = f1_score(y_val[1].astype('int'), y_pred_1)\n",
        "\n",
        "print('\\nEvaluation Metrics for Model 2:')\n",
        "print(\"Accuracy: \", accuracy_1)\n",
        "print(\"Precision: \", precision_1)\n",
        "print(\"Recall: \", recall_1)\n",
        "print(\"f1-score: \", f1_1)\n",
        "\n",
        "#model 3\n",
        "accuracy_2 = accuracy_score(y_val[2].astype('int'), y_pred_2)\n",
        "precision_2 = precision_score(y_val[2].astype('int'), y_pred_2)\n",
        "recall_2 =  recall_score(y_val[2].astype('int'), y_pred_2)\n",
        "f1_2 = f1_score(y_val[2].astype('int'), y_pred_2)\n",
        "\n",
        "print('\\nEvaluation Metrics for Model 3:')\n",
        "print(\"Accuracy: \", accuracy_2)\n",
        "print(\"Precision: \", precision_2)\n",
        "print(\"Recall: \", recall_2)\n",
        "print(\"f1-score: \", f1_2)\n",
        "\n",
        "#model 4\n",
        "accuracy_3 = accuracy_score(y_val[3].astype('int'), y_pred_3)\n",
        "precision_3 = precision_score(y_val[3].astype('int'), y_pred_3)\n",
        "recall_3 =  recall_score(y_val[3].astype('int'), y_pred_3)\n",
        "f1_3 = f1_score(y_val[3].astype('int'), y_pred_3)\n",
        "\n",
        "print('\\nEvaluation Metrics for Model 4:')\n",
        "print(\"Accuracy: \", accuracy_3)\n",
        "print(\"Precision: \", precision_3)\n",
        "print(\"Recall: \", recall_3)\n",
        "print(\"f1-score: \", f1_3)\n",
        "\n",
        "#model 5\n",
        "accuracy_4 = accuracy_score(y_val[4].astype('int'), y_pred_4)\n",
        "precision_4 = precision_score(y_val[4].astype('int'), y_pred_4)\n",
        "recall_4 =  recall_score(y_val[4].astype('int'), y_pred_4)\n",
        "f1_4 = f1_score(y_val[4].astype('int'), y_pred_4)\n",
        "\n",
        "print('\\nEvaluation Metrics for Model 5:')\n",
        "print(\"Accuracy: \", accuracy_4)\n",
        "print(\"Precision: \", precision_4)\n",
        "print(\"Recall: \", recall_4)\n",
        "print(\"f1-score: \", f1_4)\n",
        "\n",
        "print('Average Evaluation metrics for DT are: ')\n",
        "print(\"Accuracy: \", np.mean([accuracy_0, accuracy_1, accuracy_2, accuracy_3, accuracy_4]))\n",
        "print(\"Precision: \", np.mean([precision_0, precision_1, precision_2, precision_3, precision_4]))\n",
        "print(\"Recall: \", np.mean([recall_0, recall_1, recall_2, recall_3, recall_4]))\n",
        "print(\"f1-score: \", np.mean([f1_0, f1_1, f1_2, f1_3, f1_4]))\n"
      ]
    },
    {
      "cell_type": "code",
      "execution_count": null,
      "metadata": {
        "id": "H6g0VvsaY1a8"
      },
      "outputs": [],
      "source": [
        "#(ii) quasi-Newton methods"
      ]
    },
    {
      "cell_type": "code",
      "execution_count": null,
      "metadata": {
        "id": "SAAFg-xik8AE"
      },
      "outputs": [],
      "source": [
        "mlp_1_n = MLPClassifier(solver='lbfgs',random_state=0)\n",
        "mlp_2_n = MLPClassifier(solver='lbfgs',random_state=0)\n",
        "mlp_3_n = MLPClassifier(solver='lbfgs',random_state=0)\n",
        "mlp_4_n = MLPClassifier(solver='lbfgs',random_state=0)\n",
        "mlp_5_n = MLPClassifier(solver='lbfgs',random_state=0)"
      ]
    },
    {
      "cell_type": "code",
      "source": [
        "mlp_1_n.fit(X_train[0], y_train[0].astype('int'))\n",
        "mlp_2_n.fit(X_train[1], y_train[1].astype('int'))\n",
        "mlp_3_n.fit(X_train[2], y_train[2].astype('int'))\n",
        "mlp_4_n.fit(X_train[3], y_train[3].astype('int'))\n",
        "mlp_5_n.fit(X_train[4], y_train[4].astype('int'))"
      ],
      "metadata": {
        "colab": {
          "base_uri": "https://localhost:8080/"
        },
        "id": "JJMvrxzze886",
        "outputId": "1270b783-3016-468b-a156-0a0ba3695373"
      },
      "execution_count": null,
      "outputs": [
        {
          "output_type": "execute_result",
          "data": {
            "text/plain": [
              "MLPClassifier(random_state=0, solver='lbfgs')"
            ]
          },
          "metadata": {},
          "execution_count": 45
        }
      ]
    },
    {
      "cell_type": "code",
      "source": [
        "y_pred_0 = mlp_1_n.predict(X_val[0])\n",
        "y_pred_1 = mlp_2_n.predict(X_val[1])\n",
        "y_pred_2 = mlp_3_n.predict(X_val[2])\n",
        "y_pred_3 = mlp_4_n.predict(X_val[3])\n",
        "y_pred_4 = mlp_5_n.predict(X_val[4])"
      ],
      "metadata": {
        "id": "wUv8luDxe9IY"
      },
      "execution_count": null,
      "outputs": []
    },
    {
      "cell_type": "code",
      "source": [
        "\n",
        "# comparing the 5 model performances on resp. validation sets\n",
        "from sklearn.metrics import precision_score, recall_score, f1_score, accuracy_score\n",
        "\n",
        "print('Comparing the 5 DT models on resp. val set')\n",
        "#model 1\n",
        "accuracy_0 = accuracy_score(y_val[0].astype('int'), y_pred_0)\n",
        "precision_0 = precision_score(y_val[0].astype('int'), y_pred_0)\n",
        "recall_0 =  recall_score(y_val[0].astype('int'), y_pred_0)\n",
        "f1_0 = f1_score(y_val[0].astype('int'), y_pred_0)\n",
        "\n",
        "print('\\nEvaluation Metrics for Model 1:')\n",
        "print(\"Accuracy: \", accuracy_0)\n",
        "print(\"Precision: \", precision_0)\n",
        "print(\"Recall: \", recall_0)\n",
        "print(\"f1-score: \", f1_0)\n",
        "\n",
        "#model 2\n",
        "accuracy_1 = accuracy_score(y_val[1].astype('int'), y_pred_1)\n",
        "precision_1 = precision_score(y_val[1].astype('int'), y_pred_1)\n",
        "recall_1 =  recall_score(y_val[1].astype('int'), y_pred_1)\n",
        "f1_1 = f1_score(y_val[1].astype('int'), y_pred_1)\n",
        "\n",
        "print('\\nEvaluation Metrics for Model 2:')\n",
        "print(\"Accuracy: \", accuracy_1)\n",
        "print(\"Precision: \", precision_1)\n",
        "print(\"Recall: \", recall_1)\n",
        "print(\"f1-score: \", f1_1)\n",
        "\n",
        "#model 3\n",
        "accuracy_2 = accuracy_score(y_val[2].astype('int'), y_pred_2)\n",
        "precision_2 = precision_score(y_val[2].astype('int'), y_pred_2)\n",
        "recall_2 =  recall_score(y_val[2].astype('int'), y_pred_2)\n",
        "f1_2 = f1_score(y_val[2].astype('int'), y_pred_2)\n",
        "\n",
        "print('\\nEvaluation Metrics for Model 3:')\n",
        "print(\"Accuracy: \", accuracy_2)\n",
        "print(\"Precision: \", precision_2)\n",
        "print(\"Recall: \", recall_2)\n",
        "print(\"f1-score: \", f1_2)\n",
        "\n",
        "#model 4\n",
        "accuracy_3 = accuracy_score(y_val[3].astype('int'), y_pred_3)\n",
        "precision_3 = precision_score(y_val[3].astype('int'), y_pred_3)\n",
        "recall_3 =  recall_score(y_val[3].astype('int'), y_pred_3)\n",
        "f1_3 = f1_score(y_val[3].astype('int'), y_pred_3)\n",
        "\n",
        "print('\\nEvaluation Metrics for Model 4:')\n",
        "print(\"Accuracy: \", accuracy_3)\n",
        "print(\"Precision: \", precision_3)\n",
        "print(\"Recall: \", recall_3)\n",
        "print(\"f1-score: \", f1_3)\n",
        "\n",
        "#model 5\n",
        "accuracy_4 = accuracy_score(y_val[4].astype('int'), y_pred_4)\n",
        "precision_4 = precision_score(y_val[4].astype('int'), y_pred_4)\n",
        "recall_4 =  recall_score(y_val[4].astype('int'), y_pred_4)\n",
        "f1_4 = f1_score(y_val[4].astype('int'), y_pred_4)\n",
        "\n",
        "print('\\nEvaluation Metrics for Model 5:')\n",
        "print(\"Accuracy: \", accuracy_4)\n",
        "print(\"Precision: \", precision_4)\n",
        "print(\"Recall: \", recall_4)\n",
        "print(\"f1-score: \", f1_4)\n",
        "\n",
        "print('Average Evaluation metrics for DT are: ')\n",
        "print(\"Accuracy: \", np.mean([accuracy_0, accuracy_1, accuracy_2, accuracy_3, accuracy_4]))\n",
        "print(\"Precision: \", np.mean([precision_0, precision_1, precision_2, precision_3, precision_4]))\n",
        "print(\"Recall: \", np.mean([recall_0, recall_1, recall_2, recall_3, recall_4]))\n",
        "print(\"f1-score: \", np.mean([f1_0, f1_1, f1_2, f1_3, f1_4]))\n"
      ],
      "metadata": {
        "colab": {
          "base_uri": "https://localhost:8080/"
        },
        "id": "OFKBdLcJfIsg",
        "outputId": "59b67adc-3147-472c-d23f-7df57cb19153"
      },
      "execution_count": null,
      "outputs": [
        {
          "output_type": "stream",
          "name": "stdout",
          "text": [
            "Comparing the 5 DT models on resp. val set\n",
            "\n",
            "Evaluation Metrics for Model 1:\n",
            "Accuracy:  0.9478451825418611\n",
            "Precision:  0.9434447300771208\n",
            "Recall:  0.935031847133758\n",
            "f1-score:  0.9392194497760717\n",
            "\n",
            "Evaluation Metrics for Model 2:\n",
            "Accuracy:  0.9404173531026908\n",
            "Precision:  0.9322683706070287\n",
            "Recall:  0.9292993630573249\n",
            "f1-score:  0.9307814992025517\n",
            "\n",
            "Evaluation Metrics for Model 3:\n",
            "Accuracy:  0.9459088412959912\n",
            "Precision:  0.9266625233064015\n",
            "Recall:  0.9496815286624204\n",
            "f1-score:  0.9380308273041837\n",
            "\n",
            "Evaluation Metrics for Model 4:\n",
            "Accuracy:  0.9478308621636463\n",
            "Precision:  0.9367088607594937\n",
            "Recall:  0.9426751592356688\n",
            "f1-score:  0.9396825396825397\n",
            "\n",
            "Evaluation Metrics for Model 5:\n",
            "Accuracy:  0.943986820428336\n",
            "Precision:  0.9429312581063554\n",
            "Recall:  0.9261146496815287\n",
            "f1-score:  0.9344473007712083\n",
            "Average Evaluation metrics for DT are: \n",
            "Accuracy:  0.9451978119065052\n",
            "Precision:  0.93640314857128\n",
            "Recall:  0.93656050955414\n",
            "f1-score:  0.936432323347311\n"
          ]
        }
      ]
    },
    {
      "cell_type": "code",
      "source": [
        ""
      ],
      "metadata": {
        "id": "moA1Qr_GfI0P"
      },
      "execution_count": null,
      "outputs": []
    }
  ],
  "metadata": {
    "colab": {
      "collapsed_sections": [],
      "name": "ML_Project_Explore_LearningMethods_2019274",
      "provenance": []
    },
    "kernelspec": {
      "display_name": "Python 3",
      "name": "python3"
    },
    "language_info": {
      "name": "python"
    }
  },
  "nbformat": 4,
  "nbformat_minor": 0
}