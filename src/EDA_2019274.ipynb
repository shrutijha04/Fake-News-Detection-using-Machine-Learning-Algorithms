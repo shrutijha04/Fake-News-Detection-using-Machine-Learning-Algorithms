{
  "nbformat": 4,
  "nbformat_minor": 0,
  "metadata": {
    "colab": {
      "name": "ML_Project_EDA_2019274",
      "provenance": [],
      "collapsed_sections": []
    },
    "kernelspec": {
      "name": "python3",
      "display_name": "Python 3"
    },
    "language_info": {
      "name": "python"
    }
  },
  "cells": [
    {
      "cell_type": "markdown",
      "source": [
        "0. Loading the dataset and Pre-processing\n"
      ],
      "metadata": {
        "id": "JQyf_IT1bKs8"
      }
    },
    {
      "cell_type": "code",
      "source": [
        "!pip install --upgrade --no-cache-dir gdown"
      ],
      "metadata": {
        "colab": {
          "base_uri": "https://localhost:8080/"
        },
        "id": "pc8tw685x9hg",
        "outputId": "9b7411b0-a1dc-448e-a310-5a94ff09a2c8"
      },
      "execution_count": null,
      "outputs": [
        {
          "output_type": "stream",
          "name": "stdout",
          "text": [
            "Requirement already satisfied: gdown in /usr/local/lib/python3.7/dist-packages (4.4.0)\n",
            "Requirement already satisfied: beautifulsoup4 in /usr/local/lib/python3.7/dist-packages (from gdown) (4.6.3)\n",
            "Requirement already satisfied: filelock in /usr/local/lib/python3.7/dist-packages (from gdown) (3.6.0)\n",
            "Requirement already satisfied: tqdm in /usr/local/lib/python3.7/dist-packages (from gdown) (4.64.0)\n",
            "Requirement already satisfied: requests[socks] in /usr/local/lib/python3.7/dist-packages (from gdown) (2.23.0)\n",
            "Requirement already satisfied: six in /usr/local/lib/python3.7/dist-packages (from gdown) (1.15.0)\n",
            "Requirement already satisfied: idna<3,>=2.5 in /usr/local/lib/python3.7/dist-packages (from requests[socks]->gdown) (2.10)\n",
            "Requirement already satisfied: certifi>=2017.4.17 in /usr/local/lib/python3.7/dist-packages (from requests[socks]->gdown) (2021.10.8)\n",
            "Requirement already satisfied: urllib3!=1.25.0,!=1.25.1,<1.26,>=1.21.1 in /usr/local/lib/python3.7/dist-packages (from requests[socks]->gdown) (1.24.3)\n",
            "Requirement already satisfied: chardet<4,>=3.0.2 in /usr/local/lib/python3.7/dist-packages (from requests[socks]->gdown) (3.0.4)\n",
            "Requirement already satisfied: PySocks!=1.5.7,>=1.5.6 in /usr/local/lib/python3.7/dist-packages (from requests[socks]->gdown) (1.7.1)\n"
          ]
        }
      ]
    },
    {
      "cell_type": "code",
      "source": [
        "#loading train and test datasets from Kaggle\n",
        "\n",
        "#also load csv of preprocessed datasets (to reduce runtime by preprocessing once and storing the preprocessed dataset into csv)\n",
        "\n",
        "! gdown --id 1E8OTtNK_UNSAdmkg3OuB0k2FsKKF9QpY\n",
        "! gdown --id 1-pm6_kvT9CBrYER40uIkRiG0KMlHnH7L\n",
        "! gdown --id 1oiVQignVg1wvE1LXKFvOLHPl0P8GNSDp\n",
        "\n",
        "! gdown --id 1pGkEyDelD7Lp7yhFML9Dt1oo-91Mqf9H\n",
        "! gdown --id 1DYVzeYjjTTeHtazHfKD9FTx57h-77bkC"
      ],
      "metadata": {
        "id": "mkyWGh1AbNrt",
        "colab": {
          "base_uri": "https://localhost:8080/"
        },
        "outputId": "77977660-f73b-473d-e08e-2df88823b567"
      },
      "execution_count": null,
      "outputs": [
        {
          "output_type": "stream",
          "name": "stdout",
          "text": [
            "/usr/local/lib/python3.7/dist-packages/gdown/cli.py:131: FutureWarning: Option `--id` was deprecated in version 4.3.1 and will be removed in 5.0. You don't need to pass it anymore to use a file ID.\n",
            "  category=FutureWarning,\n",
            "Downloading...\n",
            "From: https://drive.google.com/uc?id=1E8OTtNK_UNSAdmkg3OuB0k2FsKKF9QpY\n",
            "To: /content/train.csv\n",
            "100% 98.6M/98.6M [00:00<00:00, 135MB/s]\n",
            "/usr/local/lib/python3.7/dist-packages/gdown/cli.py:131: FutureWarning: Option `--id` was deprecated in version 4.3.1 and will be removed in 5.0. You don't need to pass it anymore to use a file ID.\n",
            "  category=FutureWarning,\n",
            "Downloading...\n",
            "From: https://drive.google.com/uc?id=1-pm6_kvT9CBrYER40uIkRiG0KMlHnH7L\n",
            "To: /content/test.csv\n",
            "100% 25.1M/25.1M [00:00<00:00, 187MB/s]\n",
            "/usr/local/lib/python3.7/dist-packages/gdown/cli.py:131: FutureWarning: Option `--id` was deprecated in version 4.3.1 and will be removed in 5.0. You don't need to pass it anymore to use a file ID.\n",
            "  category=FutureWarning,\n",
            "Downloading...\n",
            "From: https://drive.google.com/uc?id=1oiVQignVg1wvE1LXKFvOLHPl0P8GNSDp\n",
            "To: /content/submit.csv\n",
            "100% 41.6k/41.6k [00:00<00:00, 45.0MB/s]\n",
            "/usr/local/lib/python3.7/dist-packages/gdown/cli.py:131: FutureWarning: Option `--id` was deprecated in version 4.3.1 and will be removed in 5.0. You don't need to pass it anymore to use a file ID.\n",
            "  category=FutureWarning,\n",
            "Downloading...\n",
            "From: https://drive.google.com/uc?id=1pGkEyDelD7Lp7yhFML9Dt1oo-91Mqf9H\n",
            "To: /content/pre_train.csv\n",
            "100% 280M/280M [00:01<00:00, 238MB/s]\n",
            "/usr/local/lib/python3.7/dist-packages/gdown/cli.py:131: FutureWarning: Option `--id` was deprecated in version 4.3.1 and will be removed in 5.0. You don't need to pass it anymore to use a file ID.\n",
            "  category=FutureWarning,\n",
            "Downloading...\n",
            "From: https://drive.google.com/uc?id=1DYVzeYjjTTeHtazHfKD9FTx57h-77bkC\n",
            "To: /content/pre_test.csv\n",
            "100% 70.2M/70.2M [00:00<00:00, 116MB/s]\n"
          ]
        }
      ]
    },
    {
      "cell_type": "code",
      "source": [
        "import numpy as np\n",
        "import pandas as pd"
      ],
      "metadata": {
        "id": "L3wTlDK2eKPc"
      },
      "execution_count": null,
      "outputs": []
    },
    {
      "cell_type": "code",
      "source": [
        "train_data = pd.read_csv(\"train.csv\")\n",
        "test_data = pd.read_csv(\"test.csv\")\n",
        "submit_data = pd.read_csv(\"submit.csv\")"
      ],
      "metadata": {
        "id": "WvMcjj16ePcy"
      },
      "execution_count": null,
      "outputs": []
    },
    {
      "cell_type": "code",
      "source": [
        "test_data = test_data.join(submit_data[\"label\"])"
      ],
      "metadata": {
        "id": "eAYV5ieGyG-f"
      },
      "execution_count": null,
      "outputs": []
    },
    {
      "cell_type": "code",
      "source": [
        "# Checking null values\n",
        "train_data.isnull().sum()"
      ],
      "metadata": {
        "colab": {
          "base_uri": "https://localhost:8080/"
        },
        "id": "JVXocZr7yHff",
        "outputId": "3c5e0f4d-195d-4d3b-eae9-e78785f57910"
      },
      "execution_count": null,
      "outputs": [
        {
          "output_type": "execute_result",
          "data": {
            "text/plain": [
              "id           0\n",
              "title      558\n",
              "author    1957\n",
              "text        39\n",
              "label        0\n",
              "dtype: int64"
            ]
          },
          "metadata": {},
          "execution_count": 7
        }
      ]
    },
    {
      "cell_type": "code",
      "source": [
        "# Removing null values\n",
        "train_data.dropna(inplace=True)\n",
        "train_data.drop(train_data.loc[train_data['text']==\" \"].index, inplace=True)\n",
        "train_data.drop(train_data.loc[train_data['text']==\"  \"].index, inplace=True)\n",
        "train_data.drop(train_data.loc[train_data['text']==\"\\n\"].index, inplace=True)\n",
        "\n",
        "# Resetting index\n",
        "train_data.reset_index(inplace=True)"
      ],
      "metadata": {
        "id": "CbN1x_yIyMKt"
      },
      "execution_count": null,
      "outputs": []
    },
    {
      "cell_type": "code",
      "source": [
        "train_data= train_data.apply(lambda x: x.astype(str).str.lower())"
      ],
      "metadata": {
        "id": "aGCTdn81yMQk"
      },
      "execution_count": null,
      "outputs": []
    },
    {
      "cell_type": "code",
      "source": [
        "train_data = train_data.drop(columns=[\"id\", \"index\"])"
      ],
      "metadata": {
        "id": "C9F6b6BByMTE"
      },
      "execution_count": null,
      "outputs": []
    },
    {
      "cell_type": "code",
      "source": [
        "# Checking null values\n",
        "test_data.isnull().sum()"
      ],
      "metadata": {
        "colab": {
          "base_uri": "https://localhost:8080/"
        },
        "id": "rnGTsjy7yMWa",
        "outputId": "e74952e9-23ae-43ea-c98c-6108b6876dd7"
      },
      "execution_count": null,
      "outputs": [
        {
          "output_type": "execute_result",
          "data": {
            "text/plain": [
              "id          0\n",
              "title     122\n",
              "author    503\n",
              "text        7\n",
              "label       0\n",
              "dtype: int64"
            ]
          },
          "metadata": {},
          "execution_count": 11
        }
      ]
    },
    {
      "cell_type": "code",
      "source": [
        "# Removing null values\n",
        "test_data.dropna(inplace=True)\n",
        "test_data.drop(test_data.loc[test_data['text']==\" \"].index, inplace=True)\n",
        "test_data.drop(test_data.loc[test_data['text']==\"  \"].index, inplace=True)\n",
        "test_data.drop(test_data.loc[test_data['text']==\"\\n\"].index, inplace=True)\n",
        "\n",
        "# Resetting index\n",
        "test_data.reset_index(inplace=True)"
      ],
      "metadata": {
        "id": "EVBhHzFMyTt8"
      },
      "execution_count": null,
      "outputs": []
    },
    {
      "cell_type": "code",
      "source": [
        "test_data= test_data.apply(lambda x: x.astype(str).str.lower())"
      ],
      "metadata": {
        "id": "LvUIhvrGyTw4"
      },
      "execution_count": null,
      "outputs": []
    },
    {
      "cell_type": "code",
      "source": [
        "test_data = test_data.drop(columns=[\"id\",\"index\"])"
      ],
      "metadata": {
        "id": "vyMooqkmyTzg"
      },
      "execution_count": null,
      "outputs": []
    },
    {
      "cell_type": "code",
      "source": [
        "#removing stopwords for train data"
      ],
      "metadata": {
        "id": "k0f928KGyT5V"
      },
      "execution_count": null,
      "outputs": []
    },
    {
      "cell_type": "code",
      "source": [
        "import nltk\n",
        "\n",
        "import re\n",
        "from nltk.corpus import stopwords\n",
        "nltk.download('stopwords')\n",
        "\n",
        "stop_words_set = set(stopwords.words('english'))\n",
        "\n",
        "sw_removed = []\n",
        "\n",
        "for i in range(len(train_data)):\n",
        "    review = re.sub('[^a-zA-Z0-9]',' ',train_data['text'][i])\n",
        "    review = review.split()\n",
        "    review = [word for word in review if not word in stop_words_set]\n",
        "    statements = ' '.join(review)\n",
        "    sw_removed.append(statements)\n"
      ],
      "metadata": {
        "id": "lAnpjHn2hDtd",
        "colab": {
          "base_uri": "https://localhost:8080/"
        },
        "outputId": "03df0eca-7436-4996-8510-bf273c429369"
      },
      "execution_count": null,
      "outputs": [
        {
          "output_type": "stream",
          "name": "stdout",
          "text": [
            "[nltk_data] Downloading package stopwords to /root/nltk_data...\n",
            "[nltk_data]   Package stopwords is already up-to-date!\n"
          ]
        }
      ]
    },
    {
      "cell_type": "code",
      "source": [
        "#stemming for training data"
      ],
      "metadata": {
        "id": "JdQ6p_J5KUQi"
      },
      "execution_count": null,
      "outputs": []
    },
    {
      "cell_type": "code",
      "source": [
        "from nltk.stem.porter import PorterStemmer\n",
        "\n",
        "ps = PorterStemmer()\n",
        "\n",
        "stemmed = []\n",
        "\n",
        "print(len(sw_removed))\n",
        "\n",
        "for i in range(len(sw_removed)):\n",
        "  sw_removed_1 = sw_removed[i].split()\n",
        "  stem = [ps.stem(word) for word in sw_removed_1]\n",
        "  st = ' '.join(stem)\n",
        "  stemmed.append(st)\n"
      ],
      "metadata": {
        "id": "CKuwudJZtMKj",
        "colab": {
          "base_uri": "https://localhost:8080/"
        },
        "outputId": "eab8cdb7-0b59-4fdf-dea0-9e0d5d7b991e"
      },
      "execution_count": null,
      "outputs": [
        {
          "output_type": "stream",
          "name": "stdout",
          "text": [
            "18211\n"
          ]
        }
      ]
    },
    {
      "cell_type": "code",
      "source": [
        "preprocess_arr = np.array(stemmed)\n",
        "\n",
        "preprocess_df = pd.DataFrame(preprocess_arr)"
      ],
      "metadata": {
        "id": "5KRjU-PrveIT"
      },
      "execution_count": null,
      "outputs": []
    },
    {
      "cell_type": "code",
      "source": [
        "# do stopword removal and stemming for test data as well"
      ],
      "metadata": {
        "id": "fIQ1YS2aKYoe"
      },
      "execution_count": null,
      "outputs": []
    },
    {
      "cell_type": "code",
      "source": [
        "sw_removed = []\n",
        "\n",
        "for i in range(len(test_data)):\n",
        "    review = re.sub('[^a-zA-Z0-9]',' ',test_data['text'][i])\n",
        "    review = review.split()\n",
        "    review = [word for word in review if not word in stop_words_set]\n",
        "    statements = ' '.join(review)\n",
        "    sw_removed.append(statements)\n"
      ],
      "metadata": {
        "id": "Pyt_3nJjDWak"
      },
      "execution_count": null,
      "outputs": []
    },
    {
      "cell_type": "code",
      "source": [
        "stemmed = []\n",
        "\n",
        "print(len(sw_removed))\n",
        "\n",
        "for i in range(len(sw_removed)):\n",
        "  sw_removed_1 = sw_removed[i].split()\n",
        "  stem = [ps.stem(word) for word in sw_removed_1]\n",
        "  st = ' '.join(stem)\n",
        "  stemmed.append(st)\n"
      ],
      "metadata": {
        "colab": {
          "base_uri": "https://localhost:8080/"
        },
        "id": "bVv97Gb3DWeH",
        "outputId": "612a0c7a-749a-49c8-df70-907123d03e57"
      },
      "execution_count": null,
      "outputs": [
        {
          "output_type": "stream",
          "name": "stdout",
          "text": [
            "4544\n"
          ]
        }
      ]
    },
    {
      "cell_type": "code",
      "source": [
        "preprocess_arr_test = np.array(stemmed)\n",
        "\n",
        "preprocess_df_test = pd.DataFrame(preprocess_arr_test)"
      ],
      "metadata": {
        "id": "9zOIK9QYDWhm"
      },
      "execution_count": null,
      "outputs": []
    },
    {
      "cell_type": "code",
      "source": [
        ""
      ],
      "metadata": {
        "id": "fwr6bGBrDpF8"
      },
      "execution_count": null,
      "outputs": []
    },
    {
      "cell_type": "code",
      "source": [
        "# preprocess_df.head() "
      ],
      "metadata": {
        "id": "8fPUnkq0xUf8"
      },
      "execution_count": null,
      "outputs": []
    },
    {
      "cell_type": "code",
      "source": [
        "# from sklearn.feature_extraction.text import TfidfVectorizer\n",
        "\n",
        "# vectorizer = TfidfVectorizer(ngram_range=(1,3), max_features=3000)\n",
        "\n",
        "# train_input = vectorizer.fit_transform(preprocess_arr).toarray()\n",
        "# transformed_df = pd.DataFrame(data=train_input, columns=vectorizer.get_feature_names())"
      ],
      "metadata": {
        "id": "uNF9pRBDxgIf"
      },
      "execution_count": null,
      "outputs": []
    },
    {
      "cell_type": "code",
      "source": [
        "# transformed_df.tail()"
      ],
      "metadata": {
        "id": "Bt7jTF9u3QE9"
      },
      "execution_count": null,
      "outputs": []
    },
    {
      "cell_type": "code",
      "source": [
        "# transformed_df.describe().max(axis=1)"
      ],
      "metadata": {
        "id": "QBDyMVz3hZQU"
      },
      "execution_count": null,
      "outputs": []
    },
    {
      "cell_type": "code",
      "source": [
        "# len(train_data[\"label\"].values)"
      ],
      "metadata": {
        "id": "XlmCRaBLGVLa"
      },
      "execution_count": null,
      "outputs": []
    },
    {
      "cell_type": "code",
      "source": [
        "# import numpy as np\n",
        "# import pandas as pd"
      ],
      "metadata": {
        "id": "USg43v8iGWA5"
      },
      "execution_count": null,
      "outputs": []
    },
    {
      "cell_type": "code",
      "source": [
        "# transformed_df = pd.read_csv(\"train_processed.csv\")"
      ],
      "metadata": {
        "id": "Y3YprxMY-bKS"
      },
      "execution_count": null,
      "outputs": []
    },
    {
      "cell_type": "code",
      "source": [
        "transformed_df = pd.read_csv(\"pre_train.csv\")\n",
        "transformed_df_test = pd.read_csv(\"pre_test.csv\")"
      ],
      "metadata": {
        "id": "yTuJu3taye9n"
      },
      "execution_count": null,
      "outputs": []
    },
    {
      "cell_type": "code",
      "source": [
        "X_test = transformed_df_test.values\n",
        "y_test = test_data[\"label\"].values "
      ],
      "metadata": {
        "id": "p07UDQKhyfHX"
      },
      "execution_count": null,
      "outputs": []
    },
    {
      "cell_type": "code",
      "source": [
        "X = transformed_df.values\n",
        "y = train_data[\"label\"].values"
      ],
      "metadata": {
        "id": "3DTIFJkPyhGv"
      },
      "execution_count": null,
      "outputs": []
    },
    {
      "cell_type": "code",
      "source": [
        "#Kfold (k=5) split for training data\n",
        "\n",
        "from sklearn.model_selection import StratifiedKFold\n",
        "\n",
        "skf = StratifiedKFold(n_splits=5)\n",
        "\n",
        "X_train=[]\n",
        "X_val=[]\n",
        "y_train=[]\n",
        "y_val=[]\n",
        "\n",
        "for train_index, test_index in skf.split(X, y):\n",
        "  X_train.append(X[train_index])\n",
        "  X_val.append(X[test_index]) \n",
        "  y_train.append(y[train_index])\n",
        "  y_val.append(y[test_index])\n"
      ],
      "metadata": {
        "id": "xVjnGjEjl4IB"
      },
      "execution_count": null,
      "outputs": []
    },
    {
      "cell_type": "markdown",
      "source": [
        "1. Exploratory Data Analysis"
      ],
      "metadata": {
        "id": "BsVLdy_4L54X"
      }
    },
    {
      "cell_type": "markdown",
      "source": [
        "1.1 EDA: t-SNE scatterplot to check separability of data"
      ],
      "metadata": {
        "id": "zwDHY0KlL_9U"
      }
    },
    {
      "cell_type": "code",
      "source": [
        "from sklearn.manifold import TSNE\n",
        "import seaborn as sns #for scatterplot\n",
        "import matplotlib.pyplot as plt\n",
        "\n",
        "from sklearn.decomposition import PCA"
      ],
      "metadata": {
        "id": "F9mY5gomhZco"
      },
      "execution_count": null,
      "outputs": []
    },
    {
      "cell_type": "code",
      "source": [
        "#first reduce features to 100 using PCA\n",
        "\n",
        "pca = PCA(n_components=100, random_state=0)\n",
        "pca_data = pca.fit_transform(X) #transformed data\n"
      ],
      "metadata": {
        "id": "COJLCXvdhZoK"
      },
      "execution_count": null,
      "outputs": []
    },
    {
      "cell_type": "code",
      "source": [
        "tsne = TSNE(n_components=2, perplexity=100, random_state=0)\n",
        "tsne_data = tsne.fit_transform(pca_data) #transformed data\n",
        "\n",
        "print(tsne_data[:10])"
      ],
      "metadata": {
        "colab": {
          "base_uri": "https://localhost:8080/"
        },
        "id": "IrBtLsocv6dZ",
        "outputId": "2ed9e860-d378-4d81-cb27-5625fa71e715"
      },
      "execution_count": null,
      "outputs": [
        {
          "output_type": "stream",
          "name": "stderr",
          "text": [
            "/usr/local/lib/python3.7/dist-packages/sklearn/manifold/_t_sne.py:783: FutureWarning: The default initialization in TSNE will change from 'random' to 'pca' in 1.2.\n",
            "  FutureWarning,\n",
            "/usr/local/lib/python3.7/dist-packages/sklearn/manifold/_t_sne.py:793: FutureWarning: The default learning rate in TSNE will change from 200.0 to 'auto' in 1.2.\n",
            "  FutureWarning,\n"
          ]
        },
        {
          "output_type": "stream",
          "name": "stdout",
          "text": [
            "[[ -2.25471    -63.7256    ]\n",
            " [  2.3759966  -44.49983   ]\n",
            " [ 25.751188   -13.315375  ]\n",
            " [ 39.75759     -0.91169703]\n",
            " [ -1.0660607    5.129206  ]\n",
            " [ -9.084931   -15.490795  ]\n",
            " [-34.447136    18.244555  ]\n",
            " [-42.353916    -6.867411  ]\n",
            " [ 21.821554   -36.31945   ]\n",
            " [ 35.447628     3.625985  ]]\n"
          ]
        }
      ]
    },
    {
      "cell_type": "code",
      "source": [
        "#tsne scatterplot\n",
        "\n",
        "ax = sns.scatterplot(x = tsne_data[:,0], y = tsne_data[:,1], hue = y, palette = sns.hls_palette(2), legend = 'full')\n",
        "ax.set_title('Scatterplot of training data after dimensionality reduction using TSNE')\n",
        "ax.set_xlabel('Dimension 1')\n",
        "ax.set_ylabel('Dimension 2')\n",
        "plt.savefig('1_2c_scatterplot.png')\n",
        "plt.show()"
      ],
      "metadata": {
        "colab": {
          "base_uri": "https://localhost:8080/",
          "height": 295
        },
        "id": "kc8V2EeshZrn",
        "outputId": "f2cc0181-7951-4332-ee18-a0ad98eb63c7"
      },
      "execution_count": null,
      "outputs": [
        {
          "output_type": "display_data",
          "data": {
            "text/plain": [
              "<Figure size 432x288 with 1 Axes>"
            ],
            "image/png": "[encoded data removed]"
          },
          "metadata": {
            "needs_background": "light"
          }
        }
      ]
    },
    {
      "cell_type": "markdown",
      "source": [
        "1.2 EDA: number of features vs mean validation accuracy on baseline model (kFold k=5)"
      ],
      "metadata": {
        "id": "0uzo5PQJMI2D"
      }
    },
    {
      "cell_type": "code",
      "source": [
        "x_axis = []\n",
        "y_axis = []\n",
        "y_axis_test=[]\n",
        "x_axis_test=[]"
      ],
      "metadata": {
        "id": "wMoNbtAX1rXR"
      },
      "execution_count": null,
      "outputs": []
    },
    {
      "cell_type": "code",
      "source": [
        "from sklearn.feature_extraction.text import TfidfVectorizer\n",
        "\n",
        "vectorizer1 = TfidfVectorizer(ngram_range=(1,3), max_features=30)\n",
        "\n",
        "train_input1 = vectorizer1.fit_transform(preprocess_arr).toarray()\n",
        "transformed_df1 = pd.DataFrame(data=train_input1, columns=vectorizer1.get_feature_names())"
      ],
      "metadata": {
        "id": "fSDlsDNqK-Rq"
      },
      "execution_count": null,
      "outputs": []
    },
    {
      "cell_type": "code",
      "source": [
        "test_input1 = vectorizer1.fit_transform(preprocess_arr_test).toarray()\n",
        "transformed_df_test1 = pd.DataFrame(data=test_input1, columns=vectorizer1.get_feature_names())"
      ],
      "metadata": {
        "colab": {
          "base_uri": "https://localhost:8080/"
        },
        "id": "XtTLWX3_C98W",
        "outputId": "88e60502-51e8-4b6e-eaeb-cc812eb2f087"
      },
      "execution_count": null,
      "outputs": [
        {
          "output_type": "stream",
          "name": "stderr",
          "text": [
            "/usr/local/lib/python3.7/dist-packages/sklearn/utils/deprecation.py:87: FutureWarning: Function get_feature_names is deprecated; get_feature_names is deprecated in 1.0 and will be removed in 1.2. Please use get_feature_names_out instead.\n",
            "  warnings.warn(msg, category=FutureWarning)\n"
          ]
        }
      ]
    },
    {
      "cell_type": "code",
      "source": [
        "#Kfold (k=5) split for training data\n",
        "\n",
        "from sklearn.model_selection import StratifiedKFold\n",
        "\n",
        "X = transformed_df1.values\n",
        "y = train_data[\"label\"].values \n",
        "\n",
        "skf = StratifiedKFold(n_splits=5)\n",
        "\n",
        "X_train=[]\n",
        "X_val=[]\n",
        "y_train=[]\n",
        "y_val=[]\n",
        "\n",
        "for train_index, test_index in skf.split(X, y):\n",
        "  X_train.append(X[train_index])\n",
        "  X_val.append(X[test_index]) \n",
        "  y_train.append(y[train_index])\n",
        "  y_val.append(y[test_index])\n"
      ],
      "metadata": {
        "id": "UVwrAPCktDLx"
      },
      "execution_count": null,
      "outputs": []
    },
    {
      "cell_type": "code",
      "source": [
        "from sklearn.naive_bayes import GaussianNB\n",
        "\n",
        "model_gnb_0 = GaussianNB(var_smoothing = 4.64e-07)\n",
        "model_gnb_1 = GaussianNB(var_smoothing = 4.64e-07)\n",
        "model_gnb_2 = GaussianNB(var_smoothing = 4.64e-07)\n",
        "model_gnb_3 = GaussianNB(var_smoothing = 4.64e-07)\n",
        "model_gnb_4 = GaussianNB(var_smoothing = 4.64e-07)"
      ],
      "metadata": {
        "id": "L_hNXm-XtC_J"
      },
      "execution_count": null,
      "outputs": []
    },
    {
      "cell_type": "code",
      "source": [
        "model_gnb_0.fit(X_train[0], y_train[0].astype('int'))\n",
        "model_gnb_1.fit(X_train[1], y_train[1].astype('int'))\n",
        "model_gnb_2.fit(X_train[2], y_train[2].astype('int'))\n",
        "model_gnb_3.fit(X_train[3], y_train[3].astype('int'))\n",
        "model_gnb_4.fit(X_train[4], y_train[4].astype('int'))"
      ],
      "metadata": {
        "id": "bPTYbRhf0otk",
        "colab": {
          "base_uri": "https://localhost:8080/"
        },
        "outputId": "21d7a492-0522-44cd-8e03-83b657adc1e4"
      },
      "execution_count": null,
      "outputs": [
        {
          "output_type": "execute_result",
          "data": {
            "text/plain": [
              "GaussianNB(var_smoothing=4.64e-07)"
            ]
          },
          "metadata": {},
          "execution_count": 38
        }
      ]
    },
    {
      "cell_type": "code",
      "source": [
        "y_pred_0 = model_gnb_0.predict(X_val[0])\n",
        "y_pred_1 = model_gnb_1.predict(X_val[1])\n",
        "y_pred_2 = model_gnb_2.predict(X_val[2])\n",
        "y_pred_3 = model_gnb_3.predict(X_val[3])\n",
        "y_pred_4 = model_gnb_4.predict(X_val[4])\n",
        "\n",
        "\n",
        "# comparing the 5 model performances on resp. validation sets\n",
        "from sklearn.metrics import precision_score, recall_score, f1_score, accuracy_score\n",
        "import statistics\n",
        "\n",
        "accuracy_0 = accuracy_score(y_val[0].astype('int'), y_pred_0)\n",
        "accuracy_1 = accuracy_score(y_val[1].astype('int'), y_pred_1)\n",
        "accuracy_2 = accuracy_score(y_val[2].astype('int'), y_pred_2)\n",
        "accuracy_3 = accuracy_score(y_val[3].astype('int'), y_pred_3)\n",
        "accuracy_4 = accuracy_score(y_val[4].astype('int'), y_pred_4)\n",
        "\n",
        "accuracy = np.mean([accuracy_0, accuracy_1, accuracy_2, accuracy_3, accuracy_4])\n",
        "\n",
        "x_axis.append(30)\n",
        "y_axis.append(accuracy)\n",
        "\n",
        "print(accuracy)\n"
      ],
      "metadata": {
        "id": "CpUl0ORK04Vb",
        "colab": {
          "base_uri": "https://localhost:8080/"
        },
        "outputId": "1a149d9f-4152-49db-de63-b00fa85d8a88"
      },
      "execution_count": null,
      "outputs": [
        {
          "output_type": "stream",
          "name": "stdout",
          "text": [
            "0.7767830792822867\n"
          ]
        }
      ]
    },
    {
      "cell_type": "code",
      "source": [
        "X_test = transformed_df_test1.values\n",
        "y_test = test_data[\"label\"].values"
      ],
      "metadata": {
        "id": "eN-cJ0lOEkjJ"
      },
      "execution_count": null,
      "outputs": []
    },
    {
      "cell_type": "code",
      "source": [
        "y_pred_0 = model_gnb_0.predict(X_test)\n",
        "y_pred_1 = model_gnb_1.predict(X_test)\n",
        "y_pred_2 = model_gnb_2.predict(X_test)\n",
        "y_pred_3 = model_gnb_3.predict(X_test)\n",
        "y_pred_4 = model_gnb_4.predict(X_test)\n",
        "\n",
        "\n",
        "# comparing the 5 model performances on resp. validation sets\n",
        "from sklearn.metrics import precision_score, recall_score, f1_score, accuracy_score\n",
        "import statistics\n",
        "\n",
        "accuracy_0 = accuracy_score(y_test.astype('int'), y_pred_0)\n",
        "accuracy_1 = accuracy_score(y_test.astype('int'), y_pred_1)\n",
        "accuracy_2 = accuracy_score(y_test.astype('int'), y_pred_2)\n",
        "accuracy_3 = accuracy_score(y_test.astype('int'), y_pred_3)\n",
        "accuracy_4 = accuracy_score(y_test.astype('int'), y_pred_4)\n",
        "\n",
        "accuracy = np.mean([accuracy_0, accuracy_1, accuracy_2, accuracy_3, accuracy_4])\n",
        "\n",
        "x_axis_test.append(30)\n",
        "y_axis_test.append(accuracy)\n",
        "\n",
        "print(accuracy)\n"
      ],
      "metadata": {
        "id": "6tv9sTWxxjM6",
        "colab": {
          "base_uri": "https://localhost:8080/"
        },
        "outputId": "50333863-25a3-4509-8850-6784a9dd194b"
      },
      "execution_count": null,
      "outputs": [
        {
          "output_type": "stream",
          "name": "stdout",
          "text": [
            "0.582306338028169\n"
          ]
        }
      ]
    },
    {
      "cell_type": "code",
      "source": [
        "from sklearn.feature_extraction.text import TfidfVectorizer\n",
        "\n",
        "vectorizer2 = TfidfVectorizer(ngram_range=(1,3), max_features=100)\n",
        "\n",
        "train_input2 = vectorizer2.fit_transform(preprocess_arr).toarray()\n",
        "transformed_df2 = pd.DataFrame(data=train_input2, columns=vectorizer2.get_feature_names())"
      ],
      "metadata": {
        "id": "i1yuEmRDxusP",
        "colab": {
          "base_uri": "https://localhost:8080/"
        },
        "outputId": "746f27cf-fa64-45d7-803a-698cb3b1cd96"
      },
      "execution_count": null,
      "outputs": [
        {
          "output_type": "stream",
          "name": "stderr",
          "text": [
            "/usr/local/lib/python3.7/dist-packages/sklearn/utils/deprecation.py:87: FutureWarning: Function get_feature_names is deprecated; get_feature_names is deprecated in 1.0 and will be removed in 1.2. Please use get_feature_names_out instead.\n",
            "  warnings.warn(msg, category=FutureWarning)\n"
          ]
        }
      ]
    },
    {
      "cell_type": "code",
      "source": [
        "test_input2 = vectorizer2.fit_transform(preprocess_arr_test).toarray()\n",
        "transformed_df_test2 = pd.DataFrame(data=test_input2, columns=vectorizer2.get_feature_names())"
      ],
      "metadata": {
        "colab": {
          "base_uri": "https://localhost:8080/"
        },
        "id": "RlEZYU_pEw9x",
        "outputId": "04901cba-30cb-4991-d8e5-d3393cc7ea39"
      },
      "execution_count": null,
      "outputs": [
        {
          "output_type": "stream",
          "name": "stderr",
          "text": [
            "/usr/local/lib/python3.7/dist-packages/sklearn/utils/deprecation.py:87: FutureWarning: Function get_feature_names is deprecated; get_feature_names is deprecated in 1.0 and will be removed in 1.2. Please use get_feature_names_out instead.\n",
            "  warnings.warn(msg, category=FutureWarning)\n"
          ]
        }
      ]
    },
    {
      "cell_type": "code",
      "source": [
        "#Kfold (k=5) split for training data\n",
        "\n",
        "from sklearn.model_selection import StratifiedKFold\n",
        "\n",
        "X = transformed_df2.values\n",
        "y = train_data[\"label\"].values \n",
        "\n",
        "skf = StratifiedKFold(n_splits=5)\n",
        "\n",
        "X_train=[]\n",
        "X_val=[]\n",
        "y_train=[]\n",
        "y_val=[]\n",
        "\n",
        "for train_index, test_index in skf.split(X, y):\n",
        "  X_train.append(X[train_index])\n",
        "  X_val.append(X[test_index]) \n",
        "  y_train.append(y[train_index])\n",
        "  y_val.append(y[test_index])\n"
      ],
      "metadata": {
        "id": "YP2M-lgQ2p4L"
      },
      "execution_count": null,
      "outputs": []
    },
    {
      "cell_type": "code",
      "source": [
        "from sklearn.naive_bayes import GaussianNB\n",
        "\n",
        "model_gnb_0 = GaussianNB(var_smoothing = 4.64e-07)\n",
        "model_gnb_1 = GaussianNB(var_smoothing = 4.64e-07)\n",
        "model_gnb_2 = GaussianNB(var_smoothing = 4.64e-07)\n",
        "model_gnb_3 = GaussianNB(var_smoothing = 4.64e-07)\n",
        "model_gnb_4 = GaussianNB(var_smoothing = 4.64e-07)"
      ],
      "metadata": {
        "id": "C5mUNbNp2qCx"
      },
      "execution_count": null,
      "outputs": []
    },
    {
      "cell_type": "code",
      "source": [
        "model_gnb_0.fit(X_train[0], y_train[0].astype('int'))\n",
        "model_gnb_1.fit(X_train[1], y_train[1].astype('int'))\n",
        "model_gnb_2.fit(X_train[2], y_train[2].astype('int'))\n",
        "model_gnb_3.fit(X_train[3], y_train[3].astype('int'))\n",
        "model_gnb_4.fit(X_train[4], y_train[4].astype('int'))"
      ],
      "metadata": {
        "id": "KQsTovKO2uA4",
        "colab": {
          "base_uri": "https://localhost:8080/"
        },
        "outputId": "eb7874cb-b85c-4768-9c87-57fa8930ac22"
      },
      "execution_count": null,
      "outputs": [
        {
          "output_type": "execute_result",
          "data": {
            "text/plain": [
              "GaussianNB(var_smoothing=4.64e-07)"
            ]
          },
          "metadata": {},
          "execution_count": 51
        }
      ]
    },
    {
      "cell_type": "code",
      "source": [
        "y_pred_0 = model_gnb_0.predict(X_val[0])\n",
        "y_pred_1 = model_gnb_1.predict(X_val[1])\n",
        "y_pred_2 = model_gnb_2.predict(X_val[2])\n",
        "y_pred_3 = model_gnb_3.predict(X_val[3])\n",
        "y_pred_4 = model_gnb_4.predict(X_val[4])\n",
        "\n",
        "\n",
        "# comparing the 5 model performances on resp. validation sets\n",
        "from sklearn.metrics import precision_score, recall_score, f1_score, accuracy_score\n",
        "import statistics\n",
        "\n",
        "accuracy_0 = accuracy_score(y_val[0].astype('int'), y_pred_0)\n",
        "accuracy_1 = accuracy_score(y_val[1].astype('int'), y_pred_1)\n",
        "accuracy_2 = accuracy_score(y_val[2].astype('int'), y_pred_2)\n",
        "accuracy_3 = accuracy_score(y_val[3].astype('int'), y_pred_3)\n",
        "accuracy_4 = accuracy_score(y_val[4].astype('int'), y_pred_4)\n",
        "\n",
        "accuracy = np.mean([accuracy_0, accuracy_1, accuracy_2, accuracy_3, accuracy_4])\n",
        "\n",
        "x_axis.append(100)\n",
        "y_axis.append(accuracy)\n",
        "print(accuracy)"
      ],
      "metadata": {
        "id": "Is3oeLc82uKW",
        "colab": {
          "base_uri": "https://localhost:8080/"
        },
        "outputId": "0dcd9f72-f782-484e-d335-f614f6f3ca5c"
      },
      "execution_count": null,
      "outputs": [
        {
          "output_type": "stream",
          "name": "stdout",
          "text": [
            "0.8033609927670031\n"
          ]
        }
      ]
    },
    {
      "cell_type": "code",
      "source": [
        "X_test = transformed_df_test2.values\n",
        "y_test = test_data[\"label\"].values"
      ],
      "metadata": {
        "id": "q4akKhGNEyWM"
      },
      "execution_count": null,
      "outputs": []
    },
    {
      "cell_type": "code",
      "source": [
        "y_pred_0 = model_gnb_0.predict(X_test)\n",
        "y_pred_1 = model_gnb_1.predict(X_test)\n",
        "y_pred_2 = model_gnb_2.predict(X_test)\n",
        "y_pred_3 = model_gnb_3.predict(X_test)\n",
        "y_pred_4 = model_gnb_4.predict(X_test)\n",
        "\n",
        "\n",
        "# comparing the 5 model performances on resp. validation sets\n",
        "from sklearn.metrics import precision_score, recall_score, f1_score, accuracy_score\n",
        "import statistics\n",
        "\n",
        "accuracy_0 = accuracy_score(y_test.astype('int'), y_pred_0)\n",
        "accuracy_1 = accuracy_score(y_test.astype('int'), y_pred_1)\n",
        "accuracy_2 = accuracy_score(y_test.astype('int'), y_pred_2)\n",
        "accuracy_3 = accuracy_score(y_test.astype('int'), y_pred_3)\n",
        "accuracy_4 = accuracy_score(y_test.astype('int'), y_pred_4)\n",
        "\n",
        "accuracy = np.mean([accuracy_0, accuracy_1, accuracy_2, accuracy_3, accuracy_4])\n",
        "\n",
        "x_axis_test.append(100)\n",
        "y_axis_test.append(accuracy)\n",
        "\n",
        "print(accuracy)\n"
      ],
      "metadata": {
        "id": "MVU_LkBqyCO_",
        "colab": {
          "base_uri": "https://localhost:8080/"
        },
        "outputId": "981c938f-7bba-418a-92f6-2581841b7944"
      },
      "execution_count": null,
      "outputs": [
        {
          "output_type": "stream",
          "name": "stdout",
          "text": [
            "0.6314260563380282\n"
          ]
        }
      ]
    },
    {
      "cell_type": "code",
      "source": [
        "from sklearn.feature_extraction.text import TfidfVectorizer\n",
        "\n",
        "vectorizer3 = TfidfVectorizer(ngram_range=(1,3), max_features=500)\n",
        "\n",
        "train_input3 = vectorizer3.fit_transform(preprocess_arr).toarray()\n",
        "transformed_df3 = pd.DataFrame(data=train_input3, columns=vectorizer3.get_feature_names())"
      ],
      "metadata": {
        "id": "xyb7bp2nxu1C",
        "colab": {
          "base_uri": "https://localhost:8080/"
        },
        "outputId": "7565a142-e171-4d23-d5b1-ede6381e2119"
      },
      "execution_count": null,
      "outputs": [
        {
          "output_type": "stream",
          "name": "stderr",
          "text": [
            "/usr/local/lib/python3.7/dist-packages/sklearn/utils/deprecation.py:87: FutureWarning: Function get_feature_names is deprecated; get_feature_names is deprecated in 1.0 and will be removed in 1.2. Please use get_feature_names_out instead.\n",
            "  warnings.warn(msg, category=FutureWarning)\n"
          ]
        }
      ]
    },
    {
      "cell_type": "code",
      "source": [
        "test_input3 = vectorizer3.fit_transform(preprocess_arr_test).toarray()\n",
        "transformed_df_test3 = pd.DataFrame(data=test_input3, columns=vectorizer3.get_feature_names())"
      ],
      "metadata": {
        "colab": {
          "base_uri": "https://localhost:8080/"
        },
        "id": "p38oLViVFywJ",
        "outputId": "c5877443-2ead-459e-9741-244f49830a56"
      },
      "execution_count": null,
      "outputs": [
        {
          "output_type": "stream",
          "name": "stderr",
          "text": [
            "/usr/local/lib/python3.7/dist-packages/sklearn/utils/deprecation.py:87: FutureWarning: Function get_feature_names is deprecated; get_feature_names is deprecated in 1.0 and will be removed in 1.2. Please use get_feature_names_out instead.\n",
            "  warnings.warn(msg, category=FutureWarning)\n"
          ]
        }
      ]
    },
    {
      "cell_type": "code",
      "source": [
        "#Kfold (k=5) split for training data\n",
        "\n",
        "from sklearn.model_selection import StratifiedKFold\n",
        "\n",
        "X = transformed_df3.values\n",
        "y = train_data[\"label\"].values \n",
        "\n",
        "skf = StratifiedKFold(n_splits=5)\n",
        "\n",
        "X_train=[]\n",
        "X_val=[]\n",
        "y_train=[]\n",
        "y_val=[]\n",
        "\n",
        "for train_index, test_index in skf.split(X, y):\n",
        "  X_train.append(X[train_index])\n",
        "  X_val.append(X[test_index]) \n",
        "  y_train.append(y[train_index])\n",
        "  y_val.append(y[test_index])\n"
      ],
      "metadata": {
        "id": "NgpZPaci3E_t"
      },
      "execution_count": null,
      "outputs": []
    },
    {
      "cell_type": "code",
      "source": [
        "from sklearn.naive_bayes import GaussianNB\n",
        "\n",
        "model_gnb_0 = GaussianNB(var_smoothing = 4.64e-07)\n",
        "model_gnb_1 = GaussianNB(var_smoothing = 4.64e-07)\n",
        "model_gnb_2 = GaussianNB(var_smoothing = 4.64e-07)\n",
        "model_gnb_3 = GaussianNB(var_smoothing = 4.64e-07)\n",
        "model_gnb_4 = GaussianNB(var_smoothing = 4.64e-07)"
      ],
      "metadata": {
        "id": "XehlohNM3FIt"
      },
      "execution_count": null,
      "outputs": []
    },
    {
      "cell_type": "code",
      "source": [
        "model_gnb_0.fit(X_train[0], y_train[0].astype('int'))\n",
        "model_gnb_1.fit(X_train[1], y_train[1].astype('int'))\n",
        "model_gnb_2.fit(X_train[2], y_train[2].astype('int'))\n",
        "model_gnb_3.fit(X_train[3], y_train[3].astype('int'))\n",
        "model_gnb_4.fit(X_train[4], y_train[4].astype('int'))"
      ],
      "metadata": {
        "id": "OUmqJRKo3FTt",
        "colab": {
          "base_uri": "https://localhost:8080/"
        },
        "outputId": "0894250b-770a-41ab-f980-7345ada537b8"
      },
      "execution_count": null,
      "outputs": [
        {
          "output_type": "execute_result",
          "data": {
            "text/plain": [
              "GaussianNB(var_smoothing=4.64e-07)"
            ]
          },
          "metadata": {},
          "execution_count": 24
        }
      ]
    },
    {
      "cell_type": "code",
      "source": [
        "y_pred_0 = model_gnb_0.predict(X_val[0])\n",
        "y_pred_1 = model_gnb_1.predict(X_val[1])\n",
        "y_pred_2 = model_gnb_2.predict(X_val[2])\n",
        "y_pred_3 = model_gnb_3.predict(X_val[3])\n",
        "y_pred_4 = model_gnb_4.predict(X_val[4])\n",
        "\n",
        "\n",
        "# comparing the 5 model performances on resp. validation sets\n",
        "from sklearn.metrics import precision_score, recall_score, f1_score, accuracy_score\n",
        "import statistics\n",
        "\n",
        "accuracy_0 = accuracy_score(y_val[0].astype('int'), y_pred_0)\n",
        "accuracy_1 = accuracy_score(y_val[1].astype('int'), y_pred_1)\n",
        "accuracy_2 = accuracy_score(y_val[2].astype('int'), y_pred_2)\n",
        "accuracy_3 = accuracy_score(y_val[3].astype('int'), y_pred_3)\n",
        "accuracy_4 = accuracy_score(y_val[4].astype('int'), y_pred_4)\n",
        "\n",
        "accuracy = np.mean([accuracy_0, accuracy_1, accuracy_2, accuracy_3, accuracy_4])\n",
        "\n",
        "x_axis.append(500)\n",
        "y_axis.append(accuracy)\n",
        "\n",
        "print(accuracy)"
      ],
      "metadata": {
        "id": "WlnXdRRY3FyG",
        "colab": {
          "base_uri": "https://localhost:8080/"
        },
        "outputId": "93804a9a-b98c-4ada-c5d9-657df6144a40"
      },
      "execution_count": null,
      "outputs": [
        {
          "output_type": "stream",
          "name": "stdout",
          "text": [
            "0.8505847764129202\n"
          ]
        }
      ]
    },
    {
      "cell_type": "code",
      "source": [
        "X_test = transformed_df_test3.values\n",
        "y_test = test_data[\"label\"].values"
      ],
      "metadata": {
        "id": "A8IYHRWRE-P-"
      },
      "execution_count": null,
      "outputs": []
    },
    {
      "cell_type": "code",
      "source": [
        "y_pred_0 = model_gnb_0.predict(X_test)\n",
        "y_pred_1 = model_gnb_1.predict(X_test)\n",
        "y_pred_2 = model_gnb_2.predict(X_test)\n",
        "y_pred_3 = model_gnb_3.predict(X_test)\n",
        "y_pred_4 = model_gnb_4.predict(X_test)\n",
        "\n",
        "\n",
        "# comparing the 5 model performances on resp. validation sets\n",
        "from sklearn.metrics import precision_score, recall_score, f1_score, accuracy_score\n",
        "import statistics\n",
        "\n",
        "accuracy_0 = accuracy_score(y_test.astype('int'), y_pred_0)\n",
        "accuracy_1 = accuracy_score(y_test.astype('int'), y_pred_1)\n",
        "accuracy_2 = accuracy_score(y_test.astype('int'), y_pred_2)\n",
        "accuracy_3 = accuracy_score(y_test.astype('int'), y_pred_3)\n",
        "accuracy_4 = accuracy_score(y_test.astype('int'), y_pred_4)\n",
        "\n",
        "accuracy = np.mean([accuracy_0, accuracy_1, accuracy_2, accuracy_3, accuracy_4])\n",
        "\n",
        "x_axis_test.append(500)\n",
        "y_axis_test.append(accuracy)\n",
        "\n",
        "print(accuracy)\n"
      ],
      "metadata": {
        "id": "UdChLoV2yIWY",
        "colab": {
          "base_uri": "https://localhost:8080/"
        },
        "outputId": "42ce2cb1-72f4-475f-ce98-3b76075033bc"
      },
      "execution_count": null,
      "outputs": [
        {
          "output_type": "stream",
          "name": "stdout",
          "text": [
            "0.5006161971830986\n"
          ]
        }
      ]
    },
    {
      "cell_type": "code",
      "source": [
        "from sklearn.feature_extraction.text import TfidfVectorizer\n",
        "\n",
        "vectorizer4 = TfidfVectorizer(ngram_range=(1,3), max_features=1000)\n",
        "\n",
        "train_input4 = vectorizer4.fit_transform(preprocess_arr).toarray()\n",
        "transformed_df4 = pd.DataFrame(data=train_input4, columns=vectorizer4.get_feature_names())"
      ],
      "metadata": {
        "id": "bbLRuSZexu7Y",
        "colab": {
          "base_uri": "https://localhost:8080/"
        },
        "outputId": "3e0f6128-4642-4b76-f7a2-3eb3dbfbaff7"
      },
      "execution_count": null,
      "outputs": [
        {
          "output_type": "stream",
          "name": "stderr",
          "text": [
            "/usr/local/lib/python3.7/dist-packages/sklearn/utils/deprecation.py:87: FutureWarning: Function get_feature_names is deprecated; get_feature_names is deprecated in 1.0 and will be removed in 1.2. Please use get_feature_names_out instead.\n",
            "  warnings.warn(msg, category=FutureWarning)\n"
          ]
        }
      ]
    },
    {
      "cell_type": "code",
      "source": [
        "test_input4 = vectorizer4.fit_transform(preprocess_arr_test).toarray()\n",
        "transformed_df_test4 = pd.DataFrame(data=test_input4, columns=vectorizer4.get_feature_names())"
      ],
      "metadata": {
        "colab": {
          "base_uri": "https://localhost:8080/"
        },
        "id": "MpT3KdokFqgP",
        "outputId": "affc35cb-83ae-4f2a-c0b2-e763716e0f2d"
      },
      "execution_count": null,
      "outputs": [
        {
          "output_type": "stream",
          "name": "stderr",
          "text": [
            "/usr/local/lib/python3.7/dist-packages/sklearn/utils/deprecation.py:87: FutureWarning: Function get_feature_names is deprecated; get_feature_names is deprecated in 1.0 and will be removed in 1.2. Please use get_feature_names_out instead.\n",
            "  warnings.warn(msg, category=FutureWarning)\n"
          ]
        }
      ]
    },
    {
      "cell_type": "code",
      "source": [
        "#Kfold (k=5) split for training data\n",
        "\n",
        "from sklearn.model_selection import StratifiedKFold\n",
        "\n",
        "X = transformed_df4.values\n",
        "y = train_data[\"label\"].values \n",
        "\n",
        "skf = StratifiedKFold(n_splits=5)\n",
        "\n",
        "X_train=[]\n",
        "X_val=[]\n",
        "y_train=[]\n",
        "y_val=[]\n",
        "\n",
        "for train_index, test_index in skf.split(X, y):\n",
        "  X_train.append(X[train_index])\n",
        "  X_val.append(X[test_index]) \n",
        "  y_train.append(y[train_index])\n",
        "  y_val.append(y[test_index])\n"
      ],
      "metadata": {
        "id": "XpMMdczh3Nou"
      },
      "execution_count": null,
      "outputs": []
    },
    {
      "cell_type": "code",
      "source": [
        "from sklearn.naive_bayes import GaussianNB\n",
        "\n",
        "model_gnb_0 = GaussianNB(var_smoothing = 4.64e-07)\n",
        "model_gnb_1 = GaussianNB(var_smoothing = 4.64e-07)\n",
        "model_gnb_2 = GaussianNB(var_smoothing = 4.64e-07)\n",
        "model_gnb_3 = GaussianNB(var_smoothing = 4.64e-07)\n",
        "model_gnb_4 = GaussianNB(var_smoothing = 4.64e-07)"
      ],
      "metadata": {
        "id": "11oa9kle3NxQ"
      },
      "execution_count": null,
      "outputs": []
    },
    {
      "cell_type": "code",
      "source": [
        "model_gnb_0.fit(X_train[0], y_train[0].astype('int'))\n",
        "model_gnb_1.fit(X_train[1], y_train[1].astype('int'))\n",
        "model_gnb_2.fit(X_train[2], y_train[2].astype('int'))\n",
        "model_gnb_3.fit(X_train[3], y_train[3].astype('int'))\n",
        "model_gnb_4.fit(X_train[4], y_train[4].astype('int'))"
      ],
      "metadata": {
        "id": "rMe_8f5j3N6S",
        "colab": {
          "base_uri": "https://localhost:8080/"
        },
        "outputId": "92465e22-c690-4769-8eb7-72d437d41af3"
      },
      "execution_count": null,
      "outputs": [
        {
          "output_type": "execute_result",
          "data": {
            "text/plain": [
              "GaussianNB(var_smoothing=4.64e-07)"
            ]
          },
          "metadata": {},
          "execution_count": 34
        }
      ]
    },
    {
      "cell_type": "code",
      "source": [
        "y_pred_0 = model_gnb_0.predict(X_val[0])\n",
        "y_pred_1 = model_gnb_1.predict(X_val[1])\n",
        "y_pred_2 = model_gnb_2.predict(X_val[2])\n",
        "y_pred_3 = model_gnb_3.predict(X_val[3])\n",
        "y_pred_4 = model_gnb_4.predict(X_val[4])\n",
        "\n",
        "\n",
        "# comparing the 5 model performances on resp. validation sets\n",
        "from sklearn.metrics import precision_score, recall_score, f1_score, accuracy_score\n",
        "import statistics\n",
        "\n",
        "accuracy_0 = accuracy_score(y_val[0].astype('int'), y_pred_0)\n",
        "accuracy_1 = accuracy_score(y_val[1].astype('int'), y_pred_1)\n",
        "accuracy_2 = accuracy_score(y_val[2].astype('int'), y_pred_2)\n",
        "accuracy_3 = accuracy_score(y_val[3].astype('int'), y_pred_3)\n",
        "accuracy_4 = accuracy_score(y_val[4].astype('int'), y_pred_4)\n",
        "\n",
        "accuracy = np.mean([accuracy_0, accuracy_1, accuracy_2, accuracy_3, accuracy_4])\n",
        "\n",
        "x_axis.append(1000)\n",
        "y_axis.append(accuracy)\n",
        "\n",
        "print(accuracy)"
      ],
      "metadata": {
        "id": "p5s9uHUI3OEl",
        "colab": {
          "base_uri": "https://localhost:8080/"
        },
        "outputId": "733f91f2-5cd2-4947-94c2-169016eb204a"
      },
      "execution_count": null,
      "outputs": [
        {
          "output_type": "stream",
          "name": "stdout",
          "text": [
            "0.8599200802302958\n"
          ]
        }
      ]
    },
    {
      "cell_type": "code",
      "source": [
        "X_test = transformed_df_test4.values\n",
        "y_test = test_data[\"label\"].values"
      ],
      "metadata": {
        "id": "5epN0nPkFFdL"
      },
      "execution_count": null,
      "outputs": []
    },
    {
      "cell_type": "code",
      "source": [
        "y_pred_0 = model_gnb_0.predict(X_test)\n",
        "y_pred_1 = model_gnb_1.predict(X_test)\n",
        "y_pred_2 = model_gnb_2.predict(X_test)\n",
        "y_pred_3 = model_gnb_3.predict(X_test)\n",
        "y_pred_4 = model_gnb_4.predict(X_test)\n",
        "\n",
        "\n",
        "# comparing the 5 model performances on resp. validation sets\n",
        "from sklearn.metrics import precision_score, recall_score, f1_score, accuracy_score\n",
        "import statistics\n",
        "\n",
        "accuracy_0 = accuracy_score(y_test.astype('int'), y_pred_0)\n",
        "accuracy_1 = accuracy_score(y_test.astype('int'), y_pred_1)\n",
        "accuracy_2 = accuracy_score(y_test.astype('int'), y_pred_2)\n",
        "accuracy_3 = accuracy_score(y_test.astype('int'), y_pred_3)\n",
        "accuracy_4 = accuracy_score(y_test.astype('int'), y_pred_4)\n",
        "\n",
        "accuracy = np.mean([accuracy_0, accuracy_1, accuracy_2, accuracy_3, accuracy_4])\n",
        "\n",
        "x_axis_test.append(1000)\n",
        "y_axis_test.append(accuracy)\n",
        "\n",
        "print(accuracy)\n"
      ],
      "metadata": {
        "id": "zLUxfpAtyMcr",
        "colab": {
          "base_uri": "https://localhost:8080/"
        },
        "outputId": "d7f75d84-de22-492c-a95a-865909456fb3"
      },
      "execution_count": null,
      "outputs": [
        {
          "output_type": "stream",
          "name": "stdout",
          "text": [
            "0.5558978873239437\n"
          ]
        }
      ]
    },
    {
      "cell_type": "code",
      "source": [
        "from sklearn.feature_extraction.text import TfidfVectorizer\n",
        "\n",
        "vectorizer5 = TfidfVectorizer(ngram_range=(1,3), max_features=2000)\n",
        "\n",
        "train_input5 = vectorizer5.fit_transform(preprocess_arr).toarray()\n",
        "transformed_df5 = pd.DataFrame(data=train_input5, columns=vectorizer5.get_feature_names())"
      ],
      "metadata": {
        "id": "-wIY35isyKmk",
        "colab": {
          "base_uri": "https://localhost:8080/"
        },
        "outputId": "f888abb3-6da8-4dd8-ab94-4a82bc04f143"
      },
      "execution_count": null,
      "outputs": [
        {
          "output_type": "stream",
          "name": "stderr",
          "text": [
            "/usr/local/lib/python3.7/dist-packages/sklearn/utils/deprecation.py:87: FutureWarning: Function get_feature_names is deprecated; get_feature_names is deprecated in 1.0 and will be removed in 1.2. Please use get_feature_names_out instead.\n",
            "  warnings.warn(msg, category=FutureWarning)\n"
          ]
        }
      ]
    },
    {
      "cell_type": "code",
      "source": [
        "test_input5 = vectorizer5.fit_transform(preprocess_arr_test).toarray()\n",
        "transformed_df_test5 = pd.DataFrame(data=test_input5, columns=vectorizer5.get_feature_names())"
      ],
      "metadata": {
        "colab": {
          "base_uri": "https://localhost:8080/"
        },
        "id": "EWAezWJGFeBQ",
        "outputId": "11ed6046-8be6-4649-dcf7-4d9cd7365579"
      },
      "execution_count": null,
      "outputs": [
        {
          "output_type": "stream",
          "name": "stderr",
          "text": [
            "/usr/local/lib/python3.7/dist-packages/sklearn/utils/deprecation.py:87: FutureWarning: Function get_feature_names is deprecated; get_feature_names is deprecated in 1.0 and will be removed in 1.2. Please use get_feature_names_out instead.\n",
            "  warnings.warn(msg, category=FutureWarning)\n"
          ]
        }
      ]
    },
    {
      "cell_type": "code",
      "source": [
        "#Kfold (k=5) split for training data\n",
        "\n",
        "from sklearn.model_selection import StratifiedKFold\n",
        "\n",
        "X = transformed_df5.values\n",
        "y = train_data[\"label\"].values \n",
        "\n",
        "skf = StratifiedKFold(n_splits=5)\n",
        "\n",
        "X_train=[]\n",
        "X_val=[]\n",
        "y_train=[]\n",
        "y_val=[]\n",
        "\n",
        "for train_index, test_index in skf.split(X, y):\n",
        "  X_train.append(X[train_index])\n",
        "  X_val.append(X[test_index]) \n",
        "  y_train.append(y[train_index])\n",
        "  y_val.append(y[test_index])\n"
      ],
      "metadata": {
        "id": "mCe7r4-Y3WTR"
      },
      "execution_count": null,
      "outputs": []
    },
    {
      "cell_type": "code",
      "source": [
        "from sklearn.naive_bayes import GaussianNB\n",
        "\n",
        "model_gnb_0 = GaussianNB(var_smoothing = 4.64e-07)\n",
        "model_gnb_1 = GaussianNB(var_smoothing = 4.64e-07)\n",
        "model_gnb_2 = GaussianNB(var_smoothing = 4.64e-07)\n",
        "model_gnb_3 = GaussianNB(var_smoothing = 4.64e-07)\n",
        "model_gnb_4 = GaussianNB(var_smoothing = 4.64e-07)"
      ],
      "metadata": {
        "id": "UXI_YoKg3Wcm"
      },
      "execution_count": null,
      "outputs": []
    },
    {
      "cell_type": "code",
      "source": [
        "model_gnb_0.fit(X_train[0], y_train[0].astype('int'))\n",
        "model_gnb_1.fit(X_train[1], y_train[1].astype('int'))\n",
        "model_gnb_2.fit(X_train[2], y_train[2].astype('int'))\n",
        "model_gnb_3.fit(X_train[3], y_train[3].astype('int'))\n",
        "model_gnb_4.fit(X_train[4], y_train[4].astype('int'))"
      ],
      "metadata": {
        "id": "UeJPtVCJ3WlO",
        "colab": {
          "base_uri": "https://localhost:8080/"
        },
        "outputId": "b5e5db85-a3ea-4e01-e5ab-c81ceb89af96"
      },
      "execution_count": null,
      "outputs": [
        {
          "output_type": "execute_result",
          "data": {
            "text/plain": [
              "GaussianNB(var_smoothing=4.64e-07)"
            ]
          },
          "metadata": {},
          "execution_count": 25
        }
      ]
    },
    {
      "cell_type": "code",
      "source": [
        "y_pred_0 = model_gnb_0.predict(X_val[0])\n",
        "y_pred_1 = model_gnb_1.predict(X_val[1])\n",
        "y_pred_2 = model_gnb_2.predict(X_val[2])\n",
        "y_pred_3 = model_gnb_3.predict(X_val[3])\n",
        "y_pred_4 = model_gnb_4.predict(X_val[4])\n",
        "\n",
        "\n",
        "# comparing the 5 model performances on resp. validation sets\n",
        "from sklearn.metrics import precision_score, recall_score, f1_score, accuracy_score\n",
        "import statistics\n",
        "\n",
        "accuracy_0 = accuracy_score(y_val[0].astype('int'), y_pred_0)\n",
        "accuracy_1 = accuracy_score(y_val[1].astype('int'), y_pred_1)\n",
        "accuracy_2 = accuracy_score(y_val[2].astype('int'), y_pred_2)\n",
        "accuracy_3 = accuracy_score(y_val[3].astype('int'), y_pred_3)\n",
        "accuracy_4 = accuracy_score(y_val[4].astype('int'), y_pred_4)\n",
        "\n",
        "accuracy = np.mean([accuracy_0, accuracy_1, accuracy_2, accuracy_3, accuracy_4])\n",
        "\n",
        "x_axis.append(2000)\n",
        "y_axis.append(accuracy)\n",
        "\n",
        "print(accuracy)"
      ],
      "metadata": {
        "id": "7MH5oVU73Wuk",
        "colab": {
          "base_uri": "https://localhost:8080/"
        },
        "outputId": "caf9f9f8-630b-41e9-eba9-650ea427cd0c"
      },
      "execution_count": null,
      "outputs": [
        {
          "output_type": "stream",
          "name": "stdout",
          "text": [
            "0.8827080830093536\n"
          ]
        }
      ]
    },
    {
      "cell_type": "code",
      "source": [
        "X_test = transformed_df_test5.values\n",
        "y_test = test_data[\"label\"].values"
      ],
      "metadata": {
        "id": "7_rKDj19FIo_"
      },
      "execution_count": null,
      "outputs": []
    },
    {
      "cell_type": "code",
      "source": [
        "y_pred_0 = model_gnb_0.predict(X_test)\n",
        "y_pred_1 = model_gnb_1.predict(X_test)\n",
        "y_pred_2 = model_gnb_2.predict(X_test)\n",
        "y_pred_3 = model_gnb_3.predict(X_test)\n",
        "y_pred_4 = model_gnb_4.predict(X_test)\n",
        "\n",
        "\n",
        "# comparing the 5 model performances on resp. validation sets\n",
        "from sklearn.metrics import precision_score, recall_score, f1_score, accuracy_score\n",
        "import statistics\n",
        "\n",
        "accuracy_0 = accuracy_score(y_test.astype('int'), y_pred_0)\n",
        "accuracy_1 = accuracy_score(y_test.astype('int'), y_pred_1)\n",
        "accuracy_2 = accuracy_score(y_test.astype('int'), y_pred_2)\n",
        "accuracy_3 = accuracy_score(y_test.astype('int'), y_pred_3)\n",
        "accuracy_4 = accuracy_score(y_test.astype('int'), y_pred_4)\n",
        "\n",
        "accuracy = np.mean([accuracy_0, accuracy_1, accuracy_2, accuracy_3, accuracy_4])\n",
        "\n",
        "x_axis_test.append(2000)\n",
        "y_axis_test.append(accuracy)\n",
        "\n",
        "print(accuracy)\n"
      ],
      "metadata": {
        "id": "SiM4pSymyPZN",
        "colab": {
          "base_uri": "https://localhost:8080/"
        },
        "outputId": "78423e2a-5b17-4de7-c576-e8a7e2aa7d69"
      },
      "execution_count": null,
      "outputs": [
        {
          "output_type": "stream",
          "name": "stdout",
          "text": [
            "0.5564700704225352\n"
          ]
        }
      ]
    },
    {
      "cell_type": "code",
      "source": [
        "from sklearn.feature_extraction.text import TfidfVectorizer\n",
        "\n",
        "vectorizer6 = TfidfVectorizer(ngram_range=(1,3), max_features=3000)\n",
        "\n",
        "train_input6 = vectorizer6.fit_transform(preprocess_arr).toarray()\n",
        "transformed_df6 = pd.DataFrame(data=train_input6, columns=vectorizer6.get_feature_names())"
      ],
      "metadata": {
        "id": "5VT0zyqp0VjM",
        "colab": {
          "base_uri": "https://localhost:8080/"
        },
        "outputId": "2f10a360-a22e-413c-fe6f-999c1c817958"
      },
      "execution_count": null,
      "outputs": [
        {
          "output_type": "stream",
          "name": "stderr",
          "text": [
            "/usr/local/lib/python3.7/dist-packages/sklearn/utils/deprecation.py:87: FutureWarning: Function get_feature_names is deprecated; get_feature_names is deprecated in 1.0 and will be removed in 1.2. Please use get_feature_names_out instead.\n",
            "  warnings.warn(msg, category=FutureWarning)\n"
          ]
        }
      ]
    },
    {
      "cell_type": "code",
      "source": [
        "test_input6 = vectorizer6.fit_transform(preprocess_arr_test).toarray()\n",
        "transformed_df_test6 = pd.DataFrame(data=test_input6, columns=vectorizer6.get_feature_names())"
      ],
      "metadata": {
        "colab": {
          "base_uri": "https://localhost:8080/"
        },
        "id": "tl-1nkIBFT1a",
        "outputId": "1bb20135-7883-4c19-ce5d-415ade12c7cd"
      },
      "execution_count": null,
      "outputs": [
        {
          "output_type": "stream",
          "name": "stderr",
          "text": [
            "/usr/local/lib/python3.7/dist-packages/sklearn/utils/deprecation.py:87: FutureWarning: Function get_feature_names is deprecated; get_feature_names is deprecated in 1.0 and will be removed in 1.2. Please use get_feature_names_out instead.\n",
            "  warnings.warn(msg, category=FutureWarning)\n"
          ]
        }
      ]
    },
    {
      "cell_type": "code",
      "source": [
        "#Kfold (k=5) split for training data\n",
        "\n",
        "from sklearn.model_selection import StratifiedKFold\n",
        "\n",
        "X = transformed_df6.values\n",
        "y = train_data[\"label\"].values \n",
        "\n",
        "skf = StratifiedKFold(n_splits=5)\n",
        "\n",
        "X_train=[]\n",
        "X_val=[]\n",
        "y_train=[]\n",
        "y_val=[]\n",
        "\n",
        "for train_index, test_index in skf.split(X, y):\n",
        "  X_train.append(X[train_index])\n",
        "  X_val.append(X[test_index]) \n",
        "  y_train.append(y[train_index])\n",
        "  y_val.append(y[test_index])\n"
      ],
      "metadata": {
        "id": "09sO6JREtDT2"
      },
      "execution_count": null,
      "outputs": []
    },
    {
      "cell_type": "code",
      "source": [
        "from sklearn.naive_bayes import GaussianNB\n",
        "\n",
        "model_gnb_0 = GaussianNB(var_smoothing = 4.64e-07)\n",
        "model_gnb_1 = GaussianNB(var_smoothing = 4.64e-07)\n",
        "model_gnb_2 = GaussianNB(var_smoothing = 4.64e-07)\n",
        "model_gnb_3 = GaussianNB(var_smoothing = 4.64e-07)\n",
        "model_gnb_4 = GaussianNB(var_smoothing = 4.64e-07)"
      ],
      "metadata": {
        "id": "F3508N4l3dW4"
      },
      "execution_count": null,
      "outputs": []
    },
    {
      "cell_type": "code",
      "source": [
        "model_gnb_0.fit(X_train[0], y_train[0].astype('int'))\n",
        "model_gnb_1.fit(X_train[1], y_train[1].astype('int'))\n",
        "model_gnb_2.fit(X_train[2], y_train[2].astype('int'))\n",
        "model_gnb_3.fit(X_train[3], y_train[3].astype('int'))\n",
        "model_gnb_4.fit(X_train[4], y_train[4].astype('int'))"
      ],
      "metadata": {
        "id": "RRsdxzES3dfQ",
        "colab": {
          "base_uri": "https://localhost:8080/"
        },
        "outputId": "60f1b21e-af9f-4c75-d7e1-c74f17291389"
      },
      "execution_count": null,
      "outputs": [
        {
          "output_type": "execute_result",
          "data": {
            "text/plain": [
              "GaussianNB(var_smoothing=4.64e-07)"
            ]
          },
          "metadata": {},
          "execution_count": 24
        }
      ]
    },
    {
      "cell_type": "code",
      "source": [
        "y_pred_0 = model_gnb_0.predict(X_val[0])\n",
        "y_pred_1 = model_gnb_1.predict(X_val[1])\n",
        "y_pred_2 = model_gnb_2.predict(X_val[2])\n",
        "y_pred_3 = model_gnb_3.predict(X_val[3])\n",
        "y_pred_4 = model_gnb_4.predict(X_val[4])\n",
        "\n",
        "\n",
        "# comparing the 5 model performances on resp. validation sets\n",
        "from sklearn.metrics import precision_score, recall_score, f1_score, accuracy_score\n",
        "import statistics\n",
        "\n",
        "accuracy_0 = accuracy_score(y_val[0].astype('int'), y_pred_0)\n",
        "accuracy_1 = accuracy_score(y_val[1].astype('int'), y_pred_1)\n",
        "accuracy_2 = accuracy_score(y_val[2].astype('int'), y_pred_2)\n",
        "accuracy_3 = accuracy_score(y_val[3].astype('int'), y_pred_3)\n",
        "accuracy_4 = accuracy_score(y_val[4].astype('int'), y_pred_4)\n",
        "\n",
        "accuracy = statistics.mean([accuracy_0, accuracy_1, accuracy_2, accuracy_3, accuracy_4])\n",
        "\n",
        "x_axis.append(3000)\n",
        "y_axis.append(accuracy)\n",
        "\n",
        "print(accuracy)"
      ],
      "metadata": {
        "id": "VtyiDRQt3doX",
        "colab": {
          "base_uri": "https://localhost:8080/"
        },
        "outputId": "1429e6bc-5cbd-43a6-cd39-fd2b3e16d872"
      },
      "execution_count": null,
      "outputs": [
        {
          "output_type": "stream",
          "name": "stdout",
          "text": [
            "0.8911643869378253\n"
          ]
        }
      ]
    },
    {
      "cell_type": "code",
      "source": [
        "X_test = transformed_df_test6.values\n",
        "y_test = test_data[\"label\"].values"
      ],
      "metadata": {
        "id": "29_DxN6mFOtC"
      },
      "execution_count": null,
      "outputs": []
    },
    {
      "cell_type": "code",
      "source": [
        "y_pred_0 = model_gnb_0.predict(X_test)\n",
        "y_pred_1 = model_gnb_1.predict(X_test)\n",
        "y_pred_2 = model_gnb_2.predict(X_test)\n",
        "y_pred_3 = model_gnb_3.predict(X_test)\n",
        "y_pred_4 = model_gnb_4.predict(X_test)\n",
        "\n",
        "\n",
        "# comparing the 5 model performances on resp. validation sets\n",
        "from sklearn.metrics import precision_score, recall_score, f1_score, accuracy_score\n",
        "import statistics\n",
        "\n",
        "accuracy_0 = accuracy_score(y_test.astype('int'), y_pred_0)\n",
        "accuracy_1 = accuracy_score(y_test.astype('int'), y_pred_1)\n",
        "accuracy_2 = accuracy_score(y_test.astype('int'), y_pred_2)\n",
        "accuracy_3 = accuracy_score(y_test.astype('int'), y_pred_3)\n",
        "accuracy_4 = accuracy_score(y_test.astype('int'), y_pred_4)\n",
        "\n",
        "accuracy = np.mean([accuracy_0, accuracy_1, accuracy_2, accuracy_3, accuracy_4])\n",
        "\n",
        "x_axis_test.append(3000)\n",
        "y_axis_test.append(accuracy)\n",
        "\n",
        "print(accuracy)\n"
      ],
      "metadata": {
        "id": "x6XW0hmzyUyC",
        "colab": {
          "base_uri": "https://localhost:8080/"
        },
        "outputId": "6ecac504-d4ed-4000-f3b9-10cd2e4fbe8b"
      },
      "execution_count": null,
      "outputs": [
        {
          "output_type": "stream",
          "name": "stdout",
          "text": [
            "0.5366197183098591\n"
          ]
        }
      ]
    },
    {
      "cell_type": "code",
      "source": [
        "from sklearn.feature_extraction.text import TfidfVectorizer\n",
        "\n",
        "vectorizer7 = TfidfVectorizer(ngram_range=(1,3), max_features=4000)\n",
        "\n",
        "train_input7 = vectorizer7.fit_transform(preprocess_arr).toarray()\n",
        "transformed_df7 = pd.DataFrame(data=train_input7, columns=vectorizer7.get_feature_names())"
      ],
      "metadata": {
        "colab": {
          "base_uri": "https://localhost:8080/"
        },
        "id": "kHTJ3912ZY6Y",
        "outputId": "5975ab04-9028-4536-a887-83340dc59924"
      },
      "execution_count": null,
      "outputs": [
        {
          "output_type": "stream",
          "name": "stderr",
          "text": [
            "/usr/local/lib/python3.7/dist-packages/sklearn/utils/deprecation.py:87: FutureWarning: Function get_feature_names is deprecated; get_feature_names is deprecated in 1.0 and will be removed in 1.2. Please use get_feature_names_out instead.\n",
            "  warnings.warn(msg, category=FutureWarning)\n"
          ]
        }
      ]
    },
    {
      "cell_type": "code",
      "source": [
        "test_input7 = vectorizer7.fit_transform(preprocess_arr_test).toarray()\n",
        "transformed_df_test7 = pd.DataFrame(data=test_input7, columns=vectorizer7.get_feature_names())"
      ],
      "metadata": {
        "colab": {
          "base_uri": "https://localhost:8080/"
        },
        "id": "1hMxqXzaZZCM",
        "outputId": "db092f1a-f9d5-4912-d5bf-3cb001c1b1cb"
      },
      "execution_count": null,
      "outputs": [
        {
          "output_type": "stream",
          "name": "stderr",
          "text": [
            "/usr/local/lib/python3.7/dist-packages/sklearn/utils/deprecation.py:87: FutureWarning: Function get_feature_names is deprecated; get_feature_names is deprecated in 1.0 and will be removed in 1.2. Please use get_feature_names_out instead.\n",
            "  warnings.warn(msg, category=FutureWarning)\n"
          ]
        }
      ]
    },
    {
      "cell_type": "code",
      "source": [
        "#Kfold (k=5) split for training data\n",
        "\n",
        "from sklearn.model_selection import StratifiedKFold\n",
        "\n",
        "X = transformed_df7.values\n",
        "y = train_data[\"label\"].values \n",
        "\n",
        "skf = StratifiedKFold(n_splits=5)\n",
        "\n",
        "X_train=[]\n",
        "X_val=[]\n",
        "y_train=[]\n",
        "y_val=[]\n",
        "\n",
        "for train_index, test_index in skf.split(X, y):\n",
        "  X_train.append(X[train_index])\n",
        "  X_val.append(X[test_index]) \n",
        "  y_train.append(y[train_index])\n",
        "  y_val.append(y[test_index])\n"
      ],
      "metadata": {
        "id": "nM-pv_C4ZZFD"
      },
      "execution_count": null,
      "outputs": []
    },
    {
      "cell_type": "code",
      "source": [
        "from sklearn.naive_bayes import GaussianNB\n",
        "\n",
        "model_gnb_0 = GaussianNB(var_smoothing = 4.64e-07)\n",
        "model_gnb_1 = GaussianNB(var_smoothing = 4.64e-07)\n",
        "model_gnb_2 = GaussianNB(var_smoothing = 4.64e-07)\n",
        "model_gnb_3 = GaussianNB(var_smoothing = 4.64e-07)\n",
        "model_gnb_4 = GaussianNB(var_smoothing = 4.64e-07)"
      ],
      "metadata": {
        "id": "14UiIRoPZZIJ"
      },
      "execution_count": null,
      "outputs": []
    },
    {
      "cell_type": "code",
      "source": [
        "model_gnb_0.fit(X_train[0], y_train[0].astype('int'))\n",
        "model_gnb_1.fit(X_train[1], y_train[1].astype('int'))\n",
        "model_gnb_2.fit(X_train[2], y_train[2].astype('int'))\n",
        "model_gnb_3.fit(X_train[3], y_train[3].astype('int'))\n",
        "model_gnb_4.fit(X_train[4], y_train[4].astype('int'))"
      ],
      "metadata": {
        "id": "8pace_dZZZMD"
      },
      "execution_count": null,
      "outputs": []
    },
    {
      "cell_type": "code",
      "source": [
        "y_pred_0 = model_gnb_0.predict(X_val[0])\n",
        "y_pred_1 = model_gnb_1.predict(X_val[1])\n",
        "y_pred_2 = model_gnb_2.predict(X_val[2])\n",
        "y_pred_3 = model_gnb_3.predict(X_val[3])\n",
        "y_pred_4 = model_gnb_4.predict(X_val[4])\n",
        "\n",
        "\n",
        "# comparing the 5 model performances on resp. validation sets\n",
        "from sklearn.metrics import precision_score, recall_score, f1_score, accuracy_score\n",
        "import statistics\n",
        "\n",
        "accuracy_0 = accuracy_score(y_val[0].astype('int'), y_pred_0)\n",
        "accuracy_1 = accuracy_score(y_val[1].astype('int'), y_pred_1)\n",
        "accuracy_2 = accuracy_score(y_val[2].astype('int'), y_pred_2)\n",
        "accuracy_3 = accuracy_score(y_val[3].astype('int'), y_pred_3)\n",
        "accuracy_4 = accuracy_score(y_val[4].astype('int'), y_pred_4)\n",
        "\n",
        "accuracy = statistics.mean([accuracy_0, accuracy_1, accuracy_2, accuracy_3, accuracy_4])\n",
        "\n",
        "x_axis.append(5000)\n",
        "y_axis.append(accuracy)\n",
        "\n",
        "print(accuracy)"
      ],
      "metadata": {
        "id": "3fxnPXhbZmrj"
      },
      "execution_count": null,
      "outputs": []
    },
    {
      "cell_type": "code",
      "source": [
        "X_test = transformed_df_test7.values\n",
        "y_test = test_data[\"label\"].values"
      ],
      "metadata": {
        "id": "3oejMVdOZmy9"
      },
      "execution_count": null,
      "outputs": []
    },
    {
      "cell_type": "code",
      "source": [
        "y_pred_0 = model_gnb_0.predict(X_test)\n",
        "y_pred_1 = model_gnb_1.predict(X_test)\n",
        "y_pred_2 = model_gnb_2.predict(X_test)\n",
        "y_pred_3 = model_gnb_3.predict(X_test)\n",
        "y_pred_4 = model_gnb_4.predict(X_test)\n",
        "\n",
        "\n",
        "# comparing the 5 model performances on resp. validation sets\n",
        "from sklearn.metrics import precision_score, recall_score, f1_score, accuracy_score\n",
        "import statistics\n",
        "\n",
        "accuracy_0 = accuracy_score(y_test.astype('int'), y_pred_0)\n",
        "accuracy_1 = accuracy_score(y_test.astype('int'), y_pred_1)\n",
        "accuracy_2 = accuracy_score(y_test.astype('int'), y_pred_2)\n",
        "accuracy_3 = accuracy_score(y_test.astype('int'), y_pred_3)\n",
        "accuracy_4 = accuracy_score(y_test.astype('int'), y_pred_4)\n",
        "\n",
        "accuracy = np.mean([accuracy_0, accuracy_1, accuracy_2, accuracy_3, accuracy_4])\n",
        "\n",
        "x_axis_test.append(5000)\n",
        "y_axis_test.append(accuracy)\n",
        "\n",
        "print(accuracy)\n"
      ],
      "metadata": {
        "id": "ZkUtKPLsZm4A"
      },
      "execution_count": null,
      "outputs": []
    },
    {
      "cell_type": "code",
      "source": [
        "# plot the data (number of features vs validation set accuracy on baseline model)"
      ],
      "metadata": {
        "id": "_KcIernWZZPh"
      },
      "execution_count": null,
      "outputs": []
    },
    {
      "cell_type": "code",
      "source": [
        "import matplotlib.pyplot as plt\n",
        "\n",
        "x_axis= [30,100,500,1000,2000,3000]\n",
        "y_axis= [0.776783, 0.80336, 0.850584, 0.859920, 0.882708, 0.8911643]\n",
        "plt.plot(x_axis, y_axis, label=\"Validation accuracy\")\n",
        "# naming the x axis\n",
        "plt.xlabel('no of features')\n",
        "# naming the y axis\n",
        "plt.ylabel('Accuracy')\n",
        " \n",
        "# giving a title to my graph\n",
        "plt.title('No of features vs Accuracy!')\n",
        "plt.legend()\n",
        "plt.savefig('EDA_accuracy.png')\n",
        "# function to show the plot\n",
        "plt.show()"
      ],
      "metadata": {
        "id": "SD_Vil6y3dxf",
        "colab": {
          "base_uri": "https://localhost:8080/",
          "height": 295
        },
        "outputId": "de54d2a5-6246-4aa5-9da7-201ce3cc7aa1"
      },
      "execution_count": null,
      "outputs": [
        {
          "output_type": "display_data",
          "data": {
            "text/plain": [
              "<Figure size 432x288 with 1 Axes>"
            ],
            "image/png": "[encoded data removed]"
          },
          "metadata": {
            "needs_background": "light"
          }
        }
      ]
    },
    {
      "cell_type": "code",
      "source": [
        ""
      ],
      "metadata": {
        "id": "D8hP4hEjMOqw"
      },
      "execution_count": null,
      "outputs": []
    },
    {
      "cell_type": "markdown",
      "source": [
        "1.3 #EDA: univariate analysis"
      ],
      "metadata": {
        "id": "3NIQ4aI0MU03"
      }
    },
    {
      "cell_type": "code",
      "source": [
        "# for col in transformed_df.columns:\n",
        "#     print(col)"
      ],
      "metadata": {
        "id": "hDpGybrLNQ7B"
      },
      "execution_count": null,
      "outputs": []
    },
    {
      "cell_type": "code",
      "source": [
        "import matplotlib.pyplot as plt"
      ],
      "metadata": {
        "id": "stiC0EPiMO8x"
      },
      "execution_count": null,
      "outputs": []
    },
    {
      "cell_type": "code",
      "source": [
        "\n",
        "plt.figure(figsize = (8, 6))\n",
        "x = transformed_df[\"wall street\"]\n",
        "  \n",
        "plt.hist(x, bins = 5)\n",
        "plt.title(\"Histogram for Wall street column\")\n",
        "plt.xlabel(\"Wall street tf-idf values\")\n",
        "plt.ylabel(\"Count\")\n",
        "plt.savefig('hist_ws.png')\n",
        "plt.show()"
      ],
      "metadata": {
        "id": "6fVVag20MXvv"
      },
      "execution_count": null,
      "outputs": []
    },
    {
      "cell_type": "code",
      "source": [
        "\n",
        "plt.figure(figsize = (8, 6))\n",
        "x = transformed_df[\"trump\"]\n",
        "  \n",
        "plt.hist(x, bins = 5)\n",
        "plt.title(\"Histogram for Trump column\")\n",
        "plt.xlabel(\"Trump tf-idf values\")\n",
        "plt.ylabel(\"Count\")\n",
        "plt.savefig('hist_trump.png')\n",
        "plt.show()"
      ],
      "metadata": {
        "id": "UM8172-tMX6M"
      },
      "execution_count": null,
      "outputs": []
    },
    {
      "cell_type": "code",
      "source": [
        "#histogram for Sepal_length column\n",
        "\n",
        "plt.figure(figsize = (8, 6))\n",
        "x = transformed_df[\"vladimir\"]\n",
        "  \n",
        "plt.hist(x, bins = 5)\n",
        "plt.title(\"Histogram for Vlamidir column\")\n",
        "plt.xlabel(\"Vladimir tf-idf values\")\n",
        "plt.ylabel(\"Count\")\n",
        "plt.savefig('hist_vladimir.png')\n",
        "plt.show()"
      ],
      "metadata": {
        "id": "j0NaAMJyMX9h"
      },
      "execution_count": null,
      "outputs": []
    },
    {
      "cell_type": "code",
      "source": [
        "#histogram for Sepal_length column\n",
        "\n",
        "plt.figure(figsize = (8, 6))\n",
        "x = transformed_df[\"ukrain\"]\n",
        "  \n",
        "plt.hist(x, bins = 5)\n",
        "plt.title(\"Histogram for Ukrain column\")\n",
        "plt.xlabel(\"Ukrain tf-idf values\")\n",
        "plt.ylabel(\"Count\")\n",
        "plt.savefig('hist_ukrain.png')\n",
        "plt.show()"
      ],
      "metadata": {
        "id": "Ktgw0a7rMYFp"
      },
      "execution_count": null,
      "outputs": []
    },
    {
      "cell_type": "code",
      "source": [
        "#histogram for Sepal_length column\n",
        "\n",
        "plt.figure(figsize = (8, 6))\n",
        "x = transformed_df[\"twitter\"]\n",
        "  \n",
        "plt.hist(x, bins = 5)\n",
        "plt.title(\"Histogram for Twitter column\")\n",
        "plt.xlabel(\"Twitter tf-idf values\")\n",
        "plt.ylabel(\"Count\")\n",
        "plt.savefig('hist_twitter.png')\n",
        "plt.show()"
      ],
      "metadata": {
        "id": "nyppcExLO7n8"
      },
      "execution_count": null,
      "outputs": []
    },
    {
      "cell_type": "code",
      "source": [
        "#histogram for Sepal_length column\n",
        "\n",
        "plt.figure(figsize = (8, 6))\n",
        "x = transformed_df[\"vietnam\"]\n",
        "  \n",
        "plt.hist(x, bins = 5)\n",
        "plt.title(\"Histogram for Vietnam column\")\n",
        "plt.xlabel(\"Vietnam tf-idf values\")\n",
        "plt.ylabel(\"Count\")\n",
        "plt.savefig('hist_vietnam.png')\n",
        "plt.show()"
      ],
      "metadata": {
        "id": "U1qPNfXmO7yz"
      },
      "execution_count": null,
      "outputs": []
    },
    {
      "cell_type": "code",
      "source": [
        "#histogram for Sepal_length column\n",
        "\n",
        "plt.figure(figsize = (8, 6))\n",
        "x = transformed_df[\"spokeswoman\"]\n",
        "  \n",
        "plt.hist(x, bins = 5)\n",
        "plt.title(\"Histogram for Spokeswoman column\")\n",
        "plt.xlabel(\"Spokeswoman tf-idf values\")\n",
        "plt.ylabel(\"Count\")\n",
        "plt.savefig('hist_spokeswoman.png')\n",
        "plt.show()"
      ],
      "metadata": {
        "id": "til4L-zeO73j"
      },
      "execution_count": null,
      "outputs": []
    },
    {
      "cell_type": "code",
      "source": [
        "#histogram for Sepal_length column\n",
        "\n",
        "plt.figure(figsize = (8, 6))\n",
        "x = transformed_df[\"washington\"]\n",
        "  \n",
        "plt.hist(x, bins = 5)\n",
        "plt.title(\"Histogram for Washington column\")\n",
        "plt.xlabel(\"Washington tf-idf values\")\n",
        "plt.ylabel(\"Count\")\n",
        "plt.savefig('hist_washington.png')\n",
        "plt.show()"
      ],
      "metadata": {
        "id": "1kKldz8sO77C"
      },
      "execution_count": null,
      "outputs": []
    },
    {
      "cell_type": "code",
      "source": [
        "#bar graph for target column 'Class'\n",
        "\n",
        "class_counts = train_data['label'].value_counts()\n",
        "class_counts = class_counts.to_dict()\n",
        "\n",
        "plt.figure(figsize = (8,6))\n",
        "\n",
        "plt.bar(class_counts.keys(), class_counts.values(), color='maroon', width=0.4)\n",
        "plt.xlabel('Target Class')\n",
        "plt.ylabel('Counts')\n",
        "plt.title('Bar graph for Target Class Column')\n",
        "plt.savefig('1_1c_class.png')\n",
        "plt.show()"
      ],
      "metadata": {
        "id": "QTsCu-JOP4wP",
        "colab": {
          "base_uri": "https://localhost:8080/",
          "height": 404
        },
        "outputId": "0e5ac9ec-d8de-4809-a4a4-a50c4b8fdc27"
      },
      "execution_count": null,
      "outputs": [
        {
          "output_type": "display_data",
          "data": {
            "text/plain": [
              "<Figure size 576x432 with 1 Axes>"
            ],
            "image/png": "[encoded data removed]"
          },
          "metadata": {
            "needs_background": "light"
          }
        }
      ]
    },
    {
      "cell_type": "code",
      "source": [
        "class_counts"
      ],
      "metadata": {
        "id": "BDEH0Zj7P462",
        "colab": {
          "base_uri": "https://localhost:8080/"
        },
        "outputId": "2e675698-4d7d-42a5-aa64-7ae96fb6aa00"
      },
      "execution_count": null,
      "outputs": [
        {
          "output_type": "execute_result",
          "data": {
            "text/plain": [
              "{'0': 10361, '1': 7850}"
            ]
          },
          "metadata": {},
          "execution_count": 16
        }
      ]
    },
    {
      "cell_type": "code",
      "source": [
        ""
      ],
      "metadata": {
        "id": "5B9_a6biP4_3"
      },
      "execution_count": null,
      "outputs": []
    }
  ]
}