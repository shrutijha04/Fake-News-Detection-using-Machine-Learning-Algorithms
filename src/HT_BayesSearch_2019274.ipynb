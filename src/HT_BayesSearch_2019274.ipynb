{
  "cells": [
    {
      "cell_type": "markdown",
      "metadata": {
        "id": "JQyf_IT1bKs8"
      },
      "source": [
        "0. Loading the dataset and Pre-processing\n"
      ]
    },
    {
      "cell_type": "code",
      "execution_count": null,
      "metadata": {
        "colab": {
          "base_uri": "https://localhost:8080/"
        },
        "id": "Z2pl9KFs7Dwc",
        "outputId": "9cc74ee5-4111-4ee6-f622-27bafecd3ee7"
      },
      "outputs": [
        {
          "output_type": "stream",
          "name": "stdout",
          "text": [
            "Requirement already satisfied: gdown in /usr/local/lib/python3.7/dist-packages (4.4.0)\n",
            "Requirement already satisfied: filelock in /usr/local/lib/python3.7/dist-packages (from gdown) (3.6.0)\n",
            "Requirement already satisfied: six in /usr/local/lib/python3.7/dist-packages (from gdown) (1.15.0)\n",
            "Requirement already satisfied: requests[socks] in /usr/local/lib/python3.7/dist-packages (from gdown) (2.23.0)\n",
            "Requirement already satisfied: tqdm in /usr/local/lib/python3.7/dist-packages (from gdown) (4.64.0)\n",
            "Requirement already satisfied: beautifulsoup4 in /usr/local/lib/python3.7/dist-packages (from gdown) (4.6.3)\n",
            "Requirement already satisfied: idna<3,>=2.5 in /usr/local/lib/python3.7/dist-packages (from requests[socks]->gdown) (2.10)\n",
            "Requirement already satisfied: urllib3!=1.25.0,!=1.25.1,<1.26,>=1.21.1 in /usr/local/lib/python3.7/dist-packages (from requests[socks]->gdown) (1.24.3)\n",
            "Requirement already satisfied: certifi>=2017.4.17 in /usr/local/lib/python3.7/dist-packages (from requests[socks]->gdown) (2021.10.8)\n",
            "Requirement already satisfied: chardet<4,>=3.0.2 in /usr/local/lib/python3.7/dist-packages (from requests[socks]->gdown) (3.0.4)\n",
            "Requirement already satisfied: PySocks!=1.5.7,>=1.5.6 in /usr/local/lib/python3.7/dist-packages (from requests[socks]->gdown) (1.7.1)\n"
          ]
        }
      ],
      "source": [
        "!pip install --upgrade --no-cache-dir gdown"
      ]
    },
    {
      "cell_type": "code",
      "execution_count": null,
      "metadata": {
        "colab": {
          "base_uri": "https://localhost:8080/"
        },
        "id": "mkyWGh1AbNrt",
        "outputId": "fd08fad1-178b-4576-fec1-a33cdfe68ce3"
      },
      "outputs": [
        {
          "output_type": "stream",
          "name": "stdout",
          "text": [
            "/usr/local/lib/python3.7/dist-packages/gdown/cli.py:131: FutureWarning: Option `--id` was deprecated in version 4.3.1 and will be removed in 5.0. You don't need to pass it anymore to use a file ID.\n",
            "  category=FutureWarning,\n",
            "Downloading...\n",
            "From: https://drive.google.com/uc?id=1E8OTtNK_UNSAdmkg3OuB0k2FsKKF9QpY\n",
            "To: /content/train.csv\n",
            "100% 98.6M/98.6M [00:01<00:00, 51.5MB/s]\n",
            "/usr/local/lib/python3.7/dist-packages/gdown/cli.py:131: FutureWarning: Option `--id` was deprecated in version 4.3.1 and will be removed in 5.0. You don't need to pass it anymore to use a file ID.\n",
            "  category=FutureWarning,\n",
            "Downloading...\n",
            "From: https://drive.google.com/uc?id=1-pm6_kvT9CBrYER40uIkRiG0KMlHnH7L\n",
            "To: /content/test.csv\n",
            "100% 25.1M/25.1M [00:01<00:00, 24.3MB/s]\n",
            "/usr/local/lib/python3.7/dist-packages/gdown/cli.py:131: FutureWarning: Option `--id` was deprecated in version 4.3.1 and will be removed in 5.0. You don't need to pass it anymore to use a file ID.\n",
            "  category=FutureWarning,\n",
            "Downloading...\n",
            "From: https://drive.google.com/uc?id=1oiVQignVg1wvE1LXKFvOLHPl0P8GNSDp\n",
            "To: /content/submit.csv\n",
            "100% 41.6k/41.6k [00:00<00:00, 26.8MB/s]\n",
            "/usr/local/lib/python3.7/dist-packages/gdown/cli.py:131: FutureWarning: Option `--id` was deprecated in version 4.3.1 and will be removed in 5.0. You don't need to pass it anymore to use a file ID.\n",
            "  category=FutureWarning,\n",
            "Downloading...\n",
            "From: https://drive.google.com/uc?id=1pGkEyDelD7Lp7yhFML9Dt1oo-91Mqf9H\n",
            "To: /content/pre_train.csv\n",
            "100% 280M/280M [00:06<00:00, 43.2MB/s]\n",
            "/usr/local/lib/python3.7/dist-packages/gdown/cli.py:131: FutureWarning: Option `--id` was deprecated in version 4.3.1 and will be removed in 5.0. You don't need to pass it anymore to use a file ID.\n",
            "  category=FutureWarning,\n",
            "Downloading...\n",
            "From: https://drive.google.com/uc?id=1DYVzeYjjTTeHtazHfKD9FTx57h-77bkC\n",
            "To: /content/pre_test.csv\n",
            "100% 70.2M/70.2M [00:01<00:00, 54.1MB/s]\n"
          ]
        }
      ],
      "source": [
        "#load training and test datasets from Kaggle\n",
        "\n",
        "#also load csv of preprocessed datasets (to reduce runtime by preprocessing once and storing the preprocessed dataset into csv)\n",
        "\n",
        "! gdown --id 1E8OTtNK_UNSAdmkg3OuB0k2FsKKF9QpY\n",
        "! gdown --id 1-pm6_kvT9CBrYER40uIkRiG0KMlHnH7L\n",
        "! gdown --id 1oiVQignVg1wvE1LXKFvOLHPl0P8GNSDp\n",
        "\n",
        "! gdown --id 1pGkEyDelD7Lp7yhFML9Dt1oo-91Mqf9H\n",
        "! gdown --id 1DYVzeYjjTTeHtazHfKD9FTx57h-77bkC"
      ]
    },
    {
      "cell_type": "code",
      "execution_count": null,
      "metadata": {
        "id": "L3wTlDK2eKPc"
      },
      "outputs": [],
      "source": [
        "import numpy as np\n",
        "import pandas as pd"
      ]
    },
    {
      "cell_type": "code",
      "execution_count": null,
      "metadata": {
        "id": "WvMcjj16ePcy"
      },
      "outputs": [],
      "source": [
        "train_data = pd.read_csv(\"train.csv\")\n",
        "test_data = pd.read_csv(\"test.csv\")\n",
        "submit_data = pd.read_csv(\"submit.csv\")"
      ]
    },
    {
      "cell_type": "code",
      "execution_count": null,
      "metadata": {
        "id": "3QN7AWvOT4IA"
      },
      "outputs": [],
      "source": [
        "test_data = test_data.join(submit_data[\"label\"])"
      ]
    },
    {
      "cell_type": "code",
      "execution_count": null,
      "metadata": {
        "id": "Nm_FqqaiT6yd"
      },
      "outputs": [],
      "source": [
        "#preprocess train data"
      ]
    },
    {
      "cell_type": "code",
      "execution_count": null,
      "metadata": {
        "colab": {
          "base_uri": "https://localhost:8080/"
        },
        "id": "2V29FXu4T9Je",
        "outputId": "2f6346d2-8da7-4174-80ac-ddd295c98246"
      },
      "outputs": [
        {
          "output_type": "execute_result",
          "data": {
            "text/plain": [
              "id           0\n",
              "title      558\n",
              "author    1957\n",
              "text        39\n",
              "label        0\n",
              "dtype: int64"
            ]
          },
          "metadata": {},
          "execution_count": 14
        }
      ],
      "source": [
        "# Checking null values\n",
        "train_data.isnull().sum()"
      ]
    },
    {
      "cell_type": "code",
      "execution_count": null,
      "metadata": {
        "id": "b1ss60UhT9U5"
      },
      "outputs": [],
      "source": [
        "# Removing null values\n",
        "train_data.dropna(inplace=True)\n",
        "train_data.drop(train_data.loc[train_data['text']==\" \"].index, inplace=True)\n",
        "train_data.drop(train_data.loc[train_data['text']==\"  \"].index, inplace=True)\n",
        "train_data.drop(train_data.loc[train_data['text']==\"\\n\"].index, inplace=True)\n",
        "\n",
        "# Resetting index\n",
        "train_data.reset_index(inplace=True)"
      ]
    },
    {
      "cell_type": "code",
      "execution_count": null,
      "metadata": {
        "id": "a6PIC8AlUC6O"
      },
      "outputs": [],
      "source": [
        "train_data= train_data.apply(lambda x: x.astype(str).str.lower())"
      ]
    },
    {
      "cell_type": "code",
      "execution_count": null,
      "metadata": {
        "id": "kexkg1esUDBx"
      },
      "outputs": [],
      "source": [
        "train_data = train_data.drop(columns=[\"id\", \"index\"])"
      ]
    },
    {
      "cell_type": "code",
      "execution_count": null,
      "metadata": {
        "id": "r_JpR2tbUGXW"
      },
      "outputs": [],
      "source": [
        "#preprocess test data"
      ]
    },
    {
      "cell_type": "code",
      "execution_count": null,
      "metadata": {
        "colab": {
          "base_uri": "https://localhost:8080/"
        },
        "id": "HZul82b4UGh_",
        "outputId": "669c4c23-448a-462c-c53e-9f1681d083e1"
      },
      "outputs": [
        {
          "output_type": "execute_result",
          "data": {
            "text/plain": [
              "id          0\n",
              "title     122\n",
              "author    503\n",
              "text        7\n",
              "label       0\n",
              "dtype: int64"
            ]
          },
          "metadata": {},
          "execution_count": 19
        }
      ],
      "source": [
        "# Checking null values\n",
        "test_data.isnull().sum()"
      ]
    },
    {
      "cell_type": "code",
      "execution_count": null,
      "metadata": {
        "id": "5TlHkceOUGrR"
      },
      "outputs": [],
      "source": [
        "# Removing null values\n",
        "test_data.dropna(inplace=True)\n",
        "test_data.drop(test_data.loc[test_data['text']==\" \"].index, inplace=True)\n",
        "test_data.drop(test_data.loc[test_data['text']==\"  \"].index, inplace=True)\n",
        "test_data.drop(test_data.loc[test_data['text']==\"\\n\"].index, inplace=True)\n",
        "\n",
        "# Resetting index\n",
        "test_data.reset_index(inplace=True)"
      ]
    },
    {
      "cell_type": "code",
      "execution_count": null,
      "metadata": {
        "id": "Ek-UuN8XUM1j"
      },
      "outputs": [],
      "source": [
        "test_data= test_data.apply(lambda x: x.astype(str).str.lower())"
      ]
    },
    {
      "cell_type": "code",
      "execution_count": null,
      "metadata": {
        "id": "ViAtdhW9UM6x"
      },
      "outputs": [],
      "source": [
        "test_data = test_data.drop(columns=[\"id\",\"index\"])"
      ]
    },
    {
      "cell_type": "code",
      "execution_count": null,
      "metadata": {
        "id": "hqQgWN0p7zbZ"
      },
      "outputs": [],
      "source": [
        "# train_data.shape"
      ]
    },
    {
      "cell_type": "code",
      "execution_count": null,
      "metadata": {
        "id": "VQ9mYsc4UT7r"
      },
      "outputs": [],
      "source": [
        ""
      ]
    },
    {
      "cell_type": "code",
      "execution_count": null,
      "metadata": {
        "id": "kCMY4mJp7fR7"
      },
      "outputs": [],
      "source": [
        "transformed_df = pd.read_csv(\"pre_train.csv\")\n",
        "transformed_df_test = pd.read_csv(\"pre_test.csv\")"
      ]
    },
    {
      "cell_type": "code",
      "execution_count": null,
      "metadata": {
        "id": "C5jpY_l_7fYd"
      },
      "outputs": [],
      "source": [
        "X_test = transformed_df_test.values\n",
        "y_test = test_data[\"label\"].values "
      ]
    },
    {
      "cell_type": "code",
      "execution_count": null,
      "metadata": {
        "id": "YWaWi6r_7h4e"
      },
      "outputs": [],
      "source": [
        "X = transformed_df.values\n",
        "y = train_data[\"label\"].values"
      ]
    },
    {
      "cell_type": "code",
      "execution_count": null,
      "metadata": {
        "id": "6YF8VuN-nLT5"
      },
      "outputs": [],
      "source": [
        "#Kfold (k=5) split for training data\n",
        "\n",
        "from sklearn.model_selection import StratifiedKFold\n",
        "\n",
        "skf = StratifiedKFold(n_splits=5)\n",
        "\n",
        "X_train=[]\n",
        "X_val=[]\n",
        "y_train=[]\n",
        "y_val=[]\n",
        "\n",
        "for train_index, test_index in skf.split(X, y):\n",
        "  X_train.append(X[train_index])\n",
        "  X_val.append(X[test_index]) \n",
        "  y_train.append(y[train_index])\n",
        "  y_val.append(y[test_index])\n"
      ]
    },
    {
      "cell_type": "markdown",
      "source": [
        "1. Hyperparameter Tuning using Bayesian Optimization Search"
      ],
      "metadata": {
        "id": "NPIsir6FNdUV"
      }
    },
    {
      "cell_type": "code",
      "execution_count": null,
      "metadata": {
        "colab": {
          "base_uri": "https://localhost:8080/"
        },
        "id": "hPHvJDFXnLbz",
        "outputId": "3038dd76-cad9-4be0-b1c2-f870e558a8ce"
      },
      "outputs": [
        {
          "output_type": "stream",
          "name": "stdout",
          "text": [
            "Collecting scikit-optimize\n",
            "  Downloading scikit_optimize-0.9.0-py2.py3-none-any.whl (100 kB)\n",
            "\u001b[?25l\r\u001b[K     |███▎                            | 10 kB 20.8 MB/s eta 0:00:01\r\u001b[K     |██████▌                         | 20 kB 22.4 MB/s eta 0:00:01\r\u001b[K     |█████████▉                      | 30 kB 25.7 MB/s eta 0:00:01\r\u001b[K     |█████████████                   | 40 kB 29.3 MB/s eta 0:00:01\r\u001b[K     |████████████████▍               | 51 kB 20.2 MB/s eta 0:00:01\r\u001b[K     |███████████████████▋            | 61 kB 21.7 MB/s eta 0:00:01\r\u001b[K     |██████████████████████▉         | 71 kB 23.2 MB/s eta 0:00:01\r\u001b[K     |██████████████████████████▏     | 81 kB 24.4 MB/s eta 0:00:01\r\u001b[K     |█████████████████████████████▍  | 92 kB 26.5 MB/s eta 0:00:01\r\u001b[K     |████████████████████████████████| 100 kB 7.9 MB/s \n",
            "\u001b[?25hRequirement already satisfied: joblib>=0.11 in /usr/local/lib/python3.7/dist-packages (from scikit-optimize) (1.1.0)\n",
            "Collecting pyaml>=16.9\n",
            "  Downloading pyaml-21.10.1-py2.py3-none-any.whl (24 kB)\n",
            "Requirement already satisfied: numpy>=1.13.3 in /usr/local/lib/python3.7/dist-packages (from scikit-optimize) (1.21.5)\n",
            "Requirement already satisfied: scipy>=0.19.1 in /usr/local/lib/python3.7/dist-packages (from scikit-optimize) (1.4.1)\n",
            "Requirement already satisfied: scikit-learn>=0.20.0 in /usr/local/lib/python3.7/dist-packages (from scikit-optimize) (1.0.2)\n",
            "Requirement already satisfied: PyYAML in /usr/local/lib/python3.7/dist-packages (from pyaml>=16.9->scikit-optimize) (3.13)\n",
            "Requirement already satisfied: threadpoolctl>=2.0.0 in /usr/local/lib/python3.7/dist-packages (from scikit-learn>=0.20.0->scikit-optimize) (3.1.0)\n",
            "Installing collected packages: pyaml, scikit-optimize\n",
            "Successfully installed pyaml-21.10.1 scikit-optimize-0.9.0\n"
          ]
        }
      ],
      "source": [
        "! pip install scikit-optimize"
      ]
    },
    {
      "cell_type": "code",
      "execution_count": null,
      "metadata": {
        "id": "BZrDofT7nLfS"
      },
      "outputs": [],
      "source": [
        "from skopt import BayesSearchCV\n",
        "from skopt.space import Real, Categorical, Integer\n",
        "from sklearn.linear_model import SGDClassifier"
      ]
    },
    {
      "cell_type": "markdown",
      "source": [
        "1.1 Hyperparameter Tuning for SVM(SGD)"
      ],
      "metadata": {
        "id": "hTk96j2SNlho"
      }
    },
    {
      "cell_type": "code",
      "execution_count": null,
      "metadata": {
        "id": "vJNdRXZYrKMk"
      },
      "outputs": [],
      "source": [
        "model_svm_sgd = SGDClassifier(loss='hinge', random_state=0)"
      ]
    },
    {
      "cell_type": "code",
      "execution_count": null,
      "metadata": {
        "id": "zz5DvwTArb61"
      },
      "outputs": [],
      "source": [
        "\n",
        "search_space = {\"alpha\": Real(0, 1), \n",
        "                \"eta0\" : Real(0.1,1),\n",
        "        \"penalty\": Categorical(['l1', 'l2', 'elasticnet']),\n",
        "        \"early_stopping\": Categorical([True, False]),\n",
        "        \"learning_rate\": Categorical(['constant', 'invscaling']),\n",
        "        \"max_iter\": Integer(1000, 3000),\n",
        "    \n",
        "    }"
      ]
    },
    {
      "cell_type": "code",
      "execution_count": null,
      "metadata": {
        "id": "lzk3LZc4Pzaj"
      },
      "outputs": [],
      "source": [
        "from sklearn.decomposition import PCA\n",
        "\n",
        "pca = PCA(n_components=100)\n",
        "pca_X = pca.fit_transform(X)"
      ]
    },
    {
      "cell_type": "code",
      "execution_count": null,
      "metadata": {
        "id": "HNIdjiBnsRAM"
      },
      "outputs": [],
      "source": [
        "SVM_sgd_bayes_search = BayesSearchCV(model_svm_sgd, search_space, n_iter=32, # specify how many iterations\n",
        "                                    n_jobs=-1, cv=5)"
      ]
    },
    {
      "cell_type": "code",
      "execution_count": null,
      "metadata": {
        "colab": {
          "base_uri": "https://localhost:8080/"
        },
        "id": "FNhNO6uQskzR",
        "outputId": "b43478be-d99d-4604-e222-9178ff661a69"
      },
      "outputs": [
        {
          "output_type": "stream",
          "name": "stderr",
          "text": [
            "/usr/local/lib/python3.7/dist-packages/skopt/optimizer/optimizer.py:449: UserWarning: The objective has been evaluated at this point before.\n",
            "  warnings.warn(\"The objective has been evaluated \"\n"
          ]
        },
        {
          "output_type": "execute_result",
          "data": {
            "text/plain": [
              "BayesSearchCV(cv=5, estimator=SGDClassifier(random_state=0), n_iter=32,\n",
              "              n_jobs=-1,\n",
              "              search_spaces={'alpha': Real(low=0, high=1, prior='uniform', transform='normalize'),\n",
              "                             'early_stopping': Categorical(categories=(True, False), prior=None),\n",
              "                             'eta0': Real(low=0.1, high=1, prior='uniform', transform='normalize'),\n",
              "                             'learning_rate': Categorical(categories=('constant', 'invscaling'), prior=None),\n",
              "                             'max_iter': Integer(low=1000, high=3000, prior='uniform', transform='normalize'),\n",
              "                             'penalty': Categorical(categories=('l1', 'l2', 'elasticnet'), prior=None)})"
            ]
          },
          "metadata": {},
          "execution_count": 51
        }
      ],
      "source": [
        "SVM_sgd_bayes_search.fit(pca_X, y)"
      ]
    },
    {
      "cell_type": "code",
      "execution_count": null,
      "metadata": {
        "colab": {
          "base_uri": "https://localhost:8080/"
        },
        "id": "V0IIPaz5sozJ",
        "outputId": "4811ea93-670c-45d5-98d4-b266f2ee3278"
      },
      "outputs": [
        {
          "output_type": "execute_result",
          "data": {
            "text/plain": [
              "OrderedDict([('alpha', 0.0),\n",
              "             ('early_stopping', False),\n",
              "             ('eta0', 0.1),\n",
              "             ('learning_rate', 'constant'),\n",
              "             ('max_iter', 3000),\n",
              "             ('penalty', 'l2')])"
            ]
          },
          "metadata": {},
          "execution_count": 52
        }
      ],
      "source": [
        "SVM_sgd_best_params = SVM_sgd_bayes_search.best_params_\n",
        "SVM_sgd_best_params"
      ]
    },
    {
      "cell_type": "code",
      "execution_count": null,
      "metadata": {
        "colab": {
          "base_uri": "https://localhost:8080/"
        },
        "id": "T-hKikf1so4-",
        "outputId": "811b000c-5828-4de8-d669-7dd579d67bb5"
      },
      "outputs": [
        {
          "output_type": "stream",
          "name": "stdout",
          "text": [
            "0.9233429701941678\n"
          ]
        }
      ],
      "source": [
        "print(SVM_sgd_bayes_search.best_score_)"
      ]
    },
    {
      "cell_type": "markdown",
      "source": [
        "1.2 Hyperparameter Tuning for SVM (SMO)"
      ],
      "metadata": {
        "id": "xFWyu9SJNyRf"
      }
    },
    {
      "cell_type": "code",
      "execution_count": null,
      "metadata": {
        "id": "kVzHgykAnLi0"
      },
      "outputs": [],
      "source": [
        "#Hyperparam tuning for SVM\n",
        "\n",
        "from sklearn.svm import SVC\n",
        "model_svm = SVC(random_state=0)\n",
        "\n",
        "search_space = {\"C\": Real(1, 3), \n",
        "        \"kernel\": Categorical(['linear', 'poly', 'rbf', 'sigmoid']),\n",
        "        \"shrinking\": Categorical([True, False]), \n",
        "        \"max_iter\": Integer(1000, 3000),\n",
        "        \"tol\": Real(1e-4,1e-3)\n",
        "    \n",
        "    }"
      ]
    },
    {
      "cell_type": "code",
      "execution_count": null,
      "metadata": {
        "id": "DmhWhV2fnQ14"
      },
      "outputs": [],
      "source": [
        "SVM_bayes_search = BayesSearchCV(model_svm, search_space, n_iter=32, # specify how many iterations\n",
        "                                    n_jobs=-1, cv=5)"
      ]
    },
    {
      "cell_type": "code",
      "execution_count": null,
      "metadata": {
        "colab": {
          "base_uri": "https://localhost:8080/"
        },
        "id": "fEPJoD-KnQ_m",
        "outputId": "98c241f2-15c1-4b65-ef7a-4d599909141a"
      },
      "outputs": [
        {
          "output_type": "stream",
          "name": "stderr",
          "text": [
            "/usr/local/lib/python3.7/dist-packages/sklearn/svm/_base.py:289: ConvergenceWarning: Solver terminated early (max_iter=3000).  Consider pre-processing your data with StandardScaler or MinMaxScaler.\n",
            "  ConvergenceWarning,\n"
          ]
        },
        {
          "output_type": "execute_result",
          "data": {
            "text/plain": [
              "BayesSearchCV(cv=5, estimator=SVC(random_state=0), n_iter=32, n_jobs=-1,\n",
              "              search_spaces={'C': Real(low=1, high=3, prior='uniform', transform='normalize'),\n",
              "                             'kernel': Categorical(categories=('linear', 'poly', 'rbf', 'sigmoid'), prior=None),\n",
              "                             'max_iter': Integer(low=1000, high=3000, prior='uniform', transform='normalize'),\n",
              "                             'shrinking': Categorical(categories=(True, False), prior=None),\n",
              "                             'tol': Real(low=0.0001, high=0.001, prior='uniform', transform='normalize')})"
            ]
          },
          "metadata": {},
          "execution_count": 56
        }
      ],
      "source": [
        "SVM_bayes_search.fit(pca_X, y)"
      ]
    },
    {
      "cell_type": "code",
      "execution_count": null,
      "metadata": {
        "colab": {
          "base_uri": "https://localhost:8080/"
        },
        "id": "Re9HKBlUnRDF",
        "outputId": "74a98288-8ba3-4900-c840-540847971df2"
      },
      "outputs": [
        {
          "output_type": "execute_result",
          "data": {
            "text/plain": [
              "OrderedDict([('C', 3.0),\n",
              "             ('kernel', 'rbf'),\n",
              "             ('max_iter', 3000),\n",
              "             ('shrinking', False),\n",
              "             ('tol', 0.0008827394667177391)])"
            ]
          },
          "metadata": {},
          "execution_count": 57
        }
      ],
      "source": [
        "SVM_best_params = SVM_bayes_search.best_params_\n",
        "SVM_best_params"
      ]
    },
    {
      "cell_type": "code",
      "execution_count": null,
      "metadata": {
        "colab": {
          "base_uri": "https://localhost:8080/"
        },
        "id": "wmvH08iZnY7V",
        "outputId": "330a213d-4e9c-4c74-e0c1-f976776acd33"
      },
      "outputs": [
        {
          "output_type": "execute_result",
          "data": {
            "text/plain": [
              "SVC(C=3.0, max_iter=3000, random_state=0, shrinking=False,\n",
              "    tol=0.0008827394667177391)"
            ]
          },
          "metadata": {},
          "execution_count": 58
        }
      ],
      "source": [
        "SVM_best_model = SVM_bayes_search.best_estimator_\n",
        "SVM_best_model"
      ]
    },
    {
      "cell_type": "code",
      "execution_count": null,
      "metadata": {
        "colab": {
          "base_uri": "https://localhost:8080/"
        },
        "id": "qBRHxiqSnY_Z",
        "outputId": "117d3865-af43-4478-b53f-6e98bbbe94e2"
      },
      "outputs": [
        {
          "output_type": "stream",
          "name": "stdout",
          "text": [
            "0.9453626017745511\n"
          ]
        }
      ],
      "source": [
        "print(SVM_bayes_search.best_score_)"
      ]
    },
    {
      "cell_type": "markdown",
      "source": [
        "1.3 Hyperparameter Tuning for DT "
      ],
      "metadata": {
        "id": "o5mdyfyEN-AK"
      }
    },
    {
      "cell_type": "code",
      "execution_count": null,
      "metadata": {
        "id": "lUJj9h4UnZC1"
      },
      "outputs": [],
      "source": [
        "#Hyperparam tuning for DT\n",
        "\n",
        "from sklearn.tree import DecisionTreeClassifier\n",
        "model_DT = DecisionTreeClassifier(random_state=0)\n",
        "\n",
        "search_space = {\"criterion\": Categorical(['gini', 'entropy']), \n",
        "        \"max_depth\": Integer(3,15),\n",
        "        \"min_samples_split\": Integer(2,10), \n",
        "        \"min_samples_leaf\": Integer(1,5),\n",
        "        \"ccp_alpha\": Real(0, 2)\n",
        "    }"
      ]
    },
    {
      "cell_type": "code",
      "execution_count": null,
      "metadata": {
        "id": "61HAEHtOnZF9"
      },
      "outputs": [],
      "source": [
        "DT_bayes_search = BayesSearchCV(model_DT, search_space, n_iter=50, # specify how many iterations\n",
        "                                    n_jobs=-1, cv=5)"
      ]
    },
    {
      "cell_type": "code",
      "execution_count": null,
      "metadata": {
        "id": "yJUucaHunZJM"
      },
      "outputs": [],
      "source": [
        "DT_bayes_search.fit(pca_X, y)"
      ]
    },
    {
      "cell_type": "code",
      "execution_count": null,
      "metadata": {
        "id": "ifz2zGionjrW"
      },
      "outputs": [],
      "source": [
        "DT_best_params = DT_bayes_search.best_params_\n",
        "DT_best_params"
      ]
    },
    {
      "cell_type": "code",
      "execution_count": null,
      "metadata": {
        "id": "odAOIrL2njyA"
      },
      "outputs": [],
      "source": [
        "DT_best_model = DT_bayes_search.best_estimator_\n",
        "DT_best_model"
      ]
    },
    {
      "cell_type": "code",
      "execution_count": null,
      "metadata": {
        "id": "5-V54nTJnj1g"
      },
      "outputs": [],
      "source": [
        "print(DT_bayes_search.best_score_)"
      ]
    },
    {
      "cell_type": "code",
      "execution_count": null,
      "metadata": {
        "id": "a3NgzjlQqi9w"
      },
      "outputs": [],
      "source": [
        ""
      ]
    },
    {
      "cell_type": "markdown",
      "source": [
        "1.4 Hyperparameter Tuning for MLP (Quasi-Newton)"
      ],
      "metadata": {
        "id": "oesx_vGnOB3g"
      }
    },
    {
      "cell_type": "code",
      "execution_count": null,
      "metadata": {
        "id": "qyuQwciRv6k1"
      },
      "outputs": [],
      "source": [
        "#Hyperparam tuning for MLP (Quasi-Newton)\n",
        "\n",
        "from sklearn.neural_network import MLPClassifier\n",
        "model_n_MLP = MLPClassifier(solver='lbfgs', random_state=0)\n",
        "\n",
        "search_space = {\"activation\": Categorical(['identity', 'logistic', 'tanh', 'relu']), \n",
        "        \"alpha\": Real(0,2), \n",
        "        \"learning_rate\": Categorical(['constant', 'invscaling', 'adaptive']),\n",
        "        \"early_stopping\": Categorical([True, False]),\n",
        "        \"max_iter\": Integer(1000, 3000)\n",
        "    }"
      ]
    },
    {
      "cell_type": "code",
      "execution_count": null,
      "metadata": {
        "id": "u7ebPKRdv6nz"
      },
      "outputs": [],
      "source": [
        "MLP_n_bayes_search = BayesSearchCV(model_n_MLP, search_space, n_iter=32, # specify how many iterations\n",
        "                                    n_jobs=-1, cv=5)"
      ]
    },
    {
      "cell_type": "code",
      "execution_count": null,
      "metadata": {
        "id": "_U8i_dbVv6qw"
      },
      "outputs": [],
      "source": [
        "MLP_n_bayes_search.fit(pca_X, y)"
      ]
    },
    {
      "cell_type": "code",
      "execution_count": null,
      "metadata": {
        "id": "rX5vxax0v6tW"
      },
      "outputs": [],
      "source": [
        "MLP_n_best_params = MLP_n_bayes_search.best_params_\n",
        "MLP_n_best_params"
      ]
    },
    {
      "cell_type": "code",
      "execution_count": null,
      "metadata": {
        "id": "z4vysvjPv6vx"
      },
      "outputs": [],
      "source": [
        "print(MLP_n_bayes_search.best_score_)"
      ]
    },
    {
      "cell_type": "markdown",
      "source": [
        "1.5 Hyperparameter Tuning for MLP (SGD) "
      ],
      "metadata": {
        "id": "cjLJQaS-OMBH"
      }
    },
    {
      "cell_type": "code",
      "execution_count": null,
      "metadata": {
        "id": "UU1zLsxInoz4"
      },
      "outputs": [],
      "source": [
        "from sklearn.neural_network import MLPClassifier\n",
        "model_MLP = MLPClassifier(random_state=0)\n",
        "\n",
        "search_space = {\"activation\": Categorical(['identity', 'logistic', 'tanh', 'relu']), \n",
        "        \"solver\": Categorical(['lbfgs', 'sgd', 'adam']),\n",
        "        \"alpha\": Real(0,2), \n",
        "        \"learning_rate\": Categorical(['constant', 'invscaling', 'adaptive']),\n",
        "        \"early_stopping\": Categorical([True, False]),\n",
        "        \"max_iter\": Integer(1000, 3000)\n",
        "    }"
      ]
    },
    {
      "cell_type": "code",
      "execution_count": null,
      "metadata": {
        "id": "1UgPMyQMno32"
      },
      "outputs": [],
      "source": [
        "MLP_bayes_search = BayesSearchCV(model_MLP, search_space, n_iter=50, # specify how many iterations\n",
        "                                    n_jobs=-1, cv=5)"
      ]
    },
    {
      "cell_type": "code",
      "execution_count": null,
      "metadata": {
        "id": "l2Fpdktsno8K"
      },
      "outputs": [],
      "source": [
        "MLP_bayes_search.fit(pca_X, y)"
      ]
    },
    {
      "cell_type": "code",
      "execution_count": null,
      "metadata": {
        "id": "XU_VMJkZno_d"
      },
      "outputs": [],
      "source": [
        "MLP_best_params = MLP_bayes_search.best_params_\n",
        "MLP_best_params"
      ]
    },
    {
      "cell_type": "code",
      "execution_count": null,
      "metadata": {
        "id": "kIZ4-uPBnxYG"
      },
      "outputs": [],
      "source": [
        "MLP_best_model = MLP_bayes_search.best_estimator_\n",
        "MLP_best_model"
      ]
    },
    {
      "cell_type": "code",
      "execution_count": null,
      "metadata": {
        "id": "DNoYsPswnxf6"
      },
      "outputs": [],
      "source": [
        "print(MLP_bayes_search.best_score_)"
      ]
    },
    {
      "cell_type": "code",
      "execution_count": null,
      "metadata": {
        "id": "ysKy-gPVn1DH"
      },
      "outputs": [],
      "source": [
        ""
      ]
    }
  ],
  "metadata": {
    "colab": {
      "collapsed_sections": [],
      "name": "ML_Project_HT_BayesSearch_2019274",
      "provenance": []
    },
    "kernelspec": {
      "display_name": "Python 3",
      "name": "python3"
    },
    "language_info": {
      "name": "python"
    }
  },
  "nbformat": 4,
  "nbformat_minor": 0
}