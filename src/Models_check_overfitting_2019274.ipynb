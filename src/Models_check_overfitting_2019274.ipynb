{
  "cells": [
    {
      "cell_type": "markdown",
      "metadata": {
        "id": "JQyf_IT1bKs8"
      },
      "source": [
        "0. Loading the dataset and Pre-processing\n"
      ]
    },
    {
      "cell_type": "code",
      "execution_count": null,
      "metadata": {
        "colab": {
          "base_uri": "https://localhost:8080/"
        },
        "id": "QtopbP3nioCi",
        "outputId": "f531ed7a-8262-4064-8fb7-9ed1dbeef782"
      },
      "outputs": [
        {
          "output_type": "stream",
          "name": "stdout",
          "text": [
            "Requirement already satisfied: gdown in /usr/local/lib/python3.7/dist-packages (4.4.0)\n",
            "Requirement already satisfied: tqdm in /usr/local/lib/python3.7/dist-packages (from gdown) (4.64.0)\n",
            "Requirement already satisfied: six in /usr/local/lib/python3.7/dist-packages (from gdown) (1.15.0)\n",
            "Requirement already satisfied: filelock in /usr/local/lib/python3.7/dist-packages (from gdown) (3.6.0)\n",
            "Requirement already satisfied: beautifulsoup4 in /usr/local/lib/python3.7/dist-packages (from gdown) (4.6.3)\n",
            "Requirement already satisfied: requests[socks] in /usr/local/lib/python3.7/dist-packages (from gdown) (2.23.0)\n",
            "Requirement already satisfied: urllib3!=1.25.0,!=1.25.1,<1.26,>=1.21.1 in /usr/local/lib/python3.7/dist-packages (from requests[socks]->gdown) (1.24.3)\n",
            "Requirement already satisfied: idna<3,>=2.5 in /usr/local/lib/python3.7/dist-packages (from requests[socks]->gdown) (2.10)\n",
            "Requirement already satisfied: chardet<4,>=3.0.2 in /usr/local/lib/python3.7/dist-packages (from requests[socks]->gdown) (3.0.4)\n",
            "Requirement already satisfied: certifi>=2017.4.17 in /usr/local/lib/python3.7/dist-packages (from requests[socks]->gdown) (2021.10.8)\n",
            "Requirement already satisfied: PySocks!=1.5.7,>=1.5.6 in /usr/local/lib/python3.7/dist-packages (from requests[socks]->gdown) (1.7.1)\n"
          ]
        }
      ],
      "source": [
        "!pip install --upgrade --no-cache-dir gdown"
      ]
    },
    {
      "cell_type": "code",
      "execution_count": null,
      "metadata": {
        "colab": {
          "base_uri": "https://localhost:8080/"
        },
        "id": "mkyWGh1AbNrt",
        "outputId": "a8d1ac58-d928-4c87-fd18-69d20fe11fbc"
      },
      "outputs": [
        {
          "output_type": "stream",
          "name": "stdout",
          "text": [
            "/usr/local/lib/python3.7/dist-packages/gdown/cli.py:131: FutureWarning: Option `--id` was deprecated in version 4.3.1 and will be removed in 5.0. You don't need to pass it anymore to use a file ID.\n",
            "  category=FutureWarning,\n",
            "Downloading...\n",
            "From: https://drive.google.com/uc?id=1E8OTtNK_UNSAdmkg3OuB0k2FsKKF9QpY\n",
            "To: /content/train.csv\n",
            "100% 98.6M/98.6M [00:00<00:00, 227MB/s]\n",
            "/usr/local/lib/python3.7/dist-packages/gdown/cli.py:131: FutureWarning: Option `--id` was deprecated in version 4.3.1 and will be removed in 5.0. You don't need to pass it anymore to use a file ID.\n",
            "  category=FutureWarning,\n",
            "Downloading...\n",
            "From: https://drive.google.com/uc?id=1-pm6_kvT9CBrYER40uIkRiG0KMlHnH7L\n",
            "To: /content/test.csv\n",
            "100% 25.1M/25.1M [00:00<00:00, 182MB/s]\n",
            "/usr/local/lib/python3.7/dist-packages/gdown/cli.py:131: FutureWarning: Option `--id` was deprecated in version 4.3.1 and will be removed in 5.0. You don't need to pass it anymore to use a file ID.\n",
            "  category=FutureWarning,\n",
            "Downloading...\n",
            "From: https://drive.google.com/uc?id=1oiVQignVg1wvE1LXKFvOLHPl0P8GNSDp\n",
            "To: /content/submit.csv\n",
            "100% 41.6k/41.6k [00:00<00:00, 50.0MB/s]\n",
            "/usr/local/lib/python3.7/dist-packages/gdown/cli.py:131: FutureWarning: Option `--id` was deprecated in version 4.3.1 and will be removed in 5.0. You don't need to pass it anymore to use a file ID.\n",
            "  category=FutureWarning,\n",
            "Downloading...\n",
            "From: https://drive.google.com/uc?id=1pGkEyDelD7Lp7yhFML9Dt1oo-91Mqf9H\n",
            "To: /content/pre_train.csv\n",
            "100% 280M/280M [00:01<00:00, 175MB/s]\n",
            "/usr/local/lib/python3.7/dist-packages/gdown/cli.py:131: FutureWarning: Option `--id` was deprecated in version 4.3.1 and will be removed in 5.0. You don't need to pass it anymore to use a file ID.\n",
            "  category=FutureWarning,\n",
            "Downloading...\n",
            "From: https://drive.google.com/uc?id=1DYVzeYjjTTeHtazHfKD9FTx57h-77bkC\n",
            "To: /content/pre_test.csv\n",
            "100% 70.2M/70.2M [00:00<00:00, 153MB/s]\n"
          ]
        }
      ],
      "source": [
        "#load training and test datasets from Kaggle\n",
        "\n",
        "#also load csv of preprocessed datasets (to reduce runtime by preprocessing once and storing the preprocessed dataset into csv)\n",
        "\n",
        "! gdown --id 1E8OTtNK_UNSAdmkg3OuB0k2FsKKF9QpY\n",
        "! gdown --id 1-pm6_kvT9CBrYER40uIkRiG0KMlHnH7L\n",
        "! gdown --id 1oiVQignVg1wvE1LXKFvOLHPl0P8GNSDp\n",
        "\n",
        "! gdown --id 1pGkEyDelD7Lp7yhFML9Dt1oo-91Mqf9H\n",
        "! gdown --id 1DYVzeYjjTTeHtazHfKD9FTx57h-77bkC"
      ]
    },
    {
      "cell_type": "code",
      "execution_count": null,
      "metadata": {
        "id": "L3wTlDK2eKPc"
      },
      "outputs": [],
      "source": [
        "import numpy as np\n",
        "import pandas as pd"
      ]
    },
    {
      "cell_type": "code",
      "execution_count": null,
      "metadata": {
        "id": "WvMcjj16ePcy"
      },
      "outputs": [],
      "source": [
        "train_data = pd.read_csv(\"train.csv\")\n",
        "test_data = pd.read_csv(\"test.csv\")\n",
        "submit_data = pd.read_csv(\"submit.csv\")"
      ]
    },
    {
      "cell_type": "code",
      "execution_count": null,
      "metadata": {
        "id": "VWsdQkaK8a6d"
      },
      "outputs": [],
      "source": [
        "test_data = test_data.join(submit_data[\"label\"])"
      ]
    },
    {
      "cell_type": "code",
      "execution_count": null,
      "metadata": {
        "colab": {
          "base_uri": "https://localhost:8080/"
        },
        "id": "RkQIZKf38bbR",
        "outputId": "b7eb1794-d70d-4eaa-e448-c51bbb126a54"
      },
      "outputs": [
        {
          "output_type": "execute_result",
          "data": {
            "text/plain": [
              "id           0\n",
              "title      558\n",
              "author    1957\n",
              "text        39\n",
              "label        0\n",
              "dtype: int64"
            ]
          },
          "metadata": {},
          "execution_count": 24
        }
      ],
      "source": [
        "# Checking null values\n",
        "train_data.isnull().sum()"
      ]
    },
    {
      "cell_type": "code",
      "execution_count": null,
      "metadata": {
        "id": "w3dyPXUh8blI"
      },
      "outputs": [],
      "source": [
        "# Removing null values\n",
        "train_data.dropna(inplace=True)\n",
        "train_data.drop(train_data.loc[train_data['text']==\" \"].index, inplace=True)\n",
        "train_data.drop(train_data.loc[train_data['text']==\"  \"].index, inplace=True)\n",
        "train_data.drop(train_data.loc[train_data['text']==\"\\n\"].index, inplace=True)\n",
        "\n",
        "# Resetting index\n",
        "train_data.reset_index(inplace=True)"
      ]
    },
    {
      "cell_type": "code",
      "execution_count": null,
      "metadata": {
        "id": "yOMDI3218gxK"
      },
      "outputs": [],
      "source": [
        "train_data= train_data.apply(lambda x: x.astype(str).str.lower())"
      ]
    },
    {
      "cell_type": "code",
      "execution_count": null,
      "metadata": {
        "id": "_qwMU0r68g0Q"
      },
      "outputs": [],
      "source": [
        "train_data = train_data.drop(columns=[\"id\", \"index\"])"
      ]
    },
    {
      "cell_type": "code",
      "execution_count": null,
      "metadata": {
        "colab": {
          "base_uri": "https://localhost:8080/"
        },
        "id": "DppwkwIM8g20",
        "outputId": "c86e9908-2158-4434-876a-a1ea65e27e6a"
      },
      "outputs": [
        {
          "output_type": "execute_result",
          "data": {
            "text/plain": [
              "id          0\n",
              "title     122\n",
              "author    503\n",
              "text        7\n",
              "label       0\n",
              "dtype: int64"
            ]
          },
          "metadata": {},
          "execution_count": 28
        }
      ],
      "source": [
        "# Checking null values\n",
        "test_data.isnull().sum()"
      ]
    },
    {
      "cell_type": "code",
      "execution_count": null,
      "metadata": {
        "id": "y2V3q80Y8g5c"
      },
      "outputs": [],
      "source": [
        "# Removing null values\n",
        "test_data.dropna(inplace=True)\n",
        "test_data.drop(test_data.loc[test_data['text']==\" \"].index, inplace=True)\n",
        "test_data.drop(test_data.loc[test_data['text']==\"  \"].index, inplace=True)\n",
        "test_data.drop(test_data.loc[test_data['text']==\"\\n\"].index, inplace=True)\n",
        "\n",
        "# Resetting index\n",
        "test_data.reset_index(inplace=True)"
      ]
    },
    {
      "cell_type": "code",
      "execution_count": null,
      "metadata": {
        "id": "GI7r8Tnq8g84"
      },
      "outputs": [],
      "source": [
        "test_data= test_data.apply(lambda x: x.astype(str).str.lower())"
      ]
    },
    {
      "cell_type": "code",
      "execution_count": null,
      "metadata": {
        "id": "aKFIhPe48oOt"
      },
      "outputs": [],
      "source": [
        "test_data = test_data.drop(columns=[\"id\",\"index\"])"
      ]
    },
    {
      "cell_type": "code",
      "execution_count": null,
      "metadata": {
        "id": "CO9hQRl78oUW"
      },
      "outputs": [],
      "source": [
        "transformed_df = pd.read_csv(\"pre_train.csv\")\n",
        "transformed_df_test = pd.read_csv(\"pre_test.csv\")"
      ]
    },
    {
      "cell_type": "code",
      "execution_count": null,
      "metadata": {
        "id": "LmPE0hI_8btW"
      },
      "outputs": [],
      "source": [
        "X_test = transformed_df_test.values\n",
        "y_test = test_data[\"label\"].values "
      ]
    },
    {
      "cell_type": "code",
      "execution_count": null,
      "metadata": {
        "id": "tkUImHTM8t1m"
      },
      "outputs": [],
      "source": [
        "X = transformed_df.values\n",
        "y = train_data[\"label\"].values"
      ]
    },
    {
      "cell_type": "code",
      "execution_count": null,
      "metadata": {
        "id": "fjriJFETkeZv"
      },
      "outputs": [],
      "source": [
        ""
      ]
    },
    {
      "cell_type": "code",
      "execution_count": null,
      "metadata": {
        "id": "Y7li8Ma3e4QV"
      },
      "outputs": [],
      "source": [
        "#calculating train and val error on diff training set sizes (1000, 5000, 10000, 18000)\n",
        "\n",
        "from sklearn.metrics import precision_score, recall_score, f1_score, accuracy_score"
      ]
    },
    {
      "cell_type": "code",
      "execution_count": null,
      "metadata": {
        "id": "oETkcXPBgauE"
      },
      "outputs": [],
      "source": [
        "X_training_set= []\n",
        "y_training_set = []\n",
        "set_size= 4"
      ]
    },
    {
      "cell_type": "code",
      "execution_count": null,
      "metadata": {
        "id": "ingfH1ctfs_6"
      },
      "outputs": [],
      "source": [
        "for i in [1000, 5000, 10000, 18000]:\n",
        "  t_set = X[:i]\n",
        "  y_set = y[:i]\n",
        "  X_training_set.append(t_set)\n",
        "  y_training_set.append(y_set)\n"
      ]
    },
    {
      "cell_type": "code",
      "execution_count": null,
      "metadata": {
        "id": "wnxqC60tA7tQ"
      },
      "outputs": [],
      "source": [
        "#Kfold (k=5) split for training data\n",
        "from sklearn.model_selection import StratifiedKFold\n",
        "skf = StratifiedKFold(n_splits=5)\n"
      ]
    },
    {
      "cell_type": "code",
      "execution_count": null,
      "metadata": {
        "id": "VmRCYdIUAq5I"
      },
      "outputs": [],
      "source": [
        "##ML models:"
      ]
    },
    {
      "cell_type": "code",
      "execution_count": null,
      "metadata": {
        "id": "3gROjDN5Aq8r"
      },
      "outputs": [],
      "source": [
        "#Model 1: SVM\n",
        "from sklearn.svm import SVC\n",
        "\n",
        "train_error= []\n",
        "dev_error= []"
      ]
    },
    {
      "cell_type": "code",
      "execution_count": null,
      "metadata": {
        "colab": {
          "background_save": true
        },
        "id": "QznvAakKhOW3"
      },
      "outputs": [],
      "source": [
        "for i in range(len(X_training_set)):\n",
        "  X_train=[]\n",
        "  X_val=[]\n",
        "  y_train=[]\n",
        "  y_val=[]\n",
        "\n",
        "  X_t = X_training_set[i]\n",
        "  y_t = y_training_set[i]\n",
        "  for train_index, test_index in skf.split(X_t,y_t):\n",
        "    X_train.append(X[train_index])\n",
        "    X_val.append(X[test_index]) \n",
        "    y_train.append(y[train_index])\n",
        "    y_val.append(y[test_index])\n",
        "\n",
        "  model_svm_0 = SVC(random_state=0)    \n",
        "  model_svm_1 = SVC(random_state=0)\n",
        "  model_svm_2 = SVC(random_state=0)\n",
        "  model_svm_3 = SVC(random_state=0)\n",
        "  model_svm_4 = SVC(random_state=0)\n",
        "\n",
        "  model_svm_0.fit(X_train[0], y_train[0].astype('int'))\n",
        "  model_svm_1.fit(X_train[1], y_train[1].astype('int'))\n",
        "  model_svm_2.fit(X_train[2], y_train[2].astype('int'))\n",
        "  model_svm_3.fit(X_train[3], y_train[3].astype('int'))\n",
        "  model_svm_4.fit(X_train[4], y_train[4].astype('int'))\n",
        "\n",
        "  y_pred_0 = model_svm_0.predict(X_val[0])\n",
        "  y_pred_1 = model_svm_1.predict(X_val[1])\n",
        "  y_pred_2 = model_svm_2.predict(X_val[2])\n",
        "  y_pred_3 = model_svm_3.predict(X_val[3])\n",
        "  y_pred_4 = model_svm_4.predict(X_val[4])\n",
        "\n",
        "  accuracy_0 = accuracy_score(y_val[0].astype('int'), y_pred_0)\n",
        "  accuracy_1 = accuracy_score(y_val[1].astype('int'), y_pred_1)\n",
        "  accuracy_2 = accuracy_score(y_val[2].astype('int'), y_pred_2)\n",
        "  accuracy_3 = accuracy_score(y_val[3].astype('int'), y_pred_3)\n",
        "  accuracy_4 = accuracy_score(y_val[4].astype('int'), y_pred_4)\n",
        "\n",
        "  mean_acc = np.mean([accuracy_0, accuracy_1, accuracy_2, accuracy_3, accuracy_4])\n",
        "\n",
        "  dev_error.append(mean_acc)\n",
        "\n",
        "  y_pred_0 = model_svm_0.predict(X_train[0])\n",
        "  y_pred_1 = model_svm_1.predict(X_train[1])\n",
        "  y_pred_2 = model_svm_2.predict(X_train[2])\n",
        "  y_pred_3 = model_svm_3.predict(X_train[3])\n",
        "  y_pred_4 = model_svm_4.predict(X_train[4])\n",
        "\n",
        "  accuracy_0 = accuracy_score(y_train[0].astype('int'), y_pred_0)\n",
        "  accuracy_1 = accuracy_score(y_train[1].astype('int'), y_pred_1)\n",
        "  accuracy_2 = accuracy_score(y_train[2].astype('int'), y_pred_2)\n",
        "  accuracy_3 = accuracy_score(y_train[3].astype('int'), y_pred_3)\n",
        "  accuracy_4 = accuracy_score(y_train[4].astype('int'), y_pred_4)\n",
        "\n",
        "  mean_acc = np.mean([accuracy_0, accuracy_1, accuracy_2, accuracy_3, accuracy_4])\n",
        "\n",
        "  train_error.append(mean_acc)\n"
      ]
    },
    {
      "cell_type": "code",
      "execution_count": null,
      "metadata": {
        "colab": {
          "background_save": true
        },
        "id": "3NkrwLAKhnAS"
      },
      "outputs": [],
      "source": [
        "#comparing train vs dev error"
      ]
    },
    {
      "cell_type": "code",
      "execution_count": null,
      "metadata": {
        "colab": {
          "background_save": true
        },
        "id": "Wg_czmd_uUew",
        "outputId": "7b1df079-5642-49d5-8d9e-802d0f0b2a9d"
      },
      "outputs": [
        {
          "data": {
            "text/plain": [
              "[0.897, 0.9376000000000001, 0.9478, 0.9570555555555555]"
            ]
          },
          "execution_count": null,
          "metadata": {},
          "output_type": "execute_result"
        }
      ],
      "source": [
        "dev_error"
      ]
    },
    {
      "cell_type": "code",
      "execution_count": null,
      "metadata": {
        "colab": {
          "background_save": true
        },
        "id": "89YeKZr4hmPC",
        "outputId": "820ecc45-4dbb-41df-854c-bfef83b12e68"
      },
      "outputs": [
        {
          "data": {
            "image/png": "[encoded data removed]",
            "text/plain": [
              "<Figure size 432x288 with 1 Axes>"
            ]
          },
          "metadata": {},
          "output_type": "display_data"
        }
      ],
      "source": [
        "import matplotlib.pyplot as plt\n",
        "\n",
        "plt.plot([1000, 5000, 10000, 18000], dev_error, label=\"Dev\")\n",
        "plt.plot([1000, 5000, 10000, 18000], train_error, label=\"Train\")\n",
        "# naming the x axis\n",
        "plt.xlabel('No. of training samples')\n",
        "# naming the y axis\n",
        "plt.ylabel('Accuracies of dev and train set')\n",
        " \n",
        "# giving a title to my graph\n",
        "plt.title('Checking Overfitting for SVM!')\n",
        "plt.legend()\n",
        "# function to show the plot\n",
        "plt.show()"
      ]
    },
    {
      "cell_type": "code",
      "execution_count": null,
      "metadata": {
        "id": "0lQlTwunnIBT"
      },
      "outputs": [],
      "source": [
        ""
      ]
    },
    {
      "cell_type": "code",
      "execution_count": null,
      "metadata": {
        "id": "u3bUooDbE2ak"
      },
      "outputs": [],
      "source": [
        "#model 2: Decision Trees"
      ]
    },
    {
      "cell_type": "code",
      "execution_count": null,
      "metadata": {
        "id": "2mja8E6PE2jI"
      },
      "outputs": [],
      "source": [
        "from sklearn.tree import DecisionTreeClassifier"
      ]
    },
    {
      "cell_type": "code",
      "execution_count": null,
      "metadata": {
        "id": "mrMFoe1xVFzD"
      },
      "outputs": [],
      "source": [
        "model_dt_0 = DecisionTreeClassifier(random_state=0)\n",
        "model_dt_1 = DecisionTreeClassifier(random_state=0)\n",
        "model_dt_2 = DecisionTreeClassifier(random_state=0)\n",
        "model_dt_3 = DecisionTreeClassifier(random_state=0)\n",
        "model_dt_4 = DecisionTreeClassifier(random_state=0)"
      ]
    },
    {
      "cell_type": "code",
      "execution_count": null,
      "metadata": {
        "id": "BgWMkRLIVF5W",
        "colab": {
          "base_uri": "https://localhost:8080/",
          "height": 235
        },
        "outputId": "878193cd-6b0e-4fab-f0f3-49056998db7a"
      },
      "outputs": [
        {
          "output_type": "error",
          "ename": "NameError",
          "evalue": "ignored",
          "traceback": [
            "\u001b[0;31m---------------------------------------------------------------------------\u001b[0m",
            "\u001b[0;31mNameError\u001b[0m                                 Traceback (most recent call last)",
            "\u001b[0;32m<ipython-input-57-fde38bbe3999>\u001b[0m in \u001b[0;36m<module>\u001b[0;34m()\u001b[0m\n\u001b[0;32m----> 1\u001b[0;31m \u001b[0mmodel_dt_0\u001b[0m\u001b[0;34m.\u001b[0m\u001b[0mfit\u001b[0m\u001b[0;34m(\u001b[0m\u001b[0mX_train\u001b[0m\u001b[0;34m[\u001b[0m\u001b[0;36m0\u001b[0m\u001b[0;34m]\u001b[0m\u001b[0;34m,\u001b[0m \u001b[0my_train\u001b[0m\u001b[0;34m[\u001b[0m\u001b[0;36m0\u001b[0m\u001b[0;34m]\u001b[0m\u001b[0;34m.\u001b[0m\u001b[0mastype\u001b[0m\u001b[0;34m(\u001b[0m\u001b[0;34m'int'\u001b[0m\u001b[0;34m)\u001b[0m\u001b[0;34m)\u001b[0m\u001b[0;34m\u001b[0m\u001b[0;34m\u001b[0m\u001b[0m\n\u001b[0m\u001b[1;32m      2\u001b[0m \u001b[0mmodel_dt_1\u001b[0m\u001b[0;34m.\u001b[0m\u001b[0mfit\u001b[0m\u001b[0;34m(\u001b[0m\u001b[0mX_train\u001b[0m\u001b[0;34m[\u001b[0m\u001b[0;36m1\u001b[0m\u001b[0;34m]\u001b[0m\u001b[0;34m,\u001b[0m \u001b[0my_train\u001b[0m\u001b[0;34m[\u001b[0m\u001b[0;36m1\u001b[0m\u001b[0;34m]\u001b[0m\u001b[0;34m.\u001b[0m\u001b[0mastype\u001b[0m\u001b[0;34m(\u001b[0m\u001b[0;34m'int'\u001b[0m\u001b[0;34m)\u001b[0m\u001b[0;34m)\u001b[0m\u001b[0;34m\u001b[0m\u001b[0;34m\u001b[0m\u001b[0m\n\u001b[1;32m      3\u001b[0m \u001b[0mmodel_dt_2\u001b[0m\u001b[0;34m.\u001b[0m\u001b[0mfit\u001b[0m\u001b[0;34m(\u001b[0m\u001b[0mX_train\u001b[0m\u001b[0;34m[\u001b[0m\u001b[0;36m2\u001b[0m\u001b[0;34m]\u001b[0m\u001b[0;34m,\u001b[0m \u001b[0my_train\u001b[0m\u001b[0;34m[\u001b[0m\u001b[0;36m2\u001b[0m\u001b[0;34m]\u001b[0m\u001b[0;34m.\u001b[0m\u001b[0mastype\u001b[0m\u001b[0;34m(\u001b[0m\u001b[0;34m'int'\u001b[0m\u001b[0;34m)\u001b[0m\u001b[0;34m)\u001b[0m\u001b[0;34m\u001b[0m\u001b[0;34m\u001b[0m\u001b[0m\n\u001b[1;32m      4\u001b[0m \u001b[0mmodel_dt_3\u001b[0m\u001b[0;34m.\u001b[0m\u001b[0mfit\u001b[0m\u001b[0;34m(\u001b[0m\u001b[0mX_train\u001b[0m\u001b[0;34m[\u001b[0m\u001b[0;36m3\u001b[0m\u001b[0;34m]\u001b[0m\u001b[0;34m,\u001b[0m \u001b[0my_train\u001b[0m\u001b[0;34m[\u001b[0m\u001b[0;36m3\u001b[0m\u001b[0;34m]\u001b[0m\u001b[0;34m.\u001b[0m\u001b[0mastype\u001b[0m\u001b[0;34m(\u001b[0m\u001b[0;34m'int'\u001b[0m\u001b[0;34m)\u001b[0m\u001b[0;34m)\u001b[0m\u001b[0;34m\u001b[0m\u001b[0;34m\u001b[0m\u001b[0m\n\u001b[1;32m      5\u001b[0m \u001b[0mmodel_dt_4\u001b[0m\u001b[0;34m.\u001b[0m\u001b[0mfit\u001b[0m\u001b[0;34m(\u001b[0m\u001b[0mX_train\u001b[0m\u001b[0;34m[\u001b[0m\u001b[0;36m4\u001b[0m\u001b[0;34m]\u001b[0m\u001b[0;34m,\u001b[0m \u001b[0my_train\u001b[0m\u001b[0;34m[\u001b[0m\u001b[0;36m4\u001b[0m\u001b[0;34m]\u001b[0m\u001b[0;34m.\u001b[0m\u001b[0mastype\u001b[0m\u001b[0;34m(\u001b[0m\u001b[0;34m'int'\u001b[0m\u001b[0;34m)\u001b[0m\u001b[0;34m)\u001b[0m\u001b[0;34m\u001b[0m\u001b[0;34m\u001b[0m\u001b[0m\n",
            "\u001b[0;31mNameError\u001b[0m: name 'X_train' is not defined"
          ]
        }
      ],
      "source": [
        "model_dt_0.fit(X_train[0], y_train[0].astype('int'))\n",
        "model_dt_1.fit(X_train[1], y_train[1].astype('int'))\n",
        "model_dt_2.fit(X_train[2], y_train[2].astype('int'))\n",
        "model_dt_3.fit(X_train[3], y_train[3].astype('int'))\n",
        "model_dt_4.fit(X_train[4], y_train[4].astype('int'))"
      ]
    },
    {
      "cell_type": "code",
      "execution_count": null,
      "metadata": {
        "id": "LsQSTIU3VZp4"
      },
      "outputs": [],
      "source": [
        "y_pred_0 = model_dt_0.predict(X_val[0])\n",
        "y_pred_1 = model_dt_1.predict(X_val[1])\n",
        "y_pred_2 = model_dt_2.predict(X_val[2])\n",
        "y_pred_3 = model_dt_3.predict(X_val[3])\n",
        "y_pred_4 = model_dt_4.predict(X_val[4])\n",
        "\n",
        "\n",
        "# comparing the 5 model performances on resp. validation sets\n",
        "from sklearn.metrics import precision_score, recall_score, f1_score, accuracy_score\n",
        "\n",
        "print('Comparing the 5 DT models on resp. val set')\n",
        "#model 1\n",
        "print('\\nEvaluation Metrics for Model 1:')\n",
        "print(\"Accuracy: \", accuracy_score(y_val[0].astype('int'), y_pred_0))\n",
        "print(\"Precision: \", precision_score(y_val[0].astype('int'), y_pred_0))\n",
        "print(\"Recall: \", recall_score(y_val[0].astype('int'), y_pred_0))\n",
        "print(\"f1-score: \", f1_score(y_val[0].astype('int'), y_pred_0))\n",
        "\n",
        "#model 2\n",
        "print('\\nEvaluation Metrics for Model 2:')\n",
        "print(\"Accuracy: \", accuracy_score(y_val[1].astype('int'), y_pred_1))\n",
        "print(\"Precision: \", precision_score(y_val[1].astype('int'), y_pred_1))\n",
        "print(\"Recall: \", recall_score(y_val[1].astype('int'), y_pred_1))\n",
        "print(\"f1-score: \", f1_score(y_val[1].astype('int'), y_pred_1))\n",
        "\n",
        "#model 3\n",
        "print('\\nEvaluation Metrics for Model 3:')\n",
        "print(\"Accuracy: \", accuracy_score(y_val[2].astype('int'), y_pred_2))\n",
        "print(\"Precision: \", precision_score(y_val[2].astype('int'), y_pred_2))\n",
        "print(\"Recall: \", recall_score(y_val[2].astype('int'), y_pred_2))\n",
        "print(\"f1-score: \", f1_score(y_val[2].astype('int'), y_pred_2))\n",
        "\n",
        "#model 4\n",
        "print('\\nEvaluation Metrics for Model 4:')\n",
        "print(\"Accuracy: \", accuracy_score(y_val[3].astype('int'), y_pred_3))\n",
        "print(\"Precision: \", precision_score(y_val[3].astype('int'), y_pred_3))\n",
        "print(\"Recall: \", recall_score(y_val[3].astype('int'), y_pred_3))\n",
        "print(\"f1-score: \", f1_score(y_val[3].astype('int'), y_pred_3))\n",
        "\n",
        "#model 5\n",
        "print('\\nEvaluation Metrics for Model 5:')\n",
        "print(\"Accuracy: \", accuracy_score(y_val[4].astype('int'), y_pred_4))\n",
        "print(\"Precision: \", precision_score(y_val[4].astype('int'), y_pred_4))\n",
        "print(\"Recall: \", recall_score(y_val[4].astype('int'), y_pred_4))\n",
        "print(\"f1-score: \", f1_score(y_val[4].astype('int'), y_pred_4))"
      ]
    },
    {
      "cell_type": "code",
      "execution_count": null,
      "metadata": {
        "id": "2Bf9HEfnh_kd"
      },
      "outputs": [],
      "source": [
        "#comparing train vs test error"
      ]
    },
    {
      "cell_type": "code",
      "execution_count": null,
      "metadata": {
        "id": "4ncFXzxoh_sz"
      },
      "outputs": [],
      "source": [
        "y_pred_0 = model_dt_0.predict(X)\n",
        "y_pred_1 = model_dt_1.predict(X)\n",
        "y_pred_2 = model_dt_2.predict(X)\n",
        "y_pred_3 = model_dt_3.predict(X)\n",
        "y_pred_4 = model_dt_4.predict(X)\n",
        "\n",
        "\n",
        "# comparing the 5 model performances on resp. validation sets\n",
        "from sklearn.metrics import precision_score, recall_score, f1_score, accuracy_score\n",
        "\n",
        "print('Comparing the 5 DT models on train set')\n",
        "#model 1\n",
        "print('\\nEvaluation Metrics for Model 1:')\n",
        "print(\"Accuracy: \", accuracy_score(y.astype('int'), y_pred_0))\n",
        "print(\"Precision: \", precision_score(y.astype('int'), y_pred_0))\n",
        "print(\"Recall: \", recall_score(y.astype('int'), y_pred_0))\n",
        "print(\"f1-score: \", f1_score(y.astype('int'), y_pred_0))\n",
        "\n",
        "#model 2\n",
        "print('\\nEvaluation Metrics for Model 2:')\n",
        "print(\"Accuracy: \", accuracy_score(y.astype('int'), y_pred_1))\n",
        "print(\"Precision: \", precision_score(y.astype('int'), y_pred_1))\n",
        "print(\"Recall: \", recall_score(y.astype('int'), y_pred_1))\n",
        "print(\"f1-score: \", f1_score(y.astype('int'), y_pred_1))\n",
        "\n",
        "#model 3\n",
        "print('\\nEvaluation Metrics for Model 3:')\n",
        "print(\"Accuracy: \", accuracy_score(y.astype('int'), y_pred_2))\n",
        "print(\"Precision: \", precision_score(y.astype('int'), y_pred_2))\n",
        "print(\"Recall: \", recall_score(y.astype('int'), y_pred_2))\n",
        "print(\"f1-score: \", f1_score(y.astype('int'), y_pred_2))\n",
        "\n",
        "#model 4\n",
        "print('\\nEvaluation Metrics for Model 4:')\n",
        "print(\"Accuracy: \", accuracy_score(y.astype('int'), y_pred_3))\n",
        "print(\"Precision: \", precision_score(y.astype('int'), y_pred_3))\n",
        "print(\"Recall: \", recall_score(y.astype('int'), y_pred_3))\n",
        "print(\"f1-score: \", f1_score(y.astype('int'), y_pred_3))\n",
        "\n",
        "#model 5\n",
        "print('\\nEvaluation Metrics for Model 5:')\n",
        "print(\"Accuracy: \", accuracy_score(y.astype('int'), y_pred_4))\n",
        "print(\"Precision: \", precision_score(y.astype('int'), y_pred_4))\n",
        "print(\"Recall: \", recall_score(y.astype('int'), y_pred_4))\n",
        "print(\"f1-score: \", f1_score(y.astype('int'), y_pred_4))"
      ]
    },
    {
      "cell_type": "code",
      "execution_count": null,
      "metadata": {
        "id": "VaM8eSfogZnM"
      },
      "outputs": [],
      "source": [
        "y_pred_0 = model_dt_0.predict(X_test)\n",
        "y_pred_1 = model_dt_1.predict(X_test)\n",
        "y_pred_2 = model_dt_2.predict(X_test)\n",
        "y_pred_3 = model_dt_3.predict(X_test)\n",
        "y_pred_4 = model_dt_4.predict(X_test)\n",
        "\n",
        "\n",
        "# comparing the 5 model performances on resp. validation sets\n",
        "from sklearn.metrics import precision_score, recall_score, f1_score, accuracy_score\n",
        "\n",
        "print('Comparing the 5 DT models on test set')\n",
        "#model 1\n",
        "print('\\nEvaluation Metrics for Model 1:')\n",
        "print(\"Accuracy: \", accuracy_score(y_test.astype('int'), y_pred_0))\n",
        "print(\"Precision: \", precision_score(y_test.astype('int'), y_pred_0))\n",
        "print(\"Recall: \", recall_score(y_test.astype('int'), y_pred_0))\n",
        "print(\"f1-score: \", f1_score(y_test.astype('int'), y_pred_0))\n",
        "\n",
        "#model 2\n",
        "print('\\nEvaluation Metrics for Model 2:')\n",
        "print(\"Accuracy: \", accuracy_score(y_test.astype('int'), y_pred_1))\n",
        "print(\"Precision: \", precision_score(y_test.astype('int'), y_pred_1))\n",
        "print(\"Recall: \", recall_score(y_test.astype('int'), y_pred_1))\n",
        "print(\"f1-score: \", f1_score(y_test.astype('int'), y_pred_1))\n",
        "\n",
        "#model 3\n",
        "print('\\nEvaluation Metrics for Model 3:')\n",
        "print(\"Accuracy: \", accuracy_score(y_test.astype('int'), y_pred_2))\n",
        "print(\"Precision: \", precision_score(y_test.astype('int'), y_pred_2))\n",
        "print(\"Recall: \", recall_score(y_test.astype('int'), y_pred_2))\n",
        "print(\"f1-score: \", f1_score(y_test.astype('int'), y_pred_2))\n",
        "\n",
        "#model 4\n",
        "print('\\nEvaluation Metrics for Model 4:')\n",
        "print(\"Accuracy: \", accuracy_score(y_test.astype('int'), y_pred_3))\n",
        "print(\"Precision: \", precision_score(y_test.astype('int'), y_pred_3))\n",
        "print(\"Recall: \", recall_score(y_test.astype('int'), y_pred_3))\n",
        "print(\"f1-score: \", f1_score(y_test.astype('int'), y_pred_3))\n",
        "\n",
        "#model 5\n",
        "print('\\nEvaluation Metrics for Model 5:')\n",
        "print(\"Accuracy: \", accuracy_score(y_test.astype('int'), y_pred_4))\n",
        "print(\"Precision: \", precision_score(y_test.astype('int'), y_pred_4))\n",
        "print(\"Recall: \", recall_score(y_test.astype('int'), y_pred_4))\n",
        "print(\"f1-score: \", f1_score(y_test.astype('int'), y_pred_4))"
      ]
    },
    {
      "cell_type": "code",
      "execution_count": null,
      "metadata": {
        "id": "f-gvCaGXbef2"
      },
      "outputs": [],
      "source": [
        "#model 3: MLP"
      ]
    },
    {
      "cell_type": "code",
      "execution_count": null,
      "metadata": {
        "id": "Gg9UM_bsbeqF"
      },
      "outputs": [],
      "source": [
        "from sklearn.neural_network import MLPClassifier"
      ]
    },
    {
      "cell_type": "code",
      "execution_count": null,
      "metadata": {
        "id": "8rc6ZWrzbewk"
      },
      "outputs": [],
      "source": [
        "model_mlp_0 = MLPClassifier(random_state=0)\n",
        "model_mlp_1 = MLPClassifier(random_state=0)\n",
        "model_mlp_2 = MLPClassifier(random_state=0)\n",
        "model_mlp_3 = MLPClassifier(random_state=0)\n",
        "model_mlp_4 = MLPClassifier(random_state=0)"
      ]
    },
    {
      "cell_type": "code",
      "execution_count": null,
      "metadata": {
        "id": "TP4wa-y1be1p"
      },
      "outputs": [],
      "source": [
        "model_mlp_0.fit(X_train[0], y_train[0].astype('int'))\n",
        "model_mlp_1.fit(X_train[1], y_train[1].astype('int'))\n",
        "model_mlp_2.fit(X_train[2], y_train[2].astype('int'))\n",
        "model_mlp_3.fit(X_train[3], y_train[3].astype('int'))\n",
        "model_mlp_4.fit(X_train[4], y_train[4].astype('int'))"
      ]
    },
    {
      "cell_type": "code",
      "execution_count": null,
      "metadata": {
        "id": "mYbB7Z_vcCBE"
      },
      "outputs": [],
      "source": [
        "y_pred_0 = model_mlp_0.predict(X_val[0])\n",
        "y_pred_1 = model_mlp_1.predict(X_val[1])\n",
        "y_pred_2 = model_mlp_2.predict(X_val[2])\n",
        "y_pred_3 = model_mlp_3.predict(X_val[3])\n",
        "y_pred_4 = model_mlp_4.predict(X_val[4])\n",
        "\n",
        "\n",
        "# comparing the 5 model performances on resp. validation sets\n",
        "from sklearn.metrics import precision_score, recall_score, f1_score, accuracy_score\n",
        "\n",
        "print('Comparing the 5 MLP models on resp. val set')\n",
        "#model 1\n",
        "print('\\nEvaluation Metrics for Model 1:')\n",
        "print(\"Accuracy: \", accuracy_score(y_val[0].astype('int'), y_pred_0))\n",
        "print(\"Precision: \", precision_score(y_val[0].astype('int'), y_pred_0))\n",
        "print(\"Recall: \", recall_score(y_val[0].astype('int'), y_pred_0))\n",
        "print(\"f1-score: \", f1_score(y_val[0].astype('int'), y_pred_0))\n",
        "\n",
        "#model 2\n",
        "print('\\nEvaluation Metrics for Model 2:')\n",
        "print(\"Accuracy: \", accuracy_score(y_val[1].astype('int'), y_pred_1))\n",
        "print(\"Precision: \", precision_score(y_val[1].astype('int'), y_pred_1))\n",
        "print(\"Recall: \", recall_score(y_val[1].astype('int'), y_pred_1))\n",
        "print(\"f1-score: \", f1_score(y_val[1].astype('int'), y_pred_1))\n",
        "\n",
        "#model 3\n",
        "print('\\nEvaluation Metrics for Model 3:')\n",
        "print(\"Accuracy: \", accuracy_score(y_val[2].astype('int'), y_pred_2))\n",
        "print(\"Precision: \", precision_score(y_val[2].astype('int'), y_pred_2))\n",
        "print(\"Recall: \", recall_score(y_val[2].astype('int'), y_pred_2))\n",
        "print(\"f1-score: \", f1_score(y_val[2].astype('int'), y_pred_2))\n",
        "\n",
        "#model 4\n",
        "print('\\nEvaluation Metrics for Model 4:')\n",
        "print(\"Accuracy: \", accuracy_score(y_val[3].astype('int'), y_pred_3))\n",
        "print(\"Precision: \", precision_score(y_val[3].astype('int'), y_pred_3))\n",
        "print(\"Recall: \", recall_score(y_val[3].astype('int'), y_pred_3))\n",
        "print(\"f1-score: \", f1_score(y_val[3].astype('int'), y_pred_3))\n",
        "\n",
        "#model 5\n",
        "print('\\nEvaluation Metrics for Model 5:')\n",
        "print(\"Accuracy: \", accuracy_score(y_val[4].astype('int'), y_pred_4))\n",
        "print(\"Precision: \", precision_score(y_val[4].astype('int'), y_pred_4))\n",
        "print(\"Recall: \", recall_score(y_val[4].astype('int'), y_pred_4))\n",
        "print(\"f1-score: \", f1_score(y_val[4].astype('int'), y_pred_4))"
      ]
    },
    {
      "cell_type": "code",
      "execution_count": null,
      "metadata": {
        "id": "63QGeTQIiXX-"
      },
      "outputs": [],
      "source": [
        "#comparing train vs test error"
      ]
    },
    {
      "cell_type": "code",
      "execution_count": null,
      "metadata": {
        "id": "s2GAfBz3iXfO"
      },
      "outputs": [],
      "source": [
        "y_pred_0 = model_mlp_0.predict(X)\n",
        "y_pred_1 = model_mlp_1.predict(X)\n",
        "y_pred_2 = model_mlp_2.predict(X)\n",
        "y_pred_3 = model_mlp_3.predict(X)\n",
        "y_pred_4 = model_mlp_4.predict(X)\n",
        "\n",
        "\n",
        "# comparing the 5 model performances on resp. validation sets\n",
        "from sklearn.metrics import precision_score, recall_score, f1_score, accuracy_score\n",
        "\n",
        "print('Comparing the 5 MLP models on train set')\n",
        "#model 1\n",
        "print('\\nEvaluation Metrics for Model 1:')\n",
        "print(\"Accuracy: \", accuracy_score(y.astype('int'), y_pred_0))\n",
        "print(\"Precision: \", precision_score(y.astype('int'), y_pred_0))\n",
        "print(\"Recall: \", recall_score(y.astype('int'), y_pred_0))\n",
        "print(\"f1-score: \", f1_score(y.astype('int'), y_pred_0))\n",
        "\n",
        "#model 2\n",
        "print('\\nEvaluation Metrics for Model 2:')\n",
        "print(\"Accuracy: \", accuracy_score(y.astype('int'), y_pred_1))\n",
        "print(\"Precision: \", precision_score(y.astype('int'), y_pred_1))\n",
        "print(\"Recall: \", recall_score(y.astype('int'), y_pred_1))\n",
        "print(\"f1-score: \", f1_score(y.astype('int'), y_pred_1))\n",
        "\n",
        "#model 3\n",
        "print('\\nEvaluation Metrics for Model 3:')\n",
        "print(\"Accuracy: \", accuracy_score(y.astype('int'), y_pred_2))\n",
        "print(\"Precision: \", precision_score(y.astype('int'), y_pred_2))\n",
        "print(\"Recall: \", recall_score(y.astype('int'), y_pred_2))\n",
        "print(\"f1-score: \", f1_score(y.astype('int'), y_pred_2))\n",
        "\n",
        "#model 4\n",
        "print('\\nEvaluation Metrics for Model 4:')\n",
        "print(\"Accuracy: \", accuracy_score(y.astype('int'), y_pred_3))\n",
        "print(\"Precision: \", precision_score(y.astype('int'), y_pred_3))\n",
        "print(\"Recall: \", recall_score(y.astype('int'), y_pred_3))\n",
        "print(\"f1-score: \", f1_score(y.astype('int'), y_pred_3))\n",
        "\n",
        "#model 5\n",
        "print('\\nEvaluation Metrics for Model 5:')\n",
        "print(\"Accuracy: \", accuracy_score(y.astype('int'), y_pred_4))\n",
        "print(\"Precision: \", precision_score(y.astype('int'), y_pred_4))\n",
        "print(\"Recall: \", recall_score(y.astype('int'), y_pred_4))\n",
        "print(\"f1-score: \", f1_score(y.astype('int'), y_pred_4))"
      ]
    },
    {
      "cell_type": "code",
      "execution_count": null,
      "metadata": {
        "id": "R6Q0V0Twg1QQ"
      },
      "outputs": [],
      "source": [
        "y_pred_0 = model_mlp_0.predict(X_test)\n",
        "y_pred_1 = model_mlp_1.predict(X_test)\n",
        "y_pred_2 = model_mlp_2.predict(X_test)\n",
        "y_pred_3 = model_mlp_3.predict(X_test)\n",
        "y_pred_4 = model_mlp_4.predict(X_test)\n",
        "\n",
        "\n",
        "# comparing the 5 model performances on resp. validation sets\n",
        "from sklearn.metrics import precision_score, recall_score, f1_score, accuracy_score\n",
        "\n",
        "print('Comparing the 5 MLP models on test set')\n",
        "#model 1\n",
        "print('\\nEvaluation Metrics for Model 1:')\n",
        "print(\"Accuracy: \", accuracy_score(y_test.astype('int'), y_pred_0))\n",
        "print(\"Precision: \", precision_score(y_test.astype('int'), y_pred_0))\n",
        "print(\"Recall: \", recall_score(y_test.astype('int'), y_pred_0))\n",
        "print(\"f1-score: \", f1_score(y_test.astype('int'), y_pred_0))\n",
        "\n",
        "#model 2\n",
        "print('\\nEvaluation Metrics for Model 2:')\n",
        "print(\"Accuracy: \", accuracy_score(y_test.astype('int'), y_pred_1))\n",
        "print(\"Precision: \", precision_score(y_test.astype('int'), y_pred_1))\n",
        "print(\"Recall: \", recall_score(y_test.astype('int'), y_pred_1))\n",
        "print(\"f1-score: \", f1_score(y_test.astype('int'), y_pred_1))\n",
        "\n",
        "#model 3\n",
        "print('\\nEvaluation Metrics for Model 3:')\n",
        "print(\"Accuracy: \", accuracy_score(y_test.astype('int'), y_pred_2))\n",
        "print(\"Precision: \", precision_score(y_test.astype('int'), y_pred_2))\n",
        "print(\"Recall: \", recall_score(y_test.astype('int'), y_pred_2))\n",
        "print(\"f1-score: \", f1_score(y_test.astype('int'), y_pred_2))\n",
        "\n",
        "#model 4\n",
        "print('\\nEvaluation Metrics for Model 4:')\n",
        "print(\"Accuracy: \", accuracy_score(y_test.astype('int'), y_pred_3))\n",
        "print(\"Precision: \", precision_score(y_test.astype('int'), y_pred_3))\n",
        "print(\"Recall: \", recall_score(y_test.astype('int'), y_pred_3))\n",
        "print(\"f1-score: \", f1_score(y_test.astype('int'), y_pred_3))\n",
        "\n",
        "#model 5\n",
        "print('\\nEvaluation Metrics for Model 5:')\n",
        "print(\"Accuracy: \", accuracy_score(y_test.astype('int'), y_pred_4))\n",
        "print(\"Precision: \", precision_score(y_test.astype('int'), y_pred_4))\n",
        "print(\"Recall: \", recall_score(y_test.astype('int'), y_pred_4))\n",
        "print(\"f1-score: \", f1_score(y_test.astype('int'), y_pred_4))"
      ]
    },
    {
      "cell_type": "code",
      "execution_count": null,
      "metadata": {
        "colab": {
          "background_save": true
        },
        "id": "pROr96zwibSy"
      },
      "outputs": [],
      "source": [
        ""
      ]
    }
  ],
  "metadata": {
    "colab": {
      "collapsed_sections": [],
      "name": "ML_Project_models_check_overfitting/undefitting_2019274",
      "provenance": []
    },
    "kernelspec": {
      "display_name": "Python 3",
      "name": "python3"
    },
    "language_info": {
      "name": "python"
    }
  },
  "nbformat": 4,
  "nbformat_minor": 0
}