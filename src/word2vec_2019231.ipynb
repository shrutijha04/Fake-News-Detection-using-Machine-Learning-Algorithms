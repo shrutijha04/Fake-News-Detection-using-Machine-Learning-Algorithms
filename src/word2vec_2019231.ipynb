{
  "cells": [
    {
      "cell_type": "markdown",
      "metadata": {
        "id": "JQyf_IT1bKs8"
      },
      "source": [
        "Loading the dataset\n"
      ]
    },
    {
      "cell_type": "code",
      "execution_count": null,
      "metadata": {
        "id": "5WOFM2fhuxhz",
        "colab": {
          "base_uri": "https://localhost:8080/"
        },
        "outputId": "6b18aff3-4d72-403d-f18c-efbbd5349866"
      },
      "outputs": [
        {
          "output_type": "stream",
          "name": "stdout",
          "text": [
            "Requirement already satisfied: gdown in /usr/local/lib/python3.7/dist-packages (4.4.0)\n",
            "Requirement already satisfied: tqdm in /usr/local/lib/python3.7/dist-packages (from gdown) (4.64.0)\n",
            "Requirement already satisfied: six in /usr/local/lib/python3.7/dist-packages (from gdown) (1.15.0)\n",
            "Requirement already satisfied: requests[socks] in /usr/local/lib/python3.7/dist-packages (from gdown) (2.23.0)\n",
            "Requirement already satisfied: beautifulsoup4 in /usr/local/lib/python3.7/dist-packages (from gdown) (4.6.3)\n",
            "Requirement already satisfied: filelock in /usr/local/lib/python3.7/dist-packages (from gdown) (3.6.0)\n",
            "Requirement already satisfied: urllib3!=1.25.0,!=1.25.1,<1.26,>=1.21.1 in /usr/local/lib/python3.7/dist-packages (from requests[socks]->gdown) (1.24.3)\n",
            "Requirement already satisfied: chardet<4,>=3.0.2 in /usr/local/lib/python3.7/dist-packages (from requests[socks]->gdown) (3.0.4)\n",
            "Requirement already satisfied: certifi>=2017.4.17 in /usr/local/lib/python3.7/dist-packages (from requests[socks]->gdown) (2021.10.8)\n",
            "Requirement already satisfied: idna<3,>=2.5 in /usr/local/lib/python3.7/dist-packages (from requests[socks]->gdown) (2.10)\n",
            "Requirement already satisfied: PySocks!=1.5.7,>=1.5.6 in /usr/local/lib/python3.7/dist-packages (from requests[socks]->gdown) (1.7.1)\n"
          ]
        }
      ],
      "source": [
        "! pip install --upgrade --no-cache-dir gdown"
      ]
    },
    {
      "cell_type": "code",
      "execution_count": null,
      "metadata": {
        "colab": {
          "base_uri": "https://localhost:8080/"
        },
        "id": "mkyWGh1AbNrt",
        "outputId": "2be51852-135a-4780-fde2-a62b204b5edc"
      },
      "outputs": [
        {
          "output_type": "stream",
          "name": "stdout",
          "text": [
            "/usr/local/lib/python3.7/dist-packages/gdown/cli.py:131: FutureWarning: Option `--id` was deprecated in version 4.3.1 and will be removed in 5.0. You don't need to pass it anymore to use a file ID.\n",
            "  category=FutureWarning,\n",
            "Downloading...\n",
            "From: https://drive.google.com/uc?id=1E8OTtNK_UNSAdmkg3OuB0k2FsKKF9QpY\n",
            "To: /content/train.csv\n",
            "100% 98.6M/98.6M [00:00<00:00, 267MB/s]\n",
            "/usr/local/lib/python3.7/dist-packages/gdown/cli.py:131: FutureWarning: Option `--id` was deprecated in version 4.3.1 and will be removed in 5.0. You don't need to pass it anymore to use a file ID.\n",
            "  category=FutureWarning,\n",
            "Downloading...\n",
            "From: https://drive.google.com/uc?id=1-pm6_kvT9CBrYER40uIkRiG0KMlHnH7L\n",
            "To: /content/test.csv\n",
            "100% 25.1M/25.1M [00:00<00:00, 79.8MB/s]\n",
            "/usr/local/lib/python3.7/dist-packages/gdown/cli.py:131: FutureWarning: Option `--id` was deprecated in version 4.3.1 and will be removed in 5.0. You don't need to pass it anymore to use a file ID.\n",
            "  category=FutureWarning,\n",
            "Downloading...\n",
            "From: https://drive.google.com/uc?id=1oiVQignVg1wvE1LXKFvOLHPl0P8GNSDp\n",
            "To: /content/submit.csv\n",
            "100% 41.6k/41.6k [00:00<00:00, 45.4MB/s]\n",
            "/usr/local/lib/python3.7/dist-packages/gdown/cli.py:131: FutureWarning: Option `--id` was deprecated in version 4.3.1 and will be removed in 5.0. You don't need to pass it anymore to use a file ID.\n",
            "  category=FutureWarning,\n",
            "Downloading...\n",
            "From: https://drive.google.com/uc?id=1pGkEyDelD7Lp7yhFML9Dt1oo-91Mqf9H\n",
            "To: /content/pre_train.csv\n",
            "100% 280M/280M [00:01<00:00, 163MB/s]\n",
            "/usr/local/lib/python3.7/dist-packages/gdown/cli.py:131: FutureWarning: Option `--id` was deprecated in version 4.3.1 and will be removed in 5.0. You don't need to pass it anymore to use a file ID.\n",
            "  category=FutureWarning,\n",
            "Downloading...\n",
            "From: https://drive.google.com/uc?id=1DYVzeYjjTTeHtazHfKD9FTx57h-77bkC\n",
            "To: /content/pre_test.csv\n",
            "100% 70.2M/70.2M [00:00<00:00, 172MB/s]\n"
          ]
        }
      ],
      "source": [
        "! gdown --id 1E8OTtNK_UNSAdmkg3OuB0k2FsKKF9QpY\n",
        "! gdown --id 1-pm6_kvT9CBrYER40uIkRiG0KMlHnH7L\n",
        "! gdown --id 1oiVQignVg1wvE1LXKFvOLHPl0P8GNSDp\n",
        "\n",
        "! gdown --id 1pGkEyDelD7Lp7yhFML9Dt1oo-91Mqf9H\n",
        "! gdown --id 1DYVzeYjjTTeHtazHfKD9FTx57h-77bkC"
      ]
    },
    {
      "cell_type": "code",
      "execution_count": null,
      "metadata": {
        "id": "ELXk8ii6mljH"
      },
      "outputs": [],
      "source": [
        ""
      ]
    },
    {
      "cell_type": "code",
      "execution_count": null,
      "metadata": {
        "id": "L3wTlDK2eKPc"
      },
      "outputs": [],
      "source": [
        "import numpy as np\n",
        "import pandas as pd"
      ]
    },
    {
      "cell_type": "code",
      "execution_count": null,
      "metadata": {
        "id": "WvMcjj16ePcy"
      },
      "outputs": [],
      "source": [
        "train_data = pd.read_csv(\"train.csv\")\n",
        "test_data = pd.read_csv(\"test.csv\")\n",
        "submit_data = pd.read_csv(\"submit.csv\")\n",
        "\n",
        "train_data.dropna(inplace=True)\n",
        "train_data.drop(train_data.loc[train_data['text']==\" \"].index, inplace=True)\n",
        "train_data.drop(train_data.loc[train_data['text']==\"  \"].index, inplace=True)\n",
        "train_data.drop(train_data.loc[train_data['text']==\"\\n\"].index, inplace=True)\n",
        "\n",
        "# Resetting index\n",
        "train_data.reset_index(inplace=True)\n",
        "train_data= train_data.apply(lambda x: x.astype(str).str.lower())\n",
        "train_data = train_data.drop(columns=[\"id\", \"index\"])\n",
        "\n",
        "test_data = test_data.join(submit_data[\"label\"])\n",
        "# transformed_df = pd.read_csv(\"pre_train.csv\")\n",
        "# transformed_df_test = pd.read_csv(\"pre_test.csv\")\n",
        "\n",
        "# X_test = transformed_df_test.values\n",
        "# y_test = test_data[\"label\"].values "
      ]
    },
    {
      "cell_type": "code",
      "execution_count": null,
      "metadata": {
        "colab": {
          "base_uri": "https://localhost:8080/"
        },
        "id": "hqQgWN0p7zbZ",
        "outputId": "9e322501-c61c-4d04-99a5-1459eb0d0aeb"
      },
      "outputs": [
        {
          "output_type": "execute_result",
          "data": {
            "text/plain": [
              "(18211, 4)"
            ]
          },
          "metadata": {},
          "execution_count": 5
        }
      ],
      "source": [
        "train_data.shape"
      ]
    },
    {
      "cell_type": "code",
      "execution_count": null,
      "metadata": {
        "colab": {
          "base_uri": "https://localhost:8080/"
        },
        "id": "9jSc0uI3eWMv",
        "outputId": "f02d82a8-e481-437b-a21c-3f9a1982c7f6"
      },
      "outputs": [
        {
          "output_type": "execute_result",
          "data": {
            "text/plain": [
              "title     0\n",
              "author    0\n",
              "text      0\n",
              "label     0\n",
              "dtype: int64"
            ]
          },
          "metadata": {},
          "execution_count": 6
        }
      ],
      "source": [
        "# Checking null values\n",
        "train_data.isnull().sum()"
      ]
    },
    {
      "cell_type": "code",
      "execution_count": null,
      "metadata": {
        "id": "BRmuRMkqeeKo"
      },
      "outputs": [],
      "source": [
        "# Removing null values\n",
        "train_data.dropna(inplace=True)\n",
        "\n",
        "# Resetting index\n",
        "train_data.reset_index(inplace=True)"
      ]
    },
    {
      "cell_type": "code",
      "execution_count": null,
      "metadata": {
        "colab": {
          "base_uri": "https://localhost:8080/"
        },
        "id": "DUF7a6a173Ou",
        "outputId": "0da38707-6e7f-4223-c49e-7c6852205b62"
      },
      "outputs": [
        {
          "output_type": "execute_result",
          "data": {
            "text/plain": [
              "(18211, 5)"
            ]
          },
          "metadata": {},
          "execution_count": 8
        }
      ],
      "source": [
        "train_data.shape"
      ]
    },
    {
      "cell_type": "code",
      "execution_count": null,
      "metadata": {
        "colab": {
          "base_uri": "https://localhost:8080/",
          "height": 206
        },
        "id": "3vnDrY48fa9n",
        "outputId": "b252455b-2175-4c17-b96e-603bf26b0cf4"
      },
      "outputs": [
        {
          "output_type": "execute_result",
          "data": {
            "text/plain": [
              "   index                                              title  \\\n",
              "0      0  house dem aide: we didn’t even see comey’s let...   \n",
              "1      1  flynn: hillary clinton, big woman on campus - ...   \n",
              "2      2                  why the truth might get you fired   \n",
              "3      3  15 civilians killed in single us airstrike hav...   \n",
              "4      4  iranian woman jailed for fictional unpublished...   \n",
              "\n",
              "               author                                               text label  \n",
              "0       darrell lucus  house dem aide: we didn’t even see comey’s let...     1  \n",
              "1     daniel j. flynn  ever get the feeling your life circles the rou...     0  \n",
              "2  consortiumnews.com  why the truth might get you fired october 29, ...     1  \n",
              "3     jessica purkiss  videos 15 civilians killed in single us airstr...     1  \n",
              "4      howard portnoy  print \\nan iranian woman has been sentenced to...     1  "
            ],
            "text/html": [
              "\n",
              "  <div id=\"df-a95826c8-9c0c-488b-bce2-73986b510a34\">\n",
              "    <div class=\"colab-df-container\">\n",
              "      <div>\n",
              "<style scoped>\n",
              "    .dataframe tbody tr th:only-of-type {\n",
              "        vertical-align: middle;\n",
              "    }\n",
              "\n",
              "    .dataframe tbody tr th {\n",
              "        vertical-align: top;\n",
              "    }\n",
              "\n",
              "    .dataframe thead th {\n",
              "        text-align: right;\n",
              "    }\n",
              "</style>\n",
              "<table border=\"1\" class=\"dataframe\">\n",
              "  <thead>\n",
              "    <tr style=\"text-align: right;\">\n",
              "      <th></th>\n",
              "      <th>index</th>\n",
              "      <th>title</th>\n",
              "      <th>author</th>\n",
              "      <th>text</th>\n",
              "      <th>label</th>\n",
              "    </tr>\n",
              "  </thead>\n",
              "  <tbody>\n",
              "    <tr>\n",
              "      <th>0</th>\n",
              "      <td>0</td>\n",
              "      <td>house dem aide: we didn’t even see comey’s let...</td>\n",
              "      <td>darrell lucus</td>\n",
              "      <td>house dem aide: we didn’t even see comey’s let...</td>\n",
              "      <td>1</td>\n",
              "    </tr>\n",
              "    <tr>\n",
              "      <th>1</th>\n",
              "      <td>1</td>\n",
              "      <td>flynn: hillary clinton, big woman on campus - ...</td>\n",
              "      <td>daniel j. flynn</td>\n",
              "      <td>ever get the feeling your life circles the rou...</td>\n",
              "      <td>0</td>\n",
              "    </tr>\n",
              "    <tr>\n",
              "      <th>2</th>\n",
              "      <td>2</td>\n",
              "      <td>why the truth might get you fired</td>\n",
              "      <td>consortiumnews.com</td>\n",
              "      <td>why the truth might get you fired october 29, ...</td>\n",
              "      <td>1</td>\n",
              "    </tr>\n",
              "    <tr>\n",
              "      <th>3</th>\n",
              "      <td>3</td>\n",
              "      <td>15 civilians killed in single us airstrike hav...</td>\n",
              "      <td>jessica purkiss</td>\n",
              "      <td>videos 15 civilians killed in single us airstr...</td>\n",
              "      <td>1</td>\n",
              "    </tr>\n",
              "    <tr>\n",
              "      <th>4</th>\n",
              "      <td>4</td>\n",
              "      <td>iranian woman jailed for fictional unpublished...</td>\n",
              "      <td>howard portnoy</td>\n",
              "      <td>print \\nan iranian woman has been sentenced to...</td>\n",
              "      <td>1</td>\n",
              "    </tr>\n",
              "  </tbody>\n",
              "</table>\n",
              "</div>\n",
              "      <button class=\"colab-df-convert\" onclick=\"convertToInteractive('df-a95826c8-9c0c-488b-bce2-73986b510a34')\"\n",
              "              title=\"Convert this dataframe to an interactive table.\"\n",
              "              style=\"display:none;\">\n",
              "        \n",
              "  <svg xmlns=\"http://www.w3.org/2000/svg\" height=\"24px\"viewBox=\"0 0 24 24\"\n",
              "       width=\"24px\">\n",
              "    <path d=\"M0 0h24v24H0V0z\" fill=\"none\"/>\n",
              "    <path d=\"M18.56 5.44l.94 2.06.94-2.06 2.06-.94-2.06-.94-.94-2.06-.94 2.06-2.06.94zm-11 1L8.5 8.5l.94-2.06 2.06-.94-2.06-.94L8.5 2.5l-.94 2.06-2.06.94zm10 10l.94 2.06.94-2.06 2.06-.94-2.06-.94-.94-2.06-.94 2.06-2.06.94z\"/><path d=\"M17.41 7.96l-1.37-1.37c-.4-.4-.92-.59-1.43-.59-.52 0-1.04.2-1.43.59L10.3 9.45l-7.72 7.72c-.78.78-.78 2.05 0 2.83L4 21.41c.39.39.9.59 1.41.59.51 0 1.02-.2 1.41-.59l7.78-7.78 2.81-2.81c.8-.78.8-2.07 0-2.86zM5.41 20L4 18.59l7.72-7.72 1.47 1.35L5.41 20z\"/>\n",
              "  </svg>\n",
              "      </button>\n",
              "      \n",
              "  <style>\n",
              "    .colab-df-container {\n",
              "      display:flex;\n",
              "      flex-wrap:wrap;\n",
              "      gap: 12px;\n",
              "    }\n",
              "\n",
              "    .colab-df-convert {\n",
              "      background-color: #E8F0FE;\n",
              "      border: none;\n",
              "      border-radius: 50%;\n",
              "      cursor: pointer;\n",
              "      display: none;\n",
              "      fill: #1967D2;\n",
              "      height: 32px;\n",
              "      padding: 0 0 0 0;\n",
              "      width: 32px;\n",
              "    }\n",
              "\n",
              "    .colab-df-convert:hover {\n",
              "      background-color: #E2EBFA;\n",
              "      box-shadow: 0px 1px 2px rgba(60, 64, 67, 0.3), 0px 1px 3px 1px rgba(60, 64, 67, 0.15);\n",
              "      fill: #174EA6;\n",
              "    }\n",
              "\n",
              "    [theme=dark] .colab-df-convert {\n",
              "      background-color: #3B4455;\n",
              "      fill: #D2E3FC;\n",
              "    }\n",
              "\n",
              "    [theme=dark] .colab-df-convert:hover {\n",
              "      background-color: #434B5C;\n",
              "      box-shadow: 0px 1px 3px 1px rgba(0, 0, 0, 0.15);\n",
              "      filter: drop-shadow(0px 1px 2px rgba(0, 0, 0, 0.3));\n",
              "      fill: #FFFFFF;\n",
              "    }\n",
              "  </style>\n",
              "\n",
              "      <script>\n",
              "        const buttonEl =\n",
              "          document.querySelector('#df-a95826c8-9c0c-488b-bce2-73986b510a34 button.colab-df-convert');\n",
              "        buttonEl.style.display =\n",
              "          google.colab.kernel.accessAllowed ? 'block' : 'none';\n",
              "\n",
              "        async function convertToInteractive(key) {\n",
              "          const element = document.querySelector('#df-a95826c8-9c0c-488b-bce2-73986b510a34');\n",
              "          const dataTable =\n",
              "            await google.colab.kernel.invokeFunction('convertToInteractive',\n",
              "                                                     [key], {});\n",
              "          if (!dataTable) return;\n",
              "\n",
              "          const docLinkHtml = 'Like what you see? Visit the ' +\n",
              "            '<a target=\"_blank\" href=https://colab.research.google.com/notebooks/data_table.ipynb>data table notebook</a>'\n",
              "            + ' to learn more about interactive tables.';\n",
              "          element.innerHTML = '';\n",
              "          dataTable['output_type'] = 'display_data';\n",
              "          await google.colab.output.renderOutput(dataTable, element);\n",
              "          const docLink = document.createElement('div');\n",
              "          docLink.innerHTML = docLinkHtml;\n",
              "          element.appendChild(docLink);\n",
              "        }\n",
              "      </script>\n",
              "    </div>\n",
              "  </div>\n",
              "  "
            ]
          },
          "metadata": {},
          "execution_count": 9
        }
      ],
      "source": [
        "train_data.head()"
      ]
    },
    {
      "cell_type": "code",
      "execution_count": null,
      "metadata": {
        "id": "uORN7GD_fNME"
      },
      "outputs": [],
      "source": [
        "train_data= train_data.apply(lambda x: x.astype(str).str.lower())"
      ]
    },
    {
      "cell_type": "code",
      "execution_count": null,
      "metadata": {
        "id": "rLhoJaYHgAwb"
      },
      "outputs": [],
      "source": [
        "# Removing null values\n",
        "test_data.dropna(inplace=True)\n",
        "test_data.drop(test_data.loc[test_data['text']==\" \"].index, inplace=True)\n",
        "test_data.drop(test_data.loc[test_data['text']==\"  \"].index, inplace=True)\n",
        "test_data.drop(test_data.loc[test_data['text']==\"\\n\"].index, inplace=True)\n",
        "\n",
        "# Resetting index\n",
        "test_data.reset_index(inplace=True)\n",
        "test_data= test_data.apply(lambda x: x.astype(str).str.lower())\n",
        "y_test = test_data[\"label\"].values\n"
      ]
    },
    {
      "cell_type": "code",
      "execution_count": null,
      "metadata": {
        "colab": {
          "base_uri": "https://localhost:8080/"
        },
        "id": "414AtdKYgXaL",
        "outputId": "23e90779-08f6-40f0-eba2-fac4c757234a"
      },
      "outputs": [
        {
          "output_type": "execute_result",
          "data": {
            "text/plain": [
              "(4544,)"
            ]
          },
          "metadata": {},
          "execution_count": 12
        }
      ],
      "source": [
        "y_test.shape"
      ]
    },
    {
      "cell_type": "code",
      "execution_count": null,
      "metadata": {
        "colab": {
          "base_uri": "https://localhost:8080/",
          "height": 424
        },
        "id": "el4RL1IvgY4-",
        "outputId": "89c159f2-152b-4d92-a63f-ced418a06399"
      },
      "outputs": [
        {
          "output_type": "execute_result",
          "data": {
            "text/plain": [
              "     index                                              title  \\\n",
              "0        0  specter of trump loosens tongues, if not purse...   \n",
              "1        2  #nodapl: native american leaders vow to stay a...   \n",
              "2        3  tim tebow will attempt another comeback, this ...   \n",
              "3        4                    keiser report: meme wars (e995)   \n",
              "4        6  pelosi calls for fbi investigation to find out...   \n",
              "...    ...                                                ...   \n",
              "4539  5194  trump on if ’tapes’ exist of comey conversatio...   \n",
              "4540  5195  the bangladeshi traffic jam that never ends - ...   \n",
              "4541  5196  john kasich signs one abortion bill in ohio bu...   \n",
              "4542  5197  california today: what, exactly, is in your su...   \n",
              "4543  5199  awkward sex, onscreen and off - the new york t...   \n",
              "\n",
              "                       author  \\\n",
              "0            david streitfeld   \n",
              "1               common dreams   \n",
              "2               daniel victor   \n",
              "3     truth broadcast network   \n",
              "4                     pam key   \n",
              "...                       ...   \n",
              "4539                  pam key   \n",
              "4540               jody rosen   \n",
              "4541      sheryl gay stolberg   \n",
              "4542             mike mcphate   \n",
              "4543              teddy wayne   \n",
              "\n",
              "                                                   text label  \n",
              "0     palo alto, calif.  —   after years of scorning...     0  \n",
              "1     videos #nodapl: native american leaders vow to...     0  \n",
              "2     if at first you don’t succeed, try a different...     1  \n",
              "3     42 mins ago 1 views 0 comments 0 likes 'for th...     1  \n",
              "4     sunday on nbc’s “meet the press,” house minori...     1  \n",
              "...                                                 ...   ...  \n",
              "4539  pres. trump on if “tapes” exist of his convers...     1  \n",
              "4540  of all the dysfunctions that plague the world’...     0  \n",
              "4541  washington  —   gov. john kasich of ohio on tu...     1  \n",
              "4542  good morning. (want to get california today by...     0  \n",
              "4543  perhaps you’ve seen the new tv series whose pi...     0  \n",
              "\n",
              "[4544 rows x 5 columns]"
            ],
            "text/html": [
              "\n",
              "  <div id=\"df-4c24c8ca-89c1-445b-9fab-fc232c250619\">\n",
              "    <div class=\"colab-df-container\">\n",
              "      <div>\n",
              "<style scoped>\n",
              "    .dataframe tbody tr th:only-of-type {\n",
              "        vertical-align: middle;\n",
              "    }\n",
              "\n",
              "    .dataframe tbody tr th {\n",
              "        vertical-align: top;\n",
              "    }\n",
              "\n",
              "    .dataframe thead th {\n",
              "        text-align: right;\n",
              "    }\n",
              "</style>\n",
              "<table border=\"1\" class=\"dataframe\">\n",
              "  <thead>\n",
              "    <tr style=\"text-align: right;\">\n",
              "      <th></th>\n",
              "      <th>index</th>\n",
              "      <th>title</th>\n",
              "      <th>author</th>\n",
              "      <th>text</th>\n",
              "      <th>label</th>\n",
              "    </tr>\n",
              "  </thead>\n",
              "  <tbody>\n",
              "    <tr>\n",
              "      <th>0</th>\n",
              "      <td>0</td>\n",
              "      <td>specter of trump loosens tongues, if not purse...</td>\n",
              "      <td>david streitfeld</td>\n",
              "      <td>palo alto, calif.  —   after years of scorning...</td>\n",
              "      <td>0</td>\n",
              "    </tr>\n",
              "    <tr>\n",
              "      <th>1</th>\n",
              "      <td>2</td>\n",
              "      <td>#nodapl: native american leaders vow to stay a...</td>\n",
              "      <td>common dreams</td>\n",
              "      <td>videos #nodapl: native american leaders vow to...</td>\n",
              "      <td>0</td>\n",
              "    </tr>\n",
              "    <tr>\n",
              "      <th>2</th>\n",
              "      <td>3</td>\n",
              "      <td>tim tebow will attempt another comeback, this ...</td>\n",
              "      <td>daniel victor</td>\n",
              "      <td>if at first you don’t succeed, try a different...</td>\n",
              "      <td>1</td>\n",
              "    </tr>\n",
              "    <tr>\n",
              "      <th>3</th>\n",
              "      <td>4</td>\n",
              "      <td>keiser report: meme wars (e995)</td>\n",
              "      <td>truth broadcast network</td>\n",
              "      <td>42 mins ago 1 views 0 comments 0 likes 'for th...</td>\n",
              "      <td>1</td>\n",
              "    </tr>\n",
              "    <tr>\n",
              "      <th>4</th>\n",
              "      <td>6</td>\n",
              "      <td>pelosi calls for fbi investigation to find out...</td>\n",
              "      <td>pam key</td>\n",
              "      <td>sunday on nbc’s “meet the press,” house minori...</td>\n",
              "      <td>1</td>\n",
              "    </tr>\n",
              "    <tr>\n",
              "      <th>...</th>\n",
              "      <td>...</td>\n",
              "      <td>...</td>\n",
              "      <td>...</td>\n",
              "      <td>...</td>\n",
              "      <td>...</td>\n",
              "    </tr>\n",
              "    <tr>\n",
              "      <th>4539</th>\n",
              "      <td>5194</td>\n",
              "      <td>trump on if ’tapes’ exist of comey conversatio...</td>\n",
              "      <td>pam key</td>\n",
              "      <td>pres. trump on if “tapes” exist of his convers...</td>\n",
              "      <td>1</td>\n",
              "    </tr>\n",
              "    <tr>\n",
              "      <th>4540</th>\n",
              "      <td>5195</td>\n",
              "      <td>the bangladeshi traffic jam that never ends - ...</td>\n",
              "      <td>jody rosen</td>\n",
              "      <td>of all the dysfunctions that plague the world’...</td>\n",
              "      <td>0</td>\n",
              "    </tr>\n",
              "    <tr>\n",
              "      <th>4541</th>\n",
              "      <td>5196</td>\n",
              "      <td>john kasich signs one abortion bill in ohio bu...</td>\n",
              "      <td>sheryl gay stolberg</td>\n",
              "      <td>washington  —   gov. john kasich of ohio on tu...</td>\n",
              "      <td>1</td>\n",
              "    </tr>\n",
              "    <tr>\n",
              "      <th>4542</th>\n",
              "      <td>5197</td>\n",
              "      <td>california today: what, exactly, is in your su...</td>\n",
              "      <td>mike mcphate</td>\n",
              "      <td>good morning. (want to get california today by...</td>\n",
              "      <td>0</td>\n",
              "    </tr>\n",
              "    <tr>\n",
              "      <th>4543</th>\n",
              "      <td>5199</td>\n",
              "      <td>awkward sex, onscreen and off - the new york t...</td>\n",
              "      <td>teddy wayne</td>\n",
              "      <td>perhaps you’ve seen the new tv series whose pi...</td>\n",
              "      <td>0</td>\n",
              "    </tr>\n",
              "  </tbody>\n",
              "</table>\n",
              "<p>4544 rows × 5 columns</p>\n",
              "</div>\n",
              "      <button class=\"colab-df-convert\" onclick=\"convertToInteractive('df-4c24c8ca-89c1-445b-9fab-fc232c250619')\"\n",
              "              title=\"Convert this dataframe to an interactive table.\"\n",
              "              style=\"display:none;\">\n",
              "        \n",
              "  <svg xmlns=\"http://www.w3.org/2000/svg\" height=\"24px\"viewBox=\"0 0 24 24\"\n",
              "       width=\"24px\">\n",
              "    <path d=\"M0 0h24v24H0V0z\" fill=\"none\"/>\n",
              "    <path d=\"M18.56 5.44l.94 2.06.94-2.06 2.06-.94-2.06-.94-.94-2.06-.94 2.06-2.06.94zm-11 1L8.5 8.5l.94-2.06 2.06-.94-2.06-.94L8.5 2.5l-.94 2.06-2.06.94zm10 10l.94 2.06.94-2.06 2.06-.94-2.06-.94-.94-2.06-.94 2.06-2.06.94z\"/><path d=\"M17.41 7.96l-1.37-1.37c-.4-.4-.92-.59-1.43-.59-.52 0-1.04.2-1.43.59L10.3 9.45l-7.72 7.72c-.78.78-.78 2.05 0 2.83L4 21.41c.39.39.9.59 1.41.59.51 0 1.02-.2 1.41-.59l7.78-7.78 2.81-2.81c.8-.78.8-2.07 0-2.86zM5.41 20L4 18.59l7.72-7.72 1.47 1.35L5.41 20z\"/>\n",
              "  </svg>\n",
              "      </button>\n",
              "      \n",
              "  <style>\n",
              "    .colab-df-container {\n",
              "      display:flex;\n",
              "      flex-wrap:wrap;\n",
              "      gap: 12px;\n",
              "    }\n",
              "\n",
              "    .colab-df-convert {\n",
              "      background-color: #E8F0FE;\n",
              "      border: none;\n",
              "      border-radius: 50%;\n",
              "      cursor: pointer;\n",
              "      display: none;\n",
              "      fill: #1967D2;\n",
              "      height: 32px;\n",
              "      padding: 0 0 0 0;\n",
              "      width: 32px;\n",
              "    }\n",
              "\n",
              "    .colab-df-convert:hover {\n",
              "      background-color: #E2EBFA;\n",
              "      box-shadow: 0px 1px 2px rgba(60, 64, 67, 0.3), 0px 1px 3px 1px rgba(60, 64, 67, 0.15);\n",
              "      fill: #174EA6;\n",
              "    }\n",
              "\n",
              "    [theme=dark] .colab-df-convert {\n",
              "      background-color: #3B4455;\n",
              "      fill: #D2E3FC;\n",
              "    }\n",
              "\n",
              "    [theme=dark] .colab-df-convert:hover {\n",
              "      background-color: #434B5C;\n",
              "      box-shadow: 0px 1px 3px 1px rgba(0, 0, 0, 0.15);\n",
              "      filter: drop-shadow(0px 1px 2px rgba(0, 0, 0, 0.3));\n",
              "      fill: #FFFFFF;\n",
              "    }\n",
              "  </style>\n",
              "\n",
              "      <script>\n",
              "        const buttonEl =\n",
              "          document.querySelector('#df-4c24c8ca-89c1-445b-9fab-fc232c250619 button.colab-df-convert');\n",
              "        buttonEl.style.display =\n",
              "          google.colab.kernel.accessAllowed ? 'block' : 'none';\n",
              "\n",
              "        async function convertToInteractive(key) {\n",
              "          const element = document.querySelector('#df-4c24c8ca-89c1-445b-9fab-fc232c250619');\n",
              "          const dataTable =\n",
              "            await google.colab.kernel.invokeFunction('convertToInteractive',\n",
              "                                                     [key], {});\n",
              "          if (!dataTable) return;\n",
              "\n",
              "          const docLinkHtml = 'Like what you see? Visit the ' +\n",
              "            '<a target=\"_blank\" href=https://colab.research.google.com/notebooks/data_table.ipynb>data table notebook</a>'\n",
              "            + ' to learn more about interactive tables.';\n",
              "          element.innerHTML = '';\n",
              "          dataTable['output_type'] = 'display_data';\n",
              "          await google.colab.output.renderOutput(dataTable, element);\n",
              "          const docLink = document.createElement('div');\n",
              "          docLink.innerHTML = docLinkHtml;\n",
              "          element.appendChild(docLink);\n",
              "        }\n",
              "      </script>\n",
              "    </div>\n",
              "  </div>\n",
              "  "
            ]
          },
          "metadata": {},
          "execution_count": 13
        }
      ],
      "source": [
        "test_data.drop(columns=[\"id\"])"
      ]
    },
    {
      "cell_type": "code",
      "execution_count": null,
      "metadata": {
        "colab": {
          "base_uri": "https://localhost:8080/"
        },
        "id": "lAnpjHn2hDtd",
        "outputId": "bef98a24-86eb-4ca2-9ce7-72db769b7c09"
      },
      "outputs": [
        {
          "output_type": "stream",
          "name": "stdout",
          "text": [
            "[nltk_data] Downloading package stopwords to /root/nltk_data...\n",
            "[nltk_data]   Package stopwords is already up-to-date!\n"
          ]
        }
      ],
      "source": [
        "import nltk\n",
        "\n",
        "import re\n",
        "from nltk.corpus import stopwords\n",
        "nltk.download('stopwords')\n",
        "\n",
        "stop_words_set = set(stopwords.words('english'))\n",
        "\n",
        "sw_removed = []\n",
        "\n",
        "for i in range(len(train_data)):\n",
        "    review = re.sub('[^a-zA-Z]',' ',train_data['text'][i])\n",
        "    review = review.split()\n",
        "    review = [word for word in review if not word in stop_words_set]\n",
        "    statements = ' '.join(review)\n",
        "    sw_removed.append(statements)\n"
      ]
    },
    {
      "cell_type": "code",
      "source": [
        "sw_removed_test = []\n",
        "\n",
        "for i in range(len(test_data)):\n",
        "    review = re.sub('[^a-zA-Z]',' ',test_data['text'][i])\n",
        "    review = review.split()\n",
        "    review = [word for word in review if not word in stop_words_set]\n",
        "    statements = ' '.join(review)\n",
        "    sw_removed_test.append(statements)"
      ],
      "metadata": {
        "id": "Lks8c6FqID_d"
      },
      "execution_count": null,
      "outputs": []
    },
    {
      "cell_type": "code",
      "execution_count": null,
      "metadata": {
        "colab": {
          "base_uri": "https://localhost:8080/"
        },
        "id": "CKuwudJZtMKj",
        "outputId": "eb740eaf-c5c4-4ecc-bb6c-460184e9fa11"
      },
      "outputs": [
        {
          "output_type": "stream",
          "name": "stdout",
          "text": [
            "18211\n"
          ]
        }
      ],
      "source": [
        "from nltk.stem.porter import PorterStemmer\n",
        "\n",
        "ps = PorterStemmer()\n",
        "\n",
        "stemmed = []\n",
        "\n",
        "print(len(sw_removed))\n",
        "\n",
        "for i in range(len(sw_removed)):\n",
        "  sw_removed_1 = sw_removed[i].split()\n",
        "  stem = [ps.stem(word) for word in sw_removed_1]\n",
        "  st = ' '.join(stem)\n",
        "  stemmed.append(st)\n"
      ]
    },
    {
      "cell_type": "code",
      "source": [
        "stemmed_test = []\n",
        "\n",
        "for i in range(len(sw_removed_test)):\n",
        "  sw_removed_1 = sw_removed_test[i].split()\n",
        "  stem = [ps.stem(word) for word in sw_removed_1]\n",
        "  st = ' '.join(stem)\n",
        "  stemmed_test.append(st)"
      ],
      "metadata": {
        "id": "0aJuLm0tISXQ"
      },
      "execution_count": null,
      "outputs": []
    },
    {
      "cell_type": "code",
      "execution_count": null,
      "metadata": {
        "id": "5KRjU-PrveIT"
      },
      "outputs": [],
      "source": [
        "preprocess_arr = np.array(stemmed)\n",
        "\n",
        "preprocess_df = pd.DataFrame(preprocess_arr)"
      ]
    },
    {
      "cell_type": "code",
      "source": [
        "preprocess_arr_test = np.array(stemmed_test)\n",
        "\n",
        "preprocess_df_test = pd.DataFrame(preprocess_arr_test)"
      ],
      "metadata": {
        "id": "6H91t51_IrYO"
      },
      "execution_count": null,
      "outputs": []
    },
    {
      "cell_type": "code",
      "execution_count": null,
      "metadata": {
        "colab": {
          "base_uri": "https://localhost:8080/",
          "height": 424
        },
        "id": "8fPUnkq0xUf8",
        "outputId": "f2cfafe5-eb50-4774-ea03-84e3f7608d8d"
      },
      "outputs": [
        {
          "output_type": "execute_result",
          "data": {
            "text/plain": [
              "                                                      0\n",
              "0     palo alto calif year scorn polit process silic...\n",
              "1     video nodapl nativ american leader vow stay wi...\n",
              "2     first succeed tri differ sport tim tebow heism...\n",
              "3     min ago view comment like first time histori f...\n",
              "4     sunday nbc meet press hous minor leader rep na...\n",
              "...                                                 ...\n",
              "4539  pre trump tape exist convers comey well tell m...\n",
              "4540  dysfunct plagu world megac none may pernici ba...\n",
              "4541  washington gov john kasich ohio tuesday sign l...\n",
              "4542  good morn want get california today email joan...\n",
              "4543  perhap seen new tv seri whose pilot episod beg...\n",
              "\n",
              "[4544 rows x 1 columns]"
            ],
            "text/html": [
              "\n",
              "  <div id=\"df-fd21c136-5936-41ae-bab3-3d610de4303a\">\n",
              "    <div class=\"colab-df-container\">\n",
              "      <div>\n",
              "<style scoped>\n",
              "    .dataframe tbody tr th:only-of-type {\n",
              "        vertical-align: middle;\n",
              "    }\n",
              "\n",
              "    .dataframe tbody tr th {\n",
              "        vertical-align: top;\n",
              "    }\n",
              "\n",
              "    .dataframe thead th {\n",
              "        text-align: right;\n",
              "    }\n",
              "</style>\n",
              "<table border=\"1\" class=\"dataframe\">\n",
              "  <thead>\n",
              "    <tr style=\"text-align: right;\">\n",
              "      <th></th>\n",
              "      <th>0</th>\n",
              "    </tr>\n",
              "  </thead>\n",
              "  <tbody>\n",
              "    <tr>\n",
              "      <th>0</th>\n",
              "      <td>palo alto calif year scorn polit process silic...</td>\n",
              "    </tr>\n",
              "    <tr>\n",
              "      <th>1</th>\n",
              "      <td>video nodapl nativ american leader vow stay wi...</td>\n",
              "    </tr>\n",
              "    <tr>\n",
              "      <th>2</th>\n",
              "      <td>first succeed tri differ sport tim tebow heism...</td>\n",
              "    </tr>\n",
              "    <tr>\n",
              "      <th>3</th>\n",
              "      <td>min ago view comment like first time histori f...</td>\n",
              "    </tr>\n",
              "    <tr>\n",
              "      <th>4</th>\n",
              "      <td>sunday nbc meet press hous minor leader rep na...</td>\n",
              "    </tr>\n",
              "    <tr>\n",
              "      <th>...</th>\n",
              "      <td>...</td>\n",
              "    </tr>\n",
              "    <tr>\n",
              "      <th>4539</th>\n",
              "      <td>pre trump tape exist convers comey well tell m...</td>\n",
              "    </tr>\n",
              "    <tr>\n",
              "      <th>4540</th>\n",
              "      <td>dysfunct plagu world megac none may pernici ba...</td>\n",
              "    </tr>\n",
              "    <tr>\n",
              "      <th>4541</th>\n",
              "      <td>washington gov john kasich ohio tuesday sign l...</td>\n",
              "    </tr>\n",
              "    <tr>\n",
              "      <th>4542</th>\n",
              "      <td>good morn want get california today email joan...</td>\n",
              "    </tr>\n",
              "    <tr>\n",
              "      <th>4543</th>\n",
              "      <td>perhap seen new tv seri whose pilot episod beg...</td>\n",
              "    </tr>\n",
              "  </tbody>\n",
              "</table>\n",
              "<p>4544 rows × 1 columns</p>\n",
              "</div>\n",
              "      <button class=\"colab-df-convert\" onclick=\"convertToInteractive('df-fd21c136-5936-41ae-bab3-3d610de4303a')\"\n",
              "              title=\"Convert this dataframe to an interactive table.\"\n",
              "              style=\"display:none;\">\n",
              "        \n",
              "  <svg xmlns=\"http://www.w3.org/2000/svg\" height=\"24px\"viewBox=\"0 0 24 24\"\n",
              "       width=\"24px\">\n",
              "    <path d=\"M0 0h24v24H0V0z\" fill=\"none\"/>\n",
              "    <path d=\"M18.56 5.44l.94 2.06.94-2.06 2.06-.94-2.06-.94-.94-2.06-.94 2.06-2.06.94zm-11 1L8.5 8.5l.94-2.06 2.06-.94-2.06-.94L8.5 2.5l-.94 2.06-2.06.94zm10 10l.94 2.06.94-2.06 2.06-.94-2.06-.94-.94-2.06-.94 2.06-2.06.94z\"/><path d=\"M17.41 7.96l-1.37-1.37c-.4-.4-.92-.59-1.43-.59-.52 0-1.04.2-1.43.59L10.3 9.45l-7.72 7.72c-.78.78-.78 2.05 0 2.83L4 21.41c.39.39.9.59 1.41.59.51 0 1.02-.2 1.41-.59l7.78-7.78 2.81-2.81c.8-.78.8-2.07 0-2.86zM5.41 20L4 18.59l7.72-7.72 1.47 1.35L5.41 20z\"/>\n",
              "  </svg>\n",
              "      </button>\n",
              "      \n",
              "  <style>\n",
              "    .colab-df-container {\n",
              "      display:flex;\n",
              "      flex-wrap:wrap;\n",
              "      gap: 12px;\n",
              "    }\n",
              "\n",
              "    .colab-df-convert {\n",
              "      background-color: #E8F0FE;\n",
              "      border: none;\n",
              "      border-radius: 50%;\n",
              "      cursor: pointer;\n",
              "      display: none;\n",
              "      fill: #1967D2;\n",
              "      height: 32px;\n",
              "      padding: 0 0 0 0;\n",
              "      width: 32px;\n",
              "    }\n",
              "\n",
              "    .colab-df-convert:hover {\n",
              "      background-color: #E2EBFA;\n",
              "      box-shadow: 0px 1px 2px rgba(60, 64, 67, 0.3), 0px 1px 3px 1px rgba(60, 64, 67, 0.15);\n",
              "      fill: #174EA6;\n",
              "    }\n",
              "\n",
              "    [theme=dark] .colab-df-convert {\n",
              "      background-color: #3B4455;\n",
              "      fill: #D2E3FC;\n",
              "    }\n",
              "\n",
              "    [theme=dark] .colab-df-convert:hover {\n",
              "      background-color: #434B5C;\n",
              "      box-shadow: 0px 1px 3px 1px rgba(0, 0, 0, 0.15);\n",
              "      filter: drop-shadow(0px 1px 2px rgba(0, 0, 0, 0.3));\n",
              "      fill: #FFFFFF;\n",
              "    }\n",
              "  </style>\n",
              "\n",
              "      <script>\n",
              "        const buttonEl =\n",
              "          document.querySelector('#df-fd21c136-5936-41ae-bab3-3d610de4303a button.colab-df-convert');\n",
              "        buttonEl.style.display =\n",
              "          google.colab.kernel.accessAllowed ? 'block' : 'none';\n",
              "\n",
              "        async function convertToInteractive(key) {\n",
              "          const element = document.querySelector('#df-fd21c136-5936-41ae-bab3-3d610de4303a');\n",
              "          const dataTable =\n",
              "            await google.colab.kernel.invokeFunction('convertToInteractive',\n",
              "                                                     [key], {});\n",
              "          if (!dataTable) return;\n",
              "\n",
              "          const docLinkHtml = 'Like what you see? Visit the ' +\n",
              "            '<a target=\"_blank\" href=https://colab.research.google.com/notebooks/data_table.ipynb>data table notebook</a>'\n",
              "            + ' to learn more about interactive tables.';\n",
              "          element.innerHTML = '';\n",
              "          dataTable['output_type'] = 'display_data';\n",
              "          await google.colab.output.renderOutput(dataTable, element);\n",
              "          const docLink = document.createElement('div');\n",
              "          docLink.innerHTML = docLinkHtml;\n",
              "          element.appendChild(docLink);\n",
              "        }\n",
              "      </script>\n",
              "    </div>\n",
              "  </div>\n",
              "  "
            ]
          },
          "metadata": {},
          "execution_count": 20
        }
      ],
      "source": [
        "preprocess_df_test "
      ]
    },
    {
      "cell_type": "code",
      "execution_count": null,
      "metadata": {
        "id": "WiY3rA_iMFrk"
      },
      "outputs": [],
      "source": [
        "from gensim.models.doc2vec import Doc2Vec, TaggedDocument\n",
        "\n",
        "\n",
        "card_docs = [TaggedDocument(doc.split(' '), [i]) for i, doc in enumerate(preprocess_df.iloc[:,0])]\n",
        "\n",
        "card_docs\n",
        "\n"
      ]
    },
    {
      "cell_type": "code",
      "source": [
        "card_docs_test = [TaggedDocument(doc.split(' '), [i]) for i, doc in enumerate(preprocess_df_test.iloc[:,0])]\n",
        "\n",
        "card_docs_test"
      ],
      "metadata": {
        "id": "t29jT1VNI4ti"
      },
      "execution_count": null,
      "outputs": []
    },
    {
      "cell_type": "code",
      "execution_count": null,
      "metadata": {
        "id": "S5qWl773OZuB"
      },
      "outputs": [],
      "source": [
        "#instantiate model\n",
        "model = Doc2Vec(vector_size=100, epochs = 20)\n",
        "#build vocab\n",
        "model.build_vocab(card_docs)\n",
        "#train model\n",
        "model.train(card_docs, total_examples=model.corpus_count, epochs=model.epochs)"
      ]
    },
    {
      "cell_type": "code",
      "source": [
        "model2 = Doc2Vec(vector_size=100, epochs = 20)\n",
        "model2.build_vocab(card_docs_test)\n",
        "#train model\n",
        "model2.train(card_docs_test, total_examples=model2.corpus_count, epochs=model2.epochs)"
      ],
      "metadata": {
        "id": "XvdfwO_YJFzm"
      },
      "execution_count": null,
      "outputs": []
    },
    {
      "cell_type": "code",
      "execution_count": null,
      "metadata": {
        "id": "Hy83DcRtZNE4"
      },
      "outputs": [],
      "source": [
        "card2vec = [model.infer_vector((preprocess_df.iloc[:,0][i].split(' '))) for i in range(0,len(preprocess_df.iloc[:,0]))]\n",
        "card2vec"
      ]
    },
    {
      "cell_type": "code",
      "source": [
        "card2vec_test = [model2.infer_vector((preprocess_df_test.iloc[:,0][i].split(' '))) for i in range(0,len(preprocess_df_test.iloc[:,0]))]\n",
        "card2vec_test"
      ],
      "metadata": {
        "id": "KLDcRditJtSt"
      },
      "execution_count": null,
      "outputs": []
    },
    {
      "cell_type": "code",
      "execution_count": null,
      "metadata": {
        "id": "RrRJt978wAMb",
        "colab": {
          "base_uri": "https://localhost:8080/"
        },
        "outputId": "41003f4d-e108-4190-f457-81326055b18e"
      },
      "outputs": [
        {
          "output_type": "execute_result",
          "data": {
            "text/plain": [
              "4544"
            ]
          },
          "metadata": {},
          "execution_count": 28
        }
      ],
      "source": [
        "len(card2vec_test)"
      ]
    },
    {
      "cell_type": "code",
      "execution_count": null,
      "metadata": {
        "id": "D4ZbWC-jzyMf",
        "colab": {
          "base_uri": "https://localhost:8080/"
        },
        "outputId": "447558ce-8655-4b20-c0fa-d14e1311f45a"
      },
      "outputs": [
        {
          "output_type": "execute_result",
          "data": {
            "text/plain": [
              "100"
            ]
          },
          "metadata": {},
          "execution_count": 29
        }
      ],
      "source": [
        "len(card2vec_test[0])"
      ]
    },
    {
      "cell_type": "code",
      "execution_count": null,
      "metadata": {
        "id": "4SLerT-huVkY"
      },
      "outputs": [],
      "source": [
        "vector_df = pd.DataFrame(card2vec)"
      ]
    },
    {
      "cell_type": "code",
      "source": [
        "vector_df_test = pd.DataFrame(card2vec_test)"
      ],
      "metadata": {
        "id": "0Z9NtMWVKXmZ"
      },
      "execution_count": null,
      "outputs": []
    },
    {
      "cell_type": "code",
      "source": [
        "from sklearn.model_selection import StratifiedKFold\n",
        "kf = StratifiedKFold(n_splits=5)\n",
        "\n",
        "X = vector_df.values\n",
        "# X_cv = transformed_df_count_vectorizer.values\n",
        "y = train_data[\"label\"].values \n",
        "\n",
        "X_train=[]\n",
        "X_val=[]\n",
        "# X_train_cv=[]\n",
        "# X_val_cv=[]\n",
        "y_train=[]\n",
        "y_val=[]\n",
        "\n",
        "for train_index, test_index in kf.split(X,y):\n",
        "  X_train.append(X[train_index])\n",
        "  X_val.append(X[test_index]) \n",
        "  # X_train_cv.append(X_cv[train_index])\n",
        "  # X_val_cv.append(X_cv[test_index]) \n",
        "  y_train.append(y[train_index])\n",
        "  y_val.append(y[test_index])"
      ],
      "metadata": {
        "id": "7iOaI-apcNOq"
      },
      "execution_count": null,
      "outputs": []
    },
    {
      "cell_type": "code",
      "source": [
        "from sklearn.naive_bayes import GaussianNB\n",
        "\n",
        "gnb_0 = GaussianNB()\n",
        "gnb_1 = GaussianNB()\n",
        "gnb_2 = GaussianNB()\n",
        "gnb_3 = GaussianNB()\n",
        "gnb_4 = GaussianNB()\n",
        "\n",
        "gnb_0.fit(X_train[0],y_train[0].astype('int'))\n",
        "gnb_1.fit(X_train[1],y_train[1].astype('int'))\n",
        "gnb_2.fit(X_train[2],y_train[2].astype('int'))\n",
        "gnb_3.fit(X_train[3],y_train[3].astype('int'))\n",
        "gnb_4.fit(X_train[4],y_train[4].astype('int'))\n",
        "\n",
        "y_pred_0 = gnb_0.predict(X_val[0])\n",
        "y_pred_1 = gnb_1.predict(X_val[1])\n",
        "y_pred_2 = gnb_2.predict(X_val[2])\n",
        "y_pred_3 = gnb_3.predict(X_val[3])\n",
        "y_pred_4 = gnb_4.predict(X_val[4])\n"
      ],
      "metadata": {
        "id": "FOoy2EgacpbQ"
      },
      "execution_count": null,
      "outputs": []
    },
    {
      "cell_type": "code",
      "source": [
        "from sklearn.metrics import precision_score, recall_score, f1_score, accuracy_score\n",
        "print('Comparing the 5 Naive Bayes models on resp. val set')\n",
        "#model 1\n",
        "print('\\nAverage of the evaluation Metrics for the Models:')\n",
        "print(\"Accuracy: \", (accuracy_score(y_val[0].astype('int'), y_pred_0) + accuracy_score(y_val[1].astype('int'), y_pred_1) + accuracy_score(y_val[2].astype('int'), y_pred_2) + accuracy_score(y_val[3].astype('int'), y_pred_3) + accuracy_score(y_val[4].astype('int'), y_pred_4))/5)\n",
        "print(\"Precision: \", (precision_score(y_val[0].astype('int'), y_pred_0) + precision_score(y_val[1].astype('int'), y_pred_1) + precision_score(y_val[2].astype('int'), y_pred_2) + precision_score(y_val[3].astype('int'), y_pred_3) + precision_score(y_val[4].astype('int'), y_pred_4))/5)\n",
        "print(\"Recall: \", (recall_score(y_val[0].astype('int'), y_pred_0) + recall_score(y_val[1].astype('int'), y_pred_1) + recall_score(y_val[2].astype('int'), y_pred_2) + recall_score(y_val[3].astype('int'), y_pred_3) + recall_score(y_val[4].astype('int'), y_pred_4))/5)\n",
        "print(\"f1-score: \", (f1_score(y_val[0].astype('int'), y_pred_0) + f1_score(y_val[1].astype('int'), y_pred_1) + f1_score(y_val[2].astype('int'), y_pred_2) + f1_score(y_val[3].astype('int'), y_pred_3) + f1_score(y_val[4].astype('int'), y_pred_4))/5)\n"
      ],
      "metadata": {
        "id": "I9pTK1Hecgqk",
        "colab": {
          "base_uri": "https://localhost:8080/"
        },
        "outputId": "31009503-e683-4199-d3d0-610d11179240"
      },
      "execution_count": null,
      "outputs": [
        {
          "output_type": "stream",
          "name": "stdout",
          "text": [
            "Comparing the 5 Naive Bayes models on resp. val set\n",
            "\n",
            "Average of the evaluation Metrics for the Models:\n",
            "Accuracy:  0.7201701924191536\n",
            "Precision:  0.6446204802697055\n",
            "Recall:  0.782547770700637\n",
            "f1-score:  0.70688075098348\n"
          ]
        }
      ]
    }
  ],
  "metadata": {
    "colab": {
      "collapsed_sections": [],
      "name": "word2vec_2019231",
      "provenance": []
    },
    "kernelspec": {
      "display_name": "Python 3",
      "name": "python3"
    },
    "language_info": {
      "name": "python"
    }
  },
  "nbformat": 4,
  "nbformat_minor": 0
}