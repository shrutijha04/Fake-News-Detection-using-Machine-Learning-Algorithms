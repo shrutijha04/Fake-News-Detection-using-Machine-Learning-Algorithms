{
  "nbformat": 4,
  "nbformat_minor": 0,
  "metadata": {
    "colab": {
      "name": "preprocessedTrainTest.ipynb",
      "provenance": [],
      "collapsed_sections": []
    },
    "kernelspec": {
      "name": "python3",
      "display_name": "Python 3"
    },
    "language_info": {
      "name": "python"
    }
  },
  "cells": [
    {
      "cell_type": "code",
      "execution_count": null,
      "metadata": {
        "id": "MTIy6IsE-DPm"
      },
      "outputs": [],
      "source": [
        "! gdown --id 1E8OTtNK_UNSAdmkg3OuB0k2FsKKF9QpY\n",
        "! gdown --id 1-pm6_kvT9CBrYER40uIkRiG0KMlHnH7L\n",
        "! gdown --id 1oiVQignVg1wvE1LXKFvOLHPl0P8GNSDp"
      ]
    },
    {
      "cell_type": "code",
      "source": [
        "import numpy as np\n",
        "import pandas as pd"
      ],
      "metadata": {
        "id": "lxzb8cDx-JFs"
      },
      "execution_count": null,
      "outputs": []
    },
    {
      "cell_type": "code",
      "source": [
        "train_data = pd.read_csv(\"train.csv\")\n",
        "test_data = pd.read_csv(\"test.csv\")\n",
        "submit_data = pd.read_csv(\"submit.csv\")"
      ],
      "metadata": {
        "id": "kSBVOh44-KGn"
      },
      "execution_count": null,
      "outputs": []
    },
    {
      "cell_type": "code",
      "source": [
        "test_data = test_data.join(submit_data[\"label\"])"
      ],
      "metadata": {
        "id": "g5azg5YL-K8w"
      },
      "execution_count": null,
      "outputs": []
    },
    {
      "cell_type": "code",
      "source": [
        "train_data[\"author\"].fillna(\"-NO AUTHOR-\", inplace = True)\n",
        "test_data[\"author\"].fillna(\"-NO AUTHOR-\", inplace = True)"
      ],
      "metadata": {
        "id": "gT3JTvKJ-MGI"
      },
      "execution_count": null,
      "outputs": []
    },
    {
      "cell_type": "code",
      "source": [
        "# Removing null values\n",
        "train_data.dropna(inplace=True)\n",
        "train_data.drop(train_data.loc[train_data['text']==\" \"].index, inplace=True)\n",
        "train_data.drop(train_data.loc[train_data['text']==\"  \"].index, inplace=True)\n",
        "train_data.drop(train_data.loc[train_data['text']==\"\\n\"].index, inplace=True)\n",
        "\n",
        "# Resetting index\n",
        "train_data.reset_index(inplace=True)"
      ],
      "metadata": {
        "id": "99Kpj6hy-Nh5"
      },
      "execution_count": null,
      "outputs": []
    },
    {
      "cell_type": "code",
      "source": [
        "train_data= train_data.apply(lambda x: x.astype(str).str.lower())"
      ],
      "metadata": {
        "id": "tRkh4Fqa-RC4"
      },
      "execution_count": null,
      "outputs": []
    },
    {
      "cell_type": "code",
      "source": [
        "train_data = train_data.drop(columns=[\"id\", \"index\"])"
      ],
      "metadata": {
        "id": "X-aDBr0a-Sjh"
      },
      "execution_count": null,
      "outputs": []
    },
    {
      "cell_type": "markdown",
      "source": [
        "test"
      ],
      "metadata": {
        "id": "6cnhtabz-Ubd"
      }
    },
    {
      "cell_type": "code",
      "source": [
        "# Removing null values\n",
        "test_data.dropna(inplace=True)\n",
        "test_data.drop(test_data.loc[test_data['text']==\" \"].index, inplace=True)\n",
        "test_data.drop(test_data.loc[test_data['text']==\"  \"].index, inplace=True)\n",
        "test_data.drop(test_data.loc[test_data['text']==\"\\n\"].index, inplace=True)\n",
        "\n",
        "\n",
        "# Resetting index\n",
        "test_data.reset_index(inplace=True)"
      ],
      "metadata": {
        "id": "0uh90JdA-W7L"
      },
      "execution_count": null,
      "outputs": []
    },
    {
      "cell_type": "code",
      "source": [
        "test_data= test_data.apply(lambda x: x.astype(str).str.lower())"
      ],
      "metadata": {
        "id": "MU-VdvEE-YUe"
      },
      "execution_count": null,
      "outputs": []
    },
    {
      "cell_type": "code",
      "source": [
        "test_data = test_data.drop(columns=[\"id\",\"index\"])"
      ],
      "metadata": {
        "id": "xfPaRs_f-Zrf"
      },
      "execution_count": null,
      "outputs": []
    },
    {
      "cell_type": "code",
      "source": [
        "import nltk\n",
        "import re\n",
        "from nltk.corpus import stopwords\n",
        "nltk.download('stopwords')\n",
        "from nltk.stem.porter import PorterStemmer\n",
        "from sklearn.feature_extraction.text import TfidfVectorizer"
      ],
      "metadata": {
        "colab": {
          "base_uri": "https://localhost:8080/"
        },
        "id": "jhqB6rYg-bZj",
        "outputId": "b3bd7c13-d599-4454-9256-192c289bbc7d"
      },
      "execution_count": null,
      "outputs": [
        {
          "output_type": "stream",
          "name": "stdout",
          "text": [
            "[nltk_data] Downloading package stopwords to /root/nltk_data...\n",
            "[nltk_data]   Package stopwords is already up-to-date!\n"
          ]
        }
      ]
    },
    {
      "cell_type": "code",
      "source": [
        "stop_words_set = set(stopwords.words('english'))\n",
        "\n",
        "sw_removed = []\n",
        "\n",
        "for i in range(len(train_data)):\n",
        "    review = re.sub('[^a-zA-Z]',' ',train_data['text'][i])\n",
        "    #not on title?\n",
        "    review = review.split()\n",
        "    review = [word for word in review if not word in stop_words_set]\n",
        "    statements = ' '.join(review)\n",
        "    sw_removed.append(statements)"
      ],
      "metadata": {
        "id": "ONSI3TWW-dub"
      },
      "execution_count": null,
      "outputs": []
    },
    {
      "cell_type": "code",
      "source": [
        "ps = PorterStemmer()\n",
        "\n",
        "stemmed = []\n",
        "\n",
        "print(len(sw_removed))\n",
        "\n",
        "for i in range(len(sw_removed)):\n",
        "  sw_removed_1 = sw_removed[i].split()\n",
        "  stem = [ps.stem(word) for word in sw_removed_1]\n",
        "  st = ' '.join(stem)\n",
        "  stemmed.append(st)"
      ],
      "metadata": {
        "colab": {
          "base_uri": "https://localhost:8080/"
        },
        "id": "9ShjEz_1-gCW",
        "outputId": "08ddf436-cdce-45b4-f77d-e2236502abee"
      },
      "execution_count": null,
      "outputs": [
        {
          "output_type": "stream",
          "name": "stdout",
          "text": [
            "20126\n"
          ]
        }
      ]
    },
    {
      "cell_type": "code",
      "source": [
        "preprocess_arr = np.array(stemmed)"
      ],
      "metadata": {
        "id": "-dQ7WxI8-hVs"
      },
      "execution_count": null,
      "outputs": []
    },
    {
      "cell_type": "code",
      "source": [
        "vectorizer = TfidfVectorizer(ngram_range=(1,3), max_features=3000) #3000\n",
        "\n",
        "train_input = vectorizer.fit_transform(preprocess_arr).toarray()\n",
        "transformed_df = pd.DataFrame(data=train_input, columns=vectorizer.get_feature_names())"
      ],
      "metadata": {
        "colab": {
          "base_uri": "https://localhost:8080/"
        },
        "id": "eMimR9S2-hnY",
        "outputId": "c9a5ca64-849c-44be-80f6-b23a807f6018"
      },
      "execution_count": null,
      "outputs": [
        {
          "output_type": "stream",
          "name": "stderr",
          "text": [
            "/usr/local/lib/python3.7/dist-packages/sklearn/utils/deprecation.py:87: FutureWarning: Function get_feature_names is deprecated; get_feature_names is deprecated in 1.0 and will be removed in 1.2. Please use get_feature_names_out instead.\n",
            "  warnings.warn(msg, category=FutureWarning)\n"
          ]
        }
      ]
    },
    {
      "cell_type": "code",
      "source": [
        "transformed_df.to_csv('pre_train.csv', encoding='utf-8', index=False)"
      ],
      "metadata": {
        "id": "MdLcwrs7-jOW"
      },
      "execution_count": null,
      "outputs": []
    },
    {
      "cell_type": "code",
      "source": [
        "stop_words_set = set(stopwords.words('english'))\n",
        "\n",
        "sw_removed = []\n",
        "\n",
        "for i in range(len(test_data)):\n",
        "    review = re.sub('[^a-zA-Z]',' ',test_data['text'][i])\n",
        "    review = review.split()\n",
        "    review = [word for word in review if not word in stop_words_set]\n",
        "    statements = ' '.join(review)\n",
        "    sw_removed.append(statements)"
      ],
      "metadata": {
        "id": "xLGmZklu-kh7"
      },
      "execution_count": null,
      "outputs": []
    },
    {
      "cell_type": "code",
      "source": [
        "ps = PorterStemmer()\n",
        "\n",
        "stemmed = []\n",
        "\n",
        "print(len(sw_removed))\n",
        "\n",
        "for i in range(len(sw_removed)):\n",
        "  sw_removed_1 = sw_removed[i].split()\n",
        "  stem = [ps.stem(word) for word in sw_removed_1]\n",
        "  st = ' '.join(stem)\n",
        "  stemmed.append(st)"
      ],
      "metadata": {
        "colab": {
          "base_uri": "https://localhost:8080/"
        },
        "id": "YPkcs3O0-l-c",
        "outputId": "80dad20f-5546-424f-bb20-1c92a2d83bc0"
      },
      "execution_count": null,
      "outputs": [
        {
          "output_type": "stream",
          "name": "stdout",
          "text": [
            "5040\n"
          ]
        }
      ]
    },
    {
      "cell_type": "code",
      "source": [
        "preprocess_arr_test = np.array(stemmed)"
      ],
      "metadata": {
        "id": "E7qYvHiF-mTA"
      },
      "execution_count": null,
      "outputs": []
    },
    {
      "cell_type": "code",
      "source": [
        "test_input = vectorizer.transform(preprocess_arr_test).toarray()\n",
        "transformed_df_test = pd.DataFrame(data=test_input, columns=vectorizer.get_feature_names())"
      ],
      "metadata": {
        "colab": {
          "base_uri": "https://localhost:8080/"
        },
        "id": "lnqN3Bq-BSC7",
        "outputId": "b972b025-657c-4e97-ad82-0034d22b7a68"
      },
      "execution_count": null,
      "outputs": [
        {
          "output_type": "stream",
          "name": "stderr",
          "text": [
            "/usr/local/lib/python3.7/dist-packages/sklearn/utils/deprecation.py:87: FutureWarning: Function get_feature_names is deprecated; get_feature_names is deprecated in 1.0 and will be removed in 1.2. Please use get_feature_names_out instead.\n",
            "  warnings.warn(msg, category=FutureWarning)\n"
          ]
        }
      ]
    },
    {
      "cell_type": "code",
      "source": [
        "X_test = transformed_df_test.values\n",
        "y_test = test_data[\"label\"].values "
      ],
      "metadata": {
        "id": "sbP3vGA2-nmG"
      },
      "execution_count": null,
      "outputs": []
    },
    {
      "cell_type": "code",
      "source": [
        ""
      ],
      "metadata": {
        "id": "nyBJ69vFkzUZ"
      },
      "execution_count": null,
      "outputs": []
    },
    {
      "cell_type": "code",
      "source": [
        "transformed_df_test.to_csv('pre_test.csv', encoding='utf-8', index=False)"
      ],
      "metadata": {
        "id": "XvsLOTvv-ofs"
      },
      "execution_count": null,
      "outputs": []
    },
    {
      "cell_type": "code",
      "source": [
        "#check\n",
        "! gdown --id 1-V5xIQYT-ZL0WIlagXXbVSMLxaxSRqgj\n",
        "! gdown --id 1tztX1l6p3_EyDHbgWj4w4LbbJqlhwyoA"
      ],
      "metadata": {
        "id": "5hwPyAyWgbNM"
      },
      "execution_count": null,
      "outputs": []
    },
    {
      "cell_type": "code",
      "source": [
        ""
      ],
      "metadata": {
        "id": "yBFlFUW4kyRq"
      },
      "execution_count": null,
      "outputs": []
    }
  ]
}