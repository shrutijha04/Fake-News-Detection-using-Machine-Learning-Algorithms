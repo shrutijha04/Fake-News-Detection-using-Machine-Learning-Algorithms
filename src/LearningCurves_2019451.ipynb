{
  "nbformat": 4,
  "nbformat_minor": 0,
  "metadata": {
    "colab": {
      "name": "LearningCurves.ipynb",
      "provenance": [],
      "collapsed_sections": []
    },
    "kernelspec": {
      "name": "python3",
      "display_name": "Python 3"
    },
    "language_info": {
      "name": "python"
    },
    "accelerator": "GPU"
  },
  "cells": [
    {
      "cell_type": "markdown",
      "source": [
        "0. DATASETS"
      ],
      "metadata": {
        "id": "OrXEJjOwSy-4"
      }
    },
    {
      "cell_type": "code",
      "source": [
        "! gdown --id 1E8OTtNK_UNSAdmkg3OuB0k2FsKKF9QpY\n",
        "! gdown --id 1-pm6_kvT9CBrYER40uIkRiG0KMlHnH7L\n",
        "! gdown --id 1oiVQignVg1wvE1LXKFvOLHPl0P8GNSDp"
      ],
      "metadata": {
        "id": "_ofhklfdS0Ar",
        "colab": {
          "base_uri": "https://localhost:8080/"
        },
        "outputId": "2e6c3a6a-cd11-47ad-8591-c41a53695db9"
      },
      "execution_count": null,
      "outputs": [
        {
          "output_type": "stream",
          "name": "stdout",
          "text": [
            "/usr/local/lib/python3.7/dist-packages/gdown/cli.py:131: FutureWarning: Option `--id` was deprecated in version 4.3.1 and will be removed in 5.0. You don't need to pass it anymore to use a file ID.\n",
            "  category=FutureWarning,\n",
            "Downloading...\n",
            "From: https://drive.google.com/uc?id=1E8OTtNK_UNSAdmkg3OuB0k2FsKKF9QpY\n",
            "To: /content/train.csv\n",
            "100% 98.6M/98.6M [00:01<00:00, 65.5MB/s]\n",
            "/usr/local/lib/python3.7/dist-packages/gdown/cli.py:131: FutureWarning: Option `--id` was deprecated in version 4.3.1 and will be removed in 5.0. You don't need to pass it anymore to use a file ID.\n",
            "  category=FutureWarning,\n",
            "Downloading...\n",
            "From: https://drive.google.com/uc?id=1-pm6_kvT9CBrYER40uIkRiG0KMlHnH7L\n",
            "To: /content/test.csv\n",
            "100% 25.1M/25.1M [00:00<00:00, 61.7MB/s]\n",
            "/usr/local/lib/python3.7/dist-packages/gdown/cli.py:131: FutureWarning: Option `--id` was deprecated in version 4.3.1 and will be removed in 5.0. You don't need to pass it anymore to use a file ID.\n",
            "  category=FutureWarning,\n",
            "Downloading...\n",
            "From: https://drive.google.com/uc?id=1oiVQignVg1wvE1LXKFvOLHPl0P8GNSDp\n",
            "To: /content/submit.csv\n",
            "100% 41.6k/41.6k [00:00<00:00, 58.2MB/s]\n"
          ]
        }
      ]
    },
    {
      "cell_type": "code",
      "source": [
        "import numpy as np\n",
        "import pandas as pd"
      ],
      "metadata": {
        "id": "a8GhOWTuSfYa"
      },
      "execution_count": null,
      "outputs": []
    },
    {
      "cell_type": "code",
      "source": [
        "train_data = pd.read_csv(\"train.csv\")\n",
        "test_data = pd.read_csv(\"test.csv\")\n",
        "submit_data = pd.read_csv(\"submit.csv\")"
      ],
      "metadata": {
        "id": "fZzDWtejSgUL"
      },
      "execution_count": null,
      "outputs": []
    },
    {
      "cell_type": "code",
      "source": [
        "test_data = test_data.join(submit_data[\"label\"])"
      ],
      "metadata": {
        "id": "TeIYPER5ShY4"
      },
      "execution_count": null,
      "outputs": []
    },
    {
      "cell_type": "code",
      "source": [
        "# Removing null values\n",
        "train_data.dropna(inplace=True)\n",
        "train_data.drop(train_data.loc[train_data['text']==\" \"].index, inplace=True)\n",
        "train_data.drop(train_data.loc[train_data['text']==\"  \"].index, inplace=True)\n",
        "train_data.drop(train_data.loc[train_data['text']==\"\\n\"].index, inplace=True)\n",
        "\n",
        "# Resetting index\n",
        "train_data.reset_index(inplace=True)"
      ],
      "metadata": {
        "id": "RyoMlN5tSiY9"
      },
      "execution_count": null,
      "outputs": []
    },
    {
      "cell_type": "code",
      "source": [
        "train_data= train_data.apply(lambda x: x.astype(str).str.lower())"
      ],
      "metadata": {
        "id": "HBMnH2jwSktB"
      },
      "execution_count": null,
      "outputs": []
    },
    {
      "cell_type": "code",
      "source": [
        "train_data = train_data.drop(columns=[\"id\", \"index\"])"
      ],
      "metadata": {
        "id": "4-QlTSwqSl6q"
      },
      "execution_count": null,
      "outputs": []
    },
    {
      "cell_type": "code",
      "source": [
        "# Removing null values\n",
        "test_data.dropna(inplace=True)\n",
        "test_data.drop(test_data.loc[test_data['text']==\" \"].index, inplace=True)\n",
        "test_data.drop(test_data.loc[test_data['text']==\"  \"].index, inplace=True)\n",
        "test_data.drop(test_data.loc[test_data['text']==\"\\n\"].index, inplace=True)\n",
        "\n",
        "# Resetting index\n",
        "test_data.reset_index(inplace=True)"
      ],
      "metadata": {
        "id": "wKhYZ-kgSm7G"
      },
      "execution_count": null,
      "outputs": []
    },
    {
      "cell_type": "code",
      "source": [
        "test_data= test_data.apply(lambda x: x.astype(str).str.lower())"
      ],
      "metadata": {
        "id": "25FE4EaxSoR5"
      },
      "execution_count": null,
      "outputs": []
    },
    {
      "cell_type": "code",
      "source": [
        "test_data = test_data.drop(columns=[\"id\",\"index\"])"
      ],
      "metadata": {
        "id": "zGL-XZdpSp4M"
      },
      "execution_count": null,
      "outputs": []
    },
    {
      "cell_type": "code",
      "source": [
        "!pip install --upgrade --no-cache-dir gdown"
      ],
      "metadata": {
        "id": "ssSeum7ESr-c"
      },
      "execution_count": null,
      "outputs": []
    },
    {
      "cell_type": "code",
      "source": [
        "! gdown --id 1pGkEyDelD7Lp7yhFML9Dt1oo-91Mqf9H\n",
        "! gdown --id 1DYVzeYjjTTeHtazHfKD9FTx57h-77bkC"
      ],
      "metadata": {
        "id": "f84PVS1qStQg",
        "colab": {
          "base_uri": "https://localhost:8080/"
        },
        "outputId": "51a2bc1e-7e5e-413a-f9b5-4292c93a43ad"
      },
      "execution_count": null,
      "outputs": [
        {
          "output_type": "stream",
          "name": "stdout",
          "text": [
            "/usr/local/lib/python3.7/dist-packages/gdown/cli.py:131: FutureWarning: Option `--id` was deprecated in version 4.3.1 and will be removed in 5.0. You don't need to pass it anymore to use a file ID.\n",
            "  category=FutureWarning,\n",
            "Downloading...\n",
            "From: https://drive.google.com/uc?id=1pGkEyDelD7Lp7yhFML9Dt1oo-91Mqf9H\n",
            "To: /content/pre_train.csv\n",
            "100% 280M/280M [00:01<00:00, 248MB/s]\n",
            "/usr/local/lib/python3.7/dist-packages/gdown/cli.py:131: FutureWarning: Option `--id` was deprecated in version 4.3.1 and will be removed in 5.0. You don't need to pass it anymore to use a file ID.\n",
            "  category=FutureWarning,\n",
            "Downloading...\n",
            "From: https://drive.google.com/uc?id=1DYVzeYjjTTeHtazHfKD9FTx57h-77bkC\n",
            "To: /content/pre_test.csv\n",
            "100% 70.2M/70.2M [00:00<00:00, 76.4MB/s]\n"
          ]
        }
      ]
    },
    {
      "cell_type": "code",
      "source": [
        "#nulls\n",
        "! gdown --id 1-31BvAJpyVent7RyJWg2lveqvNBKWsYr\n",
        "! gdown --id 1a-OHeeWwuuCPKFbl2EfopQHD2erJ3KwK"
      ],
      "metadata": {
        "colab": {
          "base_uri": "https://localhost:8080/"
        },
        "id": "xTLypE12wVSf",
        "outputId": "0119fdd7-cb25-4e4a-9716-8b5e48e18f50"
      },
      "execution_count": null,
      "outputs": [
        {
          "output_type": "stream",
          "name": "stdout",
          "text": [
            "/usr/local/lib/python3.7/dist-packages/gdown/cli.py:131: FutureWarning: Option `--id` was deprecated in version 4.3.1 and will be removed in 5.0. You don't need to pass it anymore to use a file ID.\n",
            "  category=FutureWarning,\n",
            "Downloading...\n",
            "From: https://drive.google.com/uc?id=1-31BvAJpyVent7RyJWg2lveqvNBKWsYr\n",
            "To: /content/pre_test_withnull.csv\n",
            "100% 79.3M/79.3M [00:00<00:00, 84.4MB/s]\n",
            "/usr/local/lib/python3.7/dist-packages/gdown/cli.py:131: FutureWarning: Option `--id` was deprecated in version 4.3.1 and will be removed in 5.0. You don't need to pass it anymore to use a file ID.\n",
            "  category=FutureWarning,\n",
            "Downloading...\n",
            "From: https://drive.google.com/uc?id=1a-OHeeWwuuCPKFbl2EfopQHD2erJ3KwK\n",
            "To: /content/pre_train_withnull.csv\n",
            "100% 316M/316M [00:02<00:00, 136MB/s]\n"
          ]
        }
      ]
    },
    {
      "cell_type": "code",
      "source": [
        "transformed_df = pd.read_csv(\"pre_train.csv\")\n",
        "transformed_df_test = pd.read_csv(\"pre_test.csv\")"
      ],
      "metadata": {
        "id": "vikOBne7Sunr"
      },
      "execution_count": null,
      "outputs": []
    },
    {
      "cell_type": "code",
      "source": [
        "transformed_df = pd.read_csv(\"pre_train_withnull.csv\")\n",
        "transformed_df_test = pd.read_csv(\"pre_test_withnull.csv\")"
      ],
      "metadata": {
        "id": "dfagl_p_wYom"
      },
      "execution_count": null,
      "outputs": []
    },
    {
      "cell_type": "code",
      "source": [
        "X_test = transformed_df_test.values\n",
        "y_test = test_data[\"label\"].values "
      ],
      "metadata": {
        "id": "KtDcgawpSvvx"
      },
      "execution_count": null,
      "outputs": []
    },
    {
      "cell_type": "code",
      "source": [
        "transformed_df.shape"
      ],
      "metadata": {
        "colab": {
          "base_uri": "https://localhost:8080/"
        },
        "id": "uYs6LdMHwgOX",
        "outputId": "204be659-6479-441f-ada3-2cab9c67c7b1"
      },
      "execution_count": null,
      "outputs": [
        {
          "output_type": "execute_result",
          "data": {
            "text/plain": [
              "(20800, 3000)"
            ]
          },
          "metadata": {},
          "execution_count": 33
        }
      ]
    },
    {
      "cell_type": "markdown",
      "source": [
        "1. CROSS VALIDATE"
      ],
      "metadata": {
        "id": "lrkWQ46_S3dK"
      }
    },
    {
      "cell_type": "code",
      "source": [
        "#stratified Kfold (k=5) split for training data\n",
        "\n",
        "from sklearn.model_selection import StratifiedKFold\n",
        "skf = StratifiedKFold(n_splits=5)\n",
        "\n",
        "X = transformed_df.values\n",
        "y = train_data[\"label\"].values.astype('int')\n",
        "\n",
        "X_train=[]\n",
        "X_val=[]\n",
        "y_train=[]\n",
        "y_val=[]\n",
        "\n",
        "for train_index, test_index in skf.split(X, y):\n",
        "  X_train.append(X[train_index])\n",
        "  X_val.append(X[test_index]) \n",
        "  y_train.append(y[train_index])\n",
        "  y_val.append(y[test_index])"
      ],
      "metadata": {
        "id": "0chR73C2S4_T"
      },
      "execution_count": null,
      "outputs": []
    },
    {
      "cell_type": "code",
      "source": [
        "y[:10]"
      ],
      "metadata": {
        "colab": {
          "base_uri": "https://localhost:8080/"
        },
        "id": "uoW6awgAWYUK",
        "outputId": "8689e0fe-7398-431c-b6f2-c0df3c859a63"
      },
      "execution_count": null,
      "outputs": [
        {
          "output_type": "execute_result",
          "data": {
            "text/plain": [
              "array([1, 0, 1, 1, 1, 0, 0, 0, 0, 0])"
            ]
          },
          "metadata": {},
          "execution_count": 16
        }
      ]
    },
    {
      "cell_type": "markdown",
      "source": [
        "2. LEARNING CURVE"
      ],
      "metadata": {
        "id": "aQ4KsfLaTtWQ"
      }
    },
    {
      "cell_type": "markdown",
      "source": [
        "2.1 Logistic Regression"
      ],
      "metadata": {
        "id": "WnWj8SqLTuvo"
      }
    },
    {
      "cell_type": "code",
      "source": [
        "from sklearn.model_selection import learning_curve"
      ],
      "metadata": {
        "id": "Iyka_YckTOtl"
      },
      "execution_count": null,
      "outputs": []
    },
    {
      "cell_type": "code",
      "source": [
        "from sklearn.linear_model import LogisticRegression"
      ],
      "metadata": {
        "id": "hTgX3WK5TyTL"
      },
      "execution_count": null,
      "outputs": []
    },
    {
      "cell_type": "code",
      "source": [
        "train_sizes = [k for k in range(1000, 14001, 1000)]"
      ],
      "metadata": {
        "id": "_zqxiqcQVgX6"
      },
      "execution_count": null,
      "outputs": []
    },
    {
      "cell_type": "code",
      "source": [
        "#Optimal parameters:\n",
        "#'C', 838.1663841715371), ('fit_intercept', True), ('max_iter', 760), ('penalty', 'l2'), ('tol', 0.00033408696968072204), ('warm_start', False)"
      ],
      "metadata": {
        "id": "zelKU_FUcK6t"
      },
      "execution_count": null,
      "outputs": []
    },
    {
      "cell_type": "code",
      "source": [
        "train_sizes, train_scores, validation_scores = learning_curve(estimator = LogisticRegression(C=838, max_iter=760, penalty='l2', tol=0.0003), X = X, y = y, train_sizes = train_sizes, cv = 5, scoring='accuracy')"
      ],
      "metadata": {
        "id": "xQTv-MGsVHfO"
      },
      "execution_count": null,
      "outputs": []
    },
    {
      "cell_type": "code",
      "source": [
        "train_scores_mean = train_scores.mean(axis = 1)\n",
        "validation_scores_mean = validation_scores.mean(axis = 1)"
      ],
      "metadata": {
        "id": "M7uR5OV6a5uM"
      },
      "execution_count": null,
      "outputs": []
    },
    {
      "cell_type": "code",
      "source": [
        "import matplotlib.pyplot as plt"
      ],
      "metadata": {
        "id": "42y-IBj-a1ZO"
      },
      "execution_count": null,
      "outputs": []
    },
    {
      "cell_type": "code",
      "source": [
        "plt.style.use('seaborn')\n",
        "plt.plot(train_sizes, train_scores_mean, label = 'Training accuracy')\n",
        "plt.plot(train_sizes, validation_scores_mean, label = 'Validation accuracy')\n",
        "plt.ylabel('Accuracy', fontsize = 14)\n",
        "plt.xlabel('Training set size', fontsize = 14)\n",
        "plt.title('Learning curves for a logistic regression model', fontsize = 18, y = 1.03)\n",
        "plt.legend()"
      ],
      "metadata": {
        "colab": {
          "base_uri": "https://localhost:8080/",
          "height": 410
        },
        "id": "AqeQruW5a19c",
        "outputId": "09855aaf-afba-4ba5-af9c-57c14a71e558"
      },
      "execution_count": null,
      "outputs": [
        {
          "output_type": "execute_result",
          "data": {
            "text/plain": [
              "<matplotlib.legend.Legend at 0x7f4b272b0990>"
            ]
          },
          "metadata": {},
          "execution_count": 63
        },
        {
          "output_type": "display_data",
          "data": {
            "text/plain": [
              "<Figure size 576x396 with 1 Axes>"
            ],
            "image/png": "[encoded data removed]"
          },
          "metadata": {}
        }
      ]
    },
    {
      "cell_type": "markdown",
      "source": [
        "2.2 Logistic Regression SGD"
      ],
      "metadata": {
        "id": "OdiSNiQEbwBn"
      }
    },
    {
      "cell_type": "code",
      "source": [
        "from sklearn.linear_model import SGDClassifier"
      ],
      "metadata": {
        "id": "UC2McDpab7LJ"
      },
      "execution_count": null,
      "outputs": []
    },
    {
      "cell_type": "code",
      "source": [
        "#optimal parameters:\n",
        "#('alpha', 1e-05), ('early_stopping', True), ('eta0', 10.0), ('fit_intercept', True), ('l1_ratio', 0.0), ('learning_rate', 'adaptive'), ('loss', 'log'), ('max_iter', 1000), ('n_iter_no_change', 15), ('penalty', 'l2'), ('power_t', 0.0), ('tol', 0.0001), ('validation_fraction', 0.3), ('warm_start', True)"
      ],
      "metadata": {
        "id": "ZRRbkQ-Cdco8"
      },
      "execution_count": null,
      "outputs": []
    },
    {
      "cell_type": "code",
      "source": [
        "train_sizes, train_scores, validation_scores = learning_curve(estimator = SGDClassifier(alpha=1e-5, early_stopping=True, eta0=10, l1_ratio=0.0, learning_rate='adaptive', loss='log', n_iter_no_change=15, penalty='l2', power_t=0.0, tol=0.0001, validation_fraction=0.3, warm_start=True), X = X, y = y, train_sizes = train_sizes, cv = 5, scoring='accuracy')"
      ],
      "metadata": {
        "id": "eQexyCozdSe_"
      },
      "execution_count": null,
      "outputs": []
    },
    {
      "cell_type": "code",
      "source": [
        "train_scores_mean = train_scores.mean(axis = 1)\n",
        "validation_scores_mean = validation_scores.mean(axis = 1)"
      ],
      "metadata": {
        "id": "7hDsvwIseFDf"
      },
      "execution_count": null,
      "outputs": []
    },
    {
      "cell_type": "code",
      "source": [
        "plt.style.use('seaborn')\n",
        "plt.plot(train_sizes, train_scores_mean, label = 'Training accuracy')\n",
        "plt.plot(train_sizes, validation_scores_mean, label = 'Validation accuracy')\n",
        "plt.ylabel('Accuracy', fontsize = 14)\n",
        "plt.xlabel('Training set size', fontsize = 14)\n",
        "plt.title('Learning curves for a logistic regression [SGD] model', fontsize = 18, y = 1.03)\n",
        "plt.legend()"
      ],
      "metadata": {
        "colab": {
          "base_uri": "https://localhost:8080/",
          "height": 410
        },
        "id": "Gek4DwBLeHLq",
        "outputId": "dc685cc1-4206-4007-e576-e80b5d03fd6b"
      },
      "execution_count": null,
      "outputs": [
        {
          "output_type": "execute_result",
          "data": {
            "text/plain": [
              "<matplotlib.legend.Legend at 0x7f4b26a2d810>"
            ]
          },
          "metadata": {},
          "execution_count": 68
        },
        {
          "output_type": "display_data",
          "data": {
            "text/plain": [
              "<Figure size 576x396 with 1 Axes>"
            ],
            "image/png": "[encoded data removed]"
          },
          "metadata": {}
        }
      ]
    },
    {
      "cell_type": "markdown",
      "source": [
        "2.3 Passive Aggressive"
      ],
      "metadata": {
        "id": "XLluA151eMhO"
      }
    },
    {
      "cell_type": "code",
      "source": [
        "from sklearn.linear_model import PassiveAggressiveClassifier"
      ],
      "metadata": {
        "id": "z8soTX5TeOOK"
      },
      "execution_count": null,
      "outputs": []
    },
    {
      "cell_type": "code",
      "source": [
        "#optimal parameters:\n",
        "#('C', 654.8189998748911), ('early_stopping', True), ('fit_intercept', True), ('max_iter', 8358), ('n_iter_no_change', 13), ('tol', 0.008517734372197392), ('validation_fraction', 0.2), ('warm_start', False)"
      ],
      "metadata": {
        "id": "Z4jn1f7feZok"
      },
      "execution_count": null,
      "outputs": []
    },
    {
      "cell_type": "code",
      "source": [
        "train_sizes, train_scores, validation_scores = learning_curve(estimator = PassiveAggressiveClassifier(C=654.8, early_stopping=True, max_iter=8358, n_iter_no_change=13, tol=0.0085, validation_fraction=0.2), X = X, y = y, train_sizes = train_sizes, cv = 5, scoring='accuracy')"
      ],
      "metadata": {
        "id": "f0yzO09neQfk"
      },
      "execution_count": null,
      "outputs": []
    },
    {
      "cell_type": "code",
      "source": [
        "train_scores_mean = train_scores.mean(axis = 1)\n",
        "validation_scores_mean = validation_scores.mean(axis = 1)"
      ],
      "metadata": {
        "id": "UFQN6w5OeTJ_"
      },
      "execution_count": null,
      "outputs": []
    },
    {
      "cell_type": "code",
      "source": [
        "plt.style.use('seaborn')\n",
        "plt.plot(train_sizes, train_scores_mean, label = 'Training accuracy')\n",
        "plt.plot(train_sizes, validation_scores_mean, label = 'Validation accuracy')\n",
        "plt.ylabel('Accuracy', fontsize = 14)\n",
        "plt.xlabel('Training set size', fontsize = 14)\n",
        "plt.title('Learning curves for a logistic regression [SGD] model', fontsize = 18, y = 1.03)\n",
        "plt.legend()"
      ],
      "metadata": {
        "colab": {
          "base_uri": "https://localhost:8080/",
          "height": 410
        },
        "id": "wk-A6LOveTca",
        "outputId": "28e0a637-7353-46a4-f876-ae0a4861cdc0"
      },
      "execution_count": null,
      "outputs": [
        {
          "output_type": "execute_result",
          "data": {
            "text/plain": [
              "<matplotlib.legend.Legend at 0x7f4b26b3f3d0>"
            ]
          },
          "metadata": {},
          "execution_count": 72
        },
        {
          "output_type": "display_data",
          "data": {
            "text/plain": [
              "<Figure size 576x396 with 1 Axes>"
            ],
            "image/png": "[encoded data removed]"
          },
          "metadata": {}
        }
      ]
    },
    {
      "cell_type": "markdown",
      "source": [
        "2.4 KNN"
      ],
      "metadata": {
        "id": "2F9FjAH5eyD3"
      }
    },
    {
      "cell_type": "code",
      "source": [
        "from sklearn.neighbors import KNeighborsClassifier"
      ],
      "metadata": {
        "id": "aF9Qc6DYezTY"
      },
      "execution_count": null,
      "outputs": []
    },
    {
      "cell_type": "code",
      "source": [
        "#optimal parameters:\n",
        "#('algorithm', 'auto'), ('leaf_size', 47), ('n_neighbors', 16), ('p', 3), ('weights', 'distance')"
      ],
      "metadata": {
        "id": "B-F8cueje_VK"
      },
      "execution_count": null,
      "outputs": []
    },
    {
      "cell_type": "code",
      "source": [
        "train_sizes, train_scores, validation_scores = learning_curve(estimator = KNeighborsClassifier(leaf_size=47, n_neighbors=16, p=3, weights='distance'), X = X, y = y, train_sizes = train_sizes, cv = 5, scoring='accuracy')"
      ],
      "metadata": {
        "id": "mL7zs0sUe2UC"
      },
      "execution_count": null,
      "outputs": []
    },
    {
      "cell_type": "code",
      "source": [
        "train_scores_mean = train_scores.mean(axis = 1)\n",
        "validation_scores_mean = validation_scores.mean(axis = 1)"
      ],
      "metadata": {
        "id": "NGWWbCkNe2WE"
      },
      "execution_count": null,
      "outputs": []
    },
    {
      "cell_type": "code",
      "source": [
        "plt.style.use('seaborn')\n",
        "plt.plot(train_sizes, train_scores_mean, label = 'Training accuracy')\n",
        "plt.plot(train_sizes, validation_scores_mean, label = 'Validation accuracy')\n",
        "plt.ylabel('Accuracy', fontsize = 14)\n",
        "plt.xlabel('Training set size', fontsize = 14)\n",
        "plt.title('Learning curves for KNN', fontsize = 18, y = 1.03)\n",
        "plt.legend()"
      ],
      "metadata": {
        "id": "FVgVp3G7e2Ym"
      },
      "execution_count": null,
      "outputs": []
    },
    {
      "cell_type": "markdown",
      "source": [
        "XGBOOST"
      ],
      "metadata": {
        "id": "b0jUz3vhP9eY"
      }
    },
    {
      "cell_type": "code",
      "source": [
        "from xgboost import XGBClassifier"
      ],
      "metadata": {
        "id": "x1byHPUwQQAJ"
      },
      "execution_count": null,
      "outputs": []
    },
    {
      "cell_type": "code",
      "source": [
        "train_sizes, train_scores, validation_scores = learning_curve(estimator = XGBClassifier(objective = 'binary:logistic',eval_metric = 'auc',silent=1,tree_method='gpu_hist', alpha= 6, colsample_bytree=0.9945, eta=0.079, gamma=3.89178, reg_lambda=9, max_delta_step=5, max_depth=10, min_child_weight=9, n_estimators=100, subsample=0.865), X = X, y = y, train_sizes = train_sizes, cv = 5, scoring='accuracy')"
      ],
      "metadata": {
        "id": "Jy-3IkBGQRNI"
      },
      "execution_count": null,
      "outputs": []
    },
    {
      "cell_type": "code",
      "source": [
        "train_scores_mean = train_scores.mean(axis = 1)\n",
        "validation_scores_mean = validation_scores.mean(axis = 1)"
      ],
      "metadata": {
        "id": "nIQIOjNgRCBV"
      },
      "execution_count": null,
      "outputs": []
    },
    {
      "cell_type": "code",
      "source": [
        "plt.style.use('seaborn')\n",
        "plt.plot(train_sizes, train_scores_mean, label = 'Training accuracy')\n",
        "plt.plot(train_sizes, validation_scores_mean, label = 'Validation accuracy')\n",
        "plt.ylabel('Accuracy', fontsize = 14)\n",
        "plt.xlabel('Training set size', fontsize = 14)\n",
        "plt.title('Learning curves for KNN', fontsize = 18, y = 1.03)\n",
        "plt.legend()"
      ],
      "metadata": {
        "id": "_8D8MB_JRDN-",
        "colab": {
          "base_uri": "https://localhost:8080/",
          "height": 410
        },
        "outputId": "a2ff6a0a-76c9-46e8-be54-abb20666562f"
      },
      "execution_count": null,
      "outputs": [
        {
          "output_type": "execute_result",
          "data": {
            "text/plain": [
              "<matplotlib.legend.Legend at 0x7f444c67bf10>"
            ]
          },
          "metadata": {},
          "execution_count": 21
        },
        {
          "output_type": "display_data",
          "data": {
            "text/plain": [
              "<Figure size 576x396 with 1 Axes>"
            ],
            "image/png": "[encoded data removed]"
          },
          "metadata": {}
        }
      ]
    },
    {
      "cell_type": "markdown",
      "source": [
        "Random Forest"
      ],
      "metadata": {
        "id": "yRvh5YHY4LqK"
      }
    },
    {
      "cell_type": "code",
      "source": [
        "from sklearn.ensemble import RandomForestClassifier"
      ],
      "metadata": {
        "id": "m_9G_4hp4L-J"
      },
      "execution_count": null,
      "outputs": []
    },
    {
      "cell_type": "code",
      "source": [
        "len(y)"
      ],
      "metadata": {
        "colab": {
          "base_uri": "https://localhost:8080/"
        },
        "id": "wipEi-8Bwq_M",
        "outputId": "04da1f60-8e54-4c7e-e5ff-57e26cb96c43"
      },
      "execution_count": null,
      "outputs": [
        {
          "output_type": "execute_result",
          "data": {
            "text/plain": [
              "20800"
            ]
          },
          "metadata": {},
          "execution_count": 37
        }
      ]
    },
    {
      "cell_type": "code",
      "source": [
        "train_sizes, train_scores, validation_scores = learning_curve(estimator = RandomForestClassifier(n_estimators=200,criterion='entropy'), X = X, y = y, train_sizes = train_sizes, cv = 5, scoring='accuracy')"
      ],
      "metadata": {
        "id": "kf24aWXr4NON"
      },
      "execution_count": null,
      "outputs": []
    },
    {
      "cell_type": "code",
      "source": [
        "train_scores_mean = train_scores.mean(axis = 1)\n",
        "validation_scores_mean = validation_scores.mean(axis = 1)"
      ],
      "metadata": {
        "id": "kPYhDoVN4b5P"
      },
      "execution_count": null,
      "outputs": []
    },
    {
      "cell_type": "code",
      "source": [
        "plt.style.use('seaborn')\n",
        "plt.plot(train_sizes, train_scores_mean, label = 'Training accuracy')\n",
        "plt.plot(train_sizes, validation_scores_mean, label = 'Validation accuracy')\n",
        "plt.ylabel('Accuracy', fontsize = 14)\n",
        "plt.xlabel('Training set size', fontsize = 14)\n",
        "plt.title('Learning curves for RF', fontsize = 18, y = 1.03)\n",
        "plt.legend()"
      ],
      "metadata": {
        "colab": {
          "base_uri": "https://localhost:8080/",
          "height": 410
        },
        "id": "UEW2BRnBwx_U",
        "outputId": "be114ff2-7d34-4fa0-9e4f-accf3b937188"
      },
      "execution_count": null,
      "outputs": [
        {
          "output_type": "execute_result",
          "data": {
            "text/plain": [
              "<matplotlib.legend.Legend at 0x7fddef43c210>"
            ]
          },
          "metadata": {},
          "execution_count": 16
        },
        {
          "output_type": "display_data",
          "data": {
            "text/plain": [
              "<Figure size 576x396 with 1 Axes>"
            ],
            "image/png": "[encoded data removed]"
          },
          "metadata": {}
        }
      ]
    }
  ]
}