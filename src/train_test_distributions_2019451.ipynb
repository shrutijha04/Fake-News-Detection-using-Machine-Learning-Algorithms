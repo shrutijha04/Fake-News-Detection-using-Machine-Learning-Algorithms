{
  "nbformat": 4,
  "nbformat_minor": 0,
  "metadata": {
    "colab": {
      "name": "train_test_distributions.ipynb",
      "provenance": [],
      "collapsed_sections": []
    },
    "kernelspec": {
      "name": "python3",
      "display_name": "Python 3"
    },
    "language_info": {
      "name": "python"
    }
  },
  "cells": [
    {
      "cell_type": "markdown",
      "source": [
        "0. DATASETS"
      ],
      "metadata": {
        "id": "m7N7oWh8CXSi"
      }
    },
    {
      "cell_type": "code",
      "source": [
        "! gdown --id 1E8OTtNK_UNSAdmkg3OuB0k2FsKKF9QpY\n",
        "! gdown --id 1-pm6_kvT9CBrYER40uIkRiG0KMlHnH7L\n",
        "! gdown --id 1oiVQignVg1wvE1LXKFvOLHPl0P8GNSDp"
      ],
      "metadata": {
        "id": "0poRHnO2CYjG"
      },
      "execution_count": null,
      "outputs": []
    },
    {
      "cell_type": "code",
      "source": [
        "!pip install python-arango\n",
        "!pip install arangopipe==0.0.70.0.0\n",
        "!pip install pandas PyYAML==5.1.1 sklearn2\n",
        "!pip install jsonpickle"
      ],
      "metadata": {
        "id": "mLaqVKF3uZkH"
      },
      "execution_count": null,
      "outputs": []
    },
    {
      "cell_type": "code",
      "source": [
        "import numpy as np\n",
        "import pandas as pd"
      ],
      "metadata": {
        "id": "PmORQWZaCZqM"
      },
      "execution_count": null,
      "outputs": []
    },
    {
      "cell_type": "code",
      "source": [
        "train_data = pd.read_csv(\"train.csv\")\n",
        "test_data = pd.read_csv(\"test.csv\")\n",
        "submit_data = pd.read_csv(\"submit.csv\")"
      ],
      "metadata": {
        "id": "kp2pT2SPCbbX"
      },
      "execution_count": null,
      "outputs": []
    },
    {
      "cell_type": "code",
      "source": [
        "test_data = test_data.join(submit_data[\"label\"])"
      ],
      "metadata": {
        "id": "5SaOqiVZCc-p"
      },
      "execution_count": null,
      "outputs": []
    },
    {
      "cell_type": "code",
      "source": [
        "# Removing null values\n",
        "train_data.dropna(inplace=True)\n",
        "train_data.drop(train_data.loc[train_data['text']==\" \"].index, inplace=True)\n",
        "train_data.drop(train_data.loc[train_data['text']==\"  \"].index, inplace=True)\n",
        "train_data.drop(train_data.loc[train_data['text']==\"\\n\"].index, inplace=True)\n",
        "\n",
        "# Resetting index\n",
        "train_data.reset_index(inplace=True)"
      ],
      "metadata": {
        "id": "2pmrmd51CeP9"
      },
      "execution_count": null,
      "outputs": []
    },
    {
      "cell_type": "code",
      "source": [
        "train_data= train_data.apply(lambda x: x.astype(str).str.lower())"
      ],
      "metadata": {
        "id": "RrsI8b0wCf8W"
      },
      "execution_count": null,
      "outputs": []
    },
    {
      "cell_type": "code",
      "source": [
        "train_data = train_data.drop(columns=[\"id\", \"index\"])"
      ],
      "metadata": {
        "id": "M5lHh3NnCf-1"
      },
      "execution_count": null,
      "outputs": []
    },
    {
      "cell_type": "code",
      "source": [
        "# Removing null values\n",
        "test_data.dropna(inplace=True)\n",
        "test_data.drop(test_data.loc[test_data['text']==\" \"].index, inplace=True)\n",
        "test_data.drop(test_data.loc[test_data['text']==\"  \"].index, inplace=True)\n",
        "test_data.drop(test_data.loc[test_data['text']==\"\\n\"].index, inplace=True)\n",
        "\n",
        "# Resetting index\n",
        "test_data.reset_index(inplace=True)"
      ],
      "metadata": {
        "id": "-lNvyotWCgAp"
      },
      "execution_count": null,
      "outputs": []
    },
    {
      "cell_type": "code",
      "source": [
        "test_data= test_data.apply(lambda x: x.astype(str).str.lower())"
      ],
      "metadata": {
        "id": "Ab5DEJjZCgC7"
      },
      "execution_count": null,
      "outputs": []
    },
    {
      "cell_type": "code",
      "source": [
        "test_data = test_data.drop(columns=[\"id\",\"index\"])"
      ],
      "metadata": {
        "id": "EYwlKOC6CgEj"
      },
      "execution_count": null,
      "outputs": []
    },
    {
      "cell_type": "code",
      "source": [
        "!pip install --upgrade --no-cache-dir gdown"
      ],
      "metadata": {
        "id": "QhKmNckdCgHv"
      },
      "execution_count": null,
      "outputs": []
    },
    {
      "cell_type": "code",
      "source": [
        "! gdown --id 1pGkEyDelD7Lp7yhFML9Dt1oo-91Mqf9H\n",
        "! gdown --id 1DYVzeYjjTTeHtazHfKD9FTx57h-77bkC"
      ],
      "metadata": {
        "id": "NENvEI8tCni4"
      },
      "execution_count": null,
      "outputs": []
    },
    {
      "cell_type": "code",
      "source": [
        "transformed_df = pd.read_csv(\"pre_train.csv\")\n",
        "transformed_df_test = pd.read_csv(\"pre_test.csv\")"
      ],
      "metadata": {
        "id": "Qbrs6zr5CnlJ"
      },
      "execution_count": null,
      "outputs": []
    },
    {
      "cell_type": "code",
      "source": [
        "X = transformed_df\n",
        "y = train_data[\"label\"].to_frame()"
      ],
      "metadata": {
        "id": "ud9mw6KhFeeA"
      },
      "execution_count": null,
      "outputs": []
    },
    {
      "cell_type": "code",
      "source": [
        "X_test = transformed_df_test\n",
        "y_test = test_data[\"label\"].to_frame()"
      ],
      "metadata": {
        "id": "sUYdyoJACnnS"
      },
      "execution_count": null,
      "outputs": []
    },
    {
      "cell_type": "code",
      "source": [
        "\"\"\"X.reset_index(inplace=True)\n",
        "y.reset_index(inplace=True)\n",
        "X_test.reset_index(inplace=True)\n",
        "y_test.reset_index(inplace=True)\n",
        "\n",
        "X = X.drop(columns=[\"index\"])\n",
        "y = y.drop(columns=[\"index\"])\n",
        "X_test = X_test.drop(columns=[\"index\"])\n",
        "y_test = y_test.drop(columns=[\"index\"])\"\"\""
      ],
      "metadata": {
        "id": "jUbZdRX7LHFF"
      },
      "execution_count": null,
      "outputs": []
    },
    {
      "cell_type": "markdown",
      "source": [
        "ArangoML"
      ],
      "metadata": {
        "id": "b4ZkDpbSvwXP"
      }
    },
    {
      "cell_type": "code",
      "source": [
        ""
      ],
      "metadata": {
        "id": "vT1f7RL9wNrY"
      },
      "execution_count": null,
      "outputs": []
    },
    {
      "cell_type": "code",
      "source": [
        "y.rename(columns = {'label':'classlabel'}, inplace = True)\n",
        "y_test.rename(columns = {'label':'classlabel'}, inplace = True)\n",
        "Xtotal = X.join(y[\"classlabel\"])\n",
        "X_testtotal = X_test.join(y_test[\"classlabel\"])"
      ],
      "metadata": {
        "id": "8jlNOjREvbL9"
      },
      "execution_count": null,
      "outputs": []
    },
    {
      "cell_type": "code",
      "source": [
        "from arangopipe.arangopipe_analytics.rf_dataset_shift_detector import RF_DatasetShiftDetector\n",
        "\n",
        "rfd = RF_DatasetShiftDetector()\n",
        "score = rfd.detect_dataset_shift(X, X_test)\n",
        "print (\"Detaset shift score : %2.2f\" % (score))"
      ],
      "metadata": {
        "colab": {
          "base_uri": "https://localhost:8080/"
        },
        "id": "-kLOyaRjuskg",
        "outputId": "36c7529e-fcbc-4281-e5bb-ff91c3cc6dd4"
      },
      "execution_count": null,
      "outputs": [
        {
          "output_type": "stream",
          "name": "stdout",
          "text": [
            "Detaset shift score : 0.80\n"
          ]
        }
      ]
    },
    {
      "cell_type": "code",
      "source": [
        "from arangopipe.arangopipe_analytics.rf_dataset_shift_detector import RF_DatasetShiftDetector\n",
        "\n",
        "rfd = RF_DatasetShiftDetector()\n",
        "score = rfd.detect_dataset_shift(Xtotal, X_testtotal)\n",
        "print (\"Detaset shift score : %2.2f\" % (score))"
      ],
      "metadata": {
        "colab": {
          "base_uri": "https://localhost:8080/"
        },
        "id": "icN8br5jw1A5",
        "outputId": "c861d3f5-e3c5-4827-aefe-3cbe50cc4394"
      },
      "execution_count": null,
      "outputs": [
        {
          "output_type": "stream",
          "name": "stdout",
          "text": [
            "Detaset shift score : 0.80\n"
          ]
        }
      ]
    },
    {
      "cell_type": "markdown",
      "source": [
        "1. distribution"
      ],
      "metadata": {
        "id": "3g8DwJHdCryX"
      }
    },
    {
      "cell_type": "code",
      "source": [
        "\"\"\"extracted_col = y[\"label\"]\n",
        "X_test.insert(3000, \"classLabel\", extracted_col)\"\"\""
      ],
      "metadata": {
        "id": "JztS75a9fcx1"
      },
      "execution_count": null,
      "outputs": []
    },
    {
      "cell_type": "code",
      "source": [
        "X.insert(3000, \"classLabel\", y[\"label\"])\n",
        "X_test.insert(3000, \"classLabel\", y_test[\"label\"])"
      ],
      "metadata": {
        "id": "H6j63lp-CvKA"
      },
      "execution_count": null,
      "outputs": []
    },
    {
      "cell_type": "code",
      "source": [
        "X['is_train'] = 1\n",
        "X_test['is_train'] = 0"
      ],
      "metadata": {
        "id": "w_4pzIK-CvMT"
      },
      "execution_count": null,
      "outputs": []
    },
    {
      "cell_type": "code",
      "source": [
        "dataset = pd.concat([X, X_test])"
      ],
      "metadata": {
        "id": "qzLEfTsgCvOq"
      },
      "execution_count": null,
      "outputs": []
    },
    {
      "cell_type": "code",
      "source": [
        "#drop classLabel from both\n",
        "dataset = dataset.drop(\"classLabel\", axis=1)"
      ],
      "metadata": {
        "id": "gGZ5GyGeiBFJ"
      },
      "execution_count": null,
      "outputs": []
    },
    {
      "cell_type": "code",
      "source": [
        "y = dataset['is_train'].values\n",
        "x = dataset.drop('is_train', axis=1).values"
      ],
      "metadata": {
        "id": "E6vn-tGriI8l"
      },
      "execution_count": null,
      "outputs": []
    },
    {
      "cell_type": "code",
      "source": [
        "from sklearn.ensemble import RandomForestClassifier"
      ],
      "metadata": {
        "id": "LWi_vfp4GrOn"
      },
      "execution_count": null,
      "outputs": []
    },
    {
      "cell_type": "code",
      "source": [
        "m = RandomForestClassifier()\n",
        "predictions = np.zeros(y.shape)"
      ],
      "metadata": {
        "id": "3TG_d6VSCgNN"
      },
      "execution_count": null,
      "outputs": []
    },
    {
      "cell_type": "code",
      "source": [
        "from sklearn.model_selection import StratifiedKFold as SKF\n",
        "\n",
        "skf = SKF(n_splits=5, shuffle=True, random_state=0)\n",
        "for fold, (train_idx, test_idx) in enumerate(skf.split(x, y)):\n",
        " X_train, X_test = x[train_idx], x[test_idx]\n",
        " y_train, y_test = y[train_idx], y[test_idx]\n",
        " \n",
        " m.fit(X_train, y_train)\n",
        " probs = m.predict_proba(X_test)[:, 1] #calculating the probability\n",
        " predictions[test_idx] = probs"
      ],
      "metadata": {
        "id": "b-97VR1sHFr2"
      },
      "execution_count": null,
      "outputs": []
    },
    {
      "cell_type": "code",
      "source": [
        "from sklearn.metrics import roc_auc_score as AUC"
      ],
      "metadata": {
        "id": "CAXRLkMqmGld"
      },
      "execution_count": null,
      "outputs": []
    },
    {
      "cell_type": "code",
      "source": [
        "#without removing classlabels [DO NOT RERUN]\n",
        "print('ROC-AUC for train and test distributions:', AUC(y, predictions))"
      ],
      "metadata": {
        "id": "ElJxKlG2Kc8b",
        "colab": {
          "base_uri": "https://localhost:8080/"
        },
        "outputId": "e69f98cc-cfad-4273-c8eb-85bfca7d8a36"
      },
      "execution_count": null,
      "outputs": [
        {
          "output_type": "stream",
          "name": "stdout",
          "text": [
            "ROC-AUC for train and test distributions: 0.7176302100050193\n"
          ]
        }
      ]
    },
    {
      "cell_type": "code",
      "source": [
        "#removing classlabels - need to drop target class label\n",
        "print('ROC-AUC for train and test distributions:', AUC(y, predictions))"
      ],
      "metadata": {
        "colab": {
          "base_uri": "https://localhost:8080/"
        },
        "id": "ozyHveqMmF7x",
        "outputId": "0fac7fc7-d445-4d73-a5ca-49ff6529f2a4"
      },
      "execution_count": null,
      "outputs": [
        {
          "output_type": "stream",
          "name": "stdout",
          "text": [
            "ROC-AUC for train and test distributions: 0.5051591897908786\n"
          ]
        }
      ]
    }
  ]
}