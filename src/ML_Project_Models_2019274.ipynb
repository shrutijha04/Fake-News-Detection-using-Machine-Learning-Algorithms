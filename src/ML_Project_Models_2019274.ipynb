{
  "nbformat": 4,
  "nbformat_minor": 0,
  "metadata": {
    "colab": {
      "name": "ML_Project_Models_2019274",
      "provenance": [],
      "collapsed_sections": []
    },
    "kernelspec": {
      "name": "python3",
      "display_name": "Python 3"
    },
    "language_info": {
      "name": "python"
    }
  },
  "cells": [
    {
      "cell_type": "markdown",
      "source": [
        "0. Loading the dataset and Pre-processing\n"
      ],
      "metadata": {
        "id": "JQyf_IT1bKs8"
      }
    },
    {
      "cell_type": "code",
      "source": [
        "!pip install --upgrade --no-cache-dir gdown"
      ],
      "metadata": {
        "id": "zwA4WESRg2Lb",
        "colab": {
          "base_uri": "https://localhost:8080/"
        },
        "outputId": "6c83c69a-3bed-4af3-fcfd-37ef17a29e0a"
      },
      "execution_count": null,
      "outputs": [
        {
          "output_type": "stream",
          "name": "stdout",
          "text": [
            "Requirement already satisfied: gdown in /usr/local/lib/python3.7/dist-packages (4.4.0)\n",
            "Requirement already satisfied: requests[socks] in /usr/local/lib/python3.7/dist-packages (from gdown) (2.23.0)\n",
            "Requirement already satisfied: filelock in /usr/local/lib/python3.7/dist-packages (from gdown) (3.6.0)\n",
            "Requirement already satisfied: six in /usr/local/lib/python3.7/dist-packages (from gdown) (1.15.0)\n",
            "Requirement already satisfied: beautifulsoup4 in /usr/local/lib/python3.7/dist-packages (from gdown) (4.6.3)\n",
            "Requirement already satisfied: tqdm in /usr/local/lib/python3.7/dist-packages (from gdown) (4.64.0)\n",
            "Requirement already satisfied: certifi>=2017.4.17 in /usr/local/lib/python3.7/dist-packages (from requests[socks]->gdown) (2021.10.8)\n",
            "Requirement already satisfied: urllib3!=1.25.0,!=1.25.1,<1.26,>=1.21.1 in /usr/local/lib/python3.7/dist-packages (from requests[socks]->gdown) (1.24.3)\n",
            "Requirement already satisfied: idna<3,>=2.5 in /usr/local/lib/python3.7/dist-packages (from requests[socks]->gdown) (2.10)\n",
            "Requirement already satisfied: chardet<4,>=3.0.2 in /usr/local/lib/python3.7/dist-packages (from requests[socks]->gdown) (3.0.4)\n",
            "Requirement already satisfied: PySocks!=1.5.7,>=1.5.6 in /usr/local/lib/python3.7/dist-packages (from requests[socks]->gdown) (1.7.1)\n"
          ]
        }
      ]
    },
    {
      "cell_type": "code",
      "source": [
        "#loading the training and test datasets from Kaggle\n",
        "\n",
        "! gdown --id 1E8OTtNK_UNSAdmkg3OuB0k2FsKKF9QpY\n",
        "! gdown --id 1-pm6_kvT9CBrYER40uIkRiG0KMlHnH7L\n",
        "! gdown --id 1oiVQignVg1wvE1LXKFvOLHPl0P8GNSDp"
      ],
      "metadata": {
        "id": "_XWxLM8Fyggh",
        "colab": {
          "base_uri": "https://localhost:8080/"
        },
        "outputId": "2f7d2517-4884-4223-c90b-38b8df29b4fe"
      },
      "execution_count": null,
      "outputs": [
        {
          "output_type": "stream",
          "name": "stdout",
          "text": [
            "/usr/local/lib/python3.7/dist-packages/gdown/cli.py:131: FutureWarning: Option `--id` was deprecated in version 4.3.1 and will be removed in 5.0. You don't need to pass it anymore to use a file ID.\n",
            "  category=FutureWarning,\n",
            "Downloading...\n",
            "From: https://drive.google.com/uc?id=1E8OTtNK_UNSAdmkg3OuB0k2FsKKF9QpY\n",
            "To: /content/train.csv\n",
            "100% 98.6M/98.6M [00:01<00:00, 86.4MB/s]\n",
            "/usr/local/lib/python3.7/dist-packages/gdown/cli.py:131: FutureWarning: Option `--id` was deprecated in version 4.3.1 and will be removed in 5.0. You don't need to pass it anymore to use a file ID.\n",
            "  category=FutureWarning,\n",
            "Downloading...\n",
            "From: https://drive.google.com/uc?id=1-pm6_kvT9CBrYER40uIkRiG0KMlHnH7L\n",
            "To: /content/test.csv\n",
            "100% 25.1M/25.1M [00:00<00:00, 69.0MB/s]\n",
            "/usr/local/lib/python3.7/dist-packages/gdown/cli.py:131: FutureWarning: Option `--id` was deprecated in version 4.3.1 and will be removed in 5.0. You don't need to pass it anymore to use a file ID.\n",
            "  category=FutureWarning,\n",
            "Downloading...\n",
            "From: https://drive.google.com/uc?id=1oiVQignVg1wvE1LXKFvOLHPl0P8GNSDp\n",
            "To: /content/submit.csv\n",
            "100% 41.6k/41.6k [00:00<00:00, 29.5MB/s]\n"
          ]
        }
      ]
    },
    {
      "cell_type": "code",
      "source": [
        "import numpy as np\n",
        "import pandas as pd"
      ],
      "metadata": {
        "id": "rYQE_2y2g1oR"
      },
      "execution_count": null,
      "outputs": []
    },
    {
      "cell_type": "code",
      "source": [
        "train_data = pd.read_csv(\"train.csv\")\n",
        "test_data = pd.read_csv(\"test.csv\")\n",
        "submit_data = pd.read_csv(\"submit.csv\")"
      ],
      "metadata": {
        "id": "ynUqKlYAg1ui"
      },
      "execution_count": null,
      "outputs": []
    },
    {
      "cell_type": "code",
      "source": [
        "test_data = test_data.join(submit_data[\"label\"])"
      ],
      "metadata": {
        "id": "OekfNuIng1xF"
      },
      "execution_count": null,
      "outputs": []
    },
    {
      "cell_type": "code",
      "source": [
        "# Checking null values\n",
        "train_data.isnull().sum()"
      ],
      "metadata": {
        "id": "hTTneQdyg1z6",
        "colab": {
          "base_uri": "https://localhost:8080/"
        },
        "outputId": "204df954-d947-48a7-b825-7bb34d1a78e7"
      },
      "execution_count": null,
      "outputs": [
        {
          "output_type": "execute_result",
          "data": {
            "text/plain": [
              "id           0\n",
              "title      558\n",
              "author    1957\n",
              "text        39\n",
              "label        0\n",
              "dtype: int64"
            ]
          },
          "metadata": {},
          "execution_count": 5
        }
      ]
    },
    {
      "cell_type": "code",
      "source": [
        "train_data= train_data.apply(lambda x: x.astype(str).str.lower())"
      ],
      "metadata": {
        "id": "J2BIvl03g15S"
      },
      "execution_count": null,
      "outputs": []
    },
    {
      "cell_type": "code",
      "source": [
        "train_data"
      ],
      "metadata": {
        "id": "ga0n1QS75BKD",
        "colab": {
          "base_uri": "https://localhost:8080/",
          "height": 424
        },
        "outputId": "cb43d37c-5a67-4019-ecd6-028a94e8a93b"
      },
      "execution_count": null,
      "outputs": [
        {
          "output_type": "execute_result",
          "data": {
            "text/plain": [
              "          id                                              title  \\\n",
              "0          0  house dem aide: we didn’t even see comey’s let...   \n",
              "1          1  flynn: hillary clinton, big woman on campus - ...   \n",
              "2          2                  why the truth might get you fired   \n",
              "3          3  15 civilians killed in single us airstrike hav...   \n",
              "4          4  iranian woman jailed for fictional unpublished...   \n",
              "...      ...                                                ...   \n",
              "20795  20795  rapper t.i.: trump a ’poster child for white s...   \n",
              "20796  20796  n.f.l. playoffs: schedule, matchups and odds -...   \n",
              "20797  20797  macy’s is said to receive takeover approach by...   \n",
              "20798  20798  nato, russia to hold parallel exercises in bal...   \n",
              "20799  20799                          what keeps the f-35 alive   \n",
              "\n",
              "                                          author  \\\n",
              "0                                  darrell lucus   \n",
              "1                                daniel j. flynn   \n",
              "2                             consortiumnews.com   \n",
              "3                                jessica purkiss   \n",
              "4                                 howard portnoy   \n",
              "...                                          ...   \n",
              "20795                              jerome hudson   \n",
              "20796                           benjamin hoffman   \n",
              "20797  michael j. de la merced and rachel abrams   \n",
              "20798                                alex ansary   \n",
              "20799                              david swanson   \n",
              "\n",
              "                                                    text label  \n",
              "0      house dem aide: we didn’t even see comey’s let...     1  \n",
              "1      ever get the feeling your life circles the rou...     0  \n",
              "2      why the truth might get you fired october 29, ...     1  \n",
              "3      videos 15 civilians killed in single us airstr...     1  \n",
              "4      print \\nan iranian woman has been sentenced to...     1  \n",
              "...                                                  ...   ...  \n",
              "20795  rapper t. i. unloaded on black celebrities who...     0  \n",
              "20796  when the green bay packers lost to the washing...     0  \n",
              "20797  the macy’s of today grew from the union of sev...     0  \n",
              "20798  nato, russia to hold parallel exercises in bal...     1  \n",
              "20799    david swanson is an author, activist, journa...     1  \n",
              "\n",
              "[20800 rows x 5 columns]"
            ],
            "text/html": [
              "\n",
              "  <div id=\"df-54fc20d7-cb5b-4072-8a01-80bbcf42b205\">\n",
              "    <div class=\"colab-df-container\">\n",
              "      <div>\n",
              "<style scoped>\n",
              "    .dataframe tbody tr th:only-of-type {\n",
              "        vertical-align: middle;\n",
              "    }\n",
              "\n",
              "    .dataframe tbody tr th {\n",
              "        vertical-align: top;\n",
              "    }\n",
              "\n",
              "    .dataframe thead th {\n",
              "        text-align: right;\n",
              "    }\n",
              "</style>\n",
              "<table border=\"1\" class=\"dataframe\">\n",
              "  <thead>\n",
              "    <tr style=\"text-align: right;\">\n",
              "      <th></th>\n",
              "      <th>id</th>\n",
              "      <th>title</th>\n",
              "      <th>author</th>\n",
              "      <th>text</th>\n",
              "      <th>label</th>\n",
              "    </tr>\n",
              "  </thead>\n",
              "  <tbody>\n",
              "    <tr>\n",
              "      <th>0</th>\n",
              "      <td>0</td>\n",
              "      <td>house dem aide: we didn’t even see comey’s let...</td>\n",
              "      <td>darrell lucus</td>\n",
              "      <td>house dem aide: we didn’t even see comey’s let...</td>\n",
              "      <td>1</td>\n",
              "    </tr>\n",
              "    <tr>\n",
              "      <th>1</th>\n",
              "      <td>1</td>\n",
              "      <td>flynn: hillary clinton, big woman on campus - ...</td>\n",
              "      <td>daniel j. flynn</td>\n",
              "      <td>ever get the feeling your life circles the rou...</td>\n",
              "      <td>0</td>\n",
              "    </tr>\n",
              "    <tr>\n",
              "      <th>2</th>\n",
              "      <td>2</td>\n",
              "      <td>why the truth might get you fired</td>\n",
              "      <td>consortiumnews.com</td>\n",
              "      <td>why the truth might get you fired october 29, ...</td>\n",
              "      <td>1</td>\n",
              "    </tr>\n",
              "    <tr>\n",
              "      <th>3</th>\n",
              "      <td>3</td>\n",
              "      <td>15 civilians killed in single us airstrike hav...</td>\n",
              "      <td>jessica purkiss</td>\n",
              "      <td>videos 15 civilians killed in single us airstr...</td>\n",
              "      <td>1</td>\n",
              "    </tr>\n",
              "    <tr>\n",
              "      <th>4</th>\n",
              "      <td>4</td>\n",
              "      <td>iranian woman jailed for fictional unpublished...</td>\n",
              "      <td>howard portnoy</td>\n",
              "      <td>print \\nan iranian woman has been sentenced to...</td>\n",
              "      <td>1</td>\n",
              "    </tr>\n",
              "    <tr>\n",
              "      <th>...</th>\n",
              "      <td>...</td>\n",
              "      <td>...</td>\n",
              "      <td>...</td>\n",
              "      <td>...</td>\n",
              "      <td>...</td>\n",
              "    </tr>\n",
              "    <tr>\n",
              "      <th>20795</th>\n",
              "      <td>20795</td>\n",
              "      <td>rapper t.i.: trump a ’poster child for white s...</td>\n",
              "      <td>jerome hudson</td>\n",
              "      <td>rapper t. i. unloaded on black celebrities who...</td>\n",
              "      <td>0</td>\n",
              "    </tr>\n",
              "    <tr>\n",
              "      <th>20796</th>\n",
              "      <td>20796</td>\n",
              "      <td>n.f.l. playoffs: schedule, matchups and odds -...</td>\n",
              "      <td>benjamin hoffman</td>\n",
              "      <td>when the green bay packers lost to the washing...</td>\n",
              "      <td>0</td>\n",
              "    </tr>\n",
              "    <tr>\n",
              "      <th>20797</th>\n",
              "      <td>20797</td>\n",
              "      <td>macy’s is said to receive takeover approach by...</td>\n",
              "      <td>michael j. de la merced and rachel abrams</td>\n",
              "      <td>the macy’s of today grew from the union of sev...</td>\n",
              "      <td>0</td>\n",
              "    </tr>\n",
              "    <tr>\n",
              "      <th>20798</th>\n",
              "      <td>20798</td>\n",
              "      <td>nato, russia to hold parallel exercises in bal...</td>\n",
              "      <td>alex ansary</td>\n",
              "      <td>nato, russia to hold parallel exercises in bal...</td>\n",
              "      <td>1</td>\n",
              "    </tr>\n",
              "    <tr>\n",
              "      <th>20799</th>\n",
              "      <td>20799</td>\n",
              "      <td>what keeps the f-35 alive</td>\n",
              "      <td>david swanson</td>\n",
              "      <td>david swanson is an author, activist, journa...</td>\n",
              "      <td>1</td>\n",
              "    </tr>\n",
              "  </tbody>\n",
              "</table>\n",
              "<p>20800 rows × 5 columns</p>\n",
              "</div>\n",
              "      <button class=\"colab-df-convert\" onclick=\"convertToInteractive('df-54fc20d7-cb5b-4072-8a01-80bbcf42b205')\"\n",
              "              title=\"Convert this dataframe to an interactive table.\"\n",
              "              style=\"display:none;\">\n",
              "        \n",
              "  <svg xmlns=\"http://www.w3.org/2000/svg\" height=\"24px\"viewBox=\"0 0 24 24\"\n",
              "       width=\"24px\">\n",
              "    <path d=\"M0 0h24v24H0V0z\" fill=\"none\"/>\n",
              "    <path d=\"M18.56 5.44l.94 2.06.94-2.06 2.06-.94-2.06-.94-.94-2.06-.94 2.06-2.06.94zm-11 1L8.5 8.5l.94-2.06 2.06-.94-2.06-.94L8.5 2.5l-.94 2.06-2.06.94zm10 10l.94 2.06.94-2.06 2.06-.94-2.06-.94-.94-2.06-.94 2.06-2.06.94z\"/><path d=\"M17.41 7.96l-1.37-1.37c-.4-.4-.92-.59-1.43-.59-.52 0-1.04.2-1.43.59L10.3 9.45l-7.72 7.72c-.78.78-.78 2.05 0 2.83L4 21.41c.39.39.9.59 1.41.59.51 0 1.02-.2 1.41-.59l7.78-7.78 2.81-2.81c.8-.78.8-2.07 0-2.86zM5.41 20L4 18.59l7.72-7.72 1.47 1.35L5.41 20z\"/>\n",
              "  </svg>\n",
              "      </button>\n",
              "      \n",
              "  <style>\n",
              "    .colab-df-container {\n",
              "      display:flex;\n",
              "      flex-wrap:wrap;\n",
              "      gap: 12px;\n",
              "    }\n",
              "\n",
              "    .colab-df-convert {\n",
              "      background-color: #E8F0FE;\n",
              "      border: none;\n",
              "      border-radius: 50%;\n",
              "      cursor: pointer;\n",
              "      display: none;\n",
              "      fill: #1967D2;\n",
              "      height: 32px;\n",
              "      padding: 0 0 0 0;\n",
              "      width: 32px;\n",
              "    }\n",
              "\n",
              "    .colab-df-convert:hover {\n",
              "      background-color: #E2EBFA;\n",
              "      box-shadow: 0px 1px 2px rgba(60, 64, 67, 0.3), 0px 1px 3px 1px rgba(60, 64, 67, 0.15);\n",
              "      fill: #174EA6;\n",
              "    }\n",
              "\n",
              "    [theme=dark] .colab-df-convert {\n",
              "      background-color: #3B4455;\n",
              "      fill: #D2E3FC;\n",
              "    }\n",
              "\n",
              "    [theme=dark] .colab-df-convert:hover {\n",
              "      background-color: #434B5C;\n",
              "      box-shadow: 0px 1px 3px 1px rgba(0, 0, 0, 0.15);\n",
              "      filter: drop-shadow(0px 1px 2px rgba(0, 0, 0, 0.3));\n",
              "      fill: #FFFFFF;\n",
              "    }\n",
              "  </style>\n",
              "\n",
              "      <script>\n",
              "        const buttonEl =\n",
              "          document.querySelector('#df-54fc20d7-cb5b-4072-8a01-80bbcf42b205 button.colab-df-convert');\n",
              "        buttonEl.style.display =\n",
              "          google.colab.kernel.accessAllowed ? 'block' : 'none';\n",
              "\n",
              "        async function convertToInteractive(key) {\n",
              "          const element = document.querySelector('#df-54fc20d7-cb5b-4072-8a01-80bbcf42b205');\n",
              "          const dataTable =\n",
              "            await google.colab.kernel.invokeFunction('convertToInteractive',\n",
              "                                                     [key], {});\n",
              "          if (!dataTable) return;\n",
              "\n",
              "          const docLinkHtml = 'Like what you see? Visit the ' +\n",
              "            '<a target=\"_blank\" href=https://colab.research.google.com/notebooks/data_table.ipynb>data table notebook</a>'\n",
              "            + ' to learn more about interactive tables.';\n",
              "          element.innerHTML = '';\n",
              "          dataTable['output_type'] = 'display_data';\n",
              "          await google.colab.output.renderOutput(dataTable, element);\n",
              "          const docLink = document.createElement('div');\n",
              "          docLink.innerHTML = docLinkHtml;\n",
              "          element.appendChild(docLink);\n",
              "        }\n",
              "      </script>\n",
              "    </div>\n",
              "  </div>\n",
              "  "
            ]
          },
          "metadata": {},
          "execution_count": 8
        }
      ]
    },
    {
      "cell_type": "code",
      "source": [
        "train_data = train_data.drop(columns=[\"id\"])"
      ],
      "metadata": {
        "id": "I8TOQm0Ag17r"
      },
      "execution_count": null,
      "outputs": []
    },
    {
      "cell_type": "code",
      "source": [
        "# Checking null values\n",
        "test_data.isnull().sum()"
      ],
      "metadata": {
        "id": "i4e6G1NOg1-W",
        "colab": {
          "base_uri": "https://localhost:8080/"
        },
        "outputId": "6e4d8eae-804f-4c3f-a07d-2fb81c9b7b6d"
      },
      "execution_count": null,
      "outputs": [
        {
          "output_type": "execute_result",
          "data": {
            "text/plain": [
              "id          0\n",
              "title     122\n",
              "author    503\n",
              "text        7\n",
              "label       0\n",
              "dtype: int64"
            ]
          },
          "metadata": {},
          "execution_count": 10
        }
      ]
    },
    {
      "cell_type": "code",
      "source": [
        "test_data= test_data.apply(lambda x: x.astype(str).str.lower())"
      ],
      "metadata": {
        "id": "I_d-gGYsg2Df"
      },
      "execution_count": null,
      "outputs": []
    },
    {
      "cell_type": "code",
      "source": [
        "# test_data = test_data.drop(columns=[\"id\",\"index\"])"
      ],
      "metadata": {
        "id": "oDbjwoUKg2F6"
      },
      "execution_count": null,
      "outputs": []
    },
    {
      "cell_type": "code",
      "source": [
        "test_data"
      ],
      "metadata": {
        "id": "IMRF7jZrg2IC",
        "colab": {
          "base_uri": "https://localhost:8080/",
          "height": 424
        },
        "outputId": "446cdcc0-58c4-4d84-dcfe-c8d1af168449"
      },
      "execution_count": null,
      "outputs": [
        {
          "output_type": "execute_result",
          "data": {
            "text/plain": [
              "         id                                              title  \\\n",
              "0     20800  specter of trump loosens tongues, if not purse...   \n",
              "1     20801  russian warships ready to strike terrorists ne...   \n",
              "2     20802  #nodapl: native american leaders vow to stay a...   \n",
              "3     20803  tim tebow will attempt another comeback, this ...   \n",
              "4     20804                    keiser report: meme wars (e995)   \n",
              "...     ...                                                ...   \n",
              "5195  25995  the bangladeshi traffic jam that never ends - ...   \n",
              "5196  25996  john kasich signs one abortion bill in ohio bu...   \n",
              "5197  25997  california today: what, exactly, is in your su...   \n",
              "5198  25998  300 us marines to be deployed to russian borde...   \n",
              "5199  25999  awkward sex, onscreen and off - the new york t...   \n",
              "\n",
              "                       author  \\\n",
              "0            david streitfeld   \n",
              "1                         nan   \n",
              "2               common dreams   \n",
              "3               daniel victor   \n",
              "4     truth broadcast network   \n",
              "...                       ...   \n",
              "5195               jody rosen   \n",
              "5196      sheryl gay stolberg   \n",
              "5197             mike mcphate   \n",
              "5198                      nan   \n",
              "5199              teddy wayne   \n",
              "\n",
              "                                                   text label  \n",
              "0     palo alto, calif.  —   after years of scorning...     0  \n",
              "1     russian warships ready to strike terrorists ne...     1  \n",
              "2     videos #nodapl: native american leaders vow to...     0  \n",
              "3     if at first you don’t succeed, try a different...     1  \n",
              "4     42 mins ago 1 views 0 comments 0 likes 'for th...     1  \n",
              "...                                                 ...   ...  \n",
              "5195  of all the dysfunctions that plague the world’...     0  \n",
              "5196  washington  —   gov. john kasich of ohio on tu...     1  \n",
              "5197  good morning. (want to get california today by...     0  \n",
              "5198  « previous - next » 300 us marines to be deplo...     1  \n",
              "5199  perhaps you’ve seen the new tv series whose pi...     0  \n",
              "\n",
              "[5200 rows x 5 columns]"
            ],
            "text/html": [
              "\n",
              "  <div id=\"df-4a6e9eac-0056-4f11-b305-38c60f504574\">\n",
              "    <div class=\"colab-df-container\">\n",
              "      <div>\n",
              "<style scoped>\n",
              "    .dataframe tbody tr th:only-of-type {\n",
              "        vertical-align: middle;\n",
              "    }\n",
              "\n",
              "    .dataframe tbody tr th {\n",
              "        vertical-align: top;\n",
              "    }\n",
              "\n",
              "    .dataframe thead th {\n",
              "        text-align: right;\n",
              "    }\n",
              "</style>\n",
              "<table border=\"1\" class=\"dataframe\">\n",
              "  <thead>\n",
              "    <tr style=\"text-align: right;\">\n",
              "      <th></th>\n",
              "      <th>id</th>\n",
              "      <th>title</th>\n",
              "      <th>author</th>\n",
              "      <th>text</th>\n",
              "      <th>label</th>\n",
              "    </tr>\n",
              "  </thead>\n",
              "  <tbody>\n",
              "    <tr>\n",
              "      <th>0</th>\n",
              "      <td>20800</td>\n",
              "      <td>specter of trump loosens tongues, if not purse...</td>\n",
              "      <td>david streitfeld</td>\n",
              "      <td>palo alto, calif.  —   after years of scorning...</td>\n",
              "      <td>0</td>\n",
              "    </tr>\n",
              "    <tr>\n",
              "      <th>1</th>\n",
              "      <td>20801</td>\n",
              "      <td>russian warships ready to strike terrorists ne...</td>\n",
              "      <td>nan</td>\n",
              "      <td>russian warships ready to strike terrorists ne...</td>\n",
              "      <td>1</td>\n",
              "    </tr>\n",
              "    <tr>\n",
              "      <th>2</th>\n",
              "      <td>20802</td>\n",
              "      <td>#nodapl: native american leaders vow to stay a...</td>\n",
              "      <td>common dreams</td>\n",
              "      <td>videos #nodapl: native american leaders vow to...</td>\n",
              "      <td>0</td>\n",
              "    </tr>\n",
              "    <tr>\n",
              "      <th>3</th>\n",
              "      <td>20803</td>\n",
              "      <td>tim tebow will attempt another comeback, this ...</td>\n",
              "      <td>daniel victor</td>\n",
              "      <td>if at first you don’t succeed, try a different...</td>\n",
              "      <td>1</td>\n",
              "    </tr>\n",
              "    <tr>\n",
              "      <th>4</th>\n",
              "      <td>20804</td>\n",
              "      <td>keiser report: meme wars (e995)</td>\n",
              "      <td>truth broadcast network</td>\n",
              "      <td>42 mins ago 1 views 0 comments 0 likes 'for th...</td>\n",
              "      <td>1</td>\n",
              "    </tr>\n",
              "    <tr>\n",
              "      <th>...</th>\n",
              "      <td>...</td>\n",
              "      <td>...</td>\n",
              "      <td>...</td>\n",
              "      <td>...</td>\n",
              "      <td>...</td>\n",
              "    </tr>\n",
              "    <tr>\n",
              "      <th>5195</th>\n",
              "      <td>25995</td>\n",
              "      <td>the bangladeshi traffic jam that never ends - ...</td>\n",
              "      <td>jody rosen</td>\n",
              "      <td>of all the dysfunctions that plague the world’...</td>\n",
              "      <td>0</td>\n",
              "    </tr>\n",
              "    <tr>\n",
              "      <th>5196</th>\n",
              "      <td>25996</td>\n",
              "      <td>john kasich signs one abortion bill in ohio bu...</td>\n",
              "      <td>sheryl gay stolberg</td>\n",
              "      <td>washington  —   gov. john kasich of ohio on tu...</td>\n",
              "      <td>1</td>\n",
              "    </tr>\n",
              "    <tr>\n",
              "      <th>5197</th>\n",
              "      <td>25997</td>\n",
              "      <td>california today: what, exactly, is in your su...</td>\n",
              "      <td>mike mcphate</td>\n",
              "      <td>good morning. (want to get california today by...</td>\n",
              "      <td>0</td>\n",
              "    </tr>\n",
              "    <tr>\n",
              "      <th>5198</th>\n",
              "      <td>25998</td>\n",
              "      <td>300 us marines to be deployed to russian borde...</td>\n",
              "      <td>nan</td>\n",
              "      <td>« previous - next » 300 us marines to be deplo...</td>\n",
              "      <td>1</td>\n",
              "    </tr>\n",
              "    <tr>\n",
              "      <th>5199</th>\n",
              "      <td>25999</td>\n",
              "      <td>awkward sex, onscreen and off - the new york t...</td>\n",
              "      <td>teddy wayne</td>\n",
              "      <td>perhaps you’ve seen the new tv series whose pi...</td>\n",
              "      <td>0</td>\n",
              "    </tr>\n",
              "  </tbody>\n",
              "</table>\n",
              "<p>5200 rows × 5 columns</p>\n",
              "</div>\n",
              "      <button class=\"colab-df-convert\" onclick=\"convertToInteractive('df-4a6e9eac-0056-4f11-b305-38c60f504574')\"\n",
              "              title=\"Convert this dataframe to an interactive table.\"\n",
              "              style=\"display:none;\">\n",
              "        \n",
              "  <svg xmlns=\"http://www.w3.org/2000/svg\" height=\"24px\"viewBox=\"0 0 24 24\"\n",
              "       width=\"24px\">\n",
              "    <path d=\"M0 0h24v24H0V0z\" fill=\"none\"/>\n",
              "    <path d=\"M18.56 5.44l.94 2.06.94-2.06 2.06-.94-2.06-.94-.94-2.06-.94 2.06-2.06.94zm-11 1L8.5 8.5l.94-2.06 2.06-.94-2.06-.94L8.5 2.5l-.94 2.06-2.06.94zm10 10l.94 2.06.94-2.06 2.06-.94-2.06-.94-.94-2.06-.94 2.06-2.06.94z\"/><path d=\"M17.41 7.96l-1.37-1.37c-.4-.4-.92-.59-1.43-.59-.52 0-1.04.2-1.43.59L10.3 9.45l-7.72 7.72c-.78.78-.78 2.05 0 2.83L4 21.41c.39.39.9.59 1.41.59.51 0 1.02-.2 1.41-.59l7.78-7.78 2.81-2.81c.8-.78.8-2.07 0-2.86zM5.41 20L4 18.59l7.72-7.72 1.47 1.35L5.41 20z\"/>\n",
              "  </svg>\n",
              "      </button>\n",
              "      \n",
              "  <style>\n",
              "    .colab-df-container {\n",
              "      display:flex;\n",
              "      flex-wrap:wrap;\n",
              "      gap: 12px;\n",
              "    }\n",
              "\n",
              "    .colab-df-convert {\n",
              "      background-color: #E8F0FE;\n",
              "      border: none;\n",
              "      border-radius: 50%;\n",
              "      cursor: pointer;\n",
              "      display: none;\n",
              "      fill: #1967D2;\n",
              "      height: 32px;\n",
              "      padding: 0 0 0 0;\n",
              "      width: 32px;\n",
              "    }\n",
              "\n",
              "    .colab-df-convert:hover {\n",
              "      background-color: #E2EBFA;\n",
              "      box-shadow: 0px 1px 2px rgba(60, 64, 67, 0.3), 0px 1px 3px 1px rgba(60, 64, 67, 0.15);\n",
              "      fill: #174EA6;\n",
              "    }\n",
              "\n",
              "    [theme=dark] .colab-df-convert {\n",
              "      background-color: #3B4455;\n",
              "      fill: #D2E3FC;\n",
              "    }\n",
              "\n",
              "    [theme=dark] .colab-df-convert:hover {\n",
              "      background-color: #434B5C;\n",
              "      box-shadow: 0px 1px 3px 1px rgba(0, 0, 0, 0.15);\n",
              "      filter: drop-shadow(0px 1px 2px rgba(0, 0, 0, 0.3));\n",
              "      fill: #FFFFFF;\n",
              "    }\n",
              "  </style>\n",
              "\n",
              "      <script>\n",
              "        const buttonEl =\n",
              "          document.querySelector('#df-4a6e9eac-0056-4f11-b305-38c60f504574 button.colab-df-convert');\n",
              "        buttonEl.style.display =\n",
              "          google.colab.kernel.accessAllowed ? 'block' : 'none';\n",
              "\n",
              "        async function convertToInteractive(key) {\n",
              "          const element = document.querySelector('#df-4a6e9eac-0056-4f11-b305-38c60f504574');\n",
              "          const dataTable =\n",
              "            await google.colab.kernel.invokeFunction('convertToInteractive',\n",
              "                                                     [key], {});\n",
              "          if (!dataTable) return;\n",
              "\n",
              "          const docLinkHtml = 'Like what you see? Visit the ' +\n",
              "            '<a target=\"_blank\" href=https://colab.research.google.com/notebooks/data_table.ipynb>data table notebook</a>'\n",
              "            + ' to learn more about interactive tables.';\n",
              "          element.innerHTML = '';\n",
              "          dataTable['output_type'] = 'display_data';\n",
              "          await google.colab.output.renderOutput(dataTable, element);\n",
              "          const docLink = document.createElement('div');\n",
              "          docLink.innerHTML = docLinkHtml;\n",
              "          element.appendChild(docLink);\n",
              "        }\n",
              "      </script>\n",
              "    </div>\n",
              "  </div>\n",
              "  "
            ]
          },
          "metadata": {},
          "execution_count": 14
        }
      ]
    },
    {
      "cell_type": "code",
      "source": [
        "#load csv of preprocessed datasets (to reduce runtime by preprocessing once and storing the preprocessed dataset into csv)\n",
        "\n",
        "! gdown --id 1pGkEyDelD7Lp7yhFML9Dt1oo-91Mqf9H\n",
        "! gdown --id 1DYVzeYjjTTeHtazHfKD9FTx57h-77bkC"
      ],
      "metadata": {
        "id": "Xw4G4UWFhNm-",
        "colab": {
          "base_uri": "https://localhost:8080/"
        },
        "outputId": "0f7be260-796f-4df0-d57b-84d519720681"
      },
      "execution_count": null,
      "outputs": [
        {
          "output_type": "stream",
          "name": "stdout",
          "text": [
            "/usr/local/lib/python3.7/dist-packages/gdown/cli.py:131: FutureWarning: Option `--id` was deprecated in version 4.3.1 and will be removed in 5.0. You don't need to pass it anymore to use a file ID.\n",
            "  category=FutureWarning,\n",
            "Downloading...\n",
            "From: https://drive.google.com/uc?id=1pGkEyDelD7Lp7yhFML9Dt1oo-91Mqf9H\n",
            "To: /content/pre_train.csv\n",
            "100% 280M/280M [00:01<00:00, 193MB/s]\n",
            "/usr/local/lib/python3.7/dist-packages/gdown/cli.py:131: FutureWarning: Option `--id` was deprecated in version 4.3.1 and will be removed in 5.0. You don't need to pass it anymore to use a file ID.\n",
            "  category=FutureWarning,\n",
            "Downloading...\n",
            "From: https://drive.google.com/uc?id=1DYVzeYjjTTeHtazHfKD9FTx57h-77bkC\n",
            "To: /content/pre_test.csv\n",
            "100% 70.2M/70.2M [00:01<00:00, 68.5MB/s]\n"
          ]
        }
      ]
    },
    {
      "cell_type": "code",
      "source": [
        "#preprocessed dataset with nulls\n",
        "\n",
        "! gdown --id 1-31BvAJpyVent7RyJWg2lveqvNBKWsYr\n",
        "! gdown --id 1a-OHeeWwuuCPKFbl2EfopQHD2erJ3KwK"
      ],
      "metadata": {
        "id": "LtnL0sjLhNqY",
        "colab": {
          "base_uri": "https://localhost:8080/"
        },
        "outputId": "44272012-ed45-4f90-9b01-2fcecc1b776a"
      },
      "execution_count": null,
      "outputs": [
        {
          "output_type": "stream",
          "name": "stdout",
          "text": [
            "/usr/local/lib/python3.7/dist-packages/gdown/cli.py:131: FutureWarning: Option `--id` was deprecated in version 4.3.1 and will be removed in 5.0. You don't need to pass it anymore to use a file ID.\n",
            "  category=FutureWarning,\n",
            "Downloading...\n",
            "From: https://drive.google.com/uc?id=1-31BvAJpyVent7RyJWg2lveqvNBKWsYr\n",
            "To: /content/pre_test_withnull.csv\n",
            "100% 79.3M/79.3M [00:00<00:00, 242MB/s]\n",
            "/usr/local/lib/python3.7/dist-packages/gdown/cli.py:131: FutureWarning: Option `--id` was deprecated in version 4.3.1 and will be removed in 5.0. You don't need to pass it anymore to use a file ID.\n",
            "  category=FutureWarning,\n",
            "Downloading...\n",
            "From: https://drive.google.com/uc?id=1a-OHeeWwuuCPKFbl2EfopQHD2erJ3KwK\n",
            "To: /content/pre_train_withnull.csv\n",
            "100% 316M/316M [00:01<00:00, 215MB/s]\n"
          ]
        }
      ]
    },
    {
      "cell_type": "code",
      "source": [
        "transformed_df = pd.read_csv(\"pre_train_withnull.csv\")\n",
        "transformed_df_test = pd.read_csv(\"pre_test_withnull.csv\")"
      ],
      "metadata": {
        "id": "z5pH1lAKhNtS"
      },
      "execution_count": null,
      "outputs": []
    },
    {
      "cell_type": "code",
      "source": [
        "# transformed_df = pd.read_csv(\"pre_train.csv\")\n",
        "#transformed_df_test = pd.read_csv(\"pre_test.csv\")"
      ],
      "metadata": {
        "id": "9lGO3W4WhNzR"
      },
      "execution_count": null,
      "outputs": []
    },
    {
      "cell_type": "code",
      "source": [
        "transformed_df[\"label\"]"
      ],
      "metadata": {
        "id": "kS3LvMas2XIN",
        "colab": {
          "base_uri": "https://localhost:8080/"
        },
        "outputId": "f1d2cce4-9bb5-40d8-97ba-c03d0d0332b3"
      },
      "execution_count": null,
      "outputs": [
        {
          "output_type": "execute_result",
          "data": {
            "text/plain": [
              "0        0.0\n",
              "1        0.0\n",
              "2        0.0\n",
              "3        0.0\n",
              "4        0.0\n",
              "        ... \n",
              "20795    0.0\n",
              "20796    0.0\n",
              "20797    0.0\n",
              "20798    0.0\n",
              "20799    0.0\n",
              "Name: label, Length: 20800, dtype: float64"
            ]
          },
          "metadata": {},
          "execution_count": 21
        }
      ]
    },
    {
      "cell_type": "code",
      "source": [
        "#testing dataset from Kaggle, which only returns accuracy score on the predicted labels\n",
        "\n",
        "X_test_kaggle = transformed_df_test.values\n",
        " "
      ],
      "metadata": {
        "id": "jzmNFLXMhN2F"
      },
      "execution_count": null,
      "outputs": []
    },
    {
      "cell_type": "code",
      "source": [
        "#splitting training data into 80:20 ratio (80% for training, 20% for testing) to get all evaluation metrics on testing data \n",
        "# (need to do this because Kaggle competitions only returns accuracy)\n",
        "\n",
        "from sklearn.model_selection import train_test_split"
      ],
      "metadata": {
        "id": "cBy6nSP5hXko"
      },
      "execution_count": null,
      "outputs": []
    },
    {
      "cell_type": "code",
      "source": [
        "X_train1, X_test1, y_train1, y_test1 = train_test_split(transformed_df, pd.DataFrame(train_data['label'],columns=['label']), test_size=0.2, random_state=0)"
      ],
      "metadata": {
        "id": "CGeI3_9jhXs_"
      },
      "execution_count": null,
      "outputs": []
    },
    {
      "cell_type": "code",
      "source": [
        "#stratified Kfold (k=5) split for training data\n",
        "\n",
        "from sklearn.model_selection import StratifiedKFold\n",
        "skf = StratifiedKFold(n_splits=5)\n",
        "\n",
        "X = X_train1.values\n",
        "y = y_train1[\"label\"].values \n",
        "\n",
        "X_train=[]\n",
        "X_val=[]\n",
        "y_train=[]\n",
        "y_val=[]\n",
        "\n",
        "for train_index, test_index in skf.split(X, y):\n",
        "  X_train.append(X[train_index])\n",
        "  X_val.append(X[test_index]) \n",
        "  y_train.append(y[train_index])\n",
        "  y_val.append(y[test_index])\n"
      ],
      "metadata": {
        "id": "VgKbECO5hXwf"
      },
      "execution_count": null,
      "outputs": []
    },
    {
      "cell_type": "code",
      "source": [
        "X_test = X_test1\n",
        "y_test = y_test1"
      ],
      "metadata": {
        "id": "ob0DHaRuhN5e"
      },
      "execution_count": null,
      "outputs": []
    },
    {
      "cell_type": "markdown",
      "source": [
        "1. ML Models Explored"
      ],
      "metadata": {
        "id": "e-3jabIsQTPo"
      }
    },
    {
      "cell_type": "code",
      "source": [
        "##ML models:"
      ],
      "metadata": {
        "id": "VmRCYdIUAq5I"
      },
      "execution_count": null,
      "outputs": []
    },
    {
      "cell_type": "markdown",
      "source": [
        "1.1 SVM"
      ],
      "metadata": {
        "id": "1F4LfYE4QWME"
      }
    },
    {
      "cell_type": "code",
      "source": [
        "#Model 1: SVM"
      ],
      "metadata": {
        "id": "3gROjDN5Aq8r"
      },
      "execution_count": null,
      "outputs": []
    },
    {
      "cell_type": "code",
      "source": [
        "from sklearn.svm import SVC"
      ],
      "metadata": {
        "id": "u-medZjcAvgP"
      },
      "execution_count": null,
      "outputs": []
    },
    {
      "cell_type": "code",
      "source": [
        "#Optimal hyperparams: OrderedDict([('C', 3.0),('kernel', 'rbf'),('max_iter', 3000), ('shrinking', True)])\n",
        "# obtained from Bayes Optimisation"
      ],
      "metadata": {
        "id": "llpuPq77JWH7"
      },
      "execution_count": null,
      "outputs": []
    },
    {
      "cell_type": "code",
      "source": [
        "model_svm_0 = SVC(C=3, kernel='rbf', max_iter=3000, shrinking=True, random_state=0)    \n",
        "model_svm_1 = SVC(C=3, kernel='rbf', max_iter=3000, shrinking=True, random_state=0)\n",
        "model_svm_2 = SVC(C=3, kernel='rbf', max_iter=3000, shrinking=True, random_state=0)\n",
        "model_svm_3 = SVC(C=3, kernel='rbf', max_iter=3000, shrinking=True, random_state=0)\n",
        "model_svm_4 = SVC(C=3, kernel='rbf', max_iter=3000, shrinking=True, random_state=0)"
      ],
      "metadata": {
        "id": "bkkKpky6AvjE"
      },
      "execution_count": null,
      "outputs": []
    },
    {
      "cell_type": "code",
      "source": [
        "model_svm_0.fit(X_train[0], y_train[0].astype('int'))\n",
        "model_svm_1.fit(X_train[1], y_train[1].astype('int'))\n",
        "model_svm_2.fit(X_train[2], y_train[2].astype('int'))\n",
        "model_svm_3.fit(X_train[3], y_train[3].astype('int'))\n",
        "model_svm_4.fit(X_train[4], y_train[4].astype('int'))"
      ],
      "metadata": {
        "id": "3f2DCR0vG_oY",
        "colab": {
          "base_uri": "https://localhost:8080/"
        },
        "outputId": "22476c57-9aac-495f-b025-1d88722646da"
      },
      "execution_count": null,
      "outputs": [
        {
          "output_type": "stream",
          "name": "stderr",
          "text": [
            "/usr/local/lib/python3.7/dist-packages/sklearn/svm/_base.py:289: ConvergenceWarning: Solver terminated early (max_iter=3000).  Consider pre-processing your data with StandardScaler or MinMaxScaler.\n",
            "  ConvergenceWarning,\n",
            "/usr/local/lib/python3.7/dist-packages/sklearn/svm/_base.py:289: ConvergenceWarning: Solver terminated early (max_iter=3000).  Consider pre-processing your data with StandardScaler or MinMaxScaler.\n",
            "  ConvergenceWarning,\n",
            "/usr/local/lib/python3.7/dist-packages/sklearn/svm/_base.py:289: ConvergenceWarning: Solver terminated early (max_iter=3000).  Consider pre-processing your data with StandardScaler or MinMaxScaler.\n",
            "  ConvergenceWarning,\n",
            "/usr/local/lib/python3.7/dist-packages/sklearn/svm/_base.py:289: ConvergenceWarning: Solver terminated early (max_iter=3000).  Consider pre-processing your data with StandardScaler or MinMaxScaler.\n",
            "  ConvergenceWarning,\n",
            "/usr/local/lib/python3.7/dist-packages/sklearn/svm/_base.py:289: ConvergenceWarning: Solver terminated early (max_iter=3000).  Consider pre-processing your data with StandardScaler or MinMaxScaler.\n",
            "  ConvergenceWarning,\n"
          ]
        },
        {
          "output_type": "execute_result",
          "data": {
            "text/plain": [
              "SVC(C=3, max_iter=3000, random_state=0)"
            ]
          },
          "metadata": {},
          "execution_count": 32
        }
      ]
    },
    {
      "cell_type": "code",
      "source": [
        "y_pred_0 = model_svm_0.predict(X_val[0])\n",
        "y_pred_1 = model_svm_1.predict(X_val[1])\n",
        "y_pred_2 = model_svm_2.predict(X_val[2])\n",
        "y_pred_3 = model_svm_3.predict(X_val[3])\n",
        "y_pred_4 = model_svm_4.predict(X_val[4])\n",
        "\n",
        "\n",
        "# comparing the 5 model performances on resp. validation sets\n",
        "from sklearn.metrics import precision_score, recall_score, f1_score, accuracy_score\n",
        "\n",
        "print('Comparing the 5 SVM models on resp. val set')\n",
        "#model 1\n",
        "accuracy_0 = accuracy_score(y_val[0].astype('int'), y_pred_0)\n",
        "precision_0 = precision_score(y_val[0].astype('int'), y_pred_0)\n",
        "recall_0 =  recall_score(y_val[0].astype('int'), y_pred_0)\n",
        "f1_0 = f1_score(y_val[0].astype('int'), y_pred_0)\n",
        "\n",
        "print('\\nEvaluation Metrics for Model 1:')\n",
        "print(\"Accuracy: \", accuracy_0)\n",
        "print(\"Precision: \", precision_0)\n",
        "print(\"Recall: \", recall_0)\n",
        "print(\"f1-score: \", f1_0)\n",
        "\n",
        "#model 2\n",
        "accuracy_1 = accuracy_score(y_val[1].astype('int'), y_pred_1)\n",
        "precision_1 = precision_score(y_val[1].astype('int'), y_pred_1)\n",
        "recall_1 =  recall_score(y_val[1].astype('int'), y_pred_1)\n",
        "f1_1 = f1_score(y_val[1].astype('int'), y_pred_1)\n",
        "\n",
        "print('\\nEvaluation Metrics for Model 2:')\n",
        "print(\"Accuracy: \", accuracy_1)\n",
        "print(\"Precision: \", precision_1)\n",
        "print(\"Recall: \", recall_1)\n",
        "print(\"f1-score: \", f1_1)\n",
        "\n",
        "#model 3\n",
        "accuracy_2 = accuracy_score(y_val[2].astype('int'), y_pred_2)\n",
        "precision_2 = precision_score(y_val[2].astype('int'), y_pred_2)\n",
        "recall_2 =  recall_score(y_val[2].astype('int'), y_pred_2)\n",
        "f1_2 = f1_score(y_val[2].astype('int'), y_pred_2)\n",
        "\n",
        "print('\\nEvaluation Metrics for Model 3:')\n",
        "print(\"Accuracy: \", accuracy_2)\n",
        "print(\"Precision: \", precision_2)\n",
        "print(\"Recall: \", recall_2)\n",
        "print(\"f1-score: \", f1_2)\n",
        "\n",
        "#model 4\n",
        "accuracy_3 = accuracy_score(y_val[3].astype('int'), y_pred_3)\n",
        "precision_3 = precision_score(y_val[3].astype('int'), y_pred_3)\n",
        "recall_3 =  recall_score(y_val[3].astype('int'), y_pred_3)\n",
        "f1_3 = f1_score(y_val[3].astype('int'), y_pred_3)\n",
        "\n",
        "print('\\nEvaluation Metrics for Model 4:')\n",
        "print(\"Accuracy: \", accuracy_3)\n",
        "print(\"Precision: \", precision_3)\n",
        "print(\"Recall: \", recall_3)\n",
        "print(\"f1-score: \", f1_3)\n",
        "\n",
        "#model 5\n",
        "accuracy_4 = accuracy_score(y_val[4].astype('int'), y_pred_4)\n",
        "precision_4 = precision_score(y_val[4].astype('int'), y_pred_4)\n",
        "recall_4 =  recall_score(y_val[4].astype('int'), y_pred_4)\n",
        "f1_4 = f1_score(y_val[4].astype('int'), y_pred_4)\n",
        "\n",
        "print('\\nEvaluation Metrics for Model 5:')\n",
        "print(\"Accuracy: \", accuracy_4)\n",
        "print(\"Precision: \", precision_4)\n",
        "print(\"Recall: \", recall_4)\n",
        "print(\"f1-score: \", f1_4)\n",
        "\n",
        "print('Average Evaluation metrics for SVM are: ')\n",
        "print(\"Accuracy: \", np.mean([accuracy_0, accuracy_1, accuracy_2, accuracy_3, accuracy_4]))\n",
        "print(\"Precision: \", np.mean([precision_0, precision_1, precision_2, precision_3, precision_4]))\n",
        "print(\"Recall: \", np.mean([recall_0, recall_1, recall_2, recall_3, recall_4]))\n",
        "print(\"f1-score: \", np.mean([f1_0, f1_1, f1_2, f1_3, f1_4]))\n"
      ],
      "metadata": {
        "id": "RKl6A_xCAvsN",
        "colab": {
          "base_uri": "https://localhost:8080/"
        },
        "outputId": "7443d89e-7dc8-444d-dd9a-ffaec808e68f"
      },
      "execution_count": null,
      "outputs": [
        {
          "output_type": "stream",
          "name": "stdout",
          "text": [
            "Comparing the 5 SVM models on resp. val set\n",
            "\n",
            "Evaluation Metrics for Model 1:\n",
            "Accuracy:  0.953125\n",
            "Precision:  0.9460260972716489\n",
            "Recall:  0.9608433734939759\n",
            "f1-score:  0.9533771667662881\n",
            "\n",
            "Evaluation Metrics for Model 2:\n",
            "Accuracy:  0.9630408653846154\n",
            "Precision:  0.9555423829282751\n",
            "Recall:  0.9710843373493976\n",
            "f1-score:  0.9632506722438003\n",
            "\n",
            "Evaluation Metrics for Model 3:\n",
            "Accuracy:  0.9591346153846154\n",
            "Precision:  0.9618181818181818\n",
            "Recall:  0.9560240963855422\n",
            "f1-score:  0.9589123867069488\n",
            "\n",
            "Evaluation Metrics for Model 4:\n",
            "Accuracy:  0.9525240384615384\n",
            "Precision:  0.9422850412249706\n",
            "Recall:  0.963855421686747\n",
            "f1-score:  0.9529481834425253\n",
            "\n",
            "Evaluation Metrics for Model 5:\n",
            "Accuracy:  0.9540264423076923\n",
            "Precision:  0.9487485101311085\n",
            "Recall:  0.9596142254370102\n",
            "f1-score:  0.9541504345220259\n",
            "Average Evaluation metrics for SVM are: \n",
            "Accuracy:  0.9563701923076924\n",
            "Precision:  0.950884042674837\n",
            "Recall:  0.9622842908705346\n",
            "f1-score:  0.9565277687363178\n"
          ]
        }
      ]
    },
    {
      "cell_type": "code",
      "source": [
        "#evaluation metrics on test set \n",
        "y_pred_svm = model_svm_0.predict(X_test)\n",
        "\n",
        "\n",
        "# comparing the 5 model performances on resp. validation sets\n",
        "from sklearn.metrics import precision_score, recall_score, f1_score, accuracy_score\n",
        "\n",
        "print('Metrics on Test set')\n",
        "#model 1\n",
        "accuracy_0 = accuracy_score(y_test.astype('int'), y_pred_svm)\n",
        "precision_0 = precision_score(y_test.astype('int'), y_pred_svm)\n",
        "recall_0 =  recall_score(y_test.astype('int'), y_pred_svm)\n",
        "f1_0 = f1_score(y_test.astype('int'), y_pred_svm)\n",
        "\n",
        "print('\\nEvaluation Metrics for Model 1:')\n",
        "print(\"Accuracy: \", accuracy_0)\n",
        "print(\"Precision: \", precision_0)\n",
        "print(\"Recall: \", recall_0)\n",
        "print(\"f1-score: \", f1_0)\n",
        "\n"
      ],
      "metadata": {
        "id": "k5TMokRYyt6s",
        "colab": {
          "base_uri": "https://localhost:8080/"
        },
        "outputId": "a5d9e431-6b23-4861-9e22-7069bf0611d7"
      },
      "execution_count": null,
      "outputs": [
        {
          "output_type": "stream",
          "name": "stderr",
          "text": [
            "/usr/local/lib/python3.7/dist-packages/sklearn/base.py:444: UserWarning: X has feature names, but SVC was fitted without feature names\n",
            "  f\"X has feature names, but {self.__class__.__name__} was fitted without\"\n"
          ]
        },
        {
          "output_type": "stream",
          "name": "stdout",
          "text": [
            "Metrics on Test set\n",
            "\n",
            "Evaluation Metrics for Model 1:\n",
            "Accuracy:  0.9548076923076924\n",
            "Precision:  0.949160447761194\n",
            "Recall:  0.9626300851466414\n",
            "f1-score:  0.9558478158759981\n"
          ]
        }
      ]
    },
    {
      "cell_type": "code",
      "source": [
        "#plot confusion matrix for SVM\n",
        "\n",
        "from sklearn.metrics import confusion_matrix\n",
        "from sklearn.metrics import roc_curve\n",
        "cm = confusion_matrix(y_test[\"label\"].values.astype('int'), y_pred_svm)\n",
        "import seaborn as sns\n",
        "sns.heatmap(cm, annot=True)\n"
      ],
      "metadata": {
        "id": "sqw2xIZ1reAB",
        "colab": {
          "base_uri": "https://localhost:8080/",
          "height": 282
        },
        "outputId": "f6cca4d4-c502-421a-b522-a73f6932fdf3"
      },
      "execution_count": null,
      "outputs": [
        {
          "output_type": "execute_result",
          "data": {
            "text/plain": [
              "<matplotlib.axes._subplots.AxesSubplot at 0x7fedaa3c7510>"
            ]
          },
          "metadata": {},
          "execution_count": 35
        },
        {
          "output_type": "display_data",
          "data": {
            "text/plain": [
              "<Figure size 432x288 with 2 Axes>"
            ],
            "image/png": "[encoded data removed]"
          },
          "metadata": {
            "needs_background": "light"
          }
        }
      ]
    },
    {
      "cell_type": "code",
      "source": [
        "#plot auc-roc for SVM\n",
        "\n",
        "import matplotlib.pyplot as plt\n",
        "fpr, tpr, thresholds = roc_curve(y_test[\"label\"].values.astype('int'), y_pred_svm)\n",
        "plt.plot(fpr, tpr)\n",
        "plt.xlabel('False positive rate')\n",
        "plt.ylabel('True Positive rate')\n",
        "plt.title('ROC curve for SVM')"
      ],
      "metadata": {
        "id": "JRXRi5z4txMq",
        "colab": {
          "base_uri": "https://localhost:8080/",
          "height": 312
        },
        "outputId": "7fe6c241-94bd-4ab3-8bd2-9e0fbf1a7dc0"
      },
      "execution_count": null,
      "outputs": [
        {
          "output_type": "execute_result",
          "data": {
            "text/plain": [
              "Text(0.5, 1.0, 'ROC curve for SVM')"
            ]
          },
          "metadata": {},
          "execution_count": 36
        },
        {
          "output_type": "display_data",
          "data": {
            "text/plain": [
              "<Figure size 432x288 with 1 Axes>"
            ],
            "image/png": "[encoded data removed]"
          },
          "metadata": {
            "needs_background": "light"
          }
        }
      ]
    },
    {
      "cell_type": "code",
      "source": [
        "#prediciting labels using trained model on Kaggle test set to submit in competitions and get accuracy score\n",
        "\n",
        "y_pred = model_svm_0.predict(X_test_kaggle)\n",
        "sub = pd.DataFrame({'id':test_data['id'], 'label':y_pred})\n",
        "sub.to_csv('submit_svm.csv', index=False)"
      ],
      "metadata": {
        "id": "cxtxV2P2rQPp"
      },
      "execution_count": null,
      "outputs": []
    },
    {
      "cell_type": "code",
      "source": [
        ""
      ],
      "metadata": {
        "id": "_KzjzS-2yuIA"
      },
      "execution_count": null,
      "outputs": []
    },
    {
      "cell_type": "markdown",
      "source": [
        "1.2 Decision Trees"
      ],
      "metadata": {
        "id": "MzmPYtu1Qfo8"
      }
    },
    {
      "cell_type": "code",
      "source": [
        "#model 2: Decision Trees"
      ],
      "metadata": {
        "id": "u3bUooDbE2ak"
      },
      "execution_count": null,
      "outputs": []
    },
    {
      "cell_type": "code",
      "source": [
        "#optimal hyperparams:\n",
        "#OrderedDict([('ccp_alpha', 0.0),('criterion', 'entropy'),('max_depth', 10),('min_samples_leaf', 5),('min_samples_split', 2)])\n",
        "# obtained from Bayes Optimisation"
      ],
      "metadata": {
        "id": "Dhs_k1w1QlsC"
      },
      "execution_count": null,
      "outputs": []
    },
    {
      "cell_type": "code",
      "source": [
        "from sklearn.tree import DecisionTreeClassifier"
      ],
      "metadata": {
        "id": "2mja8E6PE2jI"
      },
      "execution_count": null,
      "outputs": []
    },
    {
      "cell_type": "code",
      "source": [
        "model_dt_0 = DecisionTreeClassifier(ccp_alpha=0, criterion='entropy', max_depth=10, min_samples_leaf=5, min_samples_split=2, random_state=0)\n",
        "model_dt_1 = DecisionTreeClassifier(ccp_alpha=0, criterion='entropy', max_depth=10, min_samples_leaf=5, min_samples_split=2, random_state=0)\n",
        "model_dt_2 = DecisionTreeClassifier(ccp_alpha=0, criterion='entropy', max_depth=10, min_samples_leaf=5, min_samples_split=2, random_state=0)\n",
        "model_dt_3 = DecisionTreeClassifier(ccp_alpha=0, criterion='entropy', max_depth=10, min_samples_leaf=5, min_samples_split=2, random_state=0)\n",
        "model_dt_4 = DecisionTreeClassifier(ccp_alpha=0, criterion='entropy', max_depth=10, min_samples_leaf=5, min_samples_split=2, random_state=0)"
      ],
      "metadata": {
        "id": "mrMFoe1xVFzD"
      },
      "execution_count": null,
      "outputs": []
    },
    {
      "cell_type": "code",
      "source": [
        "model_dt_0.fit(X_train[0], y_train[0].astype('int'))\n",
        "model_dt_1.fit(X_train[1], y_train[1].astype('int'))\n",
        "model_dt_2.fit(X_train[2], y_train[2].astype('int'))\n",
        "model_dt_3.fit(X_train[3], y_train[3].astype('int'))\n",
        "model_dt_4.fit(X_train[4], y_train[4].astype('int'))"
      ],
      "metadata": {
        "id": "BgWMkRLIVF5W",
        "colab": {
          "base_uri": "https://localhost:8080/"
        },
        "outputId": "13ab005f-b5d0-4089-f362-031d63c73777"
      },
      "execution_count": null,
      "outputs": [
        {
          "output_type": "execute_result",
          "data": {
            "text/plain": [
              "DecisionTreeClassifier(ccp_alpha=0, criterion='entropy', max_depth=10,\n",
              "                       min_samples_leaf=5, random_state=0)"
            ]
          },
          "metadata": {},
          "execution_count": 42
        }
      ]
    },
    {
      "cell_type": "code",
      "source": [
        "y_pred_0 = model_dt_0.predict(X_val[0])\n",
        "y_pred_1 = model_dt_1.predict(X_val[1])\n",
        "y_pred_2 = model_dt_2.predict(X_val[2])\n",
        "y_pred_3 = model_dt_3.predict(X_val[3])\n",
        "y_pred_4 = model_dt_4.predict(X_val[4])\n",
        "\n",
        "\n",
        "# comparing the 5 model performances on resp. validation sets\n",
        "from sklearn.metrics import precision_score, recall_score, f1_score, accuracy_score\n",
        "\n",
        "print('Comparing the 5 DT models on resp. val set')\n",
        "#model 1\n",
        "accuracy_0 = accuracy_score(y_val[0].astype('int'), y_pred_0)\n",
        "precision_0 = precision_score(y_val[0].astype('int'), y_pred_0)\n",
        "recall_0 =  recall_score(y_val[0].astype('int'), y_pred_0)\n",
        "f1_0 = f1_score(y_val[0].astype('int'), y_pred_0)\n",
        "\n",
        "print('\\nEvaluation Metrics for Model 1:')\n",
        "print(\"Accuracy: \", accuracy_0)\n",
        "print(\"Precision: \", precision_0)\n",
        "print(\"Recall: \", recall_0)\n",
        "print(\"f1-score: \", f1_0)\n",
        "\n",
        "#model 2\n",
        "accuracy_1 = accuracy_score(y_val[1].astype('int'), y_pred_1)\n",
        "precision_1 = precision_score(y_val[1].astype('int'), y_pred_1)\n",
        "recall_1 =  recall_score(y_val[1].astype('int'), y_pred_1)\n",
        "f1_1 = f1_score(y_val[1].astype('int'), y_pred_1)\n",
        "\n",
        "print('\\nEvaluation Metrics for Model 2:')\n",
        "print(\"Accuracy: \", accuracy_1)\n",
        "print(\"Precision: \", precision_1)\n",
        "print(\"Recall: \", recall_1)\n",
        "print(\"f1-score: \", f1_1)\n",
        "\n",
        "#model 3\n",
        "accuracy_2 = accuracy_score(y_val[2].astype('int'), y_pred_2)\n",
        "precision_2 = precision_score(y_val[2].astype('int'), y_pred_2)\n",
        "recall_2 =  recall_score(y_val[2].astype('int'), y_pred_2)\n",
        "f1_2 = f1_score(y_val[2].astype('int'), y_pred_2)\n",
        "\n",
        "print('\\nEvaluation Metrics for Model 3:')\n",
        "print(\"Accuracy: \", accuracy_2)\n",
        "print(\"Precision: \", precision_2)\n",
        "print(\"Recall: \", recall_2)\n",
        "print(\"f1-score: \", f1_2)\n",
        "\n",
        "#model 4\n",
        "accuracy_3 = accuracy_score(y_val[3].astype('int'), y_pred_3)\n",
        "precision_3 = precision_score(y_val[3].astype('int'), y_pred_3)\n",
        "recall_3 =  recall_score(y_val[3].astype('int'), y_pred_3)\n",
        "f1_3 = f1_score(y_val[3].astype('int'), y_pred_3)\n",
        "\n",
        "print('\\nEvaluation Metrics for Model 4:')\n",
        "print(\"Accuracy: \", accuracy_3)\n",
        "print(\"Precision: \", precision_3)\n",
        "print(\"Recall: \", recall_3)\n",
        "print(\"f1-score: \", f1_3)\n",
        "\n",
        "#model 5\n",
        "accuracy_4 = accuracy_score(y_val[4].astype('int'), y_pred_4)\n",
        "precision_4 = precision_score(y_val[4].astype('int'), y_pred_4)\n",
        "recall_4 =  recall_score(y_val[4].astype('int'), y_pred_4)\n",
        "f1_4 = f1_score(y_val[4].astype('int'), y_pred_4)\n",
        "\n",
        "print('\\nEvaluation Metrics for Model 5:')\n",
        "print(\"Accuracy: \", accuracy_4)\n",
        "print(\"Precision: \", precision_4)\n",
        "print(\"Recall: \", recall_4)\n",
        "print(\"f1-score: \", f1_4)\n",
        "\n",
        "print('Average Evaluation metrics for DT are: ')\n",
        "print(\"Accuracy: \", np.mean([accuracy_0, accuracy_1, accuracy_2, accuracy_3, accuracy_4]))\n",
        "print(\"Precision: \", np.mean([precision_0, precision_1, precision_2, precision_3, precision_4]))\n",
        "print(\"Recall: \", np.mean([recall_0, recall_1, recall_2, recall_3, recall_4]))\n",
        "print(\"f1-score: \", np.mean([f1_0, f1_1, f1_2, f1_3, f1_4]))\n"
      ],
      "metadata": {
        "id": "LsQSTIU3VZp4",
        "colab": {
          "base_uri": "https://localhost:8080/"
        },
        "outputId": "d6ed91a7-9dc9-4698-fbdc-0ecc6676c848"
      },
      "execution_count": null,
      "outputs": [
        {
          "output_type": "stream",
          "name": "stdout",
          "text": [
            "Comparing the 5 DT models on resp. val set\n",
            "\n",
            "Evaluation Metrics for Model 1:\n",
            "Accuracy:  0.8837139423076923\n",
            "Precision:  0.8720046756282875\n",
            "Recall:  0.8987951807228916\n",
            "f1-score:  0.8851972708395135\n",
            "\n",
            "Evaluation Metrics for Model 2:\n",
            "Accuracy:  0.8864182692307693\n",
            "Precision:  0.8658675799086758\n",
            "Recall:  0.9138554216867469\n",
            "f1-score:  0.8892145369284877\n",
            "\n",
            "Evaluation Metrics for Model 3:\n",
            "Accuracy:  0.8810096153846154\n",
            "Precision:  0.8554555680539933\n",
            "Recall:  0.9162650602409639\n",
            "f1-score:  0.8848167539267016\n",
            "\n",
            "Evaluation Metrics for Model 4:\n",
            "Accuracy:  0.8734975961538461\n",
            "Precision:  0.8582995951417004\n",
            "Recall:  0.8939759036144578\n",
            "f1-score:  0.8757745647683682\n",
            "\n",
            "Evaluation Metrics for Model 5:\n",
            "Accuracy:  0.8798076923076923\n",
            "Precision:  0.8679135008766803\n",
            "Recall:  0.895117540687161\n",
            "f1-score:  0.8813056379821959\n",
            "Average Evaluation metrics for DT are: \n",
            "Accuracy:  0.8808894230769232\n",
            "Precision:  0.8639081839218676\n",
            "Recall:  0.9036018213904443\n",
            "f1-score:  0.8832617528890534\n"
          ]
        }
      ]
    },
    {
      "cell_type": "code",
      "source": [
        "#evaluation metrics on test set\n",
        "y_pred_dt = model_dt_0.predict(X_test)\n",
        "\n",
        "\n",
        "# comparing the 5 model performances on resp. validation sets\n",
        "from sklearn.metrics import precision_score, recall_score, f1_score, accuracy_score\n",
        "\n",
        "print('Metrics on test set')\n",
        "#model 1\n",
        "accuracy_0 = accuracy_score(y_test.astype('int'), y_pred_dt)\n",
        "precision_0 = precision_score(y_test.astype('int'), y_pred_dt)\n",
        "recall_0 =  recall_score(y_test.astype('int'), y_pred_dt)\n",
        "f1_0 = f1_score(y_test.astype('int'), y_pred_dt)\n",
        "\n",
        "print('\\nEvaluation Metrics for Model 1:')\n",
        "print(\"Accuracy: \", accuracy_0)\n",
        "print(\"Precision: \", precision_0)\n",
        "print(\"Recall: \", recall_0)\n",
        "print(\"f1-score: \", f1_0)\n",
        "\n"
      ],
      "metadata": {
        "id": "tbdCR8MnzXws",
        "colab": {
          "base_uri": "https://localhost:8080/"
        },
        "outputId": "29bdcd09-bc4e-4e57-ab5b-4ab758ab0800"
      },
      "execution_count": null,
      "outputs": [
        {
          "output_type": "stream",
          "name": "stdout",
          "text": [
            "Metrics on test set\n",
            "\n",
            "Evaluation Metrics for Model 1:\n",
            "Accuracy:  0.8747596153846153\n",
            "Precision:  0.8709827666511412\n",
            "Recall:  0.8845789971617786\n",
            "f1-score:  0.8777282328091998\n"
          ]
        },
        {
          "output_type": "stream",
          "name": "stderr",
          "text": [
            "/usr/local/lib/python3.7/dist-packages/sklearn/base.py:444: UserWarning: X has feature names, but DecisionTreeClassifier was fitted without feature names\n",
            "  f\"X has feature names, but {self.__class__.__name__} was fitted without\"\n"
          ]
        }
      ]
    },
    {
      "cell_type": "code",
      "source": [
        "#plot confusion matrix for DT\n",
        "\n",
        "from sklearn.metrics import confusion_matrix\n",
        "from sklearn.metrics import roc_curve\n",
        "cm = confusion_matrix(y_test[\"label\"].values.astype('int'), y_pred_dt)\n",
        "import seaborn as sns\n",
        "sns.heatmap(cm, annot=True)\n"
      ],
      "metadata": {
        "id": "EiyTYIAZzX4y",
        "colab": {
          "base_uri": "https://localhost:8080/",
          "height": 282
        },
        "outputId": "53f5fa2a-59b7-49f3-bed1-2110976f6063"
      },
      "execution_count": null,
      "outputs": [
        {
          "output_type": "execute_result",
          "data": {
            "text/plain": [
              "<matplotlib.axes._subplots.AxesSubplot at 0x7feda9c19d50>"
            ]
          },
          "metadata": {},
          "execution_count": 45
        },
        {
          "output_type": "display_data",
          "data": {
            "text/plain": [
              "<Figure size 432x288 with 2 Axes>"
            ],
            "image/png": "[encoded data removed]"
          },
          "metadata": {
            "needs_background": "light"
          }
        }
      ]
    },
    {
      "cell_type": "code",
      "source": [
        "#plot auc-roc curve for DT\n",
        "\n",
        "import matplotlib.pyplot as plt\n",
        "fpr, tpr, thresholds = roc_curve(y_test[\"label\"].values.astype('int'), y_pred_dt)\n",
        "plt.plot(fpr, tpr)\n",
        "plt.xlabel('False positive rate')\n",
        "plt.ylabel('True Positive rate')\n",
        "plt.title('ROC curve for DT')"
      ],
      "metadata": {
        "id": "u3dGI6ggt1k-",
        "colab": {
          "base_uri": "https://localhost:8080/",
          "height": 312
        },
        "outputId": "072a1d33-7150-40e7-d175-da7e2956bdbd"
      },
      "execution_count": null,
      "outputs": [
        {
          "output_type": "execute_result",
          "data": {
            "text/plain": [
              "Text(0.5, 1.0, 'ROC curve for DT')"
            ]
          },
          "metadata": {},
          "execution_count": 46
        },
        {
          "output_type": "display_data",
          "data": {
            "text/plain": [
              "<Figure size 432x288 with 1 Axes>"
            ],
            "image/png": "[encoded data removed]"
          },
          "metadata": {
            "needs_background": "light"
          }
        }
      ]
    },
    {
      "cell_type": "code",
      "source": [
        "#prediciting labels using trained model on Kaggle test set to submit in competitions and get accuracy score\n",
        "\n",
        "y_pred = model_dt_0.predict(X_test_kaggle)\n",
        "sub = pd.DataFrame({'id':test_data['id'], 'label':y_pred})\n",
        "sub.to_csv('submit_dt.csv', index=False)"
      ],
      "metadata": {
        "id": "e5IuJsb-sH4d"
      },
      "execution_count": null,
      "outputs": []
    },
    {
      "cell_type": "code",
      "source": [
        ""
      ],
      "metadata": {
        "id": "LmyRcDUGsIBb"
      },
      "execution_count": null,
      "outputs": []
    },
    {
      "cell_type": "markdown",
      "source": [
        "1.3 MLP"
      ],
      "metadata": {
        "id": "bU5EAwTDQnck"
      }
    },
    {
      "cell_type": "code",
      "source": [
        "#model 3: MLP"
      ],
      "metadata": {
        "id": "f-gvCaGXbef2"
      },
      "execution_count": null,
      "outputs": []
    },
    {
      "cell_type": "code",
      "source": [
        "#optimal hyperparams:\n",
        "#OrderedDict([('activation', 'relu'),('alpha', 1.3171286604916028),('learning_rate', 'constant'),('max_iter', 2895),('solver', 'lbfgs')])\n",
        "# obtained from Bayes Optimisation"
      ],
      "metadata": {
        "id": "dNFsclL4RXKw"
      },
      "execution_count": null,
      "outputs": []
    },
    {
      "cell_type": "code",
      "source": [
        "from sklearn.neural_network import MLPClassifier"
      ],
      "metadata": {
        "id": "Gg9UM_bsbeqF"
      },
      "execution_count": null,
      "outputs": []
    },
    {
      "cell_type": "code",
      "source": [
        "model_mlp_0 = MLPClassifier(activation='relu', alpha=1.3171286604916028, learning_rate='constant', max_iter=2895, solver='lbfgs', random_state=0)\n",
        "model_mlp_1 = MLPClassifier(activation='relu', alpha=1.3171286604916028, learning_rate='constant', max_iter=2895, solver='lbfgs', random_state=0)\n",
        "model_mlp_2 = MLPClassifier(activation='relu', alpha=1.3171286604916028, learning_rate='constant', max_iter=2895, solver='lbfgs', random_state=0)\n",
        "model_mlp_3 = MLPClassifier(activation='relu', alpha=1.3171286604916028, learning_rate='constant', max_iter=2895, solver='lbfgs', random_state=0)\n",
        "model_mlp_4 = MLPClassifier(activation='relu', alpha=1.3171286604916028, learning_rate='constant', max_iter=2895, solver='lbfgs', random_state=0)"
      ],
      "metadata": {
        "id": "8rc6ZWrzbewk"
      },
      "execution_count": null,
      "outputs": []
    },
    {
      "cell_type": "code",
      "source": [
        "model_mlp_0.fit(X_train[0], y_train[0].astype('int'))\n",
        "model_mlp_1.fit(X_train[1], y_train[1].astype('int'))\n",
        "model_mlp_2.fit(X_train[2], y_train[2].astype('int'))\n",
        "model_mlp_3.fit(X_train[3], y_train[3].astype('int'))\n",
        "model_mlp_4.fit(X_train[4], y_train[4].astype('int'))"
      ],
      "metadata": {
        "id": "TP4wa-y1be1p",
        "colab": {
          "base_uri": "https://localhost:8080/"
        },
        "outputId": "92f2df71-9661-4502-d6cd-b8771c1baf36"
      },
      "execution_count": null,
      "outputs": [
        {
          "output_type": "execute_result",
          "data": {
            "text/plain": [
              "MLPClassifier(alpha=1.3171286604916028, max_iter=2895, random_state=0,\n",
              "              solver='lbfgs')"
            ]
          },
          "metadata": {},
          "execution_count": 52
        }
      ]
    },
    {
      "cell_type": "code",
      "source": [
        "y_pred_0 = model_mlp_0.predict(X_val[0])\n",
        "y_pred_1 = model_mlp_1.predict(X_val[1])\n",
        "y_pred_2 = model_mlp_2.predict(X_val[2])\n",
        "y_pred_3 = model_mlp_3.predict(X_val[3])\n",
        "y_pred_4 = model_mlp_4.predict(X_val[4])\n",
        "\n",
        "\n",
        "# comparing the 5 model performances on resp. validation sets\n",
        "from sklearn.metrics import precision_score, recall_score, f1_score, accuracy_score\n",
        "\n",
        "print('Comparing the 5 MLP models on resp. val set')\n",
        "#model 1\n",
        "accuracy_0 = accuracy_score(y_val[0].astype('int'), y_pred_0)\n",
        "precision_0 = precision_score(y_val[0].astype('int'), y_pred_0)\n",
        "recall_0 =  recall_score(y_val[0].astype('int'), y_pred_0)\n",
        "f1_0 = f1_score(y_val[0].astype('int'), y_pred_0)\n",
        "\n",
        "print('\\nEvaluation Metrics for Model 1:')\n",
        "print(\"Accuracy: \", accuracy_0)\n",
        "print(\"Precision: \", precision_0)\n",
        "print(\"Recall: \", recall_0)\n",
        "print(\"f1-score: \", f1_0)\n",
        "\n",
        "#model 2\n",
        "accuracy_1 = accuracy_score(y_val[1].astype('int'), y_pred_1)\n",
        "precision_1 = precision_score(y_val[1].astype('int'), y_pred_1)\n",
        "recall_1 =  recall_score(y_val[1].astype('int'), y_pred_1)\n",
        "f1_1 = f1_score(y_val[1].astype('int'), y_pred_1)\n",
        "\n",
        "print('\\nEvaluation Metrics for Model 2:')\n",
        "print(\"Accuracy: \", accuracy_1)\n",
        "print(\"Precision: \", precision_1)\n",
        "print(\"Recall: \", recall_1)\n",
        "print(\"f1-score: \", f1_1)\n",
        "\n",
        "#model 3\n",
        "accuracy_2 = accuracy_score(y_val[2].astype('int'), y_pred_2)\n",
        "precision_2 = precision_score(y_val[2].astype('int'), y_pred_2)\n",
        "recall_2 =  recall_score(y_val[2].astype('int'), y_pred_2)\n",
        "f1_2 = f1_score(y_val[2].astype('int'), y_pred_2)\n",
        "\n",
        "print('\\nEvaluation Metrics for Model 3:')\n",
        "print(\"Accuracy: \", accuracy_2)\n",
        "print(\"Precision: \", precision_2)\n",
        "print(\"Recall: \", recall_2)\n",
        "print(\"f1-score: \", f1_2)\n",
        "\n",
        "#model 4\n",
        "accuracy_3 = accuracy_score(y_val[3].astype('int'), y_pred_3)\n",
        "precision_3 = precision_score(y_val[3].astype('int'), y_pred_3)\n",
        "recall_3 =  recall_score(y_val[3].astype('int'), y_pred_3)\n",
        "f1_3 = f1_score(y_val[3].astype('int'), y_pred_3)\n",
        "\n",
        "print('\\nEvaluation Metrics for Model 4:')\n",
        "print(\"Accuracy: \", accuracy_3)\n",
        "print(\"Precision: \", precision_3)\n",
        "print(\"Recall: \", recall_3)\n",
        "print(\"f1-score: \", f1_3)\n",
        "\n",
        "#model 5\n",
        "accuracy_4 = accuracy_score(y_val[4].astype('int'), y_pred_4)\n",
        "precision_4 = precision_score(y_val[4].astype('int'), y_pred_4)\n",
        "recall_4 =  recall_score(y_val[4].astype('int'), y_pred_4)\n",
        "f1_4 = f1_score(y_val[4].astype('int'), y_pred_4)\n",
        "\n",
        "print('\\nEvaluation Metrics for Model 5:')\n",
        "print(\"Accuracy: \", accuracy_4)\n",
        "print(\"Precision: \", precision_4)\n",
        "print(\"Recall: \", recall_4)\n",
        "print(\"f1-score: \", f1_4)\n",
        "\n",
        "print('Average Evaluation metrics for MLP are: ')\n",
        "print(\"Accuracy: \", np.mean([accuracy_0, accuracy_1, accuracy_2, accuracy_3, accuracy_4]))\n",
        "print(\"Precision: \", np.mean([precision_0, precision_1, precision_2, precision_3, precision_4]))\n",
        "print(\"Recall: \", np.mean([recall_0, recall_1, recall_2, recall_3, recall_4]))\n",
        "print(\"f1-score: \", np.mean([f1_0, f1_1, f1_2, f1_3, f1_4]))\n"
      ],
      "metadata": {
        "id": "mYbB7Z_vcCBE",
        "colab": {
          "base_uri": "https://localhost:8080/"
        },
        "outputId": "32e42fce-94e7-4d30-e88d-eb9a2e294e33"
      },
      "execution_count": null,
      "outputs": [
        {
          "output_type": "stream",
          "name": "stdout",
          "text": [
            "Comparing the 5 MLP models on resp. val set\n",
            "\n",
            "Evaluation Metrics for Model 1:\n",
            "Accuracy:  0.9417067307692307\n",
            "Precision:  0.941034897713598\n",
            "Recall:  0.9421686746987952\n",
            "f1-score:  0.9416014449127033\n",
            "\n",
            "Evaluation Metrics for Model 2:\n",
            "Accuracy:  0.9468149038461539\n",
            "Precision:  0.9448110377924415\n",
            "Recall:  0.9487951807228916\n",
            "f1-score:  0.9467989179440938\n",
            "\n",
            "Evaluation Metrics for Model 3:\n",
            "Accuracy:  0.9453125\n",
            "Precision:  0.9500609013398295\n",
            "Recall:  0.9397590361445783\n",
            "f1-score:  0.9448818897637795\n",
            "\n",
            "Evaluation Metrics for Model 4:\n",
            "Accuracy:  0.9347956730769231\n",
            "Precision:  0.928698752228164\n",
            "Recall:  0.941566265060241\n",
            "f1-score:  0.9350882440921329\n",
            "\n",
            "Evaluation Metrics for Model 5:\n",
            "Accuracy:  0.9356971153846154\n",
            "Precision:  0.932893948472139\n",
            "Recall:  0.9385171790235082\n",
            "f1-score:  0.9356971153846154\n",
            "Average Evaluation metrics for MLP are: \n",
            "Accuracy:  0.9408653846153847\n",
            "Precision:  0.9394999075092343\n",
            "Recall:  0.9421612671300028\n",
            "f1-score:  0.9408135224194648\n"
          ]
        }
      ]
    },
    {
      "cell_type": "code",
      "source": [
        "#evaluation metrics on test set\n",
        "y_pred_mlp = model_mlp_0.predict(X_test)\n",
        "\n",
        "\n",
        "# comparing the 5 model performances on resp. validation sets\n",
        "from sklearn.metrics import precision_score, recall_score, f1_score, accuracy_score\n",
        "\n",
        "print('Metrics on test set')\n",
        "#model 1\n",
        "accuracy_0 = accuracy_score(y_test.astype('int'), y_pred_mlp)\n",
        "precision_0 = precision_score(y_test.astype('int'), y_pred_mlp)\n",
        "recall_0 =  recall_score(y_test.astype('int'), y_pred_mlp)\n",
        "f1_0 = f1_score(y_test.astype('int'), y_pred_mlp)\n",
        "\n",
        "print('\\nEvaluation Metrics for Model 1:')\n",
        "print(\"Accuracy: \", accuracy_0)\n",
        "print(\"Precision: \", precision_0)\n",
        "print(\"Recall: \", recall_0)\n",
        "print(\"f1-score: \", f1_0)\n"
      ],
      "metadata": {
        "id": "-UpE_WOlnQ08",
        "colab": {
          "base_uri": "https://localhost:8080/"
        },
        "outputId": "5408ee7a-60df-48cf-89cd-5d02d84ee28f"
      },
      "execution_count": null,
      "outputs": [
        {
          "output_type": "stream",
          "name": "stdout",
          "text": [
            "Metrics on test set\n",
            "\n",
            "Evaluation Metrics for Model 1:\n",
            "Accuracy:  0.9423076923076923\n",
            "Precision:  0.940733772342427\n",
            "Recall:  0.9460737937559129\n",
            "f1-score:  0.9433962264150944\n"
          ]
        },
        {
          "output_type": "stream",
          "name": "stderr",
          "text": [
            "/usr/local/lib/python3.7/dist-packages/sklearn/base.py:444: UserWarning: X has feature names, but MLPClassifier was fitted without feature names\n",
            "  f\"X has feature names, but {self.__class__.__name__} was fitted without\"\n"
          ]
        }
      ]
    },
    {
      "cell_type": "code",
      "source": [
        "#plot confusion matrix for MLP\n",
        "\n",
        "from sklearn.metrics import confusion_matrix\n",
        "from sklearn.metrics import roc_curve\n",
        "cm = confusion_matrix(y_test[\"label\"].values.astype('int'), y_pred_mlp)\n",
        "import seaborn as sns\n",
        "sns.heatmap(cm, annot=True)\n"
      ],
      "metadata": {
        "id": "MZV53eBynQ_T",
        "colab": {
          "base_uri": "https://localhost:8080/",
          "height": 286
        },
        "outputId": "a527876f-bfed-418e-93e8-c04689a991d8"
      },
      "execution_count": null,
      "outputs": [
        {
          "output_type": "execute_result",
          "data": {
            "text/plain": [
              "<matplotlib.axes._subplots.AxesSubplot at 0x7feda97fc0d0>"
            ]
          },
          "metadata": {},
          "execution_count": 55
        },
        {
          "output_type": "display_data",
          "data": {
            "text/plain": [
              "<Figure size 432x288 with 2 Axes>"
            ],
            "image/png": "[encoded data removed]"
          },
          "metadata": {
            "needs_background": "light"
          }
        }
      ]
    },
    {
      "cell_type": "code",
      "source": [
        "#plot auc-roc curve for MLP\n",
        "\n",
        "import matplotlib.pyplot as plt\n",
        "fpr, tpr, thresholds = roc_curve(y_test[\"label\"].values.astype('int'), y_pred_mlp)\n",
        "plt.plot(fpr, tpr)\n",
        "plt.xlabel('False positive rate')\n",
        "plt.ylabel('True Positive rate')\n",
        "plt.title('ROC curve for MLP')"
      ],
      "metadata": {
        "id": "PDK7or0dt4c1",
        "colab": {
          "base_uri": "https://localhost:8080/",
          "height": 312
        },
        "outputId": "b5d6a840-cb5b-438a-984a-4bdeb994d1b4"
      },
      "execution_count": null,
      "outputs": [
        {
          "output_type": "execute_result",
          "data": {
            "text/plain": [
              "Text(0.5, 1.0, 'ROC curve for MLP')"
            ]
          },
          "metadata": {},
          "execution_count": 56
        },
        {
          "output_type": "display_data",
          "data": {
            "text/plain": [
              "<Figure size 432x288 with 1 Axes>"
            ],
            "image/png": "[encoded data removed]"
          },
          "metadata": {
            "needs_background": "light"
          }
        }
      ]
    },
    {
      "cell_type": "code",
      "source": [
        "#prediciting labels using trained model on Kaggle test set to submit in competitions and get accuracy score\n",
        "\n",
        "y_pred = model_mlp_0.predict(X_test_kaggle)\n",
        "sub = pd.DataFrame({'id':test_data['id'], 'label':y_pred})\n",
        "sub.to_csv('submit_mlp.csv', index=False)"
      ],
      "metadata": {
        "id": "hpZU8DLEshR3"
      },
      "execution_count": null,
      "outputs": []
    },
    {
      "cell_type": "code",
      "source": [
        "#sgd learning method"
      ],
      "metadata": {
        "id": "dbsZTozaOMB5"
      },
      "execution_count": null,
      "outputs": []
    },
    {
      "cell_type": "code",
      "source": [
        "model_mlp_0 = MLPClassifier(activation='relu', alpha=1.3171286604916028, learning_rate='constant', max_iter=2895, solver='sgd', random_state=0)\n",
        "model_mlp_1 = MLPClassifier(activation='relu', alpha=1.3171286604916028, learning_rate='constant', max_iter=2895, solver='sgd', random_state=0)\n",
        "model_mlp_2 = MLPClassifier(activation='relu', alpha=1.3171286604916028, learning_rate='constant', max_iter=2895, solver='sgd', random_state=0)\n",
        "model_mlp_3 = MLPClassifier(activation='relu', alpha=1.3171286604916028, learning_rate='constant', max_iter=2895, solver='sgd', random_state=0)\n",
        "model_mlp_4 = MLPClassifier(activation='relu', alpha=1.3171286604916028, learning_rate='constant', max_iter=2895, solver='sgd', random_state=0)"
      ],
      "metadata": {
        "id": "IbtJ4Ly7OJzh"
      },
      "execution_count": null,
      "outputs": []
    },
    {
      "cell_type": "code",
      "source": [
        "model_mlp_0.fit(X_train[0], y_train[0].astype('int'))\n",
        "model_mlp_1.fit(X_train[1], y_train[1].astype('int'))\n",
        "model_mlp_2.fit(X_train[2], y_train[2].astype('int'))\n",
        "model_mlp_3.fit(X_train[3], y_train[3].astype('int'))\n",
        "model_mlp_4.fit(X_train[4], y_train[4].astype('int'))"
      ],
      "metadata": {
        "id": "MebAbpiEOJ3N",
        "colab": {
          "base_uri": "https://localhost:8080/"
        },
        "outputId": "09267a11-5fbb-4b7f-a65e-440aabcec5b3"
      },
      "execution_count": null,
      "outputs": [
        {
          "output_type": "execute_result",
          "data": {
            "text/plain": [
              "MLPClassifier(alpha=1.3171286604916028, max_iter=2895, random_state=0,\n",
              "              solver='sgd')"
            ]
          },
          "metadata": {},
          "execution_count": 32
        }
      ]
    },
    {
      "cell_type": "code",
      "source": [
        "y_pred_0 = model_mlp_0.predict(X_val[0])\n",
        "y_pred_1 = model_mlp_1.predict(X_val[1])\n",
        "y_pred_2 = model_mlp_2.predict(X_val[2])\n",
        "y_pred_3 = model_mlp_3.predict(X_val[3])\n",
        "y_pred_4 = model_mlp_4.predict(X_val[4])\n",
        "\n",
        "\n",
        "# comparing the 5 model performances on resp. validation sets\n",
        "from sklearn.metrics import precision_score, recall_score, f1_score, accuracy_score\n",
        "\n",
        "print('Comparing the 5 MLP models on resp. val set')\n",
        "#model 1\n",
        "accuracy_0 = accuracy_score(y_val[0].astype('int'), y_pred_0)\n",
        "precision_0 = precision_score(y_val[0].astype('int'), y_pred_0)\n",
        "recall_0 =  recall_score(y_val[0].astype('int'), y_pred_0)\n",
        "f1_0 = f1_score(y_val[0].astype('int'), y_pred_0)\n",
        "\n",
        "print('\\nEvaluation Metrics for Model 1:')\n",
        "print(\"Accuracy: \", accuracy_0)\n",
        "print(\"Precision: \", precision_0)\n",
        "print(\"Recall: \", recall_0)\n",
        "print(\"f1-score: \", f1_0)\n",
        "\n",
        "#model 2\n",
        "accuracy_1 = accuracy_score(y_val[1].astype('int'), y_pred_1)\n",
        "precision_1 = precision_score(y_val[1].astype('int'), y_pred_1)\n",
        "recall_1 =  recall_score(y_val[1].astype('int'), y_pred_1)\n",
        "f1_1 = f1_score(y_val[1].astype('int'), y_pred_1)\n",
        "\n",
        "print('\\nEvaluation Metrics for Model 2:')\n",
        "print(\"Accuracy: \", accuracy_1)\n",
        "print(\"Precision: \", precision_1)\n",
        "print(\"Recall: \", recall_1)\n",
        "print(\"f1-score: \", f1_1)\n",
        "\n",
        "#model 3\n",
        "accuracy_2 = accuracy_score(y_val[2].astype('int'), y_pred_2)\n",
        "precision_2 = precision_score(y_val[2].astype('int'), y_pred_2)\n",
        "recall_2 =  recall_score(y_val[2].astype('int'), y_pred_2)\n",
        "f1_2 = f1_score(y_val[2].astype('int'), y_pred_2)\n",
        "\n",
        "print('\\nEvaluation Metrics for Model 3:')\n",
        "print(\"Accuracy: \", accuracy_2)\n",
        "print(\"Precision: \", precision_2)\n",
        "print(\"Recall: \", recall_2)\n",
        "print(\"f1-score: \", f1_2)\n",
        "\n",
        "#model 4\n",
        "accuracy_3 = accuracy_score(y_val[3].astype('int'), y_pred_3)\n",
        "precision_3 = precision_score(y_val[3].astype('int'), y_pred_3)\n",
        "recall_3 =  recall_score(y_val[3].astype('int'), y_pred_3)\n",
        "f1_3 = f1_score(y_val[3].astype('int'), y_pred_3)\n",
        "\n",
        "print('\\nEvaluation Metrics for Model 4:')\n",
        "print(\"Accuracy: \", accuracy_3)\n",
        "print(\"Precision: \", precision_3)\n",
        "print(\"Recall: \", recall_3)\n",
        "print(\"f1-score: \", f1_3)\n",
        "\n",
        "#model 5\n",
        "accuracy_4 = accuracy_score(y_val[4].astype('int'), y_pred_4)\n",
        "precision_4 = precision_score(y_val[4].astype('int'), y_pred_4)\n",
        "recall_4 =  recall_score(y_val[4].astype('int'), y_pred_4)\n",
        "f1_4 = f1_score(y_val[4].astype('int'), y_pred_4)\n",
        "\n",
        "print('\\nEvaluation Metrics for Model 5:')\n",
        "print(\"Accuracy: \", accuracy_4)\n",
        "print(\"Precision: \", precision_4)\n",
        "print(\"Recall: \", recall_4)\n",
        "print(\"f1-score: \", f1_4)\n",
        "\n",
        "print('Average Evaluation metrics for MLP are: ')\n",
        "print(\"Accuracy: \", np.mean([accuracy_0, accuracy_1, accuracy_2, accuracy_3, accuracy_4]))\n",
        "print(\"Precision: \", np.mean([precision_0, precision_1, precision_2, precision_3, precision_4]))\n",
        "print(\"Recall: \", np.mean([recall_0, recall_1, recall_2, recall_3, recall_4]))\n",
        "print(\"f1-score: \", np.mean([f1_0, f1_1, f1_2, f1_3, f1_4]))\n"
      ],
      "metadata": {
        "id": "bVZukY_vOJ6t",
        "colab": {
          "base_uri": "https://localhost:8080/"
        },
        "outputId": "3c9c327e-d939-4452-eea8-b1347e1311d9"
      },
      "execution_count": null,
      "outputs": [
        {
          "output_type": "stream",
          "name": "stdout",
          "text": [
            "Comparing the 5 MLP models on resp. val set\n",
            "\n",
            "Evaluation Metrics for Model 1:\n",
            "Accuracy:  0.9251802884615384\n",
            "Precision:  0.9089855072463768\n",
            "Recall:  0.944578313253012\n",
            "f1-score:  0.926440177252585\n",
            "\n",
            "Evaluation Metrics for Model 2:\n",
            "Accuracy:  0.9344951923076923\n",
            "Precision:  0.9191860465116279\n",
            "Recall:  0.9524096385542169\n",
            "f1-score:  0.9355029585798817\n",
            "\n",
            "Evaluation Metrics for Model 3:\n",
            "Accuracy:  0.9275841346153846\n",
            "Precision:  0.9180907483794932\n",
            "Recall:  0.9385542168674699\n",
            "f1-score:  0.9282097110515342\n",
            "\n",
            "Evaluation Metrics for Model 4:\n",
            "Accuracy:  0.9215745192307693\n",
            "Precision:  0.9055072463768116\n",
            "Recall:  0.9409638554216867\n",
            "f1-score:  0.9228951255539143\n",
            "\n",
            "Evaluation Metrics for Model 5:\n",
            "Accuracy:  0.9239783653846154\n",
            "Precision:  0.908246225319396\n",
            "Recall:  0.9427365883062085\n",
            "f1-score:  0.9251700680272108\n",
            "Average Evaluation metrics for MLP are: \n",
            "Accuracy:  0.9265625\n",
            "Precision:  0.9120031547667411\n",
            "Recall:  0.9438485224805188\n",
            "f1-score:  0.9276436080930253\n"
          ]
        }
      ]
    },
    {
      "cell_type": "code",
      "source": [
        "#evaluation metrics on test set\n",
        "y_pred_mlp = model_mlp_0.predict(X_test)\n",
        "\n",
        "\n",
        "# comparing the 5 model performances on resp. validation sets\n",
        "from sklearn.metrics import precision_score, recall_score, f1_score, accuracy_score\n",
        "\n",
        "print('Metrics on test set')\n",
        "#model 1\n",
        "accuracy_0 = accuracy_score(y_test.astype('int'), y_pred_mlp)\n",
        "precision_0 = precision_score(y_test.astype('int'), y_pred_mlp)\n",
        "recall_0 =  recall_score(y_test.astype('int'), y_pred_mlp)\n",
        "f1_0 = f1_score(y_test.astype('int'), y_pred_mlp)\n",
        "\n",
        "print('\\nEvaluation Metrics for Model 1:')\n",
        "print(\"Accuracy: \", accuracy_0)\n",
        "print(\"Precision: \", precision_0)\n",
        "print(\"Recall: \", recall_0)\n",
        "print(\"f1-score: \", f1_0)\n"
      ],
      "metadata": {
        "id": "WmqKhi49OJ-F",
        "colab": {
          "base_uri": "https://localhost:8080/"
        },
        "outputId": "948e1f52-3797-42b9-f015-005a3beb6a5c"
      },
      "execution_count": null,
      "outputs": [
        {
          "output_type": "stream",
          "name": "stdout",
          "text": [
            "Metrics on test set\n",
            "\n",
            "Evaluation Metrics for Model 1:\n",
            "Accuracy:  0.9230769230769231\n",
            "Precision:  0.9118457300275482\n",
            "Recall:  0.9394512771996215\n",
            "f1-score:  0.9254426840633737\n"
          ]
        },
        {
          "output_type": "stream",
          "name": "stderr",
          "text": [
            "/usr/local/lib/python3.7/dist-packages/sklearn/base.py:444: UserWarning: X has feature names, but MLPClassifier was fitted without feature names\n",
            "  f\"X has feature names, but {self.__class__.__name__} was fitted without\"\n"
          ]
        }
      ]
    },
    {
      "cell_type": "code",
      "source": [
        "from sklearn.metrics import confusion_matrix\n",
        "from sklearn.metrics import roc_curve\n",
        "cm = confusion_matrix(y_test[\"label\"].values.astype('int'), y_pred_mlp)\n",
        "import seaborn as sns\n",
        "sns.heatmap(cm, annot=True)\n"
      ],
      "metadata": {
        "id": "WGynPhKqOKBC",
        "colab": {
          "base_uri": "https://localhost:8080/",
          "height": 282
        },
        "outputId": "a13bec15-04c1-47c1-e463-ca60e888c87f"
      },
      "execution_count": null,
      "outputs": [
        {
          "output_type": "execute_result",
          "data": {
            "text/plain": [
              "<matplotlib.axes._subplots.AxesSubplot at 0x7fb217ffb390>"
            ]
          },
          "metadata": {},
          "execution_count": 35
        },
        {
          "output_type": "display_data",
          "data": {
            "text/plain": [
              "<Figure size 432x288 with 2 Axes>"
            ],
            "image/png": "[encoded data removed]"
          },
          "metadata": {
            "needs_background": "light"
          }
        }
      ]
    },
    {
      "cell_type": "code",
      "source": [
        "import matplotlib.pyplot as plt\n",
        "fpr, tpr, thresholds = roc_curve(y_test[\"label\"].values.astype('int'), y_pred_mlp)\n",
        "plt.plot(fpr, tpr)\n",
        "plt.xlabel('False positive rate')\n",
        "plt.ylabel('True Positive rate')\n",
        "plt.title('ROC curve for MLP')"
      ],
      "metadata": {
        "id": "A_2pNqX4OKEI",
        "colab": {
          "base_uri": "https://localhost:8080/",
          "height": 312
        },
        "outputId": "fcdf8afc-dd25-4e96-8509-2c876ccd332d"
      },
      "execution_count": null,
      "outputs": [
        {
          "output_type": "execute_result",
          "data": {
            "text/plain": [
              "Text(0.5, 1.0, 'ROC curve for MLP')"
            ]
          },
          "metadata": {},
          "execution_count": 36
        },
        {
          "output_type": "display_data",
          "data": {
            "text/plain": [
              "<Figure size 432x288 with 1 Axes>"
            ],
            "image/png": "[encoded data removed]"
          },
          "metadata": {
            "needs_background": "light"
          }
        }
      ]
    },
    {
      "cell_type": "code",
      "source": [
        "#prediciting labels using trained model on Kaggle test set to submit in competitions and get accuracy score\n",
        "\n",
        "y_pred = model_mlp_0.predict(X_test_kaggle)\n",
        "sub = pd.DataFrame({'id':test_data['id'], 'label':y_pred})\n",
        "sub.to_csv('submit_mlp_sgd.csv', index=False)"
      ],
      "metadata": {
        "id": "pRi0GR5tOKG7"
      },
      "execution_count": null,
      "outputs": []
    },
    {
      "cell_type": "code",
      "source": [
        ""
      ],
      "metadata": {
        "id": "zCobYnc7OKJk"
      },
      "execution_count": null,
      "outputs": []
    },
    {
      "cell_type": "code",
      "source": [
        ""
      ],
      "metadata": {
        "id": "3zQ9en1COKNS"
      },
      "execution_count": null,
      "outputs": []
    }
  ]
}