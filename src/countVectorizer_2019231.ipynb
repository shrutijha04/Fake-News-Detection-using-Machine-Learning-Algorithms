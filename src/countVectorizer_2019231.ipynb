{
  "nbformat": 4,
  "nbformat_minor": 0,
  "metadata": {
    "colab": {
      "name": "countVectorizer_2019231",
      "provenance": [],
      "collapsed_sections": []
    },
    "kernelspec": {
      "name": "python3",
      "display_name": "Python 3"
    },
    "language_info": {
      "name": "python"
    }
  },
  "cells": [
    {
      "cell_type": "markdown",
      "source": [
        "Loading the dataset\n"
      ],
      "metadata": {
        "id": "JQyf_IT1bKs8"
      }
    },
    {
      "cell_type": "code",
      "source": [
        "!pip install --upgrade --no-cache-dir gdown"
      ],
      "metadata": {
        "colab": {
          "base_uri": "https://localhost:8080/"
        },
        "id": "YyFkKXnpUejA",
        "outputId": "26ab021f-7ce0-44a6-fcfd-ca6ef69e0c11"
      },
      "execution_count": null,
      "outputs": [
        {
          "output_type": "stream",
          "name": "stdout",
          "text": [
            "Requirement already satisfied: gdown in /usr/local/lib/python3.7/dist-packages (4.4.0)\n",
            "Requirement already satisfied: beautifulsoup4 in /usr/local/lib/python3.7/dist-packages (from gdown) (4.6.3)\n",
            "Requirement already satisfied: six in /usr/local/lib/python3.7/dist-packages (from gdown) (1.15.0)\n",
            "Requirement already satisfied: requests[socks] in /usr/local/lib/python3.7/dist-packages (from gdown) (2.23.0)\n",
            "Requirement already satisfied: tqdm in /usr/local/lib/python3.7/dist-packages (from gdown) (4.64.0)\n",
            "Requirement already satisfied: filelock in /usr/local/lib/python3.7/dist-packages (from gdown) (3.6.0)\n",
            "Requirement already satisfied: certifi>=2017.4.17 in /usr/local/lib/python3.7/dist-packages (from requests[socks]->gdown) (2021.10.8)\n",
            "Requirement already satisfied: urllib3!=1.25.0,!=1.25.1,<1.26,>=1.21.1 in /usr/local/lib/python3.7/dist-packages (from requests[socks]->gdown) (1.24.3)\n",
            "Requirement already satisfied: idna<3,>=2.5 in /usr/local/lib/python3.7/dist-packages (from requests[socks]->gdown) (2.10)\n",
            "Requirement already satisfied: chardet<4,>=3.0.2 in /usr/local/lib/python3.7/dist-packages (from requests[socks]->gdown) (3.0.4)\n",
            "Requirement already satisfied: PySocks!=1.5.7,>=1.5.6 in /usr/local/lib/python3.7/dist-packages (from requests[socks]->gdown) (1.7.1)\n"
          ]
        }
      ]
    },
    {
      "cell_type": "code",
      "source": [
        "! gdown --id 1E8OTtNK_UNSAdmkg3OuB0k2FsKKF9QpY\n",
        "! gdown --id 1-pm6_kvT9CBrYER40uIkRiG0KMlHnH7L\n",
        "! gdown --id 1oiVQignVg1wvE1LXKFvOLHPl0P8GNSDp\n",
        "\n",
        "! gdown --id 1pGkEyDelD7Lp7yhFML9Dt1oo-91Mqf9H\n",
        "! gdown --id 1DYVzeYjjTTeHtazHfKD9FTx57h-77bkC"
      ],
      "metadata": {
        "id": "mkyWGh1AbNrt",
        "colab": {
          "base_uri": "https://localhost:8080/"
        },
        "outputId": "1d76538f-191a-47ae-f7e7-1bbca793de18"
      },
      "execution_count": null,
      "outputs": [
        {
          "output_type": "stream",
          "name": "stdout",
          "text": [
            "/usr/local/lib/python3.7/dist-packages/gdown/cli.py:131: FutureWarning: Option `--id` was deprecated in version 4.3.1 and will be removed in 5.0. You don't need to pass it anymore to use a file ID.\n",
            "  category=FutureWarning,\n",
            "Downloading...\n",
            "From: https://drive.google.com/uc?id=1E8OTtNK_UNSAdmkg3OuB0k2FsKKF9QpY\n",
            "To: /content/train.csv\n",
            "100% 98.6M/98.6M [00:01<00:00, 88.1MB/s]\n",
            "/usr/local/lib/python3.7/dist-packages/gdown/cli.py:131: FutureWarning: Option `--id` was deprecated in version 4.3.1 and will be removed in 5.0. You don't need to pass it anymore to use a file ID.\n",
            "  category=FutureWarning,\n",
            "Downloading...\n",
            "From: https://drive.google.com/uc?id=1-pm6_kvT9CBrYER40uIkRiG0KMlHnH7L\n",
            "To: /content/test.csv\n",
            "100% 25.1M/25.1M [00:00<00:00, 70.6MB/s]\n",
            "/usr/local/lib/python3.7/dist-packages/gdown/cli.py:131: FutureWarning: Option `--id` was deprecated in version 4.3.1 and will be removed in 5.0. You don't need to pass it anymore to use a file ID.\n",
            "  category=FutureWarning,\n",
            "Downloading...\n",
            "From: https://drive.google.com/uc?id=1oiVQignVg1wvE1LXKFvOLHPl0P8GNSDp\n",
            "To: /content/submit.csv\n",
            "100% 41.6k/41.6k [00:00<00:00, 2.47MB/s]\n",
            "/usr/local/lib/python3.7/dist-packages/gdown/cli.py:131: FutureWarning: Option `--id` was deprecated in version 4.3.1 and will be removed in 5.0. You don't need to pass it anymore to use a file ID.\n",
            "  category=FutureWarning,\n",
            "Downloading...\n",
            "From: https://drive.google.com/uc?id=1pGkEyDelD7Lp7yhFML9Dt1oo-91Mqf9H\n",
            "To: /content/pre_train.csv\n",
            "100% 280M/280M [00:02<00:00, 120MB/s]\n",
            "/usr/local/lib/python3.7/dist-packages/gdown/cli.py:131: FutureWarning: Option `--id` was deprecated in version 4.3.1 and will be removed in 5.0. You don't need to pass it anymore to use a file ID.\n",
            "  category=FutureWarning,\n",
            "Downloading...\n",
            "From: https://drive.google.com/uc?id=1DYVzeYjjTTeHtazHfKD9FTx57h-77bkC\n",
            "To: /content/pre_test.csv\n",
            "100% 70.2M/70.2M [00:00<00:00, 94.4MB/s]\n"
          ]
        }
      ]
    },
    {
      "cell_type": "code",
      "source": [
        "import numpy as np\n",
        "import pandas as pd\n",
        "import nltk\n",
        "import re\n",
        "from nltk.corpus import stopwords\n",
        "nltk.download('stopwords')\n",
        "from nltk.stem.porter import PorterStemmer\n"
      ],
      "metadata": {
        "id": "L3wTlDK2eKPc",
        "colab": {
          "base_uri": "https://localhost:8080/"
        },
        "outputId": "420cdf4d-d6bd-4419-9775-8da98f1dd83f"
      },
      "execution_count": null,
      "outputs": [
        {
          "output_type": "stream",
          "name": "stdout",
          "text": [
            "[nltk_data] Downloading package stopwords to /root/nltk_data...\n",
            "[nltk_data]   Package stopwords is already up-to-date!\n"
          ]
        }
      ]
    },
    {
      "cell_type": "code",
      "source": [
        "train_data = pd.read_csv(\"train.csv\")\n",
        "test_data = pd.read_csv(\"test.csv\")\n",
        "submit_data = pd.read_csv(\"submit.csv\")\n",
        "\n",
        "train_data.dropna(inplace=True)\n",
        "train_data.drop(train_data.loc[train_data['text']==\" \"].index, inplace=True)\n",
        "train_data.drop(train_data.loc[train_data['text']==\"  \"].index, inplace=True)\n",
        "train_data.drop(train_data.loc[train_data['text']==\"\\n\"].index, inplace=True)\n",
        "\n",
        "# Resetting index\n",
        "train_data.reset_index(inplace=True)\n",
        "train_data= train_data.apply(lambda x: x.astype(str).str.lower())\n",
        "train_data = train_data.drop(columns=[\"id\", \"index\"])\n",
        "\n",
        "test_data = test_data.join(submit_data[\"label\"])\n",
        "transformed_df = pd.read_csv(\"pre_train.csv\")\n",
        "transformed_df_test = pd.read_csv(\"pre_test.csv\")\n",
        "\n",
        "# X_test = transformed_df_test.values\n",
        "y_test = test_data[\"label\"].values \n"
      ],
      "metadata": {
        "id": "WvMcjj16ePcy"
      },
      "execution_count": null,
      "outputs": []
    },
    {
      "cell_type": "code",
      "source": [
        "# Checking null values\n",
        "test_data.isnull().sum()"
      ],
      "metadata": {
        "id": "zbijDboNqc24",
        "colab": {
          "base_uri": "https://localhost:8080/"
        },
        "outputId": "7a5c5e93-76af-43ae-8f70-1b4549be3455"
      },
      "execution_count": null,
      "outputs": [
        {
          "output_type": "execute_result",
          "data": {
            "text/plain": [
              "id          0\n",
              "title     122\n",
              "author    503\n",
              "text        7\n",
              "label       0\n",
              "dtype: int64"
            ]
          },
          "metadata": {},
          "execution_count": 5
        }
      ]
    },
    {
      "cell_type": "code",
      "source": [
        "# Removing null values\n",
        "test_data.dropna(inplace=True)\n",
        "test_data.drop(test_data.loc[test_data['text']==\" \"].index, inplace=True)\n",
        "test_data.drop(test_data.loc[test_data['text']==\"  \"].index, inplace=True)\n",
        "test_data.drop(test_data.loc[test_data['text']==\"\\n\"].index, inplace=True)\n",
        "\n",
        "# Resetting index\n",
        "test_data.reset_index(inplace=True)"
      ],
      "metadata": {
        "id": "eYCMmmcfqita"
      },
      "execution_count": null,
      "outputs": []
    },
    {
      "cell_type": "code",
      "source": [
        "test_data= test_data.apply(lambda x: x.astype(str).str.lower())"
      ],
      "metadata": {
        "id": "rLhoJaYHgAwb"
      },
      "execution_count": null,
      "outputs": []
    },
    {
      "cell_type": "code",
      "source": [
        "test_data = test_data.drop(columns=[\"id\",\"index\"])\n",
        "y_test = test_data[\"label\"].values "
      ],
      "metadata": {
        "id": "el4RL1IvgY4-"
      },
      "execution_count": null,
      "outputs": []
    },
    {
      "cell_type": "code",
      "source": [
        "stop_words_set = set(stopwords.words('english'))\n",
        "\n",
        "sw_removed = []\n",
        "\n",
        "for i in range(len(train_data)):\n",
        "    review = re.sub('[^a-zA-Z]',' ',train_data['text'][i])\n",
        "    #not on title?\n",
        "    review = review.split()\n",
        "    review = [word for word in review if not word in stop_words_set]\n",
        "    statements = ' '.join(review)\n",
        "    sw_removed.append(statements)\n"
      ],
      "metadata": {
        "id": "lAnpjHn2hDtd"
      },
      "execution_count": null,
      "outputs": []
    },
    {
      "cell_type": "code",
      "source": [
        "sw_removed_test = []\n",
        "\n",
        "for i in range(len(test_data)):\n",
        "    review = re.sub('[^a-zA-Z]',' ',test_data['text'][i])\n",
        "    #not on title?\n",
        "    review = review.split()\n",
        "    review = [word for word in review if not word in stop_words_set]\n",
        "    statements = ' '.join(review)\n",
        "    sw_removed_test.append(statements)"
      ],
      "metadata": {
        "id": "ADlx6Za5E8k3"
      },
      "execution_count": null,
      "outputs": []
    },
    {
      "cell_type": "code",
      "source": [
        "ps = PorterStemmer()\n",
        "\n",
        "stemmed = []\n",
        "\n",
        "print(len(sw_removed))\n",
        "\n",
        "for i in range(len(sw_removed)):\n",
        "  sw_removed_1 = sw_removed[i].split()\n",
        "  stem = [ps.stem(word) for word in sw_removed_1]\n",
        "  st = ' '.join(stem)\n",
        "  stemmed.append(st)\n"
      ],
      "metadata": {
        "colab": {
          "base_uri": "https://localhost:8080/"
        },
        "id": "CKuwudJZtMKj",
        "outputId": "78a1cd0e-beb5-440a-ba87-6133a247c013"
      },
      "execution_count": null,
      "outputs": [
        {
          "output_type": "stream",
          "name": "stdout",
          "text": [
            "18211\n"
          ]
        }
      ]
    },
    {
      "cell_type": "code",
      "source": [
        "stemmed_test = []\n",
        "\n",
        "for i in range(len(sw_removed_test)):\n",
        "  sw_removed_1 = sw_removed_test[i].split()\n",
        "  stem = [ps.stem(word) for word in sw_removed_1]\n",
        "  st = ' '.join(stem)\n",
        "  stemmed_test.append(st)"
      ],
      "metadata": {
        "id": "kOzX_rm_FD-Q"
      },
      "execution_count": null,
      "outputs": []
    },
    {
      "cell_type": "code",
      "source": [
        "preprocess_arr = np.array(stemmed)\n",
        "preprocess_df = pd.DataFrame(preprocess_arr)"
      ],
      "metadata": {
        "id": "5KRjU-PrveIT"
      },
      "execution_count": null,
      "outputs": []
    },
    {
      "cell_type": "code",
      "source": [
        "preprocess_arr_test = np.array(stemmed_test)\n",
        "preprocess_df_test = pd.DataFrame(preprocess_arr_test)"
      ],
      "metadata": {
        "id": "b1KC4SpvFMa5"
      },
      "execution_count": null,
      "outputs": []
    },
    {
      "cell_type": "code",
      "source": [
        "preprocess_df_test.head() "
      ],
      "metadata": {
        "colab": {
          "base_uri": "https://localhost:8080/",
          "height": 206
        },
        "id": "8fPUnkq0xUf8",
        "outputId": "76c530e4-2ea1-464a-9dca-991b6d7cb296"
      },
      "execution_count": null,
      "outputs": [
        {
          "output_type": "execute_result",
          "data": {
            "text/plain": [
              "                                                   0\n",
              "0  palo alto calif year scorn polit process silic...\n",
              "1  video nodapl nativ american leader vow stay wi...\n",
              "2  first succeed tri differ sport tim tebow heism...\n",
              "3  min ago view comment like first time histori f...\n",
              "4  sunday nbc meet press hous minor leader rep na..."
            ],
            "text/html": [
              "\n",
              "  <div id=\"df-d08d9f83-bbce-4a3f-ab61-7200d47ea998\">\n",
              "    <div class=\"colab-df-container\">\n",
              "      <div>\n",
              "<style scoped>\n",
              "    .dataframe tbody tr th:only-of-type {\n",
              "        vertical-align: middle;\n",
              "    }\n",
              "\n",
              "    .dataframe tbody tr th {\n",
              "        vertical-align: top;\n",
              "    }\n",
              "\n",
              "    .dataframe thead th {\n",
              "        text-align: right;\n",
              "    }\n",
              "</style>\n",
              "<table border=\"1\" class=\"dataframe\">\n",
              "  <thead>\n",
              "    <tr style=\"text-align: right;\">\n",
              "      <th></th>\n",
              "      <th>0</th>\n",
              "    </tr>\n",
              "  </thead>\n",
              "  <tbody>\n",
              "    <tr>\n",
              "      <th>0</th>\n",
              "      <td>palo alto calif year scorn polit process silic...</td>\n",
              "    </tr>\n",
              "    <tr>\n",
              "      <th>1</th>\n",
              "      <td>video nodapl nativ american leader vow stay wi...</td>\n",
              "    </tr>\n",
              "    <tr>\n",
              "      <th>2</th>\n",
              "      <td>first succeed tri differ sport tim tebow heism...</td>\n",
              "    </tr>\n",
              "    <tr>\n",
              "      <th>3</th>\n",
              "      <td>min ago view comment like first time histori f...</td>\n",
              "    </tr>\n",
              "    <tr>\n",
              "      <th>4</th>\n",
              "      <td>sunday nbc meet press hous minor leader rep na...</td>\n",
              "    </tr>\n",
              "  </tbody>\n",
              "</table>\n",
              "</div>\n",
              "      <button class=\"colab-df-convert\" onclick=\"convertToInteractive('df-d08d9f83-bbce-4a3f-ab61-7200d47ea998')\"\n",
              "              title=\"Convert this dataframe to an interactive table.\"\n",
              "              style=\"display:none;\">\n",
              "        \n",
              "  <svg xmlns=\"http://www.w3.org/2000/svg\" height=\"24px\"viewBox=\"0 0 24 24\"\n",
              "       width=\"24px\">\n",
              "    <path d=\"M0 0h24v24H0V0z\" fill=\"none\"/>\n",
              "    <path d=\"M18.56 5.44l.94 2.06.94-2.06 2.06-.94-2.06-.94-.94-2.06-.94 2.06-2.06.94zm-11 1L8.5 8.5l.94-2.06 2.06-.94-2.06-.94L8.5 2.5l-.94 2.06-2.06.94zm10 10l.94 2.06.94-2.06 2.06-.94-2.06-.94-.94-2.06-.94 2.06-2.06.94z\"/><path d=\"M17.41 7.96l-1.37-1.37c-.4-.4-.92-.59-1.43-.59-.52 0-1.04.2-1.43.59L10.3 9.45l-7.72 7.72c-.78.78-.78 2.05 0 2.83L4 21.41c.39.39.9.59 1.41.59.51 0 1.02-.2 1.41-.59l7.78-7.78 2.81-2.81c.8-.78.8-2.07 0-2.86zM5.41 20L4 18.59l7.72-7.72 1.47 1.35L5.41 20z\"/>\n",
              "  </svg>\n",
              "      </button>\n",
              "      \n",
              "  <style>\n",
              "    .colab-df-container {\n",
              "      display:flex;\n",
              "      flex-wrap:wrap;\n",
              "      gap: 12px;\n",
              "    }\n",
              "\n",
              "    .colab-df-convert {\n",
              "      background-color: #E8F0FE;\n",
              "      border: none;\n",
              "      border-radius: 50%;\n",
              "      cursor: pointer;\n",
              "      display: none;\n",
              "      fill: #1967D2;\n",
              "      height: 32px;\n",
              "      padding: 0 0 0 0;\n",
              "      width: 32px;\n",
              "    }\n",
              "\n",
              "    .colab-df-convert:hover {\n",
              "      background-color: #E2EBFA;\n",
              "      box-shadow: 0px 1px 2px rgba(60, 64, 67, 0.3), 0px 1px 3px 1px rgba(60, 64, 67, 0.15);\n",
              "      fill: #174EA6;\n",
              "    }\n",
              "\n",
              "    [theme=dark] .colab-df-convert {\n",
              "      background-color: #3B4455;\n",
              "      fill: #D2E3FC;\n",
              "    }\n",
              "\n",
              "    [theme=dark] .colab-df-convert:hover {\n",
              "      background-color: #434B5C;\n",
              "      box-shadow: 0px 1px 3px 1px rgba(0, 0, 0, 0.15);\n",
              "      filter: drop-shadow(0px 1px 2px rgba(0, 0, 0, 0.3));\n",
              "      fill: #FFFFFF;\n",
              "    }\n",
              "  </style>\n",
              "\n",
              "      <script>\n",
              "        const buttonEl =\n",
              "          document.querySelector('#df-d08d9f83-bbce-4a3f-ab61-7200d47ea998 button.colab-df-convert');\n",
              "        buttonEl.style.display =\n",
              "          google.colab.kernel.accessAllowed ? 'block' : 'none';\n",
              "\n",
              "        async function convertToInteractive(key) {\n",
              "          const element = document.querySelector('#df-d08d9f83-bbce-4a3f-ab61-7200d47ea998');\n",
              "          const dataTable =\n",
              "            await google.colab.kernel.invokeFunction('convertToInteractive',\n",
              "                                                     [key], {});\n",
              "          if (!dataTable) return;\n",
              "\n",
              "          const docLinkHtml = 'Like what you see? Visit the ' +\n",
              "            '<a target=\"_blank\" href=https://colab.research.google.com/notebooks/data_table.ipynb>data table notebook</a>'\n",
              "            + ' to learn more about interactive tables.';\n",
              "          element.innerHTML = '';\n",
              "          dataTable['output_type'] = 'display_data';\n",
              "          await google.colab.output.renderOutput(dataTable, element);\n",
              "          const docLink = document.createElement('div');\n",
              "          docLink.innerHTML = docLinkHtml;\n",
              "          element.appendChild(docLink);\n",
              "        }\n",
              "      </script>\n",
              "    </div>\n",
              "  </div>\n",
              "  "
            ]
          },
          "metadata": {},
          "execution_count": 15
        }
      ]
    },
    {
      "cell_type": "code",
      "source": [
        "from sklearn.feature_extraction.text import TfidfVectorizer\n",
        "from sklearn.feature_extraction.text import CountVectorizer\n",
        "\n",
        "\n",
        "# vectorizer = TfidfVectorizer(ngram_range=(1,3), max_features=3000)\n",
        "count_vectorizer = CountVectorizer(ngram_range=(1,3), max_features=3000)\n",
        "\n",
        "# train_input = vectorizer.fit_transform(preprocess_arr).toarray()\n",
        "train_input_count_vectorizer = count_vectorizer.fit_transform(preprocess_arr).toarray()\n",
        "\n",
        "# transformed_df = pd.DataFrame(data=train_input, columns=vectorizer.get_feature_names())\n",
        "transformed_df_count_vectorizer = pd.DataFrame(data=train_input_count_vectorizer, columns=count_vectorizer.get_feature_names())"
      ],
      "metadata": {
        "colab": {
          "base_uri": "https://localhost:8080/"
        },
        "id": "uNF9pRBDxgIf",
        "outputId": "7d2e83b0-67f4-4e03-a528-a67cf4d15ef6"
      },
      "execution_count": null,
      "outputs": [
        {
          "output_type": "stream",
          "name": "stderr",
          "text": [
            "/usr/local/lib/python3.7/dist-packages/sklearn/utils/deprecation.py:87: FutureWarning: Function get_feature_names is deprecated; get_feature_names is deprecated in 1.0 and will be removed in 1.2. Please use get_feature_names_out instead.\n",
            "  warnings.warn(msg, category=FutureWarning)\n"
          ]
        }
      ]
    },
    {
      "cell_type": "code",
      "source": [
        "count_vectorizer_test = CountVectorizer(ngram_range=(1,3), max_features=3000)\n",
        "\n",
        "# train_input = vectorizer.fit_transform(preprocess_arr).toarray()\n",
        "test_input_count_vectorizer = count_vectorizer_test.fit_transform(preprocess_arr_test).toarray()\n",
        "\n",
        "# transformed_df = pd.DataFrame(data=train_input, columns=vectorizer.get_feature_names())\n",
        "transformed_df_count_vectorizer_test = pd.DataFrame(data=test_input_count_vectorizer, columns=count_vectorizer_test.get_feature_names())"
      ],
      "metadata": {
        "colab": {
          "base_uri": "https://localhost:8080/"
        },
        "id": "6pGywlPVFXl5",
        "outputId": "5aeca5ec-5120-4b13-f6c4-04bab6b83788"
      },
      "execution_count": null,
      "outputs": [
        {
          "output_type": "stream",
          "name": "stderr",
          "text": [
            "/usr/local/lib/python3.7/dist-packages/sklearn/utils/deprecation.py:87: FutureWarning: Function get_feature_names is deprecated; get_feature_names is deprecated in 1.0 and will be removed in 1.2. Please use get_feature_names_out instead.\n",
            "  warnings.warn(msg, category=FutureWarning)\n"
          ]
        }
      ]
    },
    {
      "cell_type": "code",
      "source": [
        "X_test = transformed_df_count_vectorizer_test.values"
      ],
      "metadata": {
        "id": "BAZntecwZZ8o"
      },
      "execution_count": null,
      "outputs": []
    },
    {
      "cell_type": "markdown",
      "source": [
        "K Fold"
      ],
      "metadata": {
        "id": "_KHI6lkMciD3"
      }
    },
    {
      "cell_type": "code",
      "source": [
        "from sklearn.model_selection import StratifiedKFold\n",
        "kf = StratifiedKFold(n_splits=5)\n",
        "\n",
        "# X = transformed_df.values\n",
        "X_cv = transformed_df_count_vectorizer.values\n",
        "y = train_data[\"label\"].values \n",
        "\n",
        "# X_train=[]\n",
        "# X_val=[]\n",
        "X_train_cv=[]\n",
        "X_val_cv=[]\n",
        "y_train=[]\n",
        "y_val=[]\n",
        "\n",
        "for train_index, test_index in kf.split(X_cv,y):\n",
        "  # X_train.append(X[train_index])\n",
        "  # X_val.append(X[test_index]) \n",
        "  X_train_cv.append(X_cv[train_index])\n",
        "  X_val_cv.append(X_cv[test_index]) \n",
        "  y_train.append(y[train_index])\n",
        "  y_val.append(y[test_index])"
      ],
      "metadata": {
        "id": "7iOaI-apcNOq"
      },
      "execution_count": null,
      "outputs": []
    },
    {
      "cell_type": "markdown",
      "source": [
        "Naive Bayes"
      ],
      "metadata": {
        "id": "_dXh1NGZcqHK"
      }
    },
    {
      "cell_type": "code",
      "source": [
        "from sklearn.naive_bayes import GaussianNB\n",
        "\n",
        "gnb_0 = GaussianNB()\n",
        "gnb_1 = GaussianNB()\n",
        "gnb_2 = GaussianNB()\n",
        "gnb_3 = GaussianNB()\n",
        "gnb_4 = GaussianNB()\n",
        "\n",
        "gnb_0.fit(X_train_cv[0],y_train[0].astype('int'))\n",
        "gnb_1.fit(X_train_cv[1],y_train[1].astype('int'))\n",
        "gnb_2.fit(X_train_cv[2],y_train[2].astype('int'))\n",
        "gnb_3.fit(X_train_cv[3],y_train[3].astype('int'))\n",
        "gnb_4.fit(X_train_cv[4],y_train[4].astype('int'))\n",
        "\n",
        "y_pred_0 = gnb_0.predict(X_val_cv[0])\n",
        "y_pred_1 = gnb_1.predict(X_val_cv[1])\n",
        "y_pred_2 = gnb_2.predict(X_val_cv[2])\n",
        "y_pred_3 = gnb_3.predict(X_val_cv[3])\n",
        "y_pred_4 = gnb_4.predict(X_val_cv[4])\n"
      ],
      "metadata": {
        "id": "dU6drxWSWiLO"
      },
      "execution_count": null,
      "outputs": []
    },
    {
      "cell_type": "code",
      "source": [
        "from sklearn.metrics import precision_score, recall_score, f1_score, accuracy_score\n",
        "\n",
        "print('Comparing the 5 Naive Bayes models on resp. val set')\n",
        "#model 1\n",
        "print('\\nAverage of the evaluation Metrics for the Models:')\n",
        "print(\"Accuracy: \", (accuracy_score(y_val[0].astype('int'), y_pred_0) + accuracy_score(y_val[1].astype('int'), y_pred_1) + accuracy_score(y_val[2].astype('int'), y_pred_2) + accuracy_score(y_val[3].astype('int'), y_pred_3) + accuracy_score(y_val[4].astype('int'), y_pred_4))/5)\n",
        "print(\"Precision: \", (precision_score(y_val[0].astype('int'), y_pred_0) + precision_score(y_val[1].astype('int'), y_pred_1) + precision_score(y_val[2].astype('int'), y_pred_2) + precision_score(y_val[3].astype('int'), y_pred_3) + precision_score(y_val[4].astype('int'), y_pred_4))/5)\n",
        "print(\"Recall: \", (recall_score(y_val[0].astype('int'), y_pred_0) + recall_score(y_val[1].astype('int'), y_pred_1) + recall_score(y_val[2].astype('int'), y_pred_2) + recall_score(y_val[3].astype('int'), y_pred_3) + recall_score(y_val[4].astype('int'), y_pred_4))/5)\n",
        "print(\"f1-score: \", (f1_score(y_val[0].astype('int'), y_pred_0) + f1_score(y_val[1].astype('int'), y_pred_1) + f1_score(y_val[2].astype('int'), y_pred_2) + f1_score(y_val[3].astype('int'), y_pred_3) + f1_score(y_val[4].astype('int'), y_pred_4))/5)\n"
      ],
      "metadata": {
        "id": "Y8iTKcXzbHSJ"
      },
      "execution_count": null,
      "outputs": []
    },
    {
      "cell_type": "code",
      "source": [
        "len(y_test)"
      ],
      "metadata": {
        "id": "InOBhE0bMxca"
      },
      "execution_count": null,
      "outputs": []
    },
    {
      "cell_type": "code",
      "source": [
        "print('Comparing the Naive Bayes model on the test set')\n",
        "\n",
        "gnb_test = GaussianNB()\n",
        "\n",
        "gnb_test.fit(X_cv,y.astype(int))\n",
        "\n",
        "y_test_pred = gnb_test.predict(X_test)\n",
        "\n",
        "\n",
        "print('\\nEvaluation Metrics for the test set:')\n",
        "print(\"Accuracy: \", accuracy_score(y_test.astype('int'), y_test_pred))\n",
        "print(\"Precision: \", precision_score(y_test.astype('int'), y_test_pred))\n",
        "print(\"Recall: \", recall_score(y_test.astype('int'), y_test_pred))\n",
        "print(\"f1-score: \", f1_score(y_test.astype('int'), y_test_pred))"
      ],
      "metadata": {
        "id": "OJS_DTNwBVUH"
      },
      "execution_count": null,
      "outputs": []
    }
  ]
}