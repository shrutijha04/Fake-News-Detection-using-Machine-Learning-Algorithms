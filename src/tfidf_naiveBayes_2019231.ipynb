{
  "nbformat": 4,
  "nbformat_minor": 0,
  "metadata": {
    "colab": {
      "name": "tfidf-naiveBayes_2019231",
      "provenance": [],
      "collapsed_sections": []
    },
    "kernelspec": {
      "name": "python3",
      "display_name": "Python 3"
    },
    "language_info": {
      "name": "python"
    }
  },
  "cells": [
    {
      "cell_type": "markdown",
      "source": [
        "Loading the dataset\n"
      ],
      "metadata": {
        "id": "JQyf_IT1bKs8"
      }
    },
    {
      "cell_type": "code",
      "source": [
        "!pip install --upgrade --no-cache-dir gdown"
      ],
      "metadata": {
        "id": "FeirRE4Iuwo5",
        "colab": {
          "base_uri": "https://localhost:8080/"
        },
        "outputId": "9a295d0b-d8f4-4846-d9bb-b0ab1b5569b4"
      },
      "execution_count": 1,
      "outputs": [
        {
          "output_type": "stream",
          "name": "stdout",
          "text": [
            "Requirement already satisfied: gdown in /usr/local/lib/python3.7/dist-packages (4.4.0)\n",
            "Requirement already satisfied: beautifulsoup4 in /usr/local/lib/python3.7/dist-packages (from gdown) (4.6.3)\n",
            "Requirement already satisfied: filelock in /usr/local/lib/python3.7/dist-packages (from gdown) (3.6.0)\n",
            "Requirement already satisfied: requests[socks] in /usr/local/lib/python3.7/dist-packages (from gdown) (2.23.0)\n",
            "Requirement already satisfied: six in /usr/local/lib/python3.7/dist-packages (from gdown) (1.15.0)\n",
            "Requirement already satisfied: tqdm in /usr/local/lib/python3.7/dist-packages (from gdown) (4.64.0)\n",
            "Requirement already satisfied: urllib3!=1.25.0,!=1.25.1,<1.26,>=1.21.1 in /usr/local/lib/python3.7/dist-packages (from requests[socks]->gdown) (1.24.3)\n",
            "Requirement already satisfied: idna<3,>=2.5 in /usr/local/lib/python3.7/dist-packages (from requests[socks]->gdown) (2.10)\n",
            "Requirement already satisfied: chardet<4,>=3.0.2 in /usr/local/lib/python3.7/dist-packages (from requests[socks]->gdown) (3.0.4)\n",
            "Requirement already satisfied: certifi>=2017.4.17 in /usr/local/lib/python3.7/dist-packages (from requests[socks]->gdown) (2021.10.8)\n",
            "Requirement already satisfied: PySocks!=1.5.7,>=1.5.6 in /usr/local/lib/python3.7/dist-packages (from requests[socks]->gdown) (1.7.1)\n"
          ]
        }
      ]
    },
    {
      "cell_type": "code",
      "source": [
        "! gdown --id 1E8OTtNK_UNSAdmkg3OuB0k2FsKKF9QpY\n",
        "! gdown --id 1-pm6_kvT9CBrYER40uIkRiG0KMlHnH7L\n",
        "! gdown --id 1oiVQignVg1wvE1LXKFvOLHPl0P8GNSDp\n",
        "\n",
        "! gdown --id 1HofeiIpUTM2MOeCXU7UVmBsoHfpwytwD\n",
        "! gdown --id 1C4vxrdTjUwVaBeFGjN7XOTR-fn2r0v9R"
      ],
      "metadata": {
        "colab": {
          "base_uri": "https://localhost:8080/"
        },
        "outputId": "5771a57d-ebf5-466d-843f-68313b3e699b",
        "id": "QnolpSw6gjyh"
      },
      "execution_count": 2,
      "outputs": [
        {
          "output_type": "stream",
          "name": "stdout",
          "text": [
            "/usr/local/lib/python3.7/dist-packages/gdown/cli.py:131: FutureWarning: Option `--id` was deprecated in version 4.3.1 and will be removed in 5.0. You don't need to pass it anymore to use a file ID.\n",
            "  category=FutureWarning,\n",
            "Downloading...\n",
            "From: https://drive.google.com/uc?id=1E8OTtNK_UNSAdmkg3OuB0k2FsKKF9QpY\n",
            "To: /content/train.csv\n",
            "100% 98.6M/98.6M [00:01<00:00, 86.6MB/s]\n",
            "/usr/local/lib/python3.7/dist-packages/gdown/cli.py:131: FutureWarning: Option `--id` was deprecated in version 4.3.1 and will be removed in 5.0. You don't need to pass it anymore to use a file ID.\n",
            "  category=FutureWarning,\n",
            "Downloading...\n",
            "From: https://drive.google.com/uc?id=1-pm6_kvT9CBrYER40uIkRiG0KMlHnH7L\n",
            "To: /content/test.csv\n",
            "100% 25.1M/25.1M [00:00<00:00, 49.1MB/s]\n",
            "/usr/local/lib/python3.7/dist-packages/gdown/cli.py:131: FutureWarning: Option `--id` was deprecated in version 4.3.1 and will be removed in 5.0. You don't need to pass it anymore to use a file ID.\n",
            "  category=FutureWarning,\n",
            "Downloading...\n",
            "From: https://drive.google.com/uc?id=1oiVQignVg1wvE1LXKFvOLHPl0P8GNSDp\n",
            "To: /content/submit.csv\n",
            "100% 41.6k/41.6k [00:00<00:00, 22.7MB/s]\n",
            "/usr/local/lib/python3.7/dist-packages/gdown/cli.py:131: FutureWarning: Option `--id` was deprecated in version 4.3.1 and will be removed in 5.0. You don't need to pass it anymore to use a file ID.\n",
            "  category=FutureWarning,\n",
            "Downloading...\n",
            "From: https://drive.google.com/uc?id=1HofeiIpUTM2MOeCXU7UVmBsoHfpwytwD\n",
            "To: /content/preprocessed_train2.csv\n",
            "100% 307M/307M [00:02<00:00, 105MB/s]\n",
            "/usr/local/lib/python3.7/dist-packages/gdown/cli.py:131: FutureWarning: Option `--id` was deprecated in version 4.3.1 and will be removed in 5.0. You don't need to pass it anymore to use a file ID.\n",
            "  category=FutureWarning,\n",
            "Downloading...\n",
            "From: https://drive.google.com/uc?id=1C4vxrdTjUwVaBeFGjN7XOTR-fn2r0v9R\n",
            "To: /content/preprocessed_test2.csv\n",
            "100% 77.3M/77.3M [00:00<00:00, 116MB/s]\n"
          ]
        }
      ]
    },
    {
      "cell_type": "code",
      "source": [
        "import numpy as np\n",
        "import pandas as pd\n",
        "import nltk\n",
        "import re\n",
        "from nltk.corpus import stopwords\n",
        "nltk.download('stopwords')\n",
        "from nltk.stem.porter import PorterStemmer"
      ],
      "metadata": {
        "id": "0R_Ul8Qwgjyi",
        "colab": {
          "base_uri": "https://localhost:8080/"
        },
        "outputId": "0f5b5a3d-61ab-4db8-c919-e9176db9d21f"
      },
      "execution_count": 3,
      "outputs": [
        {
          "output_type": "stream",
          "name": "stdout",
          "text": [
            "[nltk_data] Downloading package stopwords to /root/nltk_data...\n",
            "[nltk_data]   Unzipping corpora/stopwords.zip.\n"
          ]
        }
      ]
    },
    {
      "cell_type": "code",
      "source": [
        "train_data = pd.read_csv(\"train.csv\")\n",
        "test_data1 = pd.read_csv(\"test.csv\")\n",
        "test_data = pd.read_csv(\"test.csv\")\n",
        "submit_data = pd.read_csv(\"submit.csv\")\n",
        "\n",
        "test_data = test_data.join(submit_data[\"label\"])\n",
        "\n",
        "train_data[\"author\"].fillna(\"-NO AUTHOR-\", inplace = True)\n",
        "test_data[\"author\"].fillna(\"-NO AUTHOR-\", inplace = True)\n",
        "\n",
        "train_data.dropna(inplace=True)\n",
        "train_data.drop(train_data.loc[train_data['text']==\" \"].index, inplace=True)\n",
        "train_data.drop(train_data.loc[train_data['text']==\"  \"].index, inplace=True)\n",
        "train_data.drop(train_data.loc[train_data['text']==\"\\n\"].index, inplace=True)\n",
        "\n",
        "# Resetting index\n",
        "train_data.reset_index(inplace=True)\n",
        "train_data= train_data.apply(lambda x: x.astype(str).str.lower())\n",
        "train_data = train_data.drop(columns=[\"id\", \"index\"])\n",
        "\n",
        "\n",
        "# Removing null values\n",
        "test_data.dropna(inplace=True)\n",
        "test_data.drop(test_data.loc[test_data['text']==\" \"].index, inplace=True)\n",
        "test_data.drop(test_data.loc[test_data['text']==\"  \"].index, inplace=True)\n",
        "test_data.drop(test_data.loc[test_data['text']==\"\\n\"].index, inplace=True)\n",
        "\n",
        "\n",
        "\n",
        "# Resetting index\n",
        "test_data.reset_index(inplace=True)\n",
        "test_data= test_data.apply(lambda x: x.astype(str).str.lower())\n",
        "\n",
        "test_data = test_data.drop(columns=[\"id\",\"index\"])\n",
        "\n",
        "\n",
        "transformed_df = pd.read_csv(\"preprocessed_train2.csv\")\n",
        "transformed_df_test = pd.read_csv(\"preprocessed_test2.csv\")\n",
        "\n",
        "X_test = transformed_df_test.values\n",
        "y_test = test_data[\"label\"].values \n",
        "\n",
        "X = transformed_df.values\n",
        "# X_cv = transformed_df_count_vectorizer.values\n",
        "y = train_data[\"label\"].values \n"
      ],
      "metadata": {
        "id": "MNb0rNrVgjyj"
      },
      "execution_count": 4,
      "outputs": []
    },
    {
      "cell_type": "markdown",
      "source": [
        "K Fold"
      ],
      "metadata": {
        "id": "_KHI6lkMciD3"
      }
    },
    {
      "cell_type": "code",
      "source": [
        "from sklearn.model_selection import train_test_split\n",
        "X_train1, X_test1, y_train1, y_test1 = train_test_split(X, y, test_size=0.20, random_state=0)\n",
        "\n",
        "from sklearn.model_selection import StratifiedKFold\n",
        "\n",
        "kf = StratifiedKFold(n_splits=5)\n",
        "\n",
        "X_train=[]\n",
        "X_val=[]\n",
        "# X_train_cv=[]\n",
        "# X_val_cv=[]\n",
        "y_train=[]\n",
        "y_val=[]\n",
        "\n",
        "for train_index, test_index in kf.split(X_train1,y_train1):\n",
        "  X_train.append(X_train1[train_index])\n",
        "  X_val.append(X_train1[test_index]) \n",
        "  # X_train_cv.append(X_cv[train_index])\n",
        "  # X_val_cv.append(X_cv[test_index]) \n",
        "  y_train.append(y_train1[train_index])\n",
        "  y_val.append(y_train1[test_index])"
      ],
      "metadata": {
        "id": "7iOaI-apcNOq"
      },
      "execution_count": 5,
      "outputs": []
    },
    {
      "cell_type": "code",
      "source": [
        "test_data1 = test_data1.apply(lambda x: x.astype(str).str.lower())\n"
      ],
      "metadata": {
        "id": "S9futZgnKdMU"
      },
      "execution_count": 6,
      "outputs": []
    },
    {
      "cell_type": "code",
      "source": [
        "stop_words_set = set(stopwords.words('english'))\n",
        "sw_removed_test = []\n",
        "\n",
        "for i in range(len(test_data1)):\n",
        "    review = re.sub('[^a-zA-Z]',' ',test_data1['text'][i])\n",
        "    review = review.split()\n",
        "    review = [word for word in review if not word in stop_words_set]\n",
        "    statements = ' '.join(review)\n",
        "    sw_removed_test.append(statements)"
      ],
      "metadata": {
        "id": "vy6JHGSYLv4L"
      },
      "execution_count": 7,
      "outputs": []
    },
    {
      "cell_type": "code",
      "source": [
        "ps = PorterStemmer()\n",
        "stemmed_test = []\n",
        "\n",
        "for i in range(len(sw_removed_test)):\n",
        "  sw_removed_1 = sw_removed_test[i].split()\n",
        "  stem = [ps.stem(word) for word in sw_removed_1]\n",
        "  st = ' '.join(stem)\n",
        "  stemmed_test.append(st)"
      ],
      "metadata": {
        "id": "qT8UAGieL0SS"
      },
      "execution_count": 8,
      "outputs": []
    },
    {
      "cell_type": "code",
      "source": [
        "preprocess_arr_test = np.array(stemmed_test)\n",
        "preprocess_df_test = pd.DataFrame(preprocess_arr_test)"
      ],
      "metadata": {
        "id": "917GyWVZL1SB"
      },
      "execution_count": 9,
      "outputs": []
    },
    {
      "cell_type": "code",
      "source": [
        "from sklearn.feature_extraction.text import TfidfVectorizer\n",
        "from sklearn.feature_extraction.text import CountVectorizer\n",
        "\n",
        "\n",
        "tfidf_vectorizer_test = TfidfVectorizer(ngram_range=(1,3), max_features=3000)\n",
        "\n",
        "# train_input = vectorizer.fit_transform(preprocess_arr).toarray()\n",
        "test_input_tfidf_vectorizer = tfidf_vectorizer_test.fit_transform(preprocess_arr_test).toarray()\n",
        "\n",
        "# transformed_df = pd.DataFrame(data=train_input, columns=vectorizer.get_feature_names())\n",
        "transformed_df_count_vectorizer_test = pd.DataFrame(data=test_input_tfidf_vectorizer, columns=tfidf_vectorizer_test.get_feature_names())"
      ],
      "metadata": {
        "colab": {
          "base_uri": "https://localhost:8080/"
        },
        "id": "TpaJATcRL412",
        "outputId": "865d6433-45cb-46e9-9c6f-c633ce9d7ec8"
      },
      "execution_count": 10,
      "outputs": [
        {
          "output_type": "stream",
          "name": "stderr",
          "text": [
            "/usr/local/lib/python3.7/dist-packages/sklearn/utils/deprecation.py:87: FutureWarning: Function get_feature_names is deprecated; get_feature_names is deprecated in 1.0 and will be removed in 1.2. Please use get_feature_names_out instead.\n",
            "  warnings.warn(msg, category=FutureWarning)\n"
          ]
        }
      ]
    },
    {
      "cell_type": "code",
      "source": [
        "X_test = transformed_df_count_vectorizer_test.values\n",
        "X_test.shape"
      ],
      "metadata": {
        "colab": {
          "base_uri": "https://localhost:8080/"
        },
        "id": "laPiyAhkMk8y",
        "outputId": "9cd0cc89-b0ee-4a52-808a-9697c0ba4707"
      },
      "execution_count": 11,
      "outputs": [
        {
          "output_type": "execute_result",
          "data": {
            "text/plain": [
              "(5200, 3000)"
            ]
          },
          "metadata": {},
          "execution_count": 11
        }
      ]
    },
    {
      "cell_type": "markdown",
      "source": [
        "# Naive Bayes"
      ],
      "metadata": {
        "id": "_dXh1NGZcqHK"
      }
    },
    {
      "cell_type": "markdown",
      "source": [
        "Hyperparameter Tuning"
      ],
      "metadata": {
        "id": "qsalFO0w0tru"
      }
    },
    {
      "cell_type": "code",
      "source": [
        "! pip install scikit-optimize"
      ],
      "metadata": {
        "colab": {
          "base_uri": "https://localhost:8080/"
        },
        "id": "98A41KLh1QKO",
        "outputId": "21988f4a-ce74-4026-f879-78e55ccd2f37"
      },
      "execution_count": 12,
      "outputs": [
        {
          "output_type": "stream",
          "name": "stdout",
          "text": [
            "Collecting scikit-optimize\n",
            "  Downloading scikit_optimize-0.9.0-py2.py3-none-any.whl (100 kB)\n",
            "\u001b[?25l\r\u001b[K     |███▎                            | 10 kB 26.4 MB/s eta 0:00:01\r\u001b[K     |██████▌                         | 20 kB 27.5 MB/s eta 0:00:01\r\u001b[K     |█████████▉                      | 30 kB 33.3 MB/s eta 0:00:01\r\u001b[K     |█████████████                   | 40 kB 16.0 MB/s eta 0:00:01\r\u001b[K     |████████████████▍               | 51 kB 12.7 MB/s eta 0:00:01\r\u001b[K     |███████████████████▋            | 61 kB 14.5 MB/s eta 0:00:01\r\u001b[K     |██████████████████████▉         | 71 kB 14.0 MB/s eta 0:00:01\r\u001b[K     |██████████████████████████▏     | 81 kB 15.0 MB/s eta 0:00:01\r\u001b[K     |█████████████████████████████▍  | 92 kB 16.4 MB/s eta 0:00:01\r\u001b[K     |████████████████████████████████| 100 kB 6.8 MB/s \n",
            "\u001b[?25hRequirement already satisfied: scipy>=0.19.1 in /usr/local/lib/python3.7/dist-packages (from scikit-optimize) (1.4.1)\n",
            "Requirement already satisfied: joblib>=0.11 in /usr/local/lib/python3.7/dist-packages (from scikit-optimize) (1.1.0)\n",
            "Requirement already satisfied: numpy>=1.13.3 in /usr/local/lib/python3.7/dist-packages (from scikit-optimize) (1.21.6)\n",
            "Collecting pyaml>=16.9\n",
            "  Downloading pyaml-21.10.1-py2.py3-none-any.whl (24 kB)\n",
            "Requirement already satisfied: scikit-learn>=0.20.0 in /usr/local/lib/python3.7/dist-packages (from scikit-optimize) (1.0.2)\n",
            "Requirement already satisfied: PyYAML in /usr/local/lib/python3.7/dist-packages (from pyaml>=16.9->scikit-optimize) (3.13)\n",
            "Requirement already satisfied: threadpoolctl>=2.0.0 in /usr/local/lib/python3.7/dist-packages (from scikit-learn>=0.20.0->scikit-optimize) (3.1.0)\n",
            "Installing collected packages: pyaml, scikit-optimize\n",
            "Successfully installed pyaml-21.10.1 scikit-optimize-0.9.0\n"
          ]
        }
      ]
    },
    {
      "cell_type": "code",
      "source": [
        "from skopt import BayesSearchCV\n",
        "from skopt.space import Real, Categorical, Integer\n",
        "from sklearn.naive_bayes import GaussianNB\n",
        "\n",
        "gnb = GaussianNB()\n",
        "\n",
        "\n",
        "search_space = {'var_smoothing': np.logspace(-5,-9, num=10)}\n",
        "\n",
        "from sklearn.decomposition import PCA\n",
        "\n",
        "\n",
        "pca = PCA(n_components=100)\n",
        "pca_X = pca.fit_transform(X)\n",
        "\n"
      ],
      "metadata": {
        "id": "O0-3Tktv0r_i"
      },
      "execution_count": 13,
      "outputs": []
    },
    {
      "cell_type": "code",
      "source": [
        "GNB_bayes_search = BayesSearchCV(gnb, search_space, n_iter=16, n_jobs=-1, cv=5)\n",
        "\n",
        "GNB_bayes_search.fit(pca_X, y)"
      ],
      "metadata": {
        "colab": {
          "base_uri": "https://localhost:8080/"
        },
        "id": "5J_XlxME4Frq",
        "outputId": "9d0a3817-2e35-47c7-f538-3f53209f6917"
      },
      "execution_count": 14,
      "outputs": [
        {
          "output_type": "stream",
          "name": "stderr",
          "text": [
            "/usr/local/lib/python3.7/dist-packages/skopt/optimizer/optimizer.py:449: UserWarning: The objective has been evaluated at this point before.\n",
            "  warnings.warn(\"The objective has been evaluated \"\n",
            "/usr/local/lib/python3.7/dist-packages/skopt/optimizer/optimizer.py:449: UserWarning: The objective has been evaluated at this point before.\n",
            "  warnings.warn(\"The objective has been evaluated \"\n",
            "/usr/local/lib/python3.7/dist-packages/skopt/optimizer/optimizer.py:449: UserWarning: The objective has been evaluated at this point before.\n",
            "  warnings.warn(\"The objective has been evaluated \"\n",
            "/usr/local/lib/python3.7/dist-packages/skopt/optimizer/optimizer.py:449: UserWarning: The objective has been evaluated at this point before.\n",
            "  warnings.warn(\"The objective has been evaluated \"\n",
            "/usr/local/lib/python3.7/dist-packages/skopt/optimizer/optimizer.py:449: UserWarning: The objective has been evaluated at this point before.\n",
            "  warnings.warn(\"The objective has been evaluated \"\n"
          ]
        },
        {
          "output_type": "execute_result",
          "data": {
            "text/plain": [
              "BayesSearchCV(cv=5, estimator=GaussianNB(), n_iter=16, n_jobs=-1,\n",
              "              search_spaces={'var_smoothing': array([1.00000000e-05, 3.59381366e-06, 1.29154967e-06, 4.64158883e-07,\n",
              "       1.66810054e-07, 5.99484250e-08, 2.15443469e-08, 7.74263683e-09,\n",
              "       2.78255940e-09, 1.00000000e-09])})"
            ]
          },
          "metadata": {},
          "execution_count": 14
        }
      ]
    },
    {
      "cell_type": "code",
      "source": [
        "GNB_best_params = GNB_bayes_search.best_params_\n",
        "GNB_best_params"
      ],
      "metadata": {
        "colab": {
          "base_uri": "https://localhost:8080/"
        },
        "id": "kwhqMS7f4pgi",
        "outputId": "a00ac0e0-12d2-45cf-f472-4d43789136c1"
      },
      "execution_count": 15,
      "outputs": [
        {
          "output_type": "execute_result",
          "data": {
            "text/plain": [
              "OrderedDict([('var_smoothing', 1e-09)])"
            ]
          },
          "metadata": {},
          "execution_count": 15
        }
      ]
    },
    {
      "cell_type": "code",
      "source": [
        "GNB_best_model = GNB_bayes_search.best_estimator_\n",
        "GNB_best_model"
      ],
      "metadata": {
        "colab": {
          "base_uri": "https://localhost:8080/"
        },
        "id": "81-b6ZYkhTkK",
        "outputId": "0de251ca-d9f7-4893-a416-aba15aa770d1"
      },
      "execution_count": 16,
      "outputs": [
        {
          "output_type": "execute_result",
          "data": {
            "text/plain": [
              "GaussianNB()"
            ]
          },
          "metadata": {},
          "execution_count": 16
        }
      ]
    },
    {
      "cell_type": "code",
      "source": [
        "print(GNB_bayes_search.best_score_)"
      ],
      "metadata": {
        "colab": {
          "base_uri": "https://localhost:8080/"
        },
        "id": "hNbETr-mhe10",
        "outputId": "4db490bf-4643-46b9-e058-42ee3c1bc18a"
      },
      "execution_count": 17,
      "outputs": [
        {
          "output_type": "stream",
          "name": "stdout",
          "text": [
            "0.8176490945500211\n"
          ]
        }
      ]
    },
    {
      "cell_type": "code",
      "source": [
        "from sklearn.naive_bayes import GaussianNB\n",
        "gnb_0 = GaussianNB(var_smoothing=2.7825594022071257e-09)\n",
        "gnb_1 = GaussianNB(var_smoothing=2.7825594022071257e-09)\n",
        "gnb_2 = GaussianNB(var_smoothing=2.7825594022071257e-09)\n",
        "gnb_3 = GaussianNB(var_smoothing=2.7825594022071257e-09)\n",
        "gnb_4 = GaussianNB(var_smoothing=2.7825594022071257e-09)\n",
        "\n",
        "gnb_0.fit(X_train[0],y_train[0].astype('int'))\n",
        "gnb_1.fit(X_train[1],y_train[1].astype('int'))\n",
        "gnb_2.fit(X_train[2],y_train[2].astype('int'))\n",
        "gnb_3.fit(X_train[3],y_train[3].astype('int'))\n",
        "gnb_4.fit(X_train[4],y_train[4].astype('int'))\n",
        "\n",
        "y_pred_0 = gnb_0.predict(X_val[0])\n",
        "y_pred_1 = gnb_1.predict(X_val[1])\n",
        "y_pred_2 = gnb_2.predict(X_val[2])\n",
        "y_pred_3 = gnb_3.predict(X_val[3])\n",
        "y_pred_4 = gnb_4.predict(X_val[4])\n"
      ],
      "metadata": {
        "id": "FOoy2EgacpbQ"
      },
      "execution_count": 18,
      "outputs": []
    },
    {
      "cell_type": "code",
      "source": [
        "from sklearn.metrics import precision_score, recall_score, f1_score, accuracy_score\n",
        "\n",
        "print('Comparing the 5 Naive Bayes models on resp. val set')\n",
        "\n",
        "print('\\nAverage of the evaluation Metrics for the Models:')\n",
        "print(\"Accuracy: \", (accuracy_score(y_val[0].astype('int'), y_pred_0) + accuracy_score(y_val[1].astype('int'), y_pred_1) + accuracy_score(y_val[2].astype('int'), y_pred_2) + accuracy_score(y_val[3].astype('int'), y_pred_3) + accuracy_score(y_val[4].astype('int'), y_pred_4))/5)\n",
        "print(\"Precision: \", (precision_score(y_val[0].astype('int'), y_pred_0) + precision_score(y_val[1].astype('int'), y_pred_1) + precision_score(y_val[2].astype('int'), y_pred_2) + precision_score(y_val[3].astype('int'), y_pred_3) + precision_score(y_val[4].astype('int'), y_pred_4))/5)\n",
        "print(\"Recall: \", (recall_score(y_val[0].astype('int'), y_pred_0) + recall_score(y_val[1].astype('int'), y_pred_1) + recall_score(y_val[2].astype('int'), y_pred_2) + recall_score(y_val[3].astype('int'), y_pred_3) + recall_score(y_val[4].astype('int'), y_pred_4))/5)\n",
        "print(\"f1-score: \", (f1_score(y_val[0].astype('int'), y_pred_0) + f1_score(y_val[1].astype('int'), y_pred_1) + f1_score(y_val[2].astype('int'), y_pred_2) + f1_score(y_val[3].astype('int'), y_pred_3) + f1_score(y_val[4].astype('int'), y_pred_4))/5)\n"
      ],
      "metadata": {
        "id": "I9pTK1Hecgqk",
        "colab": {
          "base_uri": "https://localhost:8080/"
        },
        "outputId": "471bd6b3-e354-46ae-c8f3-3814122031be"
      },
      "execution_count": 19,
      "outputs": [
        {
          "output_type": "stream",
          "name": "stdout",
          "text": [
            "Comparing the 5 Naive Bayes models on resp. val set\n",
            "\n",
            "Average of the evaluation Metrics for the Models:\n",
            "Accuracy:  0.8704347826086958\n",
            "Precision:  0.8779762557674028\n",
            "Recall:  0.8494906275975174\n",
            "f1-score:  0.8634876967392625\n"
          ]
        }
      ]
    },
    {
      "cell_type": "code",
      "source": [
        "print('Comparing the Naive Bayes model on the test set')\n",
        "\n",
        "y_test1_pred = gnb_1.predict(X_test1)\n",
        "\n",
        "\n",
        "print('\\nEvaluation Metrics for the test set:')\n",
        "print(\"Accuracy: \", accuracy_score(y_test1.astype('int'), y_test1_pred))\n",
        "print(\"Precision: \", precision_score(y_test1.astype('int'), y_test1_pred))\n",
        "print(\"Recall: \", recall_score(y_test1.astype('int'), y_test1_pred))\n",
        "print(\"f1-score: \", f1_score(y_test1.astype('int'), y_test1_pred))"
      ],
      "metadata": {
        "colab": {
          "base_uri": "https://localhost:8080/"
        },
        "id": "p2Zbfj5U4Ff0",
        "outputId": "444b90d8-3570-4a4f-d3cb-6de1364d37d8"
      },
      "execution_count": 20,
      "outputs": [
        {
          "output_type": "stream",
          "name": "stdout",
          "text": [
            "Comparing the Naive Bayes model on the test set\n",
            "\n",
            "Evaluation Metrics for the test set:\n",
            "Accuracy:  0.8720814704421261\n",
            "Precision:  0.8816134101623887\n",
            "Recall:  0.853448275862069\n",
            "f1-score:  0.867302241690286\n"
          ]
        }
      ]
    },
    {
      "cell_type": "code",
      "source": [
        "from sklearn.metrics import confusion_matrix\n",
        "from sklearn.metrics import roc_curve\n",
        "cm = confusion_matrix(y_test1.astype('int'), y_test1_pred)\n",
        "import seaborn as sns\n",
        "sns.heatmap(cm, annot=True)"
      ],
      "metadata": {
        "colab": {
          "base_uri": "https://localhost:8080/",
          "height": 284
        },
        "id": "HgPb4mgLecr5",
        "outputId": "877ec50f-33a2-4967-b779-5d2186d32939"
      },
      "execution_count": 21,
      "outputs": [
        {
          "output_type": "execute_result",
          "data": {
            "text/plain": [
              "<matplotlib.axes._subplots.AxesSubplot at 0x7f8d1a6dea90>"
            ]
          },
          "metadata": {},
          "execution_count": 21
        },
        {
          "output_type": "display_data",
          "data": {
            "text/plain": [
              "<Figure size 432x288 with 2 Axes>"
            ],
            "image/png": "[encoded data removed]"
          },
          "metadata": {
            "needs_background": "light"
          }
        }
      ]
    },
    {
      "cell_type": "code",
      "source": [
        "import matplotlib.pyplot as plt\n",
        "fpr, tpr, thresholds = roc_curve(y_test1.astype('int'), y_test1_pred)\n",
        "plt.plot(fpr, tpr)\n",
        "plt.xlabel('False positive rate')\n",
        "plt.ylabel('True Positive rate')\n",
        "plt.title('ROC curve for Gaussian Naive Bayes')"
      ],
      "metadata": {
        "colab": {
          "base_uri": "https://localhost:8080/",
          "height": 313
        },
        "id": "pMrBIVBWfJ3N",
        "outputId": "70d3d950-9063-44bc-bd7a-e478edc57238"
      },
      "execution_count": 22,
      "outputs": [
        {
          "output_type": "execute_result",
          "data": {
            "text/plain": [
              "Text(0.5, 1.0, 'ROC curve for Gaussian Naive Bayes')"
            ]
          },
          "metadata": {},
          "execution_count": 22
        },
        {
          "output_type": "display_data",
          "data": {
            "text/plain": [
              "<Figure size 432x288 with 1 Axes>"
            ],
            "image/png": "[encoded data removed]"
          },
          "metadata": {
            "needs_background": "light"
          }
        }
      ]
    },
    {
      "cell_type": "code",
      "source": [
        "# y_test_pred = list(y_test_pred)\n",
        "y_test_pred = gnb_0.predict(X_test)\n",
        "y_test_pred.shape"
      ],
      "metadata": {
        "colab": {
          "base_uri": "https://localhost:8080/"
        },
        "id": "jh-tWSAvglyU",
        "outputId": "ede0a9c8-6d55-4509-9187-2822e6025b98"
      },
      "execution_count": 25,
      "outputs": [
        {
          "output_type": "execute_result",
          "data": {
            "text/plain": [
              "(5200,)"
            ]
          },
          "metadata": {},
          "execution_count": 25
        }
      ]
    },
    {
      "cell_type": "code",
      "source": [
        "y_test_pred1 = pd.DataFrame({'id':test_data1['id'],'label':y_test_pred})\n",
        "\n",
        "y_test_pred1.set_index(\"id\",inplace = True)\n",
        "y_test_pred1.to_csv(\"submission1.csv\")"
      ],
      "metadata": {
        "id": "Nc0aPnqZbZ7V"
      },
      "execution_count": 26,
      "outputs": []
    },
    {
      "cell_type": "code",
      "source": [
        "y_test_pred.shape"
      ],
      "metadata": {
        "id": "HaTcYww7VZ_3",
        "colab": {
          "base_uri": "https://localhost:8080/"
        },
        "outputId": "b2ecf5cf-b60e-41b4-e1d8-3f9257fa01bf"
      },
      "execution_count": 27,
      "outputs": [
        {
          "output_type": "execute_result",
          "data": {
            "text/plain": [
              "(5200,)"
            ]
          },
          "metadata": {},
          "execution_count": 27
        }
      ]
    },
    {
      "cell_type": "code",
      "source": [
        "from sklearn.model_selection import learning_curve\n",
        "\n",
        "train_sizes = [k for k in range(500, 14001, 500)]\n",
        "train_sizes, train_scores, validation_scores = learning_curve(estimator = GNB_best_model, X = X, y = y, train_sizes = train_sizes, cv = 5, scoring='accuracy')"
      ],
      "metadata": {
        "id": "l3e2zWJOm3b6"
      },
      "execution_count": null,
      "outputs": []
    },
    {
      "cell_type": "code",
      "source": [
        "train_scores_mean = train_scores.mean(axis = 1)\n",
        "validation_scores_mean = validation_scores.mean(axis = 1)"
      ],
      "metadata": {
        "id": "aKFyP1xdnkuh"
      },
      "execution_count": null,
      "outputs": []
    },
    {
      "cell_type": "code",
      "source": [
        "import matplotlib.pyplot as plt\n",
        "plt.style.use('seaborn')\n",
        "plt.plot(train_sizes, train_scores_mean, label = 'Training accuracy')\n",
        "plt.plot(train_sizes, validation_scores_mean, label = 'Validation accuracy')\n",
        "plt.ylabel('Accuracy', fontsize = 14)\n",
        "plt.xlabel('Training set size', fontsize = 14)\n",
        "plt.title('Learning curves for a Gaussian Naive Bayes model', fontsize = 18, y = 1.03)\n",
        "plt.legend()"
      ],
      "metadata": {
        "id": "G4KAZ-_Gnlbz"
      },
      "execution_count": null,
      "outputs": []
    }
  ]
}