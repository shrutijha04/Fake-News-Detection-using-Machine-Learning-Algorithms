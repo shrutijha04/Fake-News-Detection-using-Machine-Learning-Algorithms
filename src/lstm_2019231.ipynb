{
  "nbformat": 4,
  "nbformat_minor": 0,
  "metadata": {
    "colab": {
      "name": "lstm_2019231.ipynb",
      "provenance": []
    },
    "kernelspec": {
      "name": "python3",
      "display_name": "Python 3"
    },
    "language_info": {
      "name": "python"
    },
    "accelerator": "GPU"
  },
  "cells": [
    {
      "cell_type": "code",
      "execution_count": null,
      "metadata": {
        "colab": {
          "base_uri": "https://localhost:8080/"
        },
        "id": "mhACLMhmrSR4",
        "outputId": "ff39f5ac-efcb-492b-9355-4ca3b2e6a1b1"
      },
      "outputs": [
        {
          "output_type": "stream",
          "name": "stdout",
          "text": [
            "Requirement already satisfied: gdown in /usr/local/lib/python3.7/dist-packages (4.4.0)\n",
            "Requirement already satisfied: tqdm in /usr/local/lib/python3.7/dist-packages (from gdown) (4.64.0)\n",
            "Requirement already satisfied: six in /usr/local/lib/python3.7/dist-packages (from gdown) (1.15.0)\n",
            "Requirement already satisfied: filelock in /usr/local/lib/python3.7/dist-packages (from gdown) (3.6.0)\n",
            "Requirement already satisfied: requests[socks] in /usr/local/lib/python3.7/dist-packages (from gdown) (2.23.0)\n",
            "Requirement already satisfied: beautifulsoup4 in /usr/local/lib/python3.7/dist-packages (from gdown) (4.6.3)\n",
            "Requirement already satisfied: chardet<4,>=3.0.2 in /usr/local/lib/python3.7/dist-packages (from requests[socks]->gdown) (3.0.4)\n",
            "Requirement already satisfied: certifi>=2017.4.17 in /usr/local/lib/python3.7/dist-packages (from requests[socks]->gdown) (2021.10.8)\n",
            "Requirement already satisfied: idna<3,>=2.5 in /usr/local/lib/python3.7/dist-packages (from requests[socks]->gdown) (2.10)\n",
            "Requirement already satisfied: urllib3!=1.25.0,!=1.25.1,<1.26,>=1.21.1 in /usr/local/lib/python3.7/dist-packages (from requests[socks]->gdown) (1.24.3)\n",
            "Requirement already satisfied: PySocks!=1.5.7,>=1.5.6 in /usr/local/lib/python3.7/dist-packages (from requests[socks]->gdown) (1.7.1)\n",
            "/usr/local/lib/python3.7/dist-packages/gdown/cli.py:131: FutureWarning: Option `--id` was deprecated in version 4.3.1 and will be removed in 5.0. You don't need to pass it anymore to use a file ID.\n",
            "  category=FutureWarning,\n",
            "Downloading...\n",
            "From: https://drive.google.com/uc?id=1E8OTtNK_UNSAdmkg3OuB0k2FsKKF9QpY\n",
            "To: /content/train.csv\n",
            "100% 98.6M/98.6M [00:00<00:00, 117MB/s]\n",
            "/usr/local/lib/python3.7/dist-packages/gdown/cli.py:131: FutureWarning: Option `--id` was deprecated in version 4.3.1 and will be removed in 5.0. You don't need to pass it anymore to use a file ID.\n",
            "  category=FutureWarning,\n",
            "Downloading...\n",
            "From: https://drive.google.com/uc?id=1-pm6_kvT9CBrYER40uIkRiG0KMlHnH7L\n",
            "To: /content/test.csv\n",
            "100% 25.1M/25.1M [00:00<00:00, 81.7MB/s]\n",
            "/usr/local/lib/python3.7/dist-packages/gdown/cli.py:131: FutureWarning: Option `--id` was deprecated in version 4.3.1 and will be removed in 5.0. You don't need to pass it anymore to use a file ID.\n",
            "  category=FutureWarning,\n",
            "Downloading...\n",
            "From: https://drive.google.com/uc?id=1oiVQignVg1wvE1LXKFvOLHPl0P8GNSDp\n",
            "To: /content/submit.csv\n",
            "100% 41.6k/41.6k [00:00<00:00, 62.8MB/s]\n"
          ]
        }
      ],
      "source": [
        "!pip install --upgrade --no-cache-dir gdown\n",
        "\n",
        "! gdown --id 1E8OTtNK_UNSAdmkg3OuB0k2FsKKF9QpY\n",
        "! gdown --id 1-pm6_kvT9CBrYER40uIkRiG0KMlHnH7L\n",
        "! gdown --id 1oiVQignVg1wvE1LXKFvOLHPl0P8GNSDp"
      ]
    },
    {
      "cell_type": "code",
      "source": [
        "import numpy as np\n",
        "import pandas as pd\n",
        "import nltk\n",
        "import re\n",
        "from nltk.corpus import stopwords\n",
        "nltk.download('stopwords')\n",
        "from nltk.stem.porter import PorterStemmer\n",
        "\n",
        "import tensorflow as tf\n",
        "from tensorflow.keras.layers import Embedding\n",
        "from tensorflow.keras.preprocessing.sequence import pad_sequences\n",
        "from tensorflow.keras.models import Sequential\n",
        "from tensorflow.keras.preprocessing.text import one_hot\n",
        "from tensorflow.keras.layers import LSTM\n",
        "from tensorflow.keras.layers import Dense"
      ],
      "metadata": {
        "colab": {
          "base_uri": "https://localhost:8080/"
        },
        "id": "NEboOCfBrfcd",
        "outputId": "edc4bb5b-bb21-4ea8-d93a-bbc88bbbf9a8"
      },
      "execution_count": null,
      "outputs": [
        {
          "output_type": "stream",
          "name": "stdout",
          "text": [
            "[nltk_data] Downloading package stopwords to /root/nltk_data...\n",
            "[nltk_data]   Unzipping corpora/stopwords.zip.\n"
          ]
        }
      ]
    },
    {
      "cell_type": "code",
      "source": [
        "train_data = pd.read_csv(\"train.csv\")\n",
        "test_data1 = pd.read_csv(\"test.csv\")\n",
        "test_data = pd.read_csv(\"test.csv\")\n",
        "submit_data = pd.read_csv(\"submit.csv\")\n",
        "\n",
        "test_data = test_data.join(submit_data[\"label\"])\n",
        "\n",
        "train_data[\"author\"].fillna(\"-NO AUTHOR-\", inplace = True)\n",
        "test_data[\"author\"].fillna(\"-NO AUTHOR-\", inplace = True)\n",
        "\n",
        "train_data.dropna(inplace=True)\n",
        "train_data.drop(train_data.loc[train_data['text']==\" \"].index, inplace=True)\n",
        "train_data.drop(train_data.loc[train_data['text']==\"  \"].index, inplace=True)\n",
        "train_data.drop(train_data.loc[train_data['text']==\"\\n\"].index, inplace=True)\n",
        "\n",
        "lab = train_data['label']\n",
        "\n",
        "lab = lab.reset_index()\n",
        "lab = lab.drop(['index'],axis=1)\n",
        "\n",
        "train_data.reset_index(inplace=True)\n",
        "train_data= train_data.apply(lambda x: x.astype(str).str.lower())\n",
        "train_data = train_data.drop(columns=[\"id\", \"index\"])\n",
        "\n",
        "\n"
      ],
      "metadata": {
        "id": "v2PTna4Nr1BW"
      },
      "execution_count": null,
      "outputs": []
    },
    {
      "cell_type": "code",
      "source": [
        "stop_words_set = set(stopwords.words('english'))\n",
        "\n",
        "sw_removed = []\n",
        "\n",
        "for i in range(len(train_data)):\n",
        "    review = re.sub('[^a-zA-Z]',' ',train_data['text'][i])\n",
        "\n",
        "    review = review.split()\n",
        "    review = [word for word in review if not word in stop_words_set]\n",
        "    statements = ' '.join(review)\n",
        "    sw_removed.append(statements)"
      ],
      "metadata": {
        "id": "HPHFRO5NzClA"
      },
      "execution_count": null,
      "outputs": []
    },
    {
      "cell_type": "code",
      "source": [
        "ps = PorterStemmer()\n",
        "\n",
        "stemmed = []\n",
        "\n",
        "print(len(sw_removed))\n",
        "\n",
        "for i in range(len(sw_removed)):\n",
        "  sw_removed_1 = sw_removed[i].split()\n",
        "  stem = [ps.stem(word) for word in sw_removed_1]\n",
        "  st = ' '.join(stem)\n",
        "  stemmed.append(st)\n"
      ],
      "metadata": {
        "colab": {
          "base_uri": "https://localhost:8080/"
        },
        "id": "vNsrvNJczKnu",
        "outputId": "a9c281ad-99cd-46e5-b1c1-d9e15e1c2800"
      },
      "execution_count": null,
      "outputs": [
        {
          "output_type": "stream",
          "name": "stdout",
          "text": [
            "20126\n"
          ]
        }
      ]
    },
    {
      "cell_type": "code",
      "source": [
        "voc_size=10000\n",
        "#performing onr hot representation\n",
        "\n",
        "onehot_repr=[one_hot(words,voc_size)for words in stemmed] "
      ],
      "metadata": {
        "id": "tzi2iOCizYIF"
      },
      "execution_count": null,
      "outputs": []
    },
    {
      "cell_type": "code",
      "source": [
        "sent_length=500\n",
        "\n",
        "\n",
        "embedded_docs=pad_sequences(onehot_repr,padding='pre',maxlen=sent_length)\n",
        "print(embedded_docs)"
      ],
      "metadata": {
        "colab": {
          "base_uri": "https://localhost:8080/"
        },
        "id": "q_xtK104zstY",
        "outputId": "1a3ae2c8-ffc6-4144-f378-731ad5d85693"
      },
      "execution_count": null,
      "outputs": [
        {
          "output_type": "stream",
          "name": "stdout",
          "text": [
            "[[   0    0    0 ... 3936 4494 8185]\n",
            " [   0    0    0 ... 6134 4248 4625]\n",
            " [3994 7981 3385 ... 2919 2244 7566]\n",
            " ...\n",
            " [   0    0    0 ... 7948 5712 7309]\n",
            " [   0    0    0 ... 8368 6161 3781]\n",
            " [3887  398 2724 ... 1826 3007 1278]]\n"
          ]
        }
      ]
    },
    {
      "cell_type": "markdown",
      "source": [
        "Referred link : https://github.com/sid26ranjan/fake-news-classifier"
      ],
      "metadata": {
        "id": "W9s0-ko_M9T1"
      }
    },
    {
      "cell_type": "code",
      "source": [
        "from tensorflow.keras.layers import Dropout\n",
        "embedding_vector_features=40\n",
        "model=Sequential()\n",
        "model.add(Embedding(voc_size,embedding_vector_features,input_length=sent_length))\n",
        "model.add(Dropout(0.3))\n",
        "model.add(LSTM(200))\n",
        "model.add(Dropout(0.3))\n",
        "model.add(Dense(1,activation='sigmoid'))\n",
        "model.compile(loss='binary_crossentropy',optimizer='adam',metrics=['accuracy'])"
      ],
      "metadata": {
        "id": "bdC9-j2_6pQ3"
      },
      "execution_count": null,
      "outputs": []
    },
    {
      "cell_type": "code",
      "source": [
        "import numpy as np\n",
        "X_final=np.array(embedded_docs)\n",
        "y_final=np.array(lab)"
      ],
      "metadata": {
        "id": "QzzZNaKK6tfg"
      },
      "execution_count": null,
      "outputs": []
    },
    {
      "cell_type": "code",
      "source": [
        "from sklearn.model_selection import train_test_split\n",
        "X_train1, X_test1, y_train1, y_test1 = train_test_split(X_final, y_final, test_size=0.20, random_state=42)"
      ],
      "metadata": {
        "id": "vsGJRXVp6w0U"
      },
      "execution_count": null,
      "outputs": []
    },
    {
      "cell_type": "code",
      "source": [
        "model.fit(X_train1,y_train1,validation_data=(X_test1,y_test1),epochs=20,batch_size=32)"
      ],
      "metadata": {
        "colab": {
          "base_uri": "https://localhost:8080/"
        },
        "id": "PdfpSm_TyQAt",
        "outputId": "dbee55d7-560c-4f2c-e119-2dfdd0bfa7c6"
      },
      "execution_count": null,
      "outputs": [
        {
          "output_type": "stream",
          "name": "stdout",
          "text": [
            "Epoch 1/20\n",
            "504/504 [==============================] - 22s 30ms/step - loss: 0.5377 - accuracy: 0.7343 - val_loss: 0.3212 - val_accuracy: 0.8713\n",
            "Epoch 2/20\n",
            "504/504 [==============================] - 15s 29ms/step - loss: 0.2357 - accuracy: 0.9106 - val_loss: 0.2480 - val_accuracy: 0.9036\n",
            "Epoch 3/20\n",
            "504/504 [==============================] - 15s 30ms/step - loss: 0.1616 - accuracy: 0.9424 - val_loss: 0.2188 - val_accuracy: 0.9232\n",
            "Epoch 4/20\n",
            "504/504 [==============================] - 15s 30ms/step - loss: 0.1193 - accuracy: 0.9606 - val_loss: 0.2456 - val_accuracy: 0.9198\n",
            "Epoch 5/20\n",
            "504/504 [==============================] - 15s 29ms/step - loss: 0.1112 - accuracy: 0.9609 - val_loss: 0.2692 - val_accuracy: 0.9173\n",
            "Epoch 6/20\n",
            "504/504 [==============================] - 15s 29ms/step - loss: 0.0719 - accuracy: 0.9769 - val_loss: 0.2749 - val_accuracy: 0.9138\n",
            "Epoch 7/20\n",
            "504/504 [==============================] - 16s 32ms/step - loss: 0.0629 - accuracy: 0.9784 - val_loss: 0.2825 - val_accuracy: 0.9173\n",
            "Epoch 8/20\n",
            "504/504 [==============================] - 15s 29ms/step - loss: 0.0501 - accuracy: 0.9842 - val_loss: 0.2852 - val_accuracy: 0.9193\n",
            "Epoch 9/20\n",
            "504/504 [==============================] - 15s 29ms/step - loss: 0.0353 - accuracy: 0.9874 - val_loss: 0.3054 - val_accuracy: 0.9101\n",
            "Epoch 10/20\n",
            "504/504 [==============================] - 15s 29ms/step - loss: 0.0270 - accuracy: 0.9914 - val_loss: 0.3410 - val_accuracy: 0.9195\n",
            "Epoch 11/20\n",
            "504/504 [==============================] - 15s 29ms/step - loss: 0.0747 - accuracy: 0.9757 - val_loss: 0.3104 - val_accuracy: 0.8979\n",
            "Epoch 12/20\n",
            "504/504 [==============================] - 15s 30ms/step - loss: 0.0518 - accuracy: 0.9843 - val_loss: 0.3333 - val_accuracy: 0.9148\n",
            "Epoch 13/20\n",
            "504/504 [==============================] - 15s 29ms/step - loss: 0.0207 - accuracy: 0.9929 - val_loss: 0.4093 - val_accuracy: 0.9121\n",
            "Epoch 14/20\n",
            "504/504 [==============================] - 15s 29ms/step - loss: 0.0286 - accuracy: 0.9909 - val_loss: 0.3769 - val_accuracy: 0.9131\n",
            "Epoch 15/20\n",
            "504/504 [==============================] - 16s 32ms/step - loss: 0.0246 - accuracy: 0.9924 - val_loss: 0.4200 - val_accuracy: 0.9091\n",
            "Epoch 16/20\n",
            "504/504 [==============================] - 15s 29ms/step - loss: 0.0147 - accuracy: 0.9957 - val_loss: 0.3784 - val_accuracy: 0.9091\n",
            "Epoch 17/20\n",
            "504/504 [==============================] - 15s 29ms/step - loss: 0.0189 - accuracy: 0.9937 - val_loss: 0.4279 - val_accuracy: 0.9034\n",
            "Epoch 18/20\n",
            "504/504 [==============================] - 15s 29ms/step - loss: 0.0136 - accuracy: 0.9961 - val_loss: 0.4414 - val_accuracy: 0.9126\n",
            "Epoch 19/20\n",
            "504/504 [==============================] - 15s 29ms/step - loss: 0.0111 - accuracy: 0.9969 - val_loss: 0.4286 - val_accuracy: 0.9178\n",
            "Epoch 20/20\n",
            "504/504 [==============================] - 15s 30ms/step - loss: 0.0132 - accuracy: 0.9961 - val_loss: 0.4639 - val_accuracy: 0.9131\n"
          ]
        },
        {
          "output_type": "execute_result",
          "data": {
            "text/plain": [
              "<keras.callbacks.History at 0x7f5c866c4a50>"
            ]
          },
          "metadata": {},
          "execution_count": 12
        }
      ]
    },
    {
      "cell_type": "code",
      "source": [
        "pred_val= (model.predict(X_test1) > 0.5).astype(\"int32\")\n",
        "\n",
        "from sklearn.metrics import confusion_matrix\n",
        "from mlxtend.plotting import plot_confusion_matrix\n",
        "import seaborn as sns\n",
        "\n",
        "cm= confusion_matrix(y_test1, pred_val)\n",
        "sns.heatmap(cm, annot=True)\n",
        "# plot_confusion_matrix(cm, figsize=(5,5))"
      ],
      "metadata": {
        "colab": {
          "base_uri": "https://localhost:8080/",
          "height": 283
        },
        "id": "Y-ylbe24hdSO",
        "outputId": "de81c071-6044-4942-ec9b-6b8d434d602a"
      },
      "execution_count": null,
      "outputs": [
        {
          "output_type": "execute_result",
          "data": {
            "text/plain": [
              "<matplotlib.axes._subplots.AxesSubplot at 0x7f5c81fde9d0>"
            ]
          },
          "metadata": {},
          "execution_count": 13
        },
        {
          "output_type": "display_data",
          "data": {
            "text/plain": [
              "<Figure size 432x288 with 2 Axes>"
            ],
            "image/png": "[encoded data removed]"
          },
          "metadata": {
            "needs_background": "light"
          }
        }
      ]
    },
    {
      "cell_type": "code",
      "source": [
        "from sklearn.metrics import precision_score, recall_score, f1_score, accuracy_score\n",
        "\n",
        "print('\\nEvaluation Metrics for the test set:')\n",
        "print(\"Accuracy: \", accuracy_score(y_test1.astype('int'), pred_val))\n",
        "print(\"Precision: \", precision_score(y_test1.astype('int'), pred_val))\n",
        "print(\"Recall: \", recall_score(y_test1.astype('int'), pred_val))\n",
        "print(\"f1-score: \", f1_score(y_test1.astype('int'), pred_val))"
      ],
      "metadata": {
        "colab": {
          "base_uri": "https://localhost:8080/"
        },
        "id": "tTQpbTIb17wk",
        "outputId": "6e55567a-6ec1-410f-caca-64c1d702481f"
      },
      "execution_count": null,
      "outputs": [
        {
          "output_type": "stream",
          "name": "stdout",
          "text": [
            "\n",
            "Evaluation Metrics for the test set:\n",
            "Accuracy:  0.9130650769995032\n",
            "Precision:  0.9007056451612904\n",
            "Recall:  0.9211340206185566\n",
            "f1-score:  0.9108053007135576\n"
          ]
        }
      ]
    },
    {
      "cell_type": "code",
      "source": [
        "import matplotlib.pyplot as plt\n",
        "from sklearn.metrics import roc_curve\n",
        "fpr, tpr, thresholds = roc_curve(y_test1.astype('int'), pred_val)\n",
        "plt.plot(fpr, tpr)\n",
        "plt.xlabel('False positive rate')\n",
        "plt.ylabel('True Positive rate')\n",
        "plt.title('ROC curve for LSTM')"
      ],
      "metadata": {
        "colab": {
          "base_uri": "https://localhost:8080/",
          "height": 313
        },
        "id": "Y879a5priX9m",
        "outputId": "1f91c082-6bee-41c3-e0c5-af97a949d3f4"
      },
      "execution_count": null,
      "outputs": [
        {
          "output_type": "execute_result",
          "data": {
            "text/plain": [
              "Text(0.5, 1.0, 'ROC curve for LSTM')"
            ]
          },
          "metadata": {},
          "execution_count": 15
        },
        {
          "output_type": "display_data",
          "data": {
            "text/plain": [
              "<Figure size 432x288 with 1 Axes>"
            ],
            "image/png": "[encoded data removed]"
          },
          "metadata": {
            "needs_background": "light"
          }
        }
      ]
    },
    {
      "cell_type": "code",
      "source": [
        "test_data1 = test_data1.apply(lambda x: x.astype(str).str.lower())\n",
        "test_data1.fillna('fake fake fake',inplace=True)"
      ],
      "metadata": {
        "id": "pW0J31em8PkZ"
      },
      "execution_count": null,
      "outputs": []
    },
    {
      "cell_type": "code",
      "source": [
        "stop_words_set = set(stopwords.words('english'))\n",
        "sw_removed_test = []\n",
        "\n",
        "for i in range(len(test_data1)):\n",
        "    review = re.sub('[^a-zA-Z]',' ',test_data1['text'][i])\n",
        "    #not on title?\n",
        "    review = review.split()\n",
        "    review = [word for word in review if not word in stop_words_set]\n",
        "    statements = ' '.join(review)\n",
        "    sw_removed_test.append(statements)"
      ],
      "metadata": {
        "id": "vy6JHGSYLv4L"
      },
      "execution_count": null,
      "outputs": []
    },
    {
      "cell_type": "code",
      "source": [
        "ps = PorterStemmer()\n",
        "stemmed_test = []\n",
        "\n",
        "for i in range(len(sw_removed_test)):\n",
        "  sw_removed_1 = sw_removed_test[i].split()\n",
        "  stem = [ps.stem(word) for word in sw_removed_1]\n",
        "  st = ' '.join(stem)\n",
        "  stemmed_test.append(st)"
      ],
      "metadata": {
        "id": "qT8UAGieL0SS"
      },
      "execution_count": null,
      "outputs": []
    },
    {
      "cell_type": "code",
      "source": [
        "onehot_repr_test=[one_hot(words,voc_size)for words in stemmed_test] "
      ],
      "metadata": {
        "id": "rK-JJyhd88LU"
      },
      "execution_count": null,
      "outputs": []
    },
    {
      "cell_type": "code",
      "source": [
        "#padding for the test dataset\n",
        "sent_length=500\n",
        "\n",
        "embedded_docs_test=pad_sequences(onehot_repr_test,padding='pre',maxlen=sent_length)\n",
        "print(embedded_docs_test)"
      ],
      "metadata": {
        "colab": {
          "base_uri": "https://localhost:8080/"
        },
        "id": "TLQUOWC19Dax",
        "outputId": "0b850d44-aede-4d6a-d674-ef089473e1f9"
      },
      "execution_count": null,
      "outputs": [
        {
          "output_type": "stream",
          "name": "stdout",
          "text": [
            "[[6712 6600  210 ... 7065 5654 7373]\n",
            " [   0    0    0 ... 6480   73 9402]\n",
            " [   0    0    0 ... 4436 6671 6895]\n",
            " ...\n",
            " [1322 6620 4390 ... 5489 8472 9609]\n",
            " [   0    0    0 ... 1533 8376 5354]\n",
            " [8865 8868 7403 ... 1602  276 1956]]\n"
          ]
        }
      ]
    },
    {
      "cell_type": "code",
      "source": [
        "X_test_final = np.array(embedded_docs_test)"
      ],
      "metadata": {
        "id": "_HNEO3qM9Ir5"
      },
      "execution_count": null,
      "outputs": []
    },
    {
      "cell_type": "code",
      "source": [
        "# check=model.predict_classes(X_test_final)\n",
        "check = (model.predict(X_test_final) > 0.5).astype(\"int32\")\n"
      ],
      "metadata": {
        "id": "LzvoshW39O9j"
      },
      "execution_count": null,
      "outputs": []
    },
    {
      "cell_type": "code",
      "source": [
        "check = list(check)\n",
        "check1 = []\n",
        "for i in check:\n",
        "  check1.append(i[0])"
      ],
      "metadata": {
        "id": "YZLKV9EwQglp"
      },
      "execution_count": null,
      "outputs": []
    },
    {
      "cell_type": "code",
      "source": [
        "y_test_pred1 = pd.DataFrame({'id':test_data1['id'],'label':check1})\n",
        "\n",
        "y_test_pred1.set_index(\"id\",inplace = True)\n",
        "y_test_pred1.to_csv(\"submission8.csv\")"
      ],
      "metadata": {
        "id": "HKTfCNAb9Yoe"
      },
      "execution_count": null,
      "outputs": []
    }
  ]
}