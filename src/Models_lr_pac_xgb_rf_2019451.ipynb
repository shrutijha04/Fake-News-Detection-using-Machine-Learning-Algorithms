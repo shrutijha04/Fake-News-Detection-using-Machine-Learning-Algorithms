{
  "nbformat": 4,
  "nbformat_minor": 0,
  "metadata": {
    "colab": {
      "name": "Models_lr_pac_xgb_rf.ipynb",
      "provenance": [],
      "collapsed_sections": []
    },
    "kernelspec": {
      "name": "python3",
      "display_name": "Python 3"
    },
    "language_info": {
      "name": "python"
    },
    "accelerator": "GPU"
  },
  "cells": [
    {
      "cell_type": "markdown",
      "source": [
        "0. Loading the dataset\n"
      ],
      "metadata": {
        "id": "JQyf_IT1bKs8"
      }
    },
    {
      "cell_type": "code",
      "source": [
        "! gdown --id 1E8OTtNK_UNSAdmkg3OuB0k2FsKKF9QpY\n",
        "! gdown --id 1-pm6_kvT9CBrYER40uIkRiG0KMlHnH7L\n",
        "! gdown --id 1oiVQignVg1wvE1LXKFvOLHPl0P8GNSDp"
      ],
      "metadata": {
        "id": "mkyWGh1AbNrt",
        "colab": {
          "base_uri": "https://localhost:8080/"
        },
        "outputId": "d2ef391c-ccd8-49d6-f5cc-82089fd4d370"
      },
      "execution_count": null,
      "outputs": [
        {
          "output_type": "stream",
          "name": "stdout",
          "text": [
            "/usr/local/lib/python3.7/dist-packages/gdown/cli.py:131: FutureWarning: Option `--id` was deprecated in version 4.3.1 and will be removed in 5.0. You don't need to pass it anymore to use a file ID.\n",
            "  category=FutureWarning,\n",
            "Downloading...\n",
            "From: https://drive.google.com/uc?id=1E8OTtNK_UNSAdmkg3OuB0k2FsKKF9QpY\n",
            "To: /content/train.csv\n",
            "100% 98.6M/98.6M [00:00<00:00, 317MB/s]\n",
            "/usr/local/lib/python3.7/dist-packages/gdown/cli.py:131: FutureWarning: Option `--id` was deprecated in version 4.3.1 and will be removed in 5.0. You don't need to pass it anymore to use a file ID.\n",
            "  category=FutureWarning,\n",
            "Downloading...\n",
            "From: https://drive.google.com/uc?id=1-pm6_kvT9CBrYER40uIkRiG0KMlHnH7L\n",
            "To: /content/test.csv\n",
            "100% 25.1M/25.1M [00:00<00:00, 129MB/s]\n",
            "/usr/local/lib/python3.7/dist-packages/gdown/cli.py:131: FutureWarning: Option `--id` was deprecated in version 4.3.1 and will be removed in 5.0. You don't need to pass it anymore to use a file ID.\n",
            "  category=FutureWarning,\n",
            "Downloading...\n",
            "From: https://drive.google.com/uc?id=1oiVQignVg1wvE1LXKFvOLHPl0P8GNSDp\n",
            "To: /content/submit.csv\n",
            "100% 41.6k/41.6k [00:00<00:00, 41.3MB/s]\n"
          ]
        }
      ]
    },
    {
      "cell_type": "code",
      "source": [
        "import numpy as np\n",
        "import pandas as pd"
      ],
      "metadata": {
        "id": "L3wTlDK2eKPc"
      },
      "execution_count": null,
      "outputs": []
    },
    {
      "cell_type": "code",
      "source": [
        "train_data = pd.read_csv(\"train.csv\")\n",
        "test_data = pd.read_csv(\"test.csv\")\n",
        "submit_data = pd.read_csv(\"submit.csv\")"
      ],
      "metadata": {
        "id": "WvMcjj16ePcy"
      },
      "execution_count": null,
      "outputs": []
    },
    {
      "cell_type": "code",
      "source": [
        "test_data = test_data.join(submit_data[\"label\"])"
      ],
      "metadata": {
        "id": "g2IaDLw_iFy1"
      },
      "execution_count": null,
      "outputs": []
    },
    {
      "cell_type": "markdown",
      "source": [
        "1.1 Preprocessing - train set"
      ],
      "metadata": {
        "id": "WOLVq9-VqPCz"
      }
    },
    {
      "cell_type": "code",
      "source": [
        "# Checking null values\n",
        "train_data.isnull().sum()"
      ],
      "metadata": {
        "id": "9jSc0uI3eWMv"
      },
      "execution_count": null,
      "outputs": []
    },
    {
      "cell_type": "code",
      "source": [
        "# Removing null values\n",
        "train_data.dropna(inplace=True)\n",
        "train_data.drop(train_data.loc[train_data['text']==\" \"].index, inplace=True)\n",
        "train_data.drop(train_data.loc[train_data['text']==\"  \"].index, inplace=True)\n",
        "train_data.drop(train_data.loc[train_data['text']==\"\\n\"].index, inplace=True)\n",
        "\n",
        "# Resetting index\n",
        "train_data.reset_index(inplace=True)"
      ],
      "metadata": {
        "id": "BRmuRMkqeeKo"
      },
      "execution_count": null,
      "outputs": []
    },
    {
      "cell_type": "code",
      "source": [
        "train_data= train_data.apply(lambda x: x.astype(str).str.lower())"
      ],
      "metadata": {
        "id": "uORN7GD_fNME"
      },
      "execution_count": null,
      "outputs": []
    },
    {
      "cell_type": "code",
      "source": [
        "train_data = train_data.drop(columns=[\"id\", \"index\"])"
      ],
      "metadata": {
        "id": "wNoHxyUwftlg"
      },
      "execution_count": null,
      "outputs": []
    },
    {
      "cell_type": "markdown",
      "source": [
        "1.2 Preprocessing test set"
      ],
      "metadata": {
        "id": "PexjSF2gqYrF"
      }
    },
    {
      "cell_type": "code",
      "source": [
        "# Checking null values\n",
        "test_data.isnull().sum()"
      ],
      "metadata": {
        "id": "zbijDboNqc24"
      },
      "execution_count": null,
      "outputs": []
    },
    {
      "cell_type": "code",
      "source": [
        "# Removing null values\n",
        "test_data.dropna(inplace=True)\n",
        "test_data.drop(test_data.loc[test_data['text']==\" \"].index, inplace=True)\n",
        "test_data.drop(test_data.loc[test_data['text']==\"  \"].index, inplace=True)\n",
        "test_data.drop(test_data.loc[test_data['text']==\"\\n\"].index, inplace=True)\n",
        "\n",
        "# Resetting index\n",
        "test_data.reset_index(inplace=True)"
      ],
      "metadata": {
        "id": "eYCMmmcfqita"
      },
      "execution_count": null,
      "outputs": []
    },
    {
      "cell_type": "code",
      "source": [
        "test_data= test_data.apply(lambda x: x.astype(str).str.lower())"
      ],
      "metadata": {
        "id": "rLhoJaYHgAwb"
      },
      "execution_count": null,
      "outputs": []
    },
    {
      "cell_type": "code",
      "source": [
        "test_data = test_data.drop(columns=[\"id\",\"index\"])"
      ],
      "metadata": {
        "id": "el4RL1IvgY4-"
      },
      "execution_count": null,
      "outputs": []
    },
    {
      "cell_type": "code",
      "source": [
        "test_data"
      ],
      "metadata": {
        "id": "wVNDK4dutoak"
      },
      "execution_count": null,
      "outputs": []
    },
    {
      "cell_type": "markdown",
      "source": [
        "**PREPROCESSED DATASETS**"
      ],
      "metadata": {
        "id": "UF21yjBKNYvz"
      }
    },
    {
      "cell_type": "code",
      "source": [
        "!pip install --upgrade --no-cache-dir gdown"
      ],
      "metadata": {
        "id": "-Zlp00_bNcGQ"
      },
      "execution_count": null,
      "outputs": []
    },
    {
      "cell_type": "code",
      "source": [
        "! gdown --id 1pGkEyDelD7Lp7yhFML9Dt1oo-91Mqf9H\n",
        "! gdown --id 1DYVzeYjjTTeHtazHfKD9FTx57h-77bkC"
      ],
      "metadata": {
        "id": "JcTWUlL9NilS"
      },
      "execution_count": null,
      "outputs": []
    },
    {
      "cell_type": "code",
      "source": [
        "#nulls\n",
        "! gdown --id 1-31BvAJpyVent7RyJWg2lveqvNBKWsYr\n",
        "! gdown --id 1a-OHeeWwuuCPKFbl2EfopQHD2erJ3KwK"
      ],
      "metadata": {
        "id": "f9embQduOXZw",
        "colab": {
          "base_uri": "https://localhost:8080/"
        },
        "outputId": "2046e3d1-60a7-40df-b947-5bbe6731ffb8"
      },
      "execution_count": null,
      "outputs": [
        {
          "output_type": "stream",
          "name": "stdout",
          "text": [
            "/usr/local/lib/python3.7/dist-packages/gdown/cli.py:131: FutureWarning: Option `--id` was deprecated in version 4.3.1 and will be removed in 5.0. You don't need to pass it anymore to use a file ID.\n",
            "  category=FutureWarning,\n",
            "Downloading...\n",
            "From: https://drive.google.com/uc?id=1-31BvAJpyVent7RyJWg2lveqvNBKWsYr\n",
            "To: /content/pre_test_withnull.csv\n",
            "100% 79.3M/79.3M [00:00<00:00, 92.7MB/s]\n",
            "/usr/local/lib/python3.7/dist-packages/gdown/cli.py:131: FutureWarning: Option `--id` was deprecated in version 4.3.1 and will be removed in 5.0. You don't need to pass it anymore to use a file ID.\n",
            "  category=FutureWarning,\n",
            "Downloading...\n",
            "From: https://drive.google.com/uc?id=1a-OHeeWwuuCPKFbl2EfopQHD2erJ3KwK\n",
            "To: /content/pre_train_withnull.csv\n",
            "100% 316M/316M [00:03<00:00, 96.5MB/s]\n"
          ]
        }
      ]
    },
    {
      "cell_type": "code",
      "source": [
        "transformed_df = pd.read_csv(\"pre_train_withnull.csv\")\n",
        "transformed_df_test = pd.read_csv(\"pre_test_withnull.csv\")"
      ],
      "metadata": {
        "id": "oDUp6_eEOt3f"
      },
      "execution_count": null,
      "outputs": []
    },
    {
      "cell_type": "code",
      "source": [
        "transformed_df_test = pd.read_csv(\"pre_test_withnull.csv\")"
      ],
      "metadata": {
        "id": "3eK4bYbR7qeS"
      },
      "execution_count": null,
      "outputs": []
    },
    {
      "cell_type": "code",
      "source": [
        "transformed_df = pd.read_csv(\"pre_train.csv\")\n",
        "#transformed_df_test = pd.read_csv(\"pre_test.csv\")"
      ],
      "metadata": {
        "id": "lHCPi9iWNyTh"
      },
      "execution_count": null,
      "outputs": []
    },
    {
      "cell_type": "code",
      "source": [
        "X_test = transformed_df_test.values\n",
        "#y_test = test_data[\"label\"].values "
      ],
      "metadata": {
        "id": "q3wMHBbNPXxk"
      },
      "execution_count": null,
      "outputs": []
    },
    {
      "cell_type": "code",
      "source": [
        "train_data"
      ],
      "metadata": {
        "colab": {
          "base_uri": "https://localhost:8080/",
          "height": 468
        },
        "id": "7eqKsok-zrqO",
        "outputId": "653a92f7-fa3d-44c3-c806-aed57bbe17d2"
      },
      "execution_count": null,
      "outputs": [
        {
          "output_type": "execute_result",
          "data": {
            "text/plain": [
              "          id                                              title  \\\n",
              "0          0  house dem aide: we didn’t even see comey’s let...   \n",
              "1          1  flynn: hillary clinton, big woman on campus - ...   \n",
              "2          2                  why the truth might get you fired   \n",
              "3          3  15 civilians killed in single us airstrike hav...   \n",
              "4          4  iranian woman jailed for fictional unpublished...   \n",
              "...      ...                                                ...   \n",
              "20795  20795  rapper t.i.: trump a ’poster child for white s...   \n",
              "20796  20796  n.f.l. playoffs: schedule, matchups and odds -...   \n",
              "20797  20797  macy’s is said to receive takeover approach by...   \n",
              "20798  20798  nato, russia to hold parallel exercises in bal...   \n",
              "20799  20799                          what keeps the f-35 alive   \n",
              "\n",
              "                                          author  \\\n",
              "0                                  darrell lucus   \n",
              "1                                daniel j. flynn   \n",
              "2                             consortiumnews.com   \n",
              "3                                jessica purkiss   \n",
              "4                                 howard portnoy   \n",
              "...                                          ...   \n",
              "20795                              jerome hudson   \n",
              "20796                           benjamin hoffman   \n",
              "20797  michael j. de la merced and rachel abrams   \n",
              "20798                                alex ansary   \n",
              "20799                              david swanson   \n",
              "\n",
              "                                                    text label  \n",
              "0      house dem aide: we didn’t even see comey’s let...     1  \n",
              "1      ever get the feeling your life circles the rou...     0  \n",
              "2      why the truth might get you fired october 29, ...     1  \n",
              "3      videos 15 civilians killed in single us airstr...     1  \n",
              "4      print \\nan iranian woman has been sentenced to...     1  \n",
              "...                                                  ...   ...  \n",
              "20795  rapper t. i. unloaded on black celebrities who...     0  \n",
              "20796  when the green bay packers lost to the washing...     0  \n",
              "20797  the macy’s of today grew from the union of sev...     0  \n",
              "20798  nato, russia to hold parallel exercises in bal...     1  \n",
              "20799    david swanson is an author, activist, journa...     1  \n",
              "\n",
              "[20800 rows x 5 columns]"
            ],
            "text/html": [
              "\n",
              "  <div id=\"df-ab3c1371-8b8b-4b37-a205-b43e049923d4\">\n",
              "    <div class=\"colab-df-container\">\n",
              "      <div>\n",
              "<style scoped>\n",
              "    .dataframe tbody tr th:only-of-type {\n",
              "        vertical-align: middle;\n",
              "    }\n",
              "\n",
              "    .dataframe tbody tr th {\n",
              "        vertical-align: top;\n",
              "    }\n",
              "\n",
              "    .dataframe thead th {\n",
              "        text-align: right;\n",
              "    }\n",
              "</style>\n",
              "<table border=\"1\" class=\"dataframe\">\n",
              "  <thead>\n",
              "    <tr style=\"text-align: right;\">\n",
              "      <th></th>\n",
              "      <th>id</th>\n",
              "      <th>title</th>\n",
              "      <th>author</th>\n",
              "      <th>text</th>\n",
              "      <th>label</th>\n",
              "    </tr>\n",
              "  </thead>\n",
              "  <tbody>\n",
              "    <tr>\n",
              "      <th>0</th>\n",
              "      <td>0</td>\n",
              "      <td>house dem aide: we didn’t even see comey’s let...</td>\n",
              "      <td>darrell lucus</td>\n",
              "      <td>house dem aide: we didn’t even see comey’s let...</td>\n",
              "      <td>1</td>\n",
              "    </tr>\n",
              "    <tr>\n",
              "      <th>1</th>\n",
              "      <td>1</td>\n",
              "      <td>flynn: hillary clinton, big woman on campus - ...</td>\n",
              "      <td>daniel j. flynn</td>\n",
              "      <td>ever get the feeling your life circles the rou...</td>\n",
              "      <td>0</td>\n",
              "    </tr>\n",
              "    <tr>\n",
              "      <th>2</th>\n",
              "      <td>2</td>\n",
              "      <td>why the truth might get you fired</td>\n",
              "      <td>consortiumnews.com</td>\n",
              "      <td>why the truth might get you fired october 29, ...</td>\n",
              "      <td>1</td>\n",
              "    </tr>\n",
              "    <tr>\n",
              "      <th>3</th>\n",
              "      <td>3</td>\n",
              "      <td>15 civilians killed in single us airstrike hav...</td>\n",
              "      <td>jessica purkiss</td>\n",
              "      <td>videos 15 civilians killed in single us airstr...</td>\n",
              "      <td>1</td>\n",
              "    </tr>\n",
              "    <tr>\n",
              "      <th>4</th>\n",
              "      <td>4</td>\n",
              "      <td>iranian woman jailed for fictional unpublished...</td>\n",
              "      <td>howard portnoy</td>\n",
              "      <td>print \\nan iranian woman has been sentenced to...</td>\n",
              "      <td>1</td>\n",
              "    </tr>\n",
              "    <tr>\n",
              "      <th>...</th>\n",
              "      <td>...</td>\n",
              "      <td>...</td>\n",
              "      <td>...</td>\n",
              "      <td>...</td>\n",
              "      <td>...</td>\n",
              "    </tr>\n",
              "    <tr>\n",
              "      <th>20795</th>\n",
              "      <td>20795</td>\n",
              "      <td>rapper t.i.: trump a ’poster child for white s...</td>\n",
              "      <td>jerome hudson</td>\n",
              "      <td>rapper t. i. unloaded on black celebrities who...</td>\n",
              "      <td>0</td>\n",
              "    </tr>\n",
              "    <tr>\n",
              "      <th>20796</th>\n",
              "      <td>20796</td>\n",
              "      <td>n.f.l. playoffs: schedule, matchups and odds -...</td>\n",
              "      <td>benjamin hoffman</td>\n",
              "      <td>when the green bay packers lost to the washing...</td>\n",
              "      <td>0</td>\n",
              "    </tr>\n",
              "    <tr>\n",
              "      <th>20797</th>\n",
              "      <td>20797</td>\n",
              "      <td>macy’s is said to receive takeover approach by...</td>\n",
              "      <td>michael j. de la merced and rachel abrams</td>\n",
              "      <td>the macy’s of today grew from the union of sev...</td>\n",
              "      <td>0</td>\n",
              "    </tr>\n",
              "    <tr>\n",
              "      <th>20798</th>\n",
              "      <td>20798</td>\n",
              "      <td>nato, russia to hold parallel exercises in bal...</td>\n",
              "      <td>alex ansary</td>\n",
              "      <td>nato, russia to hold parallel exercises in bal...</td>\n",
              "      <td>1</td>\n",
              "    </tr>\n",
              "    <tr>\n",
              "      <th>20799</th>\n",
              "      <td>20799</td>\n",
              "      <td>what keeps the f-35 alive</td>\n",
              "      <td>david swanson</td>\n",
              "      <td>david swanson is an author, activist, journa...</td>\n",
              "      <td>1</td>\n",
              "    </tr>\n",
              "  </tbody>\n",
              "</table>\n",
              "<p>20800 rows × 5 columns</p>\n",
              "</div>\n",
              "      <button class=\"colab-df-convert\" onclick=\"convertToInteractive('df-ab3c1371-8b8b-4b37-a205-b43e049923d4')\"\n",
              "              title=\"Convert this dataframe to an interactive table.\"\n",
              "              style=\"display:none;\">\n",
              "        \n",
              "  <svg xmlns=\"http://www.w3.org/2000/svg\" height=\"24px\"viewBox=\"0 0 24 24\"\n",
              "       width=\"24px\">\n",
              "    <path d=\"M0 0h24v24H0V0z\" fill=\"none\"/>\n",
              "    <path d=\"M18.56 5.44l.94 2.06.94-2.06 2.06-.94-2.06-.94-.94-2.06-.94 2.06-2.06.94zm-11 1L8.5 8.5l.94-2.06 2.06-.94-2.06-.94L8.5 2.5l-.94 2.06-2.06.94zm10 10l.94 2.06.94-2.06 2.06-.94-2.06-.94-.94-2.06-.94 2.06-2.06.94z\"/><path d=\"M17.41 7.96l-1.37-1.37c-.4-.4-.92-.59-1.43-.59-.52 0-1.04.2-1.43.59L10.3 9.45l-7.72 7.72c-.78.78-.78 2.05 0 2.83L4 21.41c.39.39.9.59 1.41.59.51 0 1.02-.2 1.41-.59l7.78-7.78 2.81-2.81c.8-.78.8-2.07 0-2.86zM5.41 20L4 18.59l7.72-7.72 1.47 1.35L5.41 20z\"/>\n",
              "  </svg>\n",
              "      </button>\n",
              "      \n",
              "  <style>\n",
              "    .colab-df-container {\n",
              "      display:flex;\n",
              "      flex-wrap:wrap;\n",
              "      gap: 12px;\n",
              "    }\n",
              "\n",
              "    .colab-df-convert {\n",
              "      background-color: #E8F0FE;\n",
              "      border: none;\n",
              "      border-radius: 50%;\n",
              "      cursor: pointer;\n",
              "      display: none;\n",
              "      fill: #1967D2;\n",
              "      height: 32px;\n",
              "      padding: 0 0 0 0;\n",
              "      width: 32px;\n",
              "    }\n",
              "\n",
              "    .colab-df-convert:hover {\n",
              "      background-color: #E2EBFA;\n",
              "      box-shadow: 0px 1px 2px rgba(60, 64, 67, 0.3), 0px 1px 3px 1px rgba(60, 64, 67, 0.15);\n",
              "      fill: #174EA6;\n",
              "    }\n",
              "\n",
              "    [theme=dark] .colab-df-convert {\n",
              "      background-color: #3B4455;\n",
              "      fill: #D2E3FC;\n",
              "    }\n",
              "\n",
              "    [theme=dark] .colab-df-convert:hover {\n",
              "      background-color: #434B5C;\n",
              "      box-shadow: 0px 1px 3px 1px rgba(0, 0, 0, 0.15);\n",
              "      filter: drop-shadow(0px 1px 2px rgba(0, 0, 0, 0.3));\n",
              "      fill: #FFFFFF;\n",
              "    }\n",
              "  </style>\n",
              "\n",
              "      <script>\n",
              "        const buttonEl =\n",
              "          document.querySelector('#df-ab3c1371-8b8b-4b37-a205-b43e049923d4 button.colab-df-convert');\n",
              "        buttonEl.style.display =\n",
              "          google.colab.kernel.accessAllowed ? 'block' : 'none';\n",
              "\n",
              "        async function convertToInteractive(key) {\n",
              "          const element = document.querySelector('#df-ab3c1371-8b8b-4b37-a205-b43e049923d4');\n",
              "          const dataTable =\n",
              "            await google.colab.kernel.invokeFunction('convertToInteractive',\n",
              "                                                     [key], {});\n",
              "          if (!dataTable) return;\n",
              "\n",
              "          const docLinkHtml = 'Like what you see? Visit the ' +\n",
              "            '<a target=\"_blank\" href=https://colab.research.google.com/notebooks/data_table.ipynb>data table notebook</a>'\n",
              "            + ' to learn more about interactive tables.';\n",
              "          element.innerHTML = '';\n",
              "          dataTable['output_type'] = 'display_data';\n",
              "          await google.colab.output.renderOutput(dataTable, element);\n",
              "          const docLink = document.createElement('div');\n",
              "          docLink.innerHTML = docLinkHtml;\n",
              "          element.appendChild(docLink);\n",
              "        }\n",
              "      </script>\n",
              "    </div>\n",
              "  </div>\n",
              "  "
            ]
          },
          "metadata": {},
          "execution_count": 288
        }
      ]
    },
    {
      "cell_type": "code",
      "source": [
        "transformed_df"
      ],
      "metadata": {
        "colab": {
          "base_uri": "https://localhost:8080/",
          "height": 505
        },
        "id": "ozJ8keQkzoTG",
        "outputId": "e5a39b3f-cd1f-419b-9019-8549d20e80de"
      },
      "execution_count": null,
      "outputs": [
        {
          "output_type": "execute_result",
          "data": {
            "text/plain": [
              "       abandon  abc  abedin      abil       abl  abort  abroad  absolut  \\\n",
              "0          0.0  0.0     0.0  0.000000  0.000000    0.0     0.0      0.0   \n",
              "1          0.0  0.0     0.0  0.000000  0.000000    0.0     0.0      0.0   \n",
              "2          0.0  0.0     0.0  0.000000  0.021763    0.0     0.0      0.0   \n",
              "3          0.0  0.0     0.0  0.000000  0.054073    0.0     0.0      0.0   \n",
              "4          0.0  0.0     0.0  0.000000  0.000000    0.0     0.0      0.0   \n",
              "...        ...  ...     ...       ...       ...    ...     ...      ...   \n",
              "20795      0.0  0.0     0.0  0.000000  0.000000    0.0     0.0      0.0   \n",
              "20796      0.0  0.0     0.0  0.000000  0.000000    0.0     0.0      0.0   \n",
              "20797      0.0  0.0     0.0  0.000000  0.025219    0.0     0.0      0.0   \n",
              "20798      0.0  0.0     0.0  0.000000  0.000000    0.0     0.0      0.0   \n",
              "20799      0.0  0.0     0.0  0.027021  0.021821    0.0     0.0      0.0   \n",
              "\n",
              "           abus    academ  ...  york citi  york time  young  young peopl  \\\n",
              "0      0.036885  0.000000  ...        0.0        0.0    0.0          0.0   \n",
              "1      0.000000  0.000000  ...        0.0        0.0    0.0          0.0   \n",
              "2      0.000000  0.034703  ...        0.0        0.0    0.0          0.0   \n",
              "3      0.000000  0.000000  ...        0.0        0.0    0.0          0.0   \n",
              "4      0.000000  0.000000  ...        0.0        0.0    0.0          0.0   \n",
              "...         ...       ...  ...        ...        ...    ...          ...   \n",
              "20795  0.000000  0.000000  ...        0.0        0.0    0.0          0.0   \n",
              "20796  0.000000  0.000000  ...        0.0        0.0    0.0          0.0   \n",
              "20797  0.000000  0.000000  ...        0.0        0.0    0.0          0.0   \n",
              "20798  0.000000  0.000000  ...        0.0        0.0    0.0          0.0   \n",
              "20799  0.000000  0.034795  ...        0.0        0.0    0.0          0.0   \n",
              "\n",
              "       younger  youth  youtub  zero  zika  zone  \n",
              "0          0.0    0.0     0.0   0.0   0.0   0.0  \n",
              "1          0.0    0.0     0.0   0.0   0.0   0.0  \n",
              "2          0.0    0.0     0.0   0.0   0.0   0.0  \n",
              "3          0.0    0.0     0.0   0.0   0.0   0.0  \n",
              "4          0.0    0.0     0.0   0.0   0.0   0.0  \n",
              "...        ...    ...     ...   ...   ...   ...  \n",
              "20795      0.0    0.0     0.0   0.0   0.0   0.0  \n",
              "20796      0.0    0.0     0.0   0.0   0.0   0.0  \n",
              "20797      0.0    0.0     0.0   0.0   0.0   0.0  \n",
              "20798      0.0    0.0     0.0   0.0   0.0   0.0  \n",
              "20799      0.0    0.0     0.0   0.0   0.0   0.0  \n",
              "\n",
              "[20800 rows x 3000 columns]"
            ],
            "text/html": [
              "\n",
              "  <div id=\"df-91e50874-9f09-41b7-a681-e49674633071\">\n",
              "    <div class=\"colab-df-container\">\n",
              "      <div>\n",
              "<style scoped>\n",
              "    .dataframe tbody tr th:only-of-type {\n",
              "        vertical-align: middle;\n",
              "    }\n",
              "\n",
              "    .dataframe tbody tr th {\n",
              "        vertical-align: top;\n",
              "    }\n",
              "\n",
              "    .dataframe thead th {\n",
              "        text-align: right;\n",
              "    }\n",
              "</style>\n",
              "<table border=\"1\" class=\"dataframe\">\n",
              "  <thead>\n",
              "    <tr style=\"text-align: right;\">\n",
              "      <th></th>\n",
              "      <th>abandon</th>\n",
              "      <th>abc</th>\n",
              "      <th>abedin</th>\n",
              "      <th>abil</th>\n",
              "      <th>abl</th>\n",
              "      <th>abort</th>\n",
              "      <th>abroad</th>\n",
              "      <th>absolut</th>\n",
              "      <th>abus</th>\n",
              "      <th>academ</th>\n",
              "      <th>...</th>\n",
              "      <th>york citi</th>\n",
              "      <th>york time</th>\n",
              "      <th>young</th>\n",
              "      <th>young peopl</th>\n",
              "      <th>younger</th>\n",
              "      <th>youth</th>\n",
              "      <th>youtub</th>\n",
              "      <th>zero</th>\n",
              "      <th>zika</th>\n",
              "      <th>zone</th>\n",
              "    </tr>\n",
              "  </thead>\n",
              "  <tbody>\n",
              "    <tr>\n",
              "      <th>0</th>\n",
              "      <td>0.0</td>\n",
              "      <td>0.0</td>\n",
              "      <td>0.0</td>\n",
              "      <td>0.000000</td>\n",
              "      <td>0.000000</td>\n",
              "      <td>0.0</td>\n",
              "      <td>0.0</td>\n",
              "      <td>0.0</td>\n",
              "      <td>0.036885</td>\n",
              "      <td>0.000000</td>\n",
              "      <td>...</td>\n",
              "      <td>0.0</td>\n",
              "      <td>0.0</td>\n",
              "      <td>0.0</td>\n",
              "      <td>0.0</td>\n",
              "      <td>0.0</td>\n",
              "      <td>0.0</td>\n",
              "      <td>0.0</td>\n",
              "      <td>0.0</td>\n",
              "      <td>0.0</td>\n",
              "      <td>0.0</td>\n",
              "    </tr>\n",
              "    <tr>\n",
              "      <th>1</th>\n",
              "      <td>0.0</td>\n",
              "      <td>0.0</td>\n",
              "      <td>0.0</td>\n",
              "      <td>0.000000</td>\n",
              "      <td>0.000000</td>\n",
              "      <td>0.0</td>\n",
              "      <td>0.0</td>\n",
              "      <td>0.0</td>\n",
              "      <td>0.000000</td>\n",
              "      <td>0.000000</td>\n",
              "      <td>...</td>\n",
              "      <td>0.0</td>\n",
              "      <td>0.0</td>\n",
              "      <td>0.0</td>\n",
              "      <td>0.0</td>\n",
              "      <td>0.0</td>\n",
              "      <td>0.0</td>\n",
              "      <td>0.0</td>\n",
              "      <td>0.0</td>\n",
              "      <td>0.0</td>\n",
              "      <td>0.0</td>\n",
              "    </tr>\n",
              "    <tr>\n",
              "      <th>2</th>\n",
              "      <td>0.0</td>\n",
              "      <td>0.0</td>\n",
              "      <td>0.0</td>\n",
              "      <td>0.000000</td>\n",
              "      <td>0.021763</td>\n",
              "      <td>0.0</td>\n",
              "      <td>0.0</td>\n",
              "      <td>0.0</td>\n",
              "      <td>0.000000</td>\n",
              "      <td>0.034703</td>\n",
              "      <td>...</td>\n",
              "      <td>0.0</td>\n",
              "      <td>0.0</td>\n",
              "      <td>0.0</td>\n",
              "      <td>0.0</td>\n",
              "      <td>0.0</td>\n",
              "      <td>0.0</td>\n",
              "      <td>0.0</td>\n",
              "      <td>0.0</td>\n",
              "      <td>0.0</td>\n",
              "      <td>0.0</td>\n",
              "    </tr>\n",
              "    <tr>\n",
              "      <th>3</th>\n",
              "      <td>0.0</td>\n",
              "      <td>0.0</td>\n",
              "      <td>0.0</td>\n",
              "      <td>0.000000</td>\n",
              "      <td>0.054073</td>\n",
              "      <td>0.0</td>\n",
              "      <td>0.0</td>\n",
              "      <td>0.0</td>\n",
              "      <td>0.000000</td>\n",
              "      <td>0.000000</td>\n",
              "      <td>...</td>\n",
              "      <td>0.0</td>\n",
              "      <td>0.0</td>\n",
              "      <td>0.0</td>\n",
              "      <td>0.0</td>\n",
              "      <td>0.0</td>\n",
              "      <td>0.0</td>\n",
              "      <td>0.0</td>\n",
              "      <td>0.0</td>\n",
              "      <td>0.0</td>\n",
              "      <td>0.0</td>\n",
              "    </tr>\n",
              "    <tr>\n",
              "      <th>4</th>\n",
              "      <td>0.0</td>\n",
              "      <td>0.0</td>\n",
              "      <td>0.0</td>\n",
              "      <td>0.000000</td>\n",
              "      <td>0.000000</td>\n",
              "      <td>0.0</td>\n",
              "      <td>0.0</td>\n",
              "      <td>0.0</td>\n",
              "      <td>0.000000</td>\n",
              "      <td>0.000000</td>\n",
              "      <td>...</td>\n",
              "      <td>0.0</td>\n",
              "      <td>0.0</td>\n",
              "      <td>0.0</td>\n",
              "      <td>0.0</td>\n",
              "      <td>0.0</td>\n",
              "      <td>0.0</td>\n",
              "      <td>0.0</td>\n",
              "      <td>0.0</td>\n",
              "      <td>0.0</td>\n",
              "      <td>0.0</td>\n",
              "    </tr>\n",
              "    <tr>\n",
              "      <th>...</th>\n",
              "      <td>...</td>\n",
              "      <td>...</td>\n",
              "      <td>...</td>\n",
              "      <td>...</td>\n",
              "      <td>...</td>\n",
              "      <td>...</td>\n",
              "      <td>...</td>\n",
              "      <td>...</td>\n",
              "      <td>...</td>\n",
              "      <td>...</td>\n",
              "      <td>...</td>\n",
              "      <td>...</td>\n",
              "      <td>...</td>\n",
              "      <td>...</td>\n",
              "      <td>...</td>\n",
              "      <td>...</td>\n",
              "      <td>...</td>\n",
              "      <td>...</td>\n",
              "      <td>...</td>\n",
              "      <td>...</td>\n",
              "      <td>...</td>\n",
              "    </tr>\n",
              "    <tr>\n",
              "      <th>20795</th>\n",
              "      <td>0.0</td>\n",
              "      <td>0.0</td>\n",
              "      <td>0.0</td>\n",
              "      <td>0.000000</td>\n",
              "      <td>0.000000</td>\n",
              "      <td>0.0</td>\n",
              "      <td>0.0</td>\n",
              "      <td>0.0</td>\n",
              "      <td>0.000000</td>\n",
              "      <td>0.000000</td>\n",
              "      <td>...</td>\n",
              "      <td>0.0</td>\n",
              "      <td>0.0</td>\n",
              "      <td>0.0</td>\n",
              "      <td>0.0</td>\n",
              "      <td>0.0</td>\n",
              "      <td>0.0</td>\n",
              "      <td>0.0</td>\n",
              "      <td>0.0</td>\n",
              "      <td>0.0</td>\n",
              "      <td>0.0</td>\n",
              "    </tr>\n",
              "    <tr>\n",
              "      <th>20796</th>\n",
              "      <td>0.0</td>\n",
              "      <td>0.0</td>\n",
              "      <td>0.0</td>\n",
              "      <td>0.000000</td>\n",
              "      <td>0.000000</td>\n",
              "      <td>0.0</td>\n",
              "      <td>0.0</td>\n",
              "      <td>0.0</td>\n",
              "      <td>0.000000</td>\n",
              "      <td>0.000000</td>\n",
              "      <td>...</td>\n",
              "      <td>0.0</td>\n",
              "      <td>0.0</td>\n",
              "      <td>0.0</td>\n",
              "      <td>0.0</td>\n",
              "      <td>0.0</td>\n",
              "      <td>0.0</td>\n",
              "      <td>0.0</td>\n",
              "      <td>0.0</td>\n",
              "      <td>0.0</td>\n",
              "      <td>0.0</td>\n",
              "    </tr>\n",
              "    <tr>\n",
              "      <th>20797</th>\n",
              "      <td>0.0</td>\n",
              "      <td>0.0</td>\n",
              "      <td>0.0</td>\n",
              "      <td>0.000000</td>\n",
              "      <td>0.025219</td>\n",
              "      <td>0.0</td>\n",
              "      <td>0.0</td>\n",
              "      <td>0.0</td>\n",
              "      <td>0.000000</td>\n",
              "      <td>0.000000</td>\n",
              "      <td>...</td>\n",
              "      <td>0.0</td>\n",
              "      <td>0.0</td>\n",
              "      <td>0.0</td>\n",
              "      <td>0.0</td>\n",
              "      <td>0.0</td>\n",
              "      <td>0.0</td>\n",
              "      <td>0.0</td>\n",
              "      <td>0.0</td>\n",
              "      <td>0.0</td>\n",
              "      <td>0.0</td>\n",
              "    </tr>\n",
              "    <tr>\n",
              "      <th>20798</th>\n",
              "      <td>0.0</td>\n",
              "      <td>0.0</td>\n",
              "      <td>0.0</td>\n",
              "      <td>0.000000</td>\n",
              "      <td>0.000000</td>\n",
              "      <td>0.0</td>\n",
              "      <td>0.0</td>\n",
              "      <td>0.0</td>\n",
              "      <td>0.000000</td>\n",
              "      <td>0.000000</td>\n",
              "      <td>...</td>\n",
              "      <td>0.0</td>\n",
              "      <td>0.0</td>\n",
              "      <td>0.0</td>\n",
              "      <td>0.0</td>\n",
              "      <td>0.0</td>\n",
              "      <td>0.0</td>\n",
              "      <td>0.0</td>\n",
              "      <td>0.0</td>\n",
              "      <td>0.0</td>\n",
              "      <td>0.0</td>\n",
              "    </tr>\n",
              "    <tr>\n",
              "      <th>20799</th>\n",
              "      <td>0.0</td>\n",
              "      <td>0.0</td>\n",
              "      <td>0.0</td>\n",
              "      <td>0.027021</td>\n",
              "      <td>0.021821</td>\n",
              "      <td>0.0</td>\n",
              "      <td>0.0</td>\n",
              "      <td>0.0</td>\n",
              "      <td>0.000000</td>\n",
              "      <td>0.034795</td>\n",
              "      <td>...</td>\n",
              "      <td>0.0</td>\n",
              "      <td>0.0</td>\n",
              "      <td>0.0</td>\n",
              "      <td>0.0</td>\n",
              "      <td>0.0</td>\n",
              "      <td>0.0</td>\n",
              "      <td>0.0</td>\n",
              "      <td>0.0</td>\n",
              "      <td>0.0</td>\n",
              "      <td>0.0</td>\n",
              "    </tr>\n",
              "  </tbody>\n",
              "</table>\n",
              "<p>20800 rows × 3000 columns</p>\n",
              "</div>\n",
              "      <button class=\"colab-df-convert\" onclick=\"convertToInteractive('df-91e50874-9f09-41b7-a681-e49674633071')\"\n",
              "              title=\"Convert this dataframe to an interactive table.\"\n",
              "              style=\"display:none;\">\n",
              "        \n",
              "  <svg xmlns=\"http://www.w3.org/2000/svg\" height=\"24px\"viewBox=\"0 0 24 24\"\n",
              "       width=\"24px\">\n",
              "    <path d=\"M0 0h24v24H0V0z\" fill=\"none\"/>\n",
              "    <path d=\"M18.56 5.44l.94 2.06.94-2.06 2.06-.94-2.06-.94-.94-2.06-.94 2.06-2.06.94zm-11 1L8.5 8.5l.94-2.06 2.06-.94-2.06-.94L8.5 2.5l-.94 2.06-2.06.94zm10 10l.94 2.06.94-2.06 2.06-.94-2.06-.94-.94-2.06-.94 2.06-2.06.94z\"/><path d=\"M17.41 7.96l-1.37-1.37c-.4-.4-.92-.59-1.43-.59-.52 0-1.04.2-1.43.59L10.3 9.45l-7.72 7.72c-.78.78-.78 2.05 0 2.83L4 21.41c.39.39.9.59 1.41.59.51 0 1.02-.2 1.41-.59l7.78-7.78 2.81-2.81c.8-.78.8-2.07 0-2.86zM5.41 20L4 18.59l7.72-7.72 1.47 1.35L5.41 20z\"/>\n",
              "  </svg>\n",
              "      </button>\n",
              "      \n",
              "  <style>\n",
              "    .colab-df-container {\n",
              "      display:flex;\n",
              "      flex-wrap:wrap;\n",
              "      gap: 12px;\n",
              "    }\n",
              "\n",
              "    .colab-df-convert {\n",
              "      background-color: #E8F0FE;\n",
              "      border: none;\n",
              "      border-radius: 50%;\n",
              "      cursor: pointer;\n",
              "      display: none;\n",
              "      fill: #1967D2;\n",
              "      height: 32px;\n",
              "      padding: 0 0 0 0;\n",
              "      width: 32px;\n",
              "    }\n",
              "\n",
              "    .colab-df-convert:hover {\n",
              "      background-color: #E2EBFA;\n",
              "      box-shadow: 0px 1px 2px rgba(60, 64, 67, 0.3), 0px 1px 3px 1px rgba(60, 64, 67, 0.15);\n",
              "      fill: #174EA6;\n",
              "    }\n",
              "\n",
              "    [theme=dark] .colab-df-convert {\n",
              "      background-color: #3B4455;\n",
              "      fill: #D2E3FC;\n",
              "    }\n",
              "\n",
              "    [theme=dark] .colab-df-convert:hover {\n",
              "      background-color: #434B5C;\n",
              "      box-shadow: 0px 1px 3px 1px rgba(0, 0, 0, 0.15);\n",
              "      filter: drop-shadow(0px 1px 2px rgba(0, 0, 0, 0.3));\n",
              "      fill: #FFFFFF;\n",
              "    }\n",
              "  </style>\n",
              "\n",
              "      <script>\n",
              "        const buttonEl =\n",
              "          document.querySelector('#df-91e50874-9f09-41b7-a681-e49674633071 button.colab-df-convert');\n",
              "        buttonEl.style.display =\n",
              "          google.colab.kernel.accessAllowed ? 'block' : 'none';\n",
              "\n",
              "        async function convertToInteractive(key) {\n",
              "          const element = document.querySelector('#df-91e50874-9f09-41b7-a681-e49674633071');\n",
              "          const dataTable =\n",
              "            await google.colab.kernel.invokeFunction('convertToInteractive',\n",
              "                                                     [key], {});\n",
              "          if (!dataTable) return;\n",
              "\n",
              "          const docLinkHtml = 'Like what you see? Visit the ' +\n",
              "            '<a target=\"_blank\" href=https://colab.research.google.com/notebooks/data_table.ipynb>data table notebook</a>'\n",
              "            + ' to learn more about interactive tables.';\n",
              "          element.innerHTML = '';\n",
              "          dataTable['output_type'] = 'display_data';\n",
              "          await google.colab.output.renderOutput(dataTable, element);\n",
              "          const docLink = document.createElement('div');\n",
              "          docLink.innerHTML = docLinkHtml;\n",
              "          element.appendChild(docLink);\n",
              "        }\n",
              "      </script>\n",
              "    </div>\n",
              "  </div>\n",
              "  "
            ]
          },
          "metadata": {},
          "execution_count": 287
        }
      ]
    },
    {
      "cell_type": "markdown",
      "source": [
        "TRAIN TEST SPLIT"
      ],
      "metadata": {
        "id": "-LAiAEZ3QCZk"
      }
    },
    {
      "cell_type": "code",
      "source": [
        "from sklearn.model_selection import train_test_split"
      ],
      "metadata": {
        "id": "9eH_2QfCQEfS"
      },
      "execution_count": null,
      "outputs": []
    },
    {
      "cell_type": "code",
      "source": [
        "X_train1, X_test1, y_train1, y_test1 = train_test_split(transformed_df, pd.DataFrame(train_data['label'],columns=['label']), test_size=0.2, random_state=0)"
      ],
      "metadata": {
        "id": "quS4IoDRQJWD"
      },
      "execution_count": null,
      "outputs": []
    },
    {
      "cell_type": "markdown",
      "source": [
        "3. cross validate "
      ],
      "metadata": {
        "id": "vquyz6SqtPqo"
      }
    },
    {
      "cell_type": "code",
      "source": [
        "#stratified Kfold (k=5) split for training data\n",
        "\n",
        "from sklearn.model_selection import StratifiedKFold\n",
        "skf = StratifiedKFold(n_splits=5)\n",
        "\n",
        "X = transformed_df.values\n",
        "y = train_data[\"label\"].values \n",
        "\n",
        "X_train=[]\n",
        "X_val=[]\n",
        "y_train=[]\n",
        "y_val=[]\n",
        "\n",
        "for train_index, test_index in skf.split(X, y):\n",
        "  X_train.append(X[train_index])\n",
        "  X_val.append(X[test_index]) \n",
        "  y_train.append(y[train_index])\n",
        "  y_val.append(y[test_index])\n"
      ],
      "metadata": {
        "id": "oXcntX_0vvZr"
      },
      "execution_count": null,
      "outputs": []
    },
    {
      "cell_type": "code",
      "source": [
        "#stratified Kfold (k=5) split for training data\n",
        "\n",
        "from sklearn.model_selection import StratifiedKFold\n",
        "skf = StratifiedKFold(n_splits=5)\n",
        "\n",
        "X = X_train1.values\n",
        "y = y_train1[\"label\"].values \n",
        "\n",
        "X_train=[]\n",
        "X_val=[]\n",
        "y_train=[]\n",
        "y_val=[]\n",
        "\n",
        "for train_index, test_index in skf.split(X, y):\n",
        "  X_train.append(X[train_index])\n",
        "  X_val.append(X[test_index]) \n",
        "  y_train.append(y[train_index])\n",
        "  y_val.append(y[test_index])\n"
      ],
      "metadata": {
        "id": "wnxqC60tA7tQ"
      },
      "execution_count": null,
      "outputs": []
    },
    {
      "cell_type": "markdown",
      "source": [
        "SENTIMENT ANALYSIS - USING ONLY VADER, TEXTBLOB [TEXTBLOB]"
      ],
      "metadata": {
        "id": "U-Mn8arxVwR5"
      }
    },
    {
      "cell_type": "markdown",
      "source": [
        "1. textblob - get maxpos, maxneg, mean sentiment, mean subjectivity as features and train lr <br>\n",
        "2. vader - get pos, neg, neu sentiment as features and train lr"
      ],
      "metadata": {
        "id": "dLHut-zdV1ue"
      }
    },
    {
      "cell_type": "markdown",
      "source": [
        "Comparing textblob with vader"
      ],
      "metadata": {
        "id": "fw33OOuNTJwL"
      }
    },
    {
      "cell_type": "markdown",
      "source": [
        "1. textblob"
      ],
      "metadata": {
        "id": "P9oDXOI-Tsbq"
      }
    },
    {
      "cell_type": "code",
      "source": [
        "from textblob import TextBlob"
      ],
      "metadata": {
        "id": "Ce8jEQC2TLu3"
      },
      "execution_count": null,
      "outputs": []
    },
    {
      "cell_type": "code",
      "source": [
        "columnNames = []\n",
        "columnNames.append(\"maxpos\")\n",
        "columnNames.append(\"maxneg\")\n",
        "columnNames.append(\"mean\")\n",
        "columnNames.append(\"mean_sub\")\n",
        "trainSet = pd.DataFrame(columns=columnNames)\n",
        "\n",
        "for j in range(0, len(train_data)):\n",
        "  texts =[x for x in map(str.strip, train_data['text'][j].split('.')) if x] \n",
        "  maxpos = 0.0\n",
        "  minneg = 2.0\n",
        "  mean = 0.0\n",
        "  mean_sub = 0.0\n",
        "  for i in range(0, len(texts)):\n",
        "    temp = TextBlob(texts[i]).sentiment.polarity\n",
        "    temp1 = TextBlob(texts[i]).sentiment.subjectivity\n",
        "    maxpos = max(temp, maxpos)\n",
        "    minneg = min(temp, minneg)\n",
        "    mean += temp\n",
        "    mean_sub += temp1\n",
        "  mean = mean/len(texts)\n",
        "  mean_sub = mean_sub/len(texts)\n",
        "  row = [maxpos, minneg, mean, mean_sub]\n",
        "  trainSet.loc[len(trainSet.index)] = row"
      ],
      "metadata": {
        "id": "H6HGM3rNTPgU"
      },
      "execution_count": null,
      "outputs": []
    },
    {
      "cell_type": "code",
      "source": [
        "trainSet.to_csv('textblobfeatures.csv', encoding='utf-8', index=False)"
      ],
      "metadata": {
        "id": "50fopx2gTQnY"
      },
      "execution_count": null,
      "outputs": []
    },
    {
      "cell_type": "code",
      "source": [
        "columnNames = []\n",
        "columnNames.append(\"maxpos\")\n",
        "columnNames.append(\"maxneg\")\n",
        "columnNames.append(\"mean\")\n",
        "columnNames.append(\"mean_sub\")\n",
        "testSet = pd.DataFrame(columns=columnNames)\n",
        "\n",
        "for j in range(0, len(test_data)):\n",
        "  texts =[x for x in map(str.strip, test_data['text'][j].split('.')) if x] \n",
        "  maxpos = 0.0\n",
        "  minneg = 2.0\n",
        "  mean = 0.0\n",
        "  mean_sub = 0.0\n",
        "  for i in range(0, len(texts)):\n",
        "    temp = TextBlob(texts[i]).sentiment.polarity\n",
        "    temp1 = TextBlob(texts[i]).sentiment.subjectivity\n",
        "    maxpos = max(temp, maxpos)\n",
        "    minneg = min(temp, minneg)\n",
        "    mean += temp\n",
        "    mean_sub += temp1\n",
        "  if(len(texts)==0):\n",
        "    row = [0,0,0,0]\n",
        "    testSet.loc[len(testSet.index)] = row\n",
        "  else:\n",
        "    mean = mean/len(texts)\n",
        "    mean_sub = mean_sub/len(texts)\n",
        "    row = [maxpos, minneg, mean, mean_sub]\n",
        "    testSet.loc[len(testSet.index)] = row"
      ],
      "metadata": {
        "id": "GT9ZCM8UTR5E"
      },
      "execution_count": null,
      "outputs": []
    },
    {
      "cell_type": "code",
      "source": [
        "testSet.to_csv('textblobfeatures_test.csv', encoding='utf-8', index=False)"
      ],
      "metadata": {
        "id": "NzEZi8eJTThd"
      },
      "execution_count": null,
      "outputs": []
    },
    {
      "cell_type": "code",
      "source": [
        "X_test = transformed_df_test.values"
      ],
      "metadata": {
        "id": "m19dycIeTUlk"
      },
      "execution_count": null,
      "outputs": []
    },
    {
      "cell_type": "code",
      "source": [
        "from sklearn.model_selection import StratifiedKFold\n",
        "skf = StratifiedKFold(n_splits=5)\n",
        "\n",
        "X = trainSet.values\n",
        "y = train_data[\"label\"].values \n",
        "\n",
        "X_train=[]\n",
        "X_val=[]\n",
        "y_train=[]\n",
        "y_val=[]\n",
        "\n",
        "for train_index, test_index in skf.split(X, y):\n",
        "  X_train.append(X[train_index])\n",
        "  X_val.append(X[test_index]) \n",
        "  y_train.append(y[train_index])\n",
        "  y_val.append(y[test_index])"
      ],
      "metadata": {
        "id": "AR8IDdrRTV2M"
      },
      "execution_count": null,
      "outputs": []
    },
    {
      "cell_type": "code",
      "source": [
        "from sklearn.linear_model import LogisticRegression\n",
        "from sklearn.metrics import precision_score, recall_score, f1_score, accuracy_score"
      ],
      "metadata": {
        "id": "xMkDtkmJTXMS"
      },
      "execution_count": null,
      "outputs": []
    },
    {
      "cell_type": "code",
      "source": [
        "model_lr_1 = LogisticRegression(random_state=0)  \n",
        "model_lr_1.fit(X_train[0], y_train[0].astype('int'))"
      ],
      "metadata": {
        "colab": {
          "base_uri": "https://localhost:8080/"
        },
        "id": "MOz6CuvrZkZ8",
        "outputId": "2d74ecd3-46d9-43be-e2ae-5681bc69f909"
      },
      "execution_count": null,
      "outputs": [
        {
          "output_type": "execute_result",
          "data": {
            "text/plain": [
              "LogisticRegression(random_state=0)"
            ]
          },
          "metadata": {},
          "execution_count": 17
        }
      ]
    },
    {
      "cell_type": "code",
      "source": [
        "y_pred_1 = model_lr_1.predict(X_val[0])\n",
        "print(\"Accuracy: \", accuracy_score(y_val[0].astype('int'), y_pred_1))\n",
        "print(\"Precision: \", precision_score(y_val[0].astype('int'), y_pred_1))\n",
        "print(\"Recall: \", recall_score(y_val[0].astype('int'), y_pred_1))\n",
        "print(\"f1-score: \", f1_score(y_val[0].astype('int'), y_pred_1))"
      ],
      "metadata": {
        "colab": {
          "base_uri": "https://localhost:8080/"
        },
        "id": "SAp2z2BVZwNl",
        "outputId": "842cd090-26f0-4667-be71-ddead6587b10"
      },
      "execution_count": null,
      "outputs": [
        {
          "output_type": "stream",
          "name": "stdout",
          "text": [
            "Accuracy:  0.6310732912434807\n",
            "Precision:  0.6016187050359713\n",
            "Recall:  0.4261146496815287\n",
            "f1-score:  0.4988814317673379\n"
          ]
        }
      ]
    },
    {
      "cell_type": "markdown",
      "source": [
        "2. vader"
      ],
      "metadata": {
        "id": "GF2vlROCTudc"
      }
    },
    {
      "cell_type": "code",
      "source": [
        "pip install vaderSentiment"
      ],
      "metadata": {
        "id": "FcKlyx5-TvrF"
      },
      "execution_count": null,
      "outputs": []
    },
    {
      "cell_type": "code",
      "source": [
        "from vaderSentiment.vaderSentiment import SentimentIntensityAnalyzer"
      ],
      "metadata": {
        "id": "8tWwOrkLTwSk"
      },
      "execution_count": null,
      "outputs": []
    },
    {
      "cell_type": "code",
      "source": [
        "columnNames = []\n",
        "columnNames.append(\"pos\")\n",
        "columnNames.append(\"neg\")\n",
        "columnNames.append(\"neu\")\n",
        "columnNames.append(\"compound\")\n",
        "trainSet = pd.DataFrame(columns=columnNames)\n",
        "analyzer = SentimentIntensityAnalyzer()\n",
        "\n",
        "for j in range(0, len(train_data)):\n",
        "  texts =[x for x in map(str.strip, train_data['text'][j].split('.')) if x] \n",
        "  meann = 0\n",
        "  meanp = 0\n",
        "  meanneg = 0\n",
        "  meancomp = 0\n",
        "  for i in range(0, len(texts)):\n",
        "    temp = analyzer.polarity_scores(texts[i])\n",
        "    meann += temp['neu']\n",
        "    meanp += temp['pos']\n",
        "    meanneg += temp['neg']\n",
        "    meancomp += temp['compound']\n",
        "  meann = meann/len(texts)\n",
        "  meanneg = meanneg/len(texts)\n",
        "  meanp = meanp/len(texts)\n",
        "  meancomp = meanp/len(texts)\n",
        "  row = [meanp, meanneg, meann, meancomp]\n",
        "  trainSet.loc[len(trainSet.index)] = row"
      ],
      "metadata": {
        "id": "7AiFJYcrTxiV"
      },
      "execution_count": null,
      "outputs": []
    },
    {
      "cell_type": "code",
      "source": [
        "from sklearn.model_selection import StratifiedKFold\n",
        "skf = StratifiedKFold(n_splits=5)\n",
        "\n",
        "X = trainSet.values\n",
        "y = train_data[\"label\"].values \n",
        "\n",
        "X_train=[]\n",
        "X_val=[]\n",
        "y_train=[]\n",
        "y_val=[]\n",
        "\n",
        "for train_index, test_index in skf.split(X, y):\n",
        "  X_train.append(X[train_index])\n",
        "  X_val.append(X[test_index]) \n",
        "  y_train.append(y[train_index])\n",
        "  y_val.append(y[test_index])"
      ],
      "metadata": {
        "id": "-iP-sVmWTypy"
      },
      "execution_count": null,
      "outputs": []
    },
    {
      "cell_type": "code",
      "source": [
        "model_lr_1 = LogisticRegression(random_state=0)  \n",
        "model_lr_1.fit(X_train[0], y_train[0].astype('int'))"
      ],
      "metadata": {
        "colab": {
          "base_uri": "https://localhost:8080/"
        },
        "id": "Sdg3ax-Na7u_",
        "outputId": "d95931f0-677c-4ef7-b4fc-a7837702e991"
      },
      "execution_count": null,
      "outputs": [
        {
          "output_type": "execute_result",
          "data": {
            "text/plain": [
              "LogisticRegression(random_state=0)"
            ]
          },
          "metadata": {},
          "execution_count": 27
        }
      ]
    },
    {
      "cell_type": "code",
      "source": [
        "y_pred_1 = model_lr_1.predict(X_val[0])\n",
        "print(\"Accuracy: \", accuracy_score(y_val[0].astype('int'), y_pred_1))\n",
        "print(\"Precision: \", precision_score(y_val[0].astype('int'), y_pred_1))\n",
        "print(\"Recall: \", recall_score(y_val[0].astype('int'), y_pred_1))\n",
        "print(\"f1-score: \", f1_score(y_val[0].astype('int'), y_pred_1))"
      ],
      "metadata": {
        "colab": {
          "base_uri": "https://localhost:8080/"
        },
        "id": "FvYSdsdea_i-",
        "outputId": "d3a8f485-f687-497d-9e0d-40b13e34b89e"
      },
      "execution_count": null,
      "outputs": [
        {
          "output_type": "stream",
          "name": "stdout",
          "text": [
            "Accuracy:  0.618446335437826\n",
            "Precision:  0.689873417721519\n",
            "Recall:  0.20828025477707007\n",
            "f1-score:  0.3199608610567515\n"
          ]
        }
      ]
    },
    {
      "cell_type": "markdown",
      "source": [
        "Textblob features concat with TFIDF features"
      ],
      "metadata": {
        "id": "jIKjE3_ZaQhZ"
      }
    },
    {
      "cell_type": "code",
      "source": [
        "from textblob import TextBlob"
      ],
      "metadata": {
        "id": "yU_YQ0oAWBQ-"
      },
      "execution_count": null,
      "outputs": []
    },
    {
      "cell_type": "code",
      "source": [
        "X_test1.reset_index(inplace = True)\n",
        "X_train1.reset_index(inplace=True)"
      ],
      "metadata": {
        "id": "f6dpijzMpp8S"
      },
      "execution_count": null,
      "outputs": []
    },
    {
      "cell_type": "code",
      "source": [
        "columnNames = []\n",
        "columnNames.append(\"maxpos\")\n",
        "columnNames.append(\"maxneg\")\n",
        "columnNames.append(\"mean\")\n",
        "columnNames.append(\"mean_sub\")\n",
        "trainSet = pd.DataFrame(columns=columnNames)\n",
        "\n",
        "for j in X_train1.index:\n",
        "  texts =[x for x in map(str.strip, train_data['text'][j].split('.')) if x] \n",
        "  maxpos = 0.0\n",
        "  minneg = 2.0\n",
        "  mean = 0.0\n",
        "  mean_sub = 0.0\n",
        "  for i in range(0, len(texts)):\n",
        "    temp = TextBlob(texts[i]).sentiment.polarity\n",
        "    temp1 = TextBlob(texts[i]).sentiment.subjectivity\n",
        "    maxpos = max(temp, maxpos)\n",
        "    minneg = min(temp, minneg)\n",
        "    mean += temp\n",
        "    mean_sub += temp1\n",
        "  if(len(texts)==0):\n",
        "    row = [0,0,0,0]\n",
        "    trainSet.loc[len(trainSet.index)] = row\n",
        "  else:\n",
        "    mean = mean/len(texts)\n",
        "    mean_sub = mean_sub/len(texts)\n",
        "    row = [maxpos, minneg, mean, mean_sub]\n",
        "    trainSet.loc[len(trainSet.index)] = row"
      ],
      "metadata": {
        "id": "AmGYctZEqBX7"
      },
      "execution_count": null,
      "outputs": []
    },
    {
      "cell_type": "code",
      "source": [
        "columnNames = []\n",
        "columnNames.append(\"maxpos\")\n",
        "columnNames.append(\"maxneg\")\n",
        "columnNames.append(\"mean\")\n",
        "columnNames.append(\"mean_sub\")\n",
        "testSet = pd.DataFrame(columns=columnNames)\n",
        "\n",
        "for j in X_test1.index:\n",
        "  texts =[x for x in map(str.strip, train_data['text'][j].split('.')) if x] \n",
        "  maxpos = 0.0\n",
        "  minneg = 2.0\n",
        "  mean = 0.0\n",
        "  mean_sub = 0.0\n",
        "  for i in range(0, len(texts)):\n",
        "    temp = TextBlob(texts[i]).sentiment.polarity\n",
        "    temp1 = TextBlob(texts[i]).sentiment.subjectivity\n",
        "    maxpos = max(temp, maxpos)\n",
        "    minneg = min(temp, minneg)\n",
        "    mean += temp\n",
        "    mean_sub += temp1\n",
        "  if(len(texts)==0):\n",
        "    row = [0,0,0,0]\n",
        "    testSet.loc[len(testSet.index)] = row\n",
        "  else:\n",
        "    mean = mean/len(texts)\n",
        "    mean_sub = mean_sub/len(texts)\n",
        "    row = [maxpos, minneg, mean, mean_sub]\n",
        "    testSet.loc[len(testSet.index)] = row"
      ],
      "metadata": {
        "id": "Q-7TV7ng7Hz3"
      },
      "execution_count": null,
      "outputs": []
    },
    {
      "cell_type": "code",
      "source": [
        "testSet.to_csv('tbf_test.csv', encoding='utf-8', index=False)"
      ],
      "metadata": {
        "id": "BFfSQYchgkIM"
      },
      "execution_count": null,
      "outputs": []
    },
    {
      "cell_type": "code",
      "source": [
        "trainSet.to_csv('tfb.csv', encoding='utf-8', index=False)"
      ],
      "metadata": {
        "id": "gd3efRterDv7"
      },
      "execution_count": null,
      "outputs": []
    },
    {
      "cell_type": "code",
      "source": [
        "! gdown --id 1aJv4pS4gXM86-9ZIB4Nc4xN0msjuqlBi"
      ],
      "metadata": {
        "id": "DrJY92p0p2iO"
      },
      "execution_count": null,
      "outputs": []
    },
    {
      "cell_type": "code",
      "source": [
        "trainSet = pd.read_csv(\"textblobfeatures.csv\")\n",
        "#testSet = pd.read_csv(\"textblobfeatures_test.csv\")"
      ],
      "metadata": {
        "id": "6IZN8SvJ2d98"
      },
      "execution_count": null,
      "outputs": []
    },
    {
      "cell_type": "code",
      "source": [
        "X_train1 = X_train1.drop(columns=[\"index\"])"
      ],
      "metadata": {
        "id": "ubzJxy-yiM-_"
      },
      "execution_count": null,
      "outputs": []
    },
    {
      "cell_type": "code",
      "source": [
        "#transformed_df with trainset\n",
        "temp = trainSet['mean']\n",
        "X_train1.insert(0, \"mean\", temp, True)\n",
        "\n",
        "temp = trainSet['maxpos']\n",
        "X_train1.insert(0, \"maxpos\", temp, True)\n",
        "\n",
        "temp = trainSet['maxneg']\n",
        "X_train1.insert(0, \"maxneg\", temp, True)\n",
        "\n",
        "temp = trainSet['mean_sub']\n",
        "X_train1.insert(0, \"mean_sub\", temp, True)"
      ],
      "metadata": {
        "id": "nbU7upnv2puH"
      },
      "execution_count": null,
      "outputs": []
    },
    {
      "cell_type": "code",
      "source": [
        "#transformed_df with testSet\n",
        "temp = testSet['mean']\n",
        "X_test1.insert(0, \"mean\", temp, True)\n",
        "\n",
        "temp = testSet['maxpos']\n",
        "X_test1.insert(0, \"maxpos\", temp, True)\n",
        "\n",
        "temp = testSet['maxneg']\n",
        "X_test1.insert(0, \"maxneg\", temp, True)\n",
        "\n",
        "temp = testSet['mean_sub']\n",
        "X_test1.insert(0, \"mean_sub\", temp, True)"
      ],
      "metadata": {
        "id": "TQGXE68e8b7T"
      },
      "execution_count": null,
      "outputs": []
    },
    {
      "cell_type": "code",
      "source": [
        "X = X_train1.values\n",
        "X_test = X_test1.values"
      ],
      "metadata": {
        "id": "M3bF_-qy9U3s"
      },
      "execution_count": null,
      "outputs": []
    },
    {
      "cell_type": "code",
      "source": [
        "y_train1.reset_index(inplace = True)"
      ],
      "metadata": {
        "id": "G8g6yRD-sl9o"
      },
      "execution_count": null,
      "outputs": []
    },
    {
      "cell_type": "code",
      "source": [
        "y_test1.reset_index(inplace = True)"
      ],
      "metadata": {
        "id": "34BWnTlNsulS"
      },
      "execution_count": null,
      "outputs": []
    },
    {
      "cell_type": "code",
      "source": [
        "from sklearn.model_selection import StratifiedKFold\n",
        "skf = StratifiedKFold(n_splits=5)\n",
        "\n",
        "X = X_train1.values\n",
        "y = y_train1[\"label\"].values \n",
        "\n",
        "X_train=[]\n",
        "X_val=[]\n",
        "y_train=[]\n",
        "y_val=[]\n",
        "\n",
        "for train_index, test_index in skf.split(X, y):\n",
        "  X_train.append(X[train_index])\n",
        "  X_val.append(X[test_index]) \n",
        "  y_train.append(y[train_index])\n",
        "  y_val.append(y[test_index])"
      ],
      "metadata": {
        "id": "5EOzTb8kdwNK"
      },
      "execution_count": null,
      "outputs": []
    },
    {
      "cell_type": "code",
      "source": [
        "from sklearn.linear_model import LogisticRegression"
      ],
      "metadata": {
        "id": "T8qayWQ59AW2"
      },
      "execution_count": null,
      "outputs": []
    },
    {
      "cell_type": "code",
      "source": [
        "model_lr_1 = LogisticRegression(random_state=0, C=838, fit_intercept=True, max_iter=760, penalty='l2', tol=0.0003)  \n",
        "model_lr_1.fit(X_train[2], y_train[2].astype('int'))"
      ],
      "metadata": {
        "colab": {
          "base_uri": "https://localhost:8080/"
        },
        "id": "_44tGgO1eSKE",
        "outputId": "3d72a478-03bb-4a69-dfe0-fdaf1f4dedf3"
      },
      "execution_count": null,
      "outputs": [
        {
          "output_type": "execute_result",
          "data": {
            "text/plain": [
              "LogisticRegression(C=838, max_iter=760, random_state=0, tol=0.0003)"
            ]
          },
          "metadata": {},
          "execution_count": 226
        }
      ]
    },
    {
      "cell_type": "code",
      "source": [
        "model_lr_1 = SGDClassifier(alpha=1e-05, early_stopping=False, eta0=5.316717363865899, fit_intercept=True, l1_ratio=1.0, learning_rate='adaptive', loss='log', max_iter=1000, n_iter_no_change=15, penalty='elasticnet', power_t=0.0, tol=0.008332759259337576, validation_fraction=0.3, warm_start=True, random_state=0)  \n",
        "model_lr_1.fit(X_train[2], y_train[2].astype('int'))"
      ],
      "metadata": {
        "colab": {
          "base_uri": "https://localhost:8080/"
        },
        "id": "hrv7Ak0ZPC7z",
        "outputId": "fe0708cb-eeb0-49dc-cca4-f907df191377"
      },
      "execution_count": null,
      "outputs": [
        {
          "output_type": "execute_result",
          "data": {
            "text/plain": [
              "SGDClassifier(alpha=1e-05, eta0=5.316717363865899, l1_ratio=1.0,\n",
              "              learning_rate='adaptive', loss='log', n_iter_no_change=15,\n",
              "              penalty='elasticnet', power_t=0.0, random_state=0,\n",
              "              tol=0.008332759259337576, validation_fraction=0.3,\n",
              "              warm_start=True)"
            ]
          },
          "metadata": {},
          "execution_count": 223
        }
      ]
    },
    {
      "cell_type": "code",
      "source": [
        "model_lr_1 = PassiveAggressiveClassifier(random_state=0, C=654.8, early_stopping=True, fit_intercept=True, max_iter=8358, n_iter_no_change=13, tol=0.0085, validation_fraction=0.2) \n",
        "model_lr_1.fit(X_train[4], y_train[4].astype('int'))"
      ],
      "metadata": {
        "colab": {
          "base_uri": "https://localhost:8080/"
        },
        "id": "sJ_njHuRumpB",
        "outputId": "65e5dbc3-adbb-4c1e-f170-8a7b01840ada"
      },
      "execution_count": null,
      "outputs": [
        {
          "output_type": "execute_result",
          "data": {
            "text/plain": [
              "PassiveAggressiveClassifier(C=654.8, early_stopping=True, max_iter=8358,\n",
              "                            n_iter_no_change=13, random_state=0, tol=0.0085,\n",
              "                            validation_fraction=0.2)"
            ]
          },
          "metadata": {},
          "execution_count": 238
        }
      ]
    },
    {
      "cell_type": "code",
      "source": [
        "y_pred_1 = model_lr_1.predict(X_val[4])\n",
        "print(\"Accuracy: \", accuracy_score(y_val[4].astype('int'), y_pred_1))\n",
        "print(\"Precision: \", precision_score(y_val[4].astype('int'), y_pred_1))\n",
        "print(\"Recall: \", recall_score(y_val[4].astype('int'), y_pred_1))\n",
        "print(\"f1-score: \", f1_score(y_val[4].astype('int'), y_pred_1))"
      ],
      "metadata": {
        "colab": {
          "base_uri": "https://localhost:8080/"
        },
        "id": "CgxsVkGVdwPl",
        "outputId": "a647fd9f-4cc7-48cc-ea96-647c7e9a42df"
      },
      "execution_count": null,
      "outputs": [
        {
          "output_type": "stream",
          "name": "stdout",
          "text": [
            "Accuracy:  0.9406110538963268\n",
            "Precision:  0.9523809523809523\n",
            "Recall:  0.9076433121019108\n",
            "f1-score:  0.9294741133306156\n"
          ]
        }
      ]
    },
    {
      "cell_type": "code",
      "source": [
        "y_pred_1 = model_lr_1.predict(X_test1.values)\n",
        "print(\"Accuracy: \", accuracy_score(y_test1[\"label\"].values.astype('int'), y_pred_1))\n",
        "print(\"Precision: \", precision_score(y_test1[\"label\"].values.astype('int'), y_pred_1))\n",
        "print(\"Recall: \", recall_score(y_test1[\"label\"].values.astype('int'), y_pred_1))\n",
        "print(\"f1-score: \", f1_score(y_test1[\"label\"].values.astype('int'), y_pred_1))"
      ],
      "metadata": {
        "colab": {
          "base_uri": "https://localhost:8080/"
        },
        "id": "TUvPgnbAijBZ",
        "outputId": "418a0816-798b-49b8-f648-444d57b95685"
      },
      "execution_count": null,
      "outputs": [
        {
          "output_type": "stream",
          "name": "stdout",
          "text": [
            "Accuracy:  0.9398847104035136\n",
            "Precision:  0.956140350877193\n",
            "Recall:  0.901973265436028\n",
            "f1-score:  0.9282672780871274\n"
          ]
        }
      ]
    },
    {
      "cell_type": "code",
      "source": [
        "y_pred = model_lr_1.predict(X_test)\n",
        "sub = pd.DataFrame({'id':test_data['id'], 'label':y_pred})\n",
        "sub.to_csv('submit_sgdsa.csv')"
      ],
      "metadata": {
        "id": "GYEooL5W4AwS"
      },
      "execution_count": null,
      "outputs": []
    },
    {
      "cell_type": "markdown",
      "source": [
        "HYPERPARAMETER TUNING USING BAYES + PCA"
      ],
      "metadata": {
        "id": "Vwu7KetFplUW"
      }
    },
    {
      "cell_type": "code",
      "source": [
        "!pip install scikit-optimize"
      ],
      "metadata": {
        "id": "XEMT5BMcAyAt"
      },
      "execution_count": null,
      "outputs": []
    },
    {
      "cell_type": "code",
      "source": [
        "from skopt import BayesSearchCV\n",
        "from sklearn.decomposition import PCA\n",
        "from skopt.space import Real, Categorical, Integer\n",
        "from sklearn.linear_model import LogisticRegression"
      ],
      "metadata": {
        "id": "7PAyEdYG_wvC"
      },
      "execution_count": null,
      "outputs": []
    },
    {
      "cell_type": "code",
      "source": [
        "pca = PCA(n_components=10)\n",
        "pca_X = pca.fit_transform(X)"
      ],
      "metadata": {
        "id": "boP6X0fFp5A0"
      },
      "execution_count": null,
      "outputs": []
    },
    {
      "cell_type": "markdown",
      "source": [
        "(1) LR [LBFGS]"
      ],
      "metadata": {
        "id": "0Uukrz1FUC-V"
      }
    },
    {
      "cell_type": "code",
      "source": [
        "# parameters - lbfgs [l2, none]\n",
        "\"\"\"params = dict()\n",
        "params['max_iter'] = (100, 1000)\n",
        "#params['tol'] = (1e-5, 1e-3, 'log-uniform')\n",
        "params['C'] = (1e-1, 10.0, 'log-uniform')\n",
        "params['fit_intercept'] = [True, False]\n",
        "params['penalty'] = ['l2', 'none']\"\"\"\n",
        "\n",
        "#explore - warm_start, l1_ratio\n",
        "params = {\"C\": Real(1e-5, 1000), \n",
        "        \"penalty\": Categorical(['l2', 'none']),\n",
        "        \"fit_intercept\": Categorical([True, False]), \n",
        "        \"max_iter\": Integer(100, 1000),\n",
        "        \"tol\": Real(1e-6, 1e-3),\n",
        "        \"warm_start\": Categorical([True, False]), \n",
        "    }"
      ],
      "metadata": {
        "id": "At2q9KAk_zQt"
      },
      "execution_count": null,
      "outputs": []
    },
    {
      "cell_type": "code",
      "source": [
        "search = BayesSearchCV(estimator=LogisticRegression(), search_spaces=params, random_state=0, cv=5)"
      ],
      "metadata": {
        "id": "P8UtUO_5AVwh"
      },
      "execution_count": null,
      "outputs": []
    },
    {
      "cell_type": "code",
      "source": [
        "search.fit(pca_X, y)"
      ],
      "metadata": {
        "id": "MylruVYHAjoa"
      },
      "execution_count": null,
      "outputs": []
    },
    {
      "cell_type": "code",
      "source": [
        "print(search.best_score_)\n",
        "print(search.best_params_)"
      ],
      "metadata": {
        "colab": {
          "base_uri": "https://localhost:8080/"
        },
        "outputId": "05020408-f8f4-4adf-d3ce-726b2556baca",
        "id": "00VzL3YBUPe2"
      },
      "execution_count": null,
      "outputs": [
        {
          "output_type": "stream",
          "name": "stdout",
          "text": [
            "0.9227389517151516\n",
            "OrderedDict([('C', 530.9641696425057), ('fit_intercept', True), ('max_iter', 660), ('penalty', 'none'), ('tol', 0.0008588850878234841), ('warm_start', True)])\n"
          ]
        }
      ]
    },
    {
      "cell_type": "code",
      "source": [
        "# parameters - saga [l1, elasticnet, l2, none]\n",
        "\"\"\"params = dict()\n",
        "params['max_iter'] = (100, 1000)\n",
        "#params['tol'] = (1e-5, 1e-3, 'log-uniform')\n",
        "params['C'] = (1e-1, 10.0, 'log-uniform')\n",
        "params['fit_intercept'] = [True, False]\n",
        "params['penalty'] = ['l2', 'none']\"\"\"\n",
        "\n",
        "#explore - warm_start, l1_ratio\n",
        "params = {\"C\": Real(1e-5, 1000), \n",
        "        \"solver\": Categorical(['saga']),\n",
        "        \"penalty\": Categorical(['l1', 'elasticnet', 'l2', 'none']),\n",
        "        \"l1_ratio\": Real(0, 1),\n",
        "        \"fit_intercept\": Categorical([True, False]), \n",
        "        \"max_iter\": Integer(100, 1000),\n",
        "        \"tol\": Real(1e-6, 1e-3),\n",
        "        \"warm_start\": Categorical([True, False]), \n",
        "    }"
      ],
      "metadata": {
        "id": "xBk2nVgIjEhY"
      },
      "execution_count": null,
      "outputs": []
    },
    {
      "cell_type": "code",
      "source": [
        "search = BayesSearchCV(estimator=LogisticRegression(), search_spaces=params, random_state=0, cv=5)"
      ],
      "metadata": {
        "id": "4fyW9w0ijHF_"
      },
      "execution_count": null,
      "outputs": []
    },
    {
      "cell_type": "code",
      "source": [
        "search.fit(pca_X, y)"
      ],
      "metadata": {
        "id": "yEfQEbcejI9y"
      },
      "execution_count": null,
      "outputs": []
    },
    {
      "cell_type": "code",
      "source": [
        "print(search.best_score_)\n",
        "print(search.best_params_)"
      ],
      "metadata": {
        "colab": {
          "base_uri": "https://localhost:8080/"
        },
        "outputId": "4dd2691d-d507-49e7-cab0-466017725a00",
        "id": "Wti4Xxj1UUCh"
      },
      "execution_count": null,
      "outputs": [
        {
          "output_type": "stream",
          "name": "stdout",
          "text": [
            "0.8575588608998352\n",
            "OrderedDict([('C', 974.6894401766791), ('fit_intercept', True), ('l1_ratio', 0.06246065558865467), ('max_iter', 134), ('penalty', 'l1'), ('solver', 'saga'), ('tol', 0.0008297823670302828), ('warm_start', False)])\n"
          ]
        }
      ]
    },
    {
      "cell_type": "markdown",
      "source": [
        "(2) LR[SGD]"
      ],
      "metadata": {
        "id": "AgvD-99WUVlM"
      }
    },
    {
      "cell_type": "code",
      "source": [
        "from sklearn.linear_model import SGDClassifier"
      ],
      "metadata": {
        "id": "hJ2OSuhnk8Lj"
      },
      "execution_count": null,
      "outputs": []
    },
    {
      "cell_type": "code",
      "source": [
        "params = {\n",
        "        \"penalty\": Categorical(['l1', 'l2', 'elasticnet']),\n",
        "        \"alpha\": Real(1e-5, 1),\n",
        "        \"l1_ratio\": Real(0, 1),\n",
        "        \"fit_intercept\": Categorical([True, False]), \n",
        "        \"max_iter\": Integer(1000, 9000),\n",
        "        \"tol\": Real(1e-4, 1e-2),\n",
        "        \"warm_start\": Categorical([True, False]), \n",
        "        \"loss\": Categorical(['log']),\n",
        "        \"learning_rate\": Categorical(['constant', 'optimal', 'invscaling', 'adaptive']), \n",
        "        \"power_t\": Real(0,1),\n",
        "        \"early_stopping\": Categorical([True, False]),\n",
        "        \"validation_fraction\": Categorical([0.3, 0.1, 0.2]),\n",
        "        \"n_iter_no_change\": Integer(3, 15),\n",
        "        \"eta0\": Real(1e-4,10),\n",
        "    }"
      ],
      "metadata": {
        "id": "DM5U9m3uk9HE"
      },
      "execution_count": null,
      "outputs": []
    },
    {
      "cell_type": "code",
      "source": [
        "search = BayesSearchCV(estimator=SGDClassifier(), search_spaces=params, random_state=0, cv=5)"
      ],
      "metadata": {
        "id": "8n6xEgnrlCM2"
      },
      "execution_count": null,
      "outputs": []
    },
    {
      "cell_type": "code",
      "source": [
        "search.fit(pca_X, y)"
      ],
      "metadata": {
        "id": "vgZIzb4NlHD7"
      },
      "execution_count": null,
      "outputs": []
    },
    {
      "cell_type": "code",
      "source": [
        "print(search.best_score_)\n",
        "print(search.best_params_)"
      ],
      "metadata": {
        "colab": {
          "base_uri": "https://localhost:8080/"
        },
        "outputId": "0cabc133-57dc-4468-a2b7-dcddeaeb26f1",
        "id": "J5YsvCbQUa_x"
      },
      "execution_count": null,
      "outputs": [
        {
          "output_type": "stream",
          "name": "stdout",
          "text": [
            "0.9226840217591364\n",
            "OrderedDict([('alpha', 1e-05), ('early_stopping', False), ('eta0', 5.316717363865899), ('fit_intercept', True), ('l1_ratio', 1.0), ('learning_rate', 'adaptive'), ('loss', 'log'), ('max_iter', 1000), ('n_iter_no_change', 15), ('penalty', 'elasticnet'), ('power_t', 0.0), ('tol', 0.008332759259337576), ('validation_fraction', 0.3), ('warm_start', True)])\n"
          ]
        }
      ]
    },
    {
      "cell_type": "markdown",
      "source": [
        "(3) PAC"
      ],
      "metadata": {
        "id": "EIBvqB-MUchn"
      }
    },
    {
      "cell_type": "code",
      "source": [
        "from sklearn.linear_model import PassiveAggressiveClassifier"
      ],
      "metadata": {
        "id": "EQGWi3yX3Hhh"
      },
      "execution_count": null,
      "outputs": []
    },
    {
      "cell_type": "code",
      "source": [
        "#passive aggressive\n",
        "params = {\"C\": Real(1e-5, 1000), \n",
        "        \"early_stopping\": Categorical([True, False]),\n",
        "        \"validation_fraction\": Categorical([0.3, 0.2]),\n",
        "        \"n_iter_no_change\": Integer(3, 15),\n",
        "        \"fit_intercept\": Categorical([True, False]), \n",
        "        \"tol\": Real(1e-4, 1e-2),\n",
        "        \"max_iter\": Integer(800, 9000),\n",
        "        \"warm_start\": Categorical([True, False]), \n",
        "    }\n",
        "#explore - loss, warm_start"
      ],
      "metadata": {
        "id": "Z8jKEYtGx9qD"
      },
      "execution_count": null,
      "outputs": []
    },
    {
      "cell_type": "code",
      "source": [
        "search = BayesSearchCV(estimator=PassiveAggressiveClassifier(), search_spaces=params, random_state=0, cv=5)"
      ],
      "metadata": {
        "id": "MBciiuoGyAFN"
      },
      "execution_count": null,
      "outputs": []
    },
    {
      "cell_type": "code",
      "source": [
        "search.fit(pca_X, y)"
      ],
      "metadata": {
        "id": "3XpaKValyDok"
      },
      "execution_count": null,
      "outputs": []
    },
    {
      "cell_type": "code",
      "source": [
        "print(search.best_score_)\n",
        "print(search.best_params_)"
      ],
      "metadata": {
        "colab": {
          "base_uri": "https://localhost:8080/"
        },
        "outputId": "dd00fd16-59b2-49e5-ed48-174acafe6b30",
        "id": "sCngfDy_UgGd"
      },
      "execution_count": null,
      "outputs": [
        {
          "output_type": "stream",
          "name": "stdout",
          "text": [
            "0.8459170868190264\n",
            "OrderedDict([('C', 654.8189998748911), ('early_stopping', True), ('fit_intercept', True), ('max_iter', 8358), ('n_iter_no_change', 13), ('tol', 0.008517734372197392), ('validation_fraction', 0.2), ('warm_start', False)])\n"
          ]
        }
      ]
    },
    {
      "cell_type": "markdown",
      "source": [
        "(4) KNN"
      ],
      "metadata": {
        "id": "0c7F3yq-UhSA"
      }
    },
    {
      "cell_type": "code",
      "source": [
        "from sklearn.neighbors import KNeighborsClassifier"
      ],
      "metadata": {
        "id": "OBokE6ST3SVI"
      },
      "execution_count": null,
      "outputs": []
    },
    {
      "cell_type": "code",
      "source": [
        "#knn\n",
        "params = {\"n_neighbors\": Integer(3, 20), \n",
        "        \"weights\": Categorical(['uniform', 'distance']),\n",
        "        \"algorithm\": Categorical(['auto', 'ball_tree', 'kd_tree', 'brute']),\n",
        "        \"leaf_size\": Integer(20,50),\n",
        "        \"p\": Integer(1, 3),\n",
        "    }\n",
        "#explore - leaf_size"
      ],
      "metadata": {
        "id": "geacukyi1ip9"
      },
      "execution_count": null,
      "outputs": []
    },
    {
      "cell_type": "code",
      "source": [
        "search = BayesSearchCV(estimator=KNeighborsClassifier(), search_spaces=params, random_state=0, cv=5)"
      ],
      "metadata": {
        "id": "YZFTsyuR1mdl"
      },
      "execution_count": null,
      "outputs": []
    },
    {
      "cell_type": "code",
      "source": [
        "search.fit(pca_X, y)"
      ],
      "metadata": {
        "id": "oImkiWmX1nxN"
      },
      "execution_count": null,
      "outputs": []
    },
    {
      "cell_type": "code",
      "source": [
        "print(search.best_score_)\n",
        "print(search.best_params_)"
      ],
      "metadata": {
        "colab": {
          "base_uri": "https://localhost:8080/"
        },
        "outputId": "f46ac468-f085-464d-82a0-36cd1342a0e6",
        "id": "5zjIZf-kUkjh"
      },
      "execution_count": null,
      "outputs": [
        {
          "output_type": "stream",
          "name": "stdout",
          "text": [
            "0.8813356028871692\n",
            "OrderedDict([('algorithm', 'auto'), ('leaf_size', 47), ('n_neighbors', 16), ('p', 3), ('weights', 'distance')])\n"
          ]
        }
      ]
    },
    {
      "cell_type": "markdown",
      "source": [
        "(5) XGBoost"
      ],
      "metadata": {
        "id": "E-fBs-KOUl3K"
      }
    },
    {
      "cell_type": "code",
      "source": [
        "#ensemble approaches\n",
        "#1. xgboost"
      ],
      "metadata": {
        "id": "GaHbMJmCa6fH"
      },
      "execution_count": null,
      "outputs": []
    },
    {
      "cell_type": "code",
      "source": [
        "from xgboost import XGBClassifier"
      ],
      "metadata": {
        "id": "3ywhDwE8lORu"
      },
      "execution_count": null,
      "outputs": []
    },
    {
      "cell_type": "code",
      "source": [
        "model = XGBClassifier()\n",
        "model.fit(X_train, y_train)"
      ],
      "metadata": {
        "id": "bB-U5ag2lrZO"
      },
      "execution_count": null,
      "outputs": []
    },
    {
      "cell_type": "code",
      "source": [
        "params = {\n",
        "    \"eta\": Real(0.01, 0.5),\n",
        "    \"gamma\": Real(0, 10),\n",
        "    \"max_depth\": Integer(3,10),\n",
        "    \"min_child_weight\": Integer(1, 10),\n",
        "    \"max_delta_step\": Integer(0, 10),\n",
        "    \"subsample\": Real(0.5, 1),\n",
        "    \"lambda\": Integer(1, 10),\n",
        "    \"alpha\": Integer(0,50),\n",
        "    \"colsample_bytree\": Real(0.5, 1),\n",
        "    \"n_estimators\": Integer(100, 150),\n",
        "}"
      ],
      "metadata": {
        "id": "sCTfCHQdt0Mt"
      },
      "execution_count": null,
      "outputs": []
    },
    {
      "cell_type": "code",
      "source": [
        "search = BayesSearchCV(estimator = XGBClassifier(objective = 'binary:logistic',eval_metric = 'auc',silent=1,tree_method='gpu_hist'), search_spaces=params, cv=5)"
      ],
      "metadata": {
        "id": "QaU09gyAmFDk"
      },
      "execution_count": null,
      "outputs": []
    },
    {
      "cell_type": "code",
      "source": [
        "search.fit(pca_X, y)"
      ],
      "metadata": {
        "id": "1piKANrMmFGj"
      },
      "execution_count": null,
      "outputs": []
    },
    {
      "cell_type": "code",
      "source": [
        "print(search.best_score_)\n",
        "print(search.best_params_)"
      ],
      "metadata": {
        "colab": {
          "base_uri": "https://localhost:8080/"
        },
        "outputId": "fca3c994-d72a-4eb8-922d-b06e09d28ea7",
        "id": "lsfelS13UqQt"
      },
      "execution_count": null,
      "outputs": [
        {
          "output_type": "stream",
          "name": "stdout",
          "text": [
            "0.864477698875006\n",
            "OrderedDict([('alpha', 6), ('colsample_bytree', 0.9945512409752306), ('eta', 0.07971784588995035), ('gamma', 3.891784320438134), ('lambda', 9), ('max_delta_step', 5), ('max_depth', 10), ('min_child_weight', 9), ('n_estimators', 100), ('subsample', 0.8650303842877729)])\n"
          ]
        }
      ]
    },
    {
      "cell_type": "markdown",
      "source": [
        "(6) Random Forest"
      ],
      "metadata": {
        "id": "W2ks9RUVUrJk"
      }
    },
    {
      "cell_type": "code",
      "source": [
        "from sklearn.ensemble import RandomForestClassifier"
      ],
      "metadata": {
        "id": "8e-abvG7yD1I"
      },
      "execution_count": null,
      "outputs": []
    },
    {
      "cell_type": "code",
      "source": [
        "#rf\n",
        "#min_weight_fraction_leaf, min_impurity_decrease\n",
        "params = {\n",
        "    \"n_estimators\": Integer(95, 225),\n",
        "    \"criterion\": Categorical(['entropy']),\n",
        "    #\"max_depth\": Integer(20,100),\n",
        "    \"min_samples_split\": Integer(2, 10),\n",
        "    #\"min_samples_leaf\": Integer(4, 15),\n",
        "    \"max_features\": Categorical(['sqrt', 'log2', None]),\n",
        "    #\"max_leaf_nodes\": Integer(20, 60),\n",
        "    \"warm_start\": Categorical([False, True]),\n",
        "    \"ccp_alpha\": Real(0,1)\n",
        "}"
      ],
      "metadata": {
        "id": "OewP49cSqBNp"
      },
      "execution_count": null,
      "outputs": []
    },
    {
      "cell_type": "code",
      "source": [
        "search = BayesSearchCV(estimator=RandomForestClassifier(), search_spaces=params, random_state=0, cv=5)\n",
        "search.fit(pca_X, y)\n",
        "print(search.best_score_)\n",
        "print(search.best_params_)"
      ],
      "metadata": {
        "colab": {
          "base_uri": "https://localhost:8080/"
        },
        "outputId": "01fe393f-a6e1-49a2-8a74-eb73079f41cd",
        "id": "f9nysebYUy9I"
      },
      "execution_count": null,
      "outputs": [
        {
          "output_type": "stream",
          "name": "stderr",
          "text": [
            "/usr/local/lib/python3.7/dist-packages/skopt/optimizer/optimizer.py:449: UserWarning: The objective has been evaluated at this point before.\n",
            "  warnings.warn(\"The objective has been evaluated \"\n",
            "/usr/local/lib/python3.7/dist-packages/skopt/optimizer/optimizer.py:449: UserWarning: The objective has been evaluated at this point before.\n",
            "  warnings.warn(\"The objective has been evaluated \"\n",
            "/usr/local/lib/python3.7/dist-packages/skopt/optimizer/optimizer.py:449: UserWarning: The objective has been evaluated at this point before.\n",
            "  warnings.warn(\"The objective has been evaluated \"\n",
            "/usr/local/lib/python3.7/dist-packages/skopt/optimizer/optimizer.py:449: UserWarning: The objective has been evaluated at this point before.\n",
            "  warnings.warn(\"The objective has been evaluated \"\n",
            "/usr/local/lib/python3.7/dist-packages/skopt/optimizer/optimizer.py:449: UserWarning: The objective has been evaluated at this point before.\n",
            "  warnings.warn(\"The objective has been evaluated \"\n",
            "/usr/local/lib/python3.7/dist-packages/skopt/optimizer/optimizer.py:449: UserWarning: The objective has been evaluated at this point before.\n",
            "  warnings.warn(\"The objective has been evaluated \"\n",
            "/usr/local/lib/python3.7/dist-packages/skopt/optimizer/optimizer.py:449: UserWarning: The objective has been evaluated at this point before.\n",
            "  warnings.warn(\"The objective has been evaluated \"\n",
            "/usr/local/lib/python3.7/dist-packages/skopt/optimizer/optimizer.py:449: UserWarning: The objective has been evaluated at this point before.\n",
            "  warnings.warn(\"The objective has been evaluated \"\n",
            "/usr/local/lib/python3.7/dist-packages/skopt/optimizer/optimizer.py:449: UserWarning: The objective has been evaluated at this point before.\n",
            "  warnings.warn(\"The objective has been evaluated \"\n",
            "/usr/local/lib/python3.7/dist-packages/skopt/optimizer/optimizer.py:449: UserWarning: The objective has been evaluated at this point before.\n",
            "  warnings.warn(\"The objective has been evaluated \"\n",
            "/usr/local/lib/python3.7/dist-packages/skopt/optimizer/optimizer.py:449: UserWarning: The objective has been evaluated at this point before.\n",
            "  warnings.warn(\"The objective has been evaluated \"\n",
            "/usr/local/lib/python3.7/dist-packages/skopt/optimizer/optimizer.py:449: UserWarning: The objective has been evaluated at this point before.\n",
            "  warnings.warn(\"The objective has been evaluated \"\n",
            "/usr/local/lib/python3.7/dist-packages/skopt/optimizer/optimizer.py:449: UserWarning: The objective has been evaluated at this point before.\n",
            "  warnings.warn(\"The objective has been evaluated \"\n",
            "/usr/local/lib/python3.7/dist-packages/skopt/optimizer/optimizer.py:449: UserWarning: The objective has been evaluated at this point before.\n",
            "  warnings.warn(\"The objective has been evaluated \"\n",
            "/usr/local/lib/python3.7/dist-packages/skopt/optimizer/optimizer.py:449: UserWarning: The objective has been evaluated at this point before.\n",
            "  warnings.warn(\"The objective has been evaluated \"\n",
            "/usr/local/lib/python3.7/dist-packages/skopt/optimizer/optimizer.py:449: UserWarning: The objective has been evaluated at this point before.\n",
            "  warnings.warn(\"The objective has been evaluated \"\n",
            "/usr/local/lib/python3.7/dist-packages/skopt/optimizer/optimizer.py:449: UserWarning: The objective has been evaluated at this point before.\n",
            "  warnings.warn(\"The objective has been evaluated \"\n",
            "/usr/local/lib/python3.7/dist-packages/skopt/optimizer/optimizer.py:449: UserWarning: The objective has been evaluated at this point before.\n",
            "  warnings.warn(\"The objective has been evaluated \"\n",
            "/usr/local/lib/python3.7/dist-packages/skopt/optimizer/optimizer.py:449: UserWarning: The objective has been evaluated at this point before.\n",
            "  warnings.warn(\"The objective has been evaluated \"\n",
            "/usr/local/lib/python3.7/dist-packages/skopt/optimizer/optimizer.py:449: UserWarning: The objective has been evaluated at this point before.\n",
            "  warnings.warn(\"The objective has been evaluated \"\n",
            "/usr/local/lib/python3.7/dist-packages/skopt/optimizer/optimizer.py:449: UserWarning: The objective has been evaluated at this point before.\n",
            "  warnings.warn(\"The objective has been evaluated \"\n"
          ]
        },
        {
          "output_type": "stream",
          "name": "stdout",
          "text": [
            "0.8924277307039311\n",
            "OrderedDict([('ccp_alpha', 0.0), ('criterion', 'entropy'), ('max_features', 'sqrt'), ('min_samples_split', 2), ('n_estimators', 174), ('warm_start', False)])\n"
          ]
        }
      ]
    },
    {
      "cell_type": "code",
      "source": [
        "#EXTRA"
      ],
      "metadata": {
        "id": "L08n7jvAx6T9"
      },
      "execution_count": null,
      "outputs": []
    },
    {
      "cell_type": "code",
      "source": [
        "from sklearn.ensemble import GradientBoostingClassifier"
      ],
      "metadata": {
        "id": "kDbnZJHDbL_H"
      },
      "execution_count": null,
      "outputs": []
    },
    {
      "cell_type": "code",
      "source": [
        "#min_weight_fraction_leaf, min_impurity_decrease\n",
        "params = {\"max_features\": Categorical(['auto','log2',None]),\n",
        "          \"learning_rate\": Real(1e-2, 0.5), \n",
        "          \"n_estimators\": Integer(90,200),\n",
        "          \"subsample\": Categorical([0.1, 0.3, 0.5, 0.7, 0.9, 1]),\n",
        "          \"min_samples_split\": Integer(2,5),\n",
        "          \"min_samples_leaf\": Integer(1,5),\n",
        "          \"max_depth\": Integer(1, 10),\n",
        "          \"warm_start\": Categorical([False, True]),\n",
        "          \"validation_fraction\": Categorical([0.1, 0.2, 0.3, 0.4]),\n",
        "          \"n_iter_no_change\": Integer(1, 10),\n",
        "          \"tol\": Real(1e-5, 1e-3), \n",
        "          \"ccp_alpha\": Real(0, 6)\n",
        "    }"
      ],
      "metadata": {
        "id": "RdhyIIlaa_Sa"
      },
      "execution_count": null,
      "outputs": []
    },
    {
      "cell_type": "code",
      "source": [
        "search = BayesSearchCV(estimator=GradientBoostingClassifier(), search_spaces=params, random_state=0, cv=5)"
      ],
      "metadata": {
        "id": "H7Tx8fhEbBMj"
      },
      "execution_count": null,
      "outputs": []
    },
    {
      "cell_type": "code",
      "source": [
        "search.fit(pca_X, y)"
      ],
      "metadata": {
        "id": "zZosa0tQbDN4"
      },
      "execution_count": null,
      "outputs": []
    },
    {
      "cell_type": "code",
      "source": [
        "print(search.best_score_)\n",
        "print(search.best_params_)"
      ],
      "metadata": {
        "colab": {
          "base_uri": "https://localhost:8080/"
        },
        "outputId": "5fab6a70-060e-4ecc-dd4d-df20ad60e53d",
        "id": "OTmzubPYU2W9"
      },
      "execution_count": null,
      "outputs": [
        {
          "output_type": "stream",
          "name": "stdout",
          "text": [
            "0.8564602467054462\n",
            "OrderedDict([('ccp_alpha', 0.0), ('learning_rate', 0.30435122857323993), ('max_depth', 2), ('max_features', 'log2'), ('min_samples_leaf', 1), ('min_samples_split', 4), ('n_estimators', 128), ('n_iter_no_change', 9), ('subsample', 1.0), ('tol', 0.0003323600099123318), ('validation_fraction', 0.4), ('warm_start', True)])\n"
          ]
        }
      ]
    },
    {
      "cell_type": "markdown",
      "source": [
        "MODELS"
      ],
      "metadata": {
        "id": "mmYf-b3QQP6r"
      }
    },
    {
      "cell_type": "code",
      "source": [
        "##ML models: Logistic Regression, Passive-Aggressive, KNN\n",
        "from sklearn.metrics import confusion_matrix\n",
        "from sklearn.metrics import roc_curve"
      ],
      "metadata": {
        "id": "VmRCYdIUAq5I"
      },
      "execution_count": null,
      "outputs": []
    },
    {
      "cell_type": "markdown",
      "source": [
        "Model 1 : Logistic Regression"
      ],
      "metadata": {
        "id": "uLX6z6mwoGNq"
      }
    },
    {
      "cell_type": "markdown",
      "source": [
        "Model training"
      ],
      "metadata": {
        "id": "Q63P_BalpGxF"
      }
    },
    {
      "cell_type": "code",
      "source": [
        "from sklearn.linear_model import LogisticRegression"
      ],
      "metadata": {
        "id": "UBdozLvPoFs6"
      },
      "execution_count": null,
      "outputs": []
    },
    {
      "cell_type": "code",
      "source": [
        "#('C', 838.1663841715371), ('fit_intercept', True), ('max_iter', 760), ('penalty', 'l2'), ('tol', 0.00033408696968072204), ('warm_start', False)"
      ],
      "metadata": {
        "id": "AuNBUE8q7Kjk"
      },
      "execution_count": null,
      "outputs": []
    },
    {
      "cell_type": "code",
      "source": [
        "model_lr_1 = LogisticRegression(random_state=0, C=838, fit_intercept=True, max_iter=760, penalty='l2', tol=0.0003)    \n",
        "model_lr_2 = LogisticRegression(random_state=0, C=838, fit_intercept=True, max_iter=760, penalty='l2', tol=0.0003)\n",
        "model_lr_3 = LogisticRegression(random_state=0, C=838, fit_intercept=True, max_iter=760, penalty='l2', tol=0.0003)\n",
        "model_lr_4 = LogisticRegression(random_state=0, C=838, fit_intercept=True, max_iter=760, penalty='l2', tol=0.0003)\n",
        "model_lr_5 = LogisticRegression(random_state=0, C=838, fit_intercept=True, max_iter=760, penalty='l2', tol=0.0003)"
      ],
      "metadata": {
        "id": "bkkKpky6AvjE"
      },
      "execution_count": null,
      "outputs": []
    },
    {
      "cell_type": "code",
      "source": [
        "model_lr_1.fit(X_train[0], y_train[0].astype('int'))\n",
        "model_lr_2.fit(X_train[1], y_train[1].astype('int'))\n",
        "model_lr_3.fit(X_train[2], y_train[2].astype('int'))\n",
        "model_lr_4.fit(X_train[3], y_train[3].astype('int'))\n",
        "model_lr_5.fit(X_train[4], y_train[4].astype('int'))"
      ],
      "metadata": {
        "id": "3f2DCR0vG_oY",
        "colab": {
          "base_uri": "https://localhost:8080/"
        },
        "outputId": "2d354017-da13-4ce0-d7ab-e9ce31ad2720"
      },
      "execution_count": null,
      "outputs": [
        {
          "output_type": "execute_result",
          "data": {
            "text/plain": [
              "LogisticRegression(C=838, max_iter=760, random_state=0, tol=0.0003)"
            ]
          },
          "metadata": {},
          "execution_count": 79
        }
      ]
    },
    {
      "cell_type": "code",
      "source": [
        "#train accuracy\n",
        "train_accuracy1 = model_lr_1.score(X_train[0], y_train[0].astype('int'))\n",
        "train_accuracy2 = model_lr_2.score(X_train[1], y_train[1].astype('int'))\n",
        "train_accuracy3 = model_lr_3.score(X_train[2], y_train[2].astype('int'))\n",
        "train_accuracy4 = model_lr_4.score(X_train[3], y_train[3].astype('int'))\n",
        "train_accuracy5 = model_lr_5.score(X_train[4], y_train[4].astype('int'))"
      ],
      "metadata": {
        "id": "LMGgcLlnS_jW"
      },
      "execution_count": null,
      "outputs": []
    },
    {
      "cell_type": "code",
      "source": [
        "print(train_accuracy1)\n",
        "print(train_accuracy2)\n",
        "print(train_accuracy3)\n",
        "print(train_accuracy4)\n",
        "print(train_accuracy5)"
      ],
      "metadata": {
        "id": "Vq82zS8ITSiR"
      },
      "execution_count": null,
      "outputs": []
    },
    {
      "cell_type": "markdown",
      "source": [
        "Model prediction"
      ],
      "metadata": {
        "id": "F12CWhxZpKrF"
      }
    },
    {
      "cell_type": "code",
      "source": [
        "from sklearn.metrics import precision_score, recall_score, f1_score, accuracy_score"
      ],
      "metadata": {
        "id": "P-mGRT-Po0lh"
      },
      "execution_count": null,
      "outputs": []
    },
    {
      "cell_type": "code",
      "source": [
        "y_pred_1 = model_lr_1.predict(X_val[0])\n",
        "y_pred_2 = model_lr_2.predict(X_val[1])\n",
        "y_pred_3 = model_lr_3.predict(X_val[2])\n",
        "y_pred_4 = model_lr_4.predict(X_val[3])\n",
        "y_pred_5 = model_lr_5.predict(X_val[4])\n",
        "\n",
        "\n",
        "print('Comparing the 5 LR models on the 5 validation sets')\n",
        "#model 1\n",
        "print('\\nEvaluation Metrics for Model 1:')\n",
        "print(\"Accuracy: \", accuracy_score(y_val[0].astype('int'), y_pred_1))\n",
        "print(\"Precision: \", precision_score(y_val[0].astype('int'), y_pred_1))\n",
        "print(\"Recall: \", recall_score(y_val[0].astype('int'), y_pred_1))\n",
        "print(\"f1-score: \", f1_score(y_val[0].astype('int'), y_pred_1))\n",
        "\n",
        "#model 2\n",
        "print('\\nEvaluation Metrics for Model 2:')\n",
        "print(\"Accuracy: \", accuracy_score(y_val[1].astype('int'), y_pred_2))\n",
        "print(\"Precision: \", precision_score(y_val[1].astype('int'), y_pred_2))\n",
        "print(\"Recall: \", recall_score(y_val[1].astype('int'), y_pred_2))\n",
        "print(\"f1-score: \", f1_score(y_val[1].astype('int'), y_pred_2))\n",
        "\n",
        "#model 3\n",
        "print('\\nEvaluation Metrics for Model 3:')\n",
        "print(\"Accuracy: \", accuracy_score(y_val[2].astype('int'), y_pred_3))\n",
        "print(\"Precision: \", precision_score(y_val[2].astype('int'), y_pred_3))\n",
        "print(\"Recall: \", recall_score(y_val[2].astype('int'), y_pred_3))\n",
        "print(\"f1-score: \", f1_score(y_val[2].astype('int'), y_pred_3))\n",
        "\n",
        "#model 4\n",
        "print('\\nEvaluation Metrics for Model 4:')\n",
        "print(\"Accuracy: \", accuracy_score(y_val[3].astype('int'), y_pred_4))\n",
        "print(\"Precision: \", precision_score(y_val[3].astype('int'), y_pred_4))\n",
        "print(\"Recall: \", recall_score(y_val[3].astype('int'), y_pred_4))\n",
        "print(\"f1-score: \", f1_score(y_val[3].astype('int'), y_pred_4))\n",
        "\n",
        "#model 5\n",
        "print('\\nEvaluation Metrics for Model 5:')\n",
        "print(\"Accuracy: \", accuracy_score(y_val[4].astype('int'), y_pred_5))\n",
        "print(\"Precision: \", precision_score(y_val[4].astype('int'), y_pred_5))\n",
        "print(\"Recall: \", recall_score(y_val[4].astype('int'), y_pred_5))\n",
        "print(\"f1-score: \", f1_score(y_val[4].astype('int'), y_pred_5))"
      ],
      "metadata": {
        "id": "RKl6A_xCAvsN",
        "colab": {
          "base_uri": "https://localhost:8080/"
        },
        "outputId": "246b6a9f-f4a9-44f1-fd84-f2b5d12ab4bc"
      },
      "execution_count": null,
      "outputs": [
        {
          "output_type": "stream",
          "name": "stdout",
          "text": [
            "Comparing the 5 LR models on the 5 validation sets\n",
            "\n",
            "Evaluation Metrics for Model 1:\n",
            "Accuracy:  0.9437199725463281\n",
            "Precision:  0.9347133757961783\n",
            "Recall:  0.9347133757961783\n",
            "f1-score:  0.9347133757961783\n",
            "\n",
            "Evaluation Metrics for Model 2:\n",
            "Accuracy:  0.940974605353466\n",
            "Precision:  0.9308426073131956\n",
            "Recall:  0.9323248407643312\n",
            "f1-score:  0.9315831344470963\n",
            "\n",
            "Evaluation Metrics for Model 3:\n",
            "Accuracy:  0.9378860672614963\n",
            "Precision:  0.9317269076305221\n",
            "Recall:  0.9235668789808917\n",
            "f1-score:  0.9276289484206318\n",
            "\n",
            "Evaluation Metrics for Model 4:\n",
            "Accuracy:  0.9388946103673189\n",
            "Precision:  0.9311449159327462\n",
            "Recall:  0.9266932270916335\n",
            "f1-score:  0.9289137380191694\n",
            "\n",
            "Evaluation Metrics for Model 5:\n",
            "Accuracy:  0.9392378990731205\n",
            "Precision:  0.9333333333333333\n",
            "Recall:  0.9251592356687898\n",
            "f1-score:  0.9292283086765294\n"
          ]
        }
      ]
    },
    {
      "cell_type": "code",
      "source": [
        "y_pred = model_lr_3.predict(X_test)\n",
        "sub = pd.DataFrame({'id':test_data['id'], 'label':y_pred})\n",
        "sub.to_csv('submit_lr.csv')"
      ],
      "metadata": {
        "id": "EzosXDy9GKGh"
      },
      "execution_count": null,
      "outputs": []
    },
    {
      "cell_type": "code",
      "source": [
        "y_pred = model_lr_1.predict(X_test1.values)\n",
        "\n",
        "print('Comparing the LR model on the test sets')\n",
        "#model 1\n",
        "print('\\nEvaluation Metrics:')\n",
        "print(\"Accuracy: \", accuracy_score(y_test1[\"label\"].values.astype('int'), y_pred))\n",
        "print(\"Precision: \", precision_score( y_test1[\"label\"].values.astype('int'), y_pred))\n",
        "print(\"Recall: \", recall_score( y_test1[\"label\"].values.astype('int'), y_pred))\n",
        "print(\"f1-score: \", f1_score( y_test1[\"label\"].values.astype('int'), y_pred))"
      ],
      "metadata": {
        "id": "jciLmqDKuNT-",
        "colab": {
          "base_uri": "https://localhost:8080/"
        },
        "outputId": "1d6dd25b-9489-44b1-fc18-d097fb498e77"
      },
      "execution_count": null,
      "outputs": [
        {
          "output_type": "stream",
          "name": "stdout",
          "text": [
            "Comparing the LR model on the test sets\n",
            "\n",
            "Evaluation Metrics:\n",
            "Accuracy:  0.9407082075212737\n",
            "Precision:  0.9390797148412184\n",
            "Recall:  0.9223424570337365\n",
            "f1-score:  0.9306358381502892\n"
          ]
        }
      ]
    },
    {
      "cell_type": "code",
      "source": [
        "cm = confusion_matrix(y_test1[\"label\"].values.astype('int'), y_pred)"
      ],
      "metadata": {
        "id": "vW5ePmXkeRKU"
      },
      "execution_count": null,
      "outputs": []
    },
    {
      "cell_type": "code",
      "source": [
        "import seaborn as sns\n",
        "sns.heatmap(cm, annot=True)"
      ],
      "metadata": {
        "colab": {
          "base_uri": "https://localhost:8080/",
          "height": 282
        },
        "id": "WDFpKMIBel6H",
        "outputId": "8f1b70b0-e900-4200-a92f-707b94f0b34f"
      },
      "execution_count": null,
      "outputs": [
        {
          "output_type": "execute_result",
          "data": {
            "text/plain": [
              "<matplotlib.axes._subplots.AxesSubplot at 0x7f77d2f65c50>"
            ]
          },
          "metadata": {},
          "execution_count": 84
        },
        {
          "output_type": "display_data",
          "data": {
            "text/plain": [
              "<Figure size 432x288 with 2 Axes>"
            ],
            "image/png": "[encoded data removed]"
          },
          "metadata": {
            "needs_background": "light"
          }
        }
      ]
    },
    {
      "cell_type": "code",
      "source": [
        "import matplotlib.pyplot as plt\n",
        "fpr, tpr, thresholds = roc_curve(y_test1[\"label\"].values.astype('int'), y_pred)\n",
        "plt.plot(fpr, tpr)\n",
        "plt.xlabel('False positive rate')\n",
        "plt.ylabel('True Positive rate')\n",
        "plt.title('ROC curve for logistic regression')"
      ],
      "metadata": {
        "colab": {
          "base_uri": "https://localhost:8080/",
          "height": 312
        },
        "id": "cW4aCk0mexgY",
        "outputId": "bde7b883-6b21-4289-91d9-ed71503473a1"
      },
      "execution_count": null,
      "outputs": [
        {
          "output_type": "execute_result",
          "data": {
            "text/plain": [
              "Text(0.5, 1.0, 'ROC curve for logistic regression')"
            ]
          },
          "metadata": {},
          "execution_count": 85
        },
        {
          "output_type": "display_data",
          "data": {
            "text/plain": [
              "<Figure size 432x288 with 1 Axes>"
            ],
            "image/png": "[encoded data removed]"
          },
          "metadata": {
            "needs_background": "light"
          }
        }
      ]
    },
    {
      "cell_type": "markdown",
      "source": [
        "Model 1 SGD - Logistic Regression"
      ],
      "metadata": {
        "id": "hb6x0kqLeuWV"
      }
    },
    {
      "cell_type": "code",
      "source": [
        "from sklearn.linear_model import SGDClassifier"
      ],
      "metadata": {
        "id": "8mFIFqa9etZ7"
      },
      "execution_count": null,
      "outputs": []
    },
    {
      "cell_type": "code",
      "source": [
        "#('alpha', 1e-05), ('early_stopping', True), ('eta0', 10.0), ('fit_intercept', True), ('l1_ratio', 0.0), ('learning_rate', 'adaptive'), ('loss', 'log'), ('max_iter', 1000), ('n_iter_no_change', 15), ('penalty', 'l2'), ('power_t', 0.0), ('tol', 0.0001), ('validation_fraction', 0.3)"
      ],
      "metadata": {
        "id": "Li7jZwXoAWY5"
      },
      "execution_count": null,
      "outputs": []
    },
    {
      "cell_type": "code",
      "source": [
        "model_lrsgd_1 = SGDClassifier(random_state=0, penalty='l2', loss='log', alpha=1e-05, early_stopping=True, eta0=10.0, fit_intercept=True, l1_ratio=0.0, learning_rate='adaptive',max_iter=1000, n_iter_no_change=15, power_t=0.0, tol=0.0001, validation_fraction=0.3)    \n",
        "model_lrsgd_2 = SGDClassifier(random_state=0, penalty='l2', loss='log', alpha=1e-05, early_stopping=True, eta0=10.0, fit_intercept=True, l1_ratio=0.0, learning_rate='adaptive',max_iter=1000, n_iter_no_change=15, power_t=0.0, tol=0.0001, validation_fraction=0.3)\n",
        "model_lrsgd_3 = SGDClassifier(random_state=0, penalty='l2', loss='log', alpha=1e-05, early_stopping=True, eta0=10.0, fit_intercept=True, l1_ratio=0.0, learning_rate='adaptive',max_iter=1000, n_iter_no_change=15, power_t=0.0, tol=0.0001, validation_fraction=0.3)\n",
        "model_lrsgd_4 = SGDClassifier(random_state=0, penalty='l2', loss='log', alpha=1e-05, early_stopping=True, eta0=10.0, fit_intercept=True, l1_ratio=0.0, learning_rate='adaptive',max_iter=1000, n_iter_no_change=15, power_t=0.0, tol=0.0001, validation_fraction=0.3)\n",
        "model_lrsgd_5 = SGDClassifier(random_state=0, penalty='l2', loss='log', alpha=1e-05, early_stopping=True, eta0=10.0, fit_intercept=True, l1_ratio=0.0, learning_rate='adaptive',max_iter=1000, n_iter_no_change=15, power_t=0.0, tol=0.0001, validation_fraction=0.3)"
      ],
      "metadata": {
        "id": "EYa-JD9ze9T4"
      },
      "execution_count": null,
      "outputs": []
    },
    {
      "cell_type": "code",
      "source": [
        "model_lrsgd_1.fit(X_train[0], y_train[0].astype('int'))\n",
        "model_lrsgd_2.fit(X_train[1], y_train[1].astype('int'))\n",
        "model_lrsgd_3.fit(X_train[2], y_train[2].astype('int'))\n",
        "model_lrsgd_4.fit(X_train[3], y_train[3].astype('int'))\n",
        "model_lrsgd_5.fit(X_train[4], y_train[4].astype('int'))"
      ],
      "metadata": {
        "colab": {
          "base_uri": "https://localhost:8080/"
        },
        "id": "IC1EQ2aifZwd",
        "outputId": "24addb0e-f674-4a95-9524-2eff3c19288a"
      },
      "execution_count": null,
      "outputs": [
        {
          "output_type": "execute_result",
          "data": {
            "text/plain": [
              "SGDClassifier(alpha=1e-05, early_stopping=True, eta0=10.0, l1_ratio=0.0,\n",
              "              learning_rate='adaptive', loss='log', n_iter_no_change=15,\n",
              "              power_t=0.0, random_state=0, tol=0.0001, validation_fraction=0.3)"
            ]
          },
          "metadata": {},
          "execution_count": 13
        }
      ]
    },
    {
      "cell_type": "code",
      "source": [
        "y_pred = model_lrsgd_1.predict(X_test)\n",
        "sub = pd.DataFrame({'id':test_data['id'], 'label':y_pred})\n",
        "sub.to_csv('submit_sgd.csv')"
      ],
      "metadata": {
        "id": "C2a_JKZDmgDu"
      },
      "execution_count": null,
      "outputs": []
    },
    {
      "cell_type": "code",
      "source": [
        "#train accuracy\n",
        "train_accuracy1 = model_lrsgd_1.score(X_train[0], y_train[0].astype('int'))\n",
        "train_accuracy2 = model_lrsgd_2.score(X_train[1], y_train[1].astype('int'))\n",
        "train_accuracy3 = model_lrsgd_3.score(X_train[2], y_train[2].astype('int'))\n",
        "train_accuracy4 = model_lrsgd_4.score(X_train[3], y_train[3].astype('int'))\n",
        "train_accuracy5 = model_lrsgd_5.score(X_train[4], y_train[4].astype('int'))"
      ],
      "metadata": {
        "id": "4nV34CYxfgwm"
      },
      "execution_count": null,
      "outputs": []
    },
    {
      "cell_type": "code",
      "source": [
        "print(train_accuracy1)\n",
        "print(train_accuracy2)\n",
        "print(train_accuracy3)\n",
        "print(train_accuracy4)\n",
        "print(train_accuracy5)"
      ],
      "metadata": {
        "id": "93Dz6bz-fmmU"
      },
      "execution_count": null,
      "outputs": []
    },
    {
      "cell_type": "code",
      "source": [
        "y_pred_1 = model_lrsgd_1.predict(X_val[0])\n",
        "y_pred_2 = model_lrsgd_2.predict(X_val[1])\n",
        "y_pred_3 = model_lrsgd_3.predict(X_val[2])\n",
        "y_pred_4 = model_lrsgd_4.predict(X_val[3])\n",
        "y_pred_5 = model_lrsgd_5.predict(X_val[4])\n",
        "\n",
        "\n",
        "print('Comparing the 5 LR models on the 5 validation sets')\n",
        "#model 1\n",
        "print('\\nEvaluation Metrics for Model 1:')\n",
        "print(\"Accuracy: \", accuracy_score(y_val[0].astype('int'), y_pred_1))\n",
        "print(\"Precision: \", precision_score(y_val[0].astype('int'), y_pred_1))\n",
        "print(\"Recall: \", recall_score(y_val[0].astype('int'), y_pred_1))\n",
        "print(\"f1-score: \", f1_score(y_val[0].astype('int'), y_pred_1))\n",
        "\n",
        "#model 2\n",
        "print('\\nEvaluation Metrics for Model 2:')\n",
        "print(\"Accuracy: \", accuracy_score(y_val[1].astype('int'), y_pred_2))\n",
        "print(\"Precision: \", precision_score(y_val[1].astype('int'), y_pred_2))\n",
        "print(\"Recall: \", recall_score(y_val[1].astype('int'), y_pred_2))\n",
        "print(\"f1-score: \", f1_score(y_val[1].astype('int'), y_pred_2))\n",
        "\n",
        "#model 3\n",
        "print('\\nEvaluation Metrics for Model 3:')\n",
        "print(\"Accuracy: \", accuracy_score(y_val[2].astype('int'), y_pred_3))\n",
        "print(\"Precision: \", precision_score(y_val[2].astype('int'), y_pred_3))\n",
        "print(\"Recall: \", recall_score(y_val[2].astype('int'), y_pred_3))\n",
        "print(\"f1-score: \", f1_score(y_val[2].astype('int'), y_pred_3))\n",
        "\n",
        "#model 4\n",
        "print('\\nEvaluation Metrics for Model 4:')\n",
        "print(\"Accuracy: \", accuracy_score(y_val[3].astype('int'), y_pred_4))\n",
        "print(\"Precision: \", precision_score(y_val[3].astype('int'), y_pred_4))\n",
        "print(\"Recall: \", recall_score(y_val[3].astype('int'), y_pred_4))\n",
        "print(\"f1-score: \", f1_score(y_val[3].astype('int'), y_pred_4))\n",
        "\n",
        "#model 5\n",
        "print('\\nEvaluation Metrics for Model 5:')\n",
        "print(\"Accuracy: \", accuracy_score(y_val[4].astype('int'), y_pred_5))\n",
        "print(\"Precision: \", precision_score(y_val[4].astype('int'), y_pred_5))\n",
        "print(\"Recall: \", recall_score(y_val[4].astype('int'), y_pred_5))\n",
        "print(\"f1-score: \", f1_score(y_val[4].astype('int'), y_pred_5))"
      ],
      "metadata": {
        "colab": {
          "base_uri": "https://localhost:8080/"
        },
        "id": "BVkcpx6ifq3C",
        "outputId": "cc38d830-1944-41ea-97b1-f237ef122c25"
      },
      "execution_count": null,
      "outputs": [
        {
          "output_type": "stream",
          "name": "stdout",
          "text": [
            "Comparing the 5 LR models on the 5 validation sets\n",
            "\n",
            "Evaluation Metrics for Model 1:\n",
            "Accuracy:  0.94955387783116\n",
            "Precision:  0.9369582348305753\n",
            "Recall:  0.946656050955414\n",
            "f1-score:  0.9417821782178218\n",
            "\n",
            "Evaluation Metrics for Model 2:\n",
            "Accuracy:  0.9402882635552505\n",
            "Precision:  0.9314194577352473\n",
            "Recall:  0.9299363057324841\n",
            "f1-score:  0.9306772908366534\n",
            "\n",
            "Evaluation Metrics for Model 3:\n",
            "Accuracy:  0.9468085106382979\n",
            "Precision:  0.9414595028067362\n",
            "Recall:  0.9347133757961783\n",
            "f1-score:  0.9380743108270075\n",
            "\n",
            "Evaluation Metrics for Model 4:\n",
            "Accuracy:  0.9457603844833505\n",
            "Precision:  0.934283452098179\n",
            "Recall:  0.9402390438247012\n",
            "f1-score:  0.9372517871326449\n",
            "\n",
            "Evaluation Metrics for Model 5:\n",
            "Accuracy:  0.9440439409543426\n",
            "Precision:  0.9396621078037007\n",
            "Recall:  0.9299363057324841\n",
            "f1-score:  0.9347739095638257\n"
          ]
        }
      ]
    },
    {
      "cell_type": "code",
      "source": [
        "y_pred = model_lrsgd_3.predict(X_test1.values)\n",
        "\n",
        "print('Comparing the LR model on the test sets')\n",
        "#model 1\n",
        "print('\\nEvaluation Metrics:')\n",
        "print(\"Accuracy: \", accuracy_score(y_test1[\"label\"].values.astype('int'), y_pred))\n",
        "print(\"Precision: \", precision_score(y_test1[\"label\"].values.astype('int'), y_pred))\n",
        "print(\"Recall: \", recall_score(y_test1[\"label\"].values.astype('int'), y_pred))\n",
        "print(\"f1-score: \", f1_score(y_test1[\"label\"].values.astype('int'), y_pred))"
      ],
      "metadata": {
        "colab": {
          "base_uri": "https://localhost:8080/"
        },
        "id": "-Mlbz0Q7nUoh",
        "outputId": "ebf07161-7b53-4c25-d52b-76f681585ef3"
      },
      "execution_count": null,
      "outputs": [
        {
          "output_type": "stream",
          "name": "stdout",
          "text": [
            "Comparing the LR model on the test sets\n",
            "\n",
            "Evaluation Metrics:\n",
            "Accuracy:  0.9511391710129015\n",
            "Precision:  0.9461883408071748\n",
            "Recall:  0.9401654996817314\n",
            "f1-score:  0.9431673052362707\n"
          ]
        }
      ]
    },
    {
      "cell_type": "code",
      "source": [
        "cm = confusion_matrix(y_test1[\"label\"].values.astype('int'), y_pred)\n",
        "sns.heatmap(cm, annot=True)"
      ],
      "metadata": {
        "colab": {
          "base_uri": "https://localhost:8080/",
          "height": 282
        },
        "id": "7wWmVODdfEGx",
        "outputId": "9de01c4d-dd72-425f-a086-26ce67cdff95"
      },
      "execution_count": null,
      "outputs": [
        {
          "output_type": "execute_result",
          "data": {
            "text/plain": [
              "<matplotlib.axes._subplots.AxesSubplot at 0x7f77d36c72d0>"
            ]
          },
          "metadata": {},
          "execution_count": 90
        },
        {
          "output_type": "display_data",
          "data": {
            "text/plain": [
              "<Figure size 432x288 with 2 Axes>"
            ],
            "image/png": "[encoded data removed]"
          },
          "metadata": {
            "needs_background": "light"
          }
        }
      ]
    },
    {
      "cell_type": "code",
      "source": [
        "fpr, tpr, thresholds = roc_curve(y_test1[\"label\"].values.astype('int'), y_pred)\n",
        "plt.plot(fpr, tpr)\n",
        "plt.xlabel('False positive rate')\n",
        "plt.ylabel('True Positive rate')\n",
        "plt.title('ROC curve for logistic regression')"
      ],
      "metadata": {
        "colab": {
          "base_uri": "https://localhost:8080/",
          "height": 312
        },
        "id": "G0AfW5BQfJuE",
        "outputId": "0010f4a5-30ba-4507-84e4-61f4baba45a0"
      },
      "execution_count": null,
      "outputs": [
        {
          "output_type": "execute_result",
          "data": {
            "text/plain": [
              "Text(0.5, 1.0, 'ROC curve for logistic regression')"
            ]
          },
          "metadata": {},
          "execution_count": 91
        },
        {
          "output_type": "display_data",
          "data": {
            "text/plain": [
              "<Figure size 432x288 with 1 Axes>"
            ],
            "image/png": "[encoded data removed]"
          },
          "metadata": {
            "needs_background": "light"
          }
        }
      ]
    },
    {
      "cell_type": "markdown",
      "source": [
        "Model 2 : Passive Aggressive Classifier"
      ],
      "metadata": {
        "id": "unfsWo_apd6J"
      }
    },
    {
      "cell_type": "markdown",
      "source": [
        "Model training"
      ],
      "metadata": {
        "id": "QQbZ-YdFpeOv"
      }
    },
    {
      "cell_type": "code",
      "source": [
        "from sklearn.linear_model import PassiveAggressiveClassifier"
      ],
      "metadata": {
        "id": "P9rmIS_qplBj"
      },
      "execution_count": null,
      "outputs": []
    },
    {
      "cell_type": "code",
      "source": [
        "#'C', 654.8189998748911), ('early_stopping', True), ('fit_intercept', True), ('max_iter', 8358), ('n_iter_no_change', 13), ('tol', 0.008517734372197392), ('validation_fraction', 0.2)"
      ],
      "metadata": {
        "id": "4nMinPb9BjFj"
      },
      "execution_count": null,
      "outputs": []
    },
    {
      "cell_type": "code",
      "source": [
        "model_pac_1 = PassiveAggressiveClassifier(random_state=0, C=654.8, early_stopping=True, fit_intercept=True, max_iter=8358, n_iter_no_change=13, tol=0.0085, validation_fraction=0.2)    \n",
        "model_pac_2 = PassiveAggressiveClassifier(random_state=0, C=654.8, early_stopping=True, fit_intercept=True, max_iter=8358, n_iter_no_change=13, tol=0.0085, validation_fraction=0.2)\n",
        "model_pac_3 = PassiveAggressiveClassifier(random_state=0, C=654.8, early_stopping=True, fit_intercept=True, max_iter=8358, n_iter_no_change=13, tol=0.0085, validation_fraction=0.2)\n",
        "model_pac_4 = PassiveAggressiveClassifier(random_state=0, C=654.8, early_stopping=True, fit_intercept=True, max_iter=8358, n_iter_no_change=13, tol=0.0085, validation_fraction=0.2)\n",
        "model_pac_5 = PassiveAggressiveClassifier(random_state=0, C=654.8, early_stopping=True, fit_intercept=True, max_iter=8358, n_iter_no_change=13, tol=0.0085, validation_fraction=0.2)"
      ],
      "metadata": {
        "id": "gKTfj5YHplLE"
      },
      "execution_count": null,
      "outputs": []
    },
    {
      "cell_type": "code",
      "source": [
        "model_pac_1.fit(X_train[0], y_train[0].astype('int'))\n",
        "model_pac_2.fit(X_train[1], y_train[1].astype('int'))\n",
        "model_pac_3.fit(X_train[2], y_train[2].astype('int'))\n",
        "model_pac_4.fit(X_train[3], y_train[3].astype('int'))\n",
        "model_pac_5.fit(X_train[4], y_train[4].astype('int'))"
      ],
      "metadata": {
        "colab": {
          "base_uri": "https://localhost:8080/"
        },
        "id": "-NlfELeVplSV",
        "outputId": "d25550c2-eaf3-46ac-f5e2-71cbdd633a0a"
      },
      "execution_count": null,
      "outputs": [
        {
          "output_type": "execute_result",
          "data": {
            "text/plain": [
              "PassiveAggressiveClassifier(C=654.8, early_stopping=True, max_iter=8358,\n",
              "                            n_iter_no_change=13, random_state=0, tol=0.0085,\n",
              "                            validation_fraction=0.2)"
            ]
          },
          "metadata": {},
          "execution_count": 290
        }
      ]
    },
    {
      "cell_type": "code",
      "source": [
        "len(X_test)"
      ],
      "metadata": {
        "colab": {
          "base_uri": "https://localhost:8080/"
        },
        "id": "as4QNPpCz5b_",
        "outputId": "d200aa64-a9a3-44b0-d3b3-80e71d7be334"
      },
      "execution_count": null,
      "outputs": [
        {
          "output_type": "execute_result",
          "data": {
            "text/plain": [
              "5200"
            ]
          },
          "metadata": {},
          "execution_count": 292
        }
      ]
    },
    {
      "cell_type": "code",
      "source": [
        "y_pred = model_pac_1.predict(X_test)\n",
        "sub = pd.DataFrame({'id':test_data['id'], 'label':y_pred})\n",
        "sub.to_csv('submit_pactry2.csv')"
      ],
      "metadata": {
        "id": "7M9rE4WNympI"
      },
      "execution_count": null,
      "outputs": []
    },
    {
      "cell_type": "markdown",
      "source": [
        "Model prediction"
      ],
      "metadata": {
        "id": "XESEJP3OqCfR"
      }
    },
    {
      "cell_type": "code",
      "source": [
        "y_pred_1 = model_pac_1.predict(X_val[0])\n",
        "y_pred_2 = model_pac_2.predict(X_val[1])\n",
        "y_pred_3 = model_pac_3.predict(X_val[2])\n",
        "y_pred_4 = model_pac_4.predict(X_val[3])\n",
        "y_pred_5 = model_pac_5.predict(X_val[4])\n",
        "\n",
        "\n",
        "print('Comparing the 5 PAC models on the 5 validation sets')\n",
        "#model 1\n",
        "print('\\nEvaluation Metrics for Model 1:')\n",
        "print(\"Accuracy: \", accuracy_score(y_val[0].astype('int'), y_pred_1))\n",
        "print(\"Precision: \", precision_score(y_val[0].astype('int'), y_pred_1))\n",
        "print(\"Recall: \", recall_score(y_val[0].astype('int'), y_pred_1))\n",
        "print(\"f1-score: \", f1_score(y_val[0].astype('int'), y_pred_1))\n",
        "\n",
        "#model 2\n",
        "print('\\nEvaluation Metrics for Model 2:')\n",
        "print(\"Accuracy: \", accuracy_score(y_val[1].astype('int'), y_pred_2))\n",
        "print(\"Precision: \", precision_score(y_val[1].astype('int'), y_pred_2))\n",
        "print(\"Recall: \", recall_score(y_val[1].astype('int'), y_pred_2))\n",
        "print(\"f1-score: \", f1_score(y_val[1].astype('int'), y_pred_2))\n",
        "\n",
        "#model 3\n",
        "print('\\nEvaluation Metrics for Model 3:')\n",
        "print(\"Accuracy: \", accuracy_score(y_val[2].astype('int'), y_pred_3))\n",
        "print(\"Precision: \", precision_score(y_val[2].astype('int'), y_pred_3))\n",
        "print(\"Recall: \", recall_score(y_val[2].astype('int'), y_pred_3))\n",
        "print(\"f1-score: \", f1_score(y_val[2].astype('int'), y_pred_3))\n",
        "\n",
        "#model 4\n",
        "print('\\nEvaluation Metrics for Model 4:')\n",
        "print(\"Accuracy: \", accuracy_score(y_val[3].astype('int'), y_pred_4))\n",
        "print(\"Precision: \", precision_score(y_val[3].astype('int'), y_pred_4))\n",
        "print(\"Recall: \", recall_score(y_val[3].astype('int'), y_pred_4))\n",
        "print(\"f1-score: \", f1_score(y_val[3].astype('int'), y_pred_4))\n",
        "\n",
        "#model 5\n",
        "print('\\nEvaluation Metrics for Model 5:')\n",
        "print(\"Accuracy: \", accuracy_score(y_val[4].astype('int'), y_pred_5))\n",
        "print(\"Precision: \", precision_score(y_val[4].astype('int'), y_pred_5))\n",
        "print(\"Recall: \", recall_score(y_val[4].astype('int'), y_pred_5))\n",
        "print(\"f1-score: \", f1_score(y_val[4].astype('int'), y_pred_5))"
      ],
      "metadata": {
        "colab": {
          "base_uri": "https://localhost:8080/"
        },
        "id": "yidka5cUplYR",
        "outputId": "77a8ba9d-564c-4704-a83e-60f5952acb8c"
      },
      "execution_count": null,
      "outputs": [
        {
          "output_type": "stream",
          "name": "stdout",
          "text": [
            "Comparing the 5 PAC models on the 5 validation sets\n",
            "\n",
            "Evaluation Metrics for Model 1:\n",
            "Accuracy:  0.9433768016472203\n",
            "Precision:  0.933969769291965\n",
            "Recall:  0.9347133757961783\n",
            "f1-score:  0.934341424592121\n",
            "\n",
            "Evaluation Metrics for Model 2:\n",
            "Accuracy:  0.9406314344543583\n",
            "Precision:  0.933546837469976\n",
            "Recall:  0.928343949044586\n",
            "f1-score:  0.930938123752495\n",
            "\n",
            "Evaluation Metrics for Model 3:\n",
            "Accuracy:  0.9361702127659575\n",
            "Precision:  0.928\n",
            "Recall:  0.9235668789808917\n",
            "f1-score:  0.9257781324820431\n",
            "\n",
            "Evaluation Metrics for Model 4:\n",
            "Accuracy:  0.9327154136628905\n",
            "Precision:  0.9259855189058729\n",
            "Recall:  0.9171314741035856\n",
            "f1-score:  0.9215372297838271\n",
            "\n",
            "Evaluation Metrics for Model 5:\n",
            "Accuracy:  0.9409543426021284\n",
            "Precision:  0.9413680781758957\n",
            "Recall:  0.9203821656050956\n",
            "f1-score:  0.9307568438003221\n"
          ]
        }
      ]
    },
    {
      "cell_type": "code",
      "source": [
        "y_pred = model_pac_1.predict(X_test)\n",
        "sub = pd.DataFrame({'id':test_data['id'], 'label':y_pred})\n",
        "sub.to_csv('submit_pac.csv')"
      ],
      "metadata": {
        "id": "SLuPtSaQSG7R"
      },
      "execution_count": null,
      "outputs": []
    },
    {
      "cell_type": "code",
      "source": [
        "y_pred = model_pac_1.predict(X_test1.values)\n",
        "\n",
        "print('Comparing the LR model on the test sets')\n",
        "#model 1\n",
        "print('\\nEvaluation Metrics:')\n",
        "print(\"Accuracy: \", accuracy_score(y_test1[\"label\"].values.astype('int'), y_pred))\n",
        "print(\"Precision: \", precision_score(y_test1[\"label\"].values.astype('int'), y_pred))\n",
        "print(\"Recall: \", recall_score(y_test1[\"label\"].values.astype('int'), y_pred))\n",
        "print(\"f1-score: \", f1_score(y_test1[\"label\"].values.astype('int'), y_pred))"
      ],
      "metadata": {
        "colab": {
          "base_uri": "https://localhost:8080/"
        },
        "id": "jRBBoaI9nsyw",
        "outputId": "5c6ef24f-efdb-4cdf-bbcd-81df967c9b88"
      },
      "execution_count": null,
      "outputs": [
        {
          "output_type": "stream",
          "name": "stdout",
          "text": [
            "Comparing the LR model on the test sets\n",
            "\n",
            "Evaluation Metrics:\n",
            "Accuracy:  0.9415317046390338\n",
            "Precision:  0.9386304909560723\n",
            "Recall:  0.92488860598345\n",
            "f1-score:  0.9317088810516191\n"
          ]
        }
      ]
    },
    {
      "cell_type": "code",
      "source": [
        "cm = confusion_matrix(y_test1[\"label\"].values.astype('int'), y_pred)\n",
        "sns.heatmap(cm, annot=True)"
      ],
      "metadata": {
        "colab": {
          "base_uri": "https://localhost:8080/",
          "height": 282
        },
        "id": "74LWutHjfOVp",
        "outputId": "bb402e7b-f26a-452a-ed8a-38f00cb00f55"
      },
      "execution_count": null,
      "outputs": [
        {
          "output_type": "execute_result",
          "data": {
            "text/plain": [
              "<matplotlib.axes._subplots.AxesSubplot at 0x7f77d282dcd0>"
            ]
          },
          "metadata": {},
          "execution_count": 96
        },
        {
          "output_type": "display_data",
          "data": {
            "text/plain": [
              "<Figure size 432x288 with 2 Axes>"
            ],
            "image/png": "[encoded data removed]"
          },
          "metadata": {
            "needs_background": "light"
          }
        }
      ]
    },
    {
      "cell_type": "code",
      "source": [
        "fpr, tpr, thresholds = roc_curve(y_test1[\"label\"].values.astype('int'), y_pred)\n",
        "plt.plot(fpr, tpr)\n",
        "plt.xlabel('False positive rate')\n",
        "plt.ylabel('True Positive rate')\n",
        "plt.title('ROC curve for logistic regression')"
      ],
      "metadata": {
        "colab": {
          "base_uri": "https://localhost:8080/",
          "height": 312
        },
        "id": "5uTltfcrfQre",
        "outputId": "a415da58-bdba-46db-9375-0a6d6a781dda"
      },
      "execution_count": null,
      "outputs": [
        {
          "output_type": "execute_result",
          "data": {
            "text/plain": [
              "Text(0.5, 1.0, 'ROC curve for logistic regression')"
            ]
          },
          "metadata": {},
          "execution_count": 97
        },
        {
          "output_type": "display_data",
          "data": {
            "text/plain": [
              "<Figure size 432x288 with 1 Axes>"
            ],
            "image/png": "[encoded data removed]"
          },
          "metadata": {
            "needs_background": "light"
          }
        }
      ]
    },
    {
      "cell_type": "markdown",
      "source": [
        "5. XgBoost"
      ],
      "metadata": {
        "id": "toqt3F0KGT-4"
      }
    },
    {
      "cell_type": "code",
      "source": [
        "('alpha', 6), ('colsample_bytree', 0.9945512409752306), ('eta', 0.07971784588995035), ('gamma', 3.891784320438134), ('lambda', 9), ('max_delta_step', 5), ('max_depth', 10), ('min_child_weight', 9), ('n_estimators', 100), ('subsample', 0.8650303842877729)]"
      ],
      "metadata": {
        "id": "rCJgs3Pq0tF0"
      },
      "execution_count": null,
      "outputs": []
    },
    {
      "cell_type": "code",
      "source": [
        "model_gbc_1 = XGBClassifier(random_state=0,objective = 'binary:logistic',eval_metric = 'auc',silent=1,tree_method='gpu_hist',alpha= 6, colsample_bytree=0.9945, eta=0.079, gamma=3.89178, reg_lambda=9, max_delta_step=5, max_depth=10, min_child_weight=9, n_estimators=100, subsample=0.865)\n",
        "model_gbc_2 = XGBClassifier(random_state=0,objective = 'binary:logistic',eval_metric = 'auc',silent=1,tree_method='gpu_hist',alpha= 6, colsample_bytree=0.9945, eta=0.079, gamma=3.89178, reg_lambda=9, max_delta_step=5, max_depth=10, min_child_weight=9, n_estimators=100, subsample=0.865)\n",
        "model_gbc_3 = XGBClassifier(random_state=0,objective = 'binary:logistic',eval_metric = 'auc',silent=1,tree_method='gpu_hist',alpha= 6, colsample_bytree=0.9945, eta=0.079, gamma=3.89178, reg_lambda=9, max_delta_step=5, max_depth=10, min_child_weight=9, n_estimators=100, subsample=0.865)\n",
        "model_gbc_4 = XGBClassifier(random_state=0,objective = 'binary:logistic',eval_metric = 'auc',silent=1,tree_method='gpu_hist',alpha= 6, colsample_bytree=0.9945, eta=0.079, gamma=3.89178, reg_lambda=9, max_delta_step=5, max_depth=10, min_child_weight=9, n_estimators=100, subsample=0.865)\n",
        "model_gbc_5 = XGBClassifier(random_state=0,objective = 'binary:logistic',eval_metric = 'auc',silent=1,tree_method='gpu_hist',alpha= 6, colsample_bytree=0.9945, eta=0.079, gamma=3.89178, reg_lambda=9, max_delta_step=5, max_depth=10, min_child_weight=9, n_estimators=100, subsample=0.865)"
      ],
      "metadata": {
        "id": "PdHd_pMG0DJt"
      },
      "execution_count": null,
      "outputs": []
    },
    {
      "cell_type": "code",
      "source": [
        "model_gbc_1.fit(X_train[0], y_train[0].astype('int'))\n",
        "model_gbc_2.fit(X_train[1], y_train[1].astype('int'))\n",
        "model_gbc_3.fit(X_train[2], y_train[2].astype('int'))\n",
        "model_gbc_4.fit(X_train[3], y_train[3].astype('int'))\n",
        "model_gbc_5.fit(X_train[4], y_train[4].astype('int'))"
      ],
      "metadata": {
        "id": "WNlFFD_a0IbC",
        "colab": {
          "base_uri": "https://localhost:8080/"
        },
        "outputId": "2289dedb-9a5c-4709-b55f-746e06c7db45"
      },
      "execution_count": null,
      "outputs": [
        {
          "output_type": "execute_result",
          "data": {
            "text/plain": [
              "XGBClassifier(alpha=6, colsample_bytree=0.9945, eta=0.079, eval_metric='auc',\n",
              "              gamma=3.89178, max_delta_step=5, max_depth=10, min_child_weight=9,\n",
              "              reg_lambda=9, silent=1, subsample=0.865, tree_method='gpu_hist')"
            ]
          },
          "metadata": {},
          "execution_count": 17
        }
      ]
    },
    {
      "cell_type": "code",
      "source": [
        "y_pred = model_gbc_3.predict(X_test)\n",
        "sub = pd.DataFrame({'id':test_data['id'], 'label':y_pred})\n",
        "sub.to_csv('submit_xgb.csv')"
      ],
      "metadata": {
        "id": "LXmgvadK0jBJ"
      },
      "execution_count": null,
      "outputs": []
    },
    {
      "cell_type": "code",
      "source": [
        "y_pred_1 = model_gbc_1.predict(X_val[0])\n",
        "y_pred_2 = model_gbc_2.predict(X_val[1])\n",
        "y_pred_3 = model_gbc_3.predict(X_val[2])\n",
        "y_pred_4 = model_gbc_4.predict(X_val[3])\n",
        "y_pred_5 = model_gbc_5.predict(X_val[4])\n",
        "\n",
        "\n",
        "print('Comparing the 5 KNN models on the 5 validation sets')\n",
        "#model 1\n",
        "print('\\nEvaluation Metrics for Model 1:')\n",
        "print(\"Accuracy: \", accuracy_score(y_val[0].astype('int'), y_pred_1))\n",
        "print(\"Precision: \", precision_score(y_val[0].astype('int'), y_pred_1))\n",
        "print(\"Recall: \", recall_score(y_val[0].astype('int'), y_pred_1))\n",
        "print(\"f1-score: \", f1_score(y_val[0].astype('int'), y_pred_1))\n",
        "\n",
        "#model 2\n",
        "print('\\nEvaluation Metrics for Model 2:')\n",
        "print(\"Accuracy: \", accuracy_score(y_val[1].astype('int'), y_pred_2))\n",
        "print(\"Precision: \", precision_score(y_val[1].astype('int'), y_pred_2))\n",
        "print(\"Recall: \", recall_score(y_val[1].astype('int'), y_pred_2))\n",
        "print(\"f1-score: \", f1_score(y_val[1].astype('int'), y_pred_2))\n",
        "\n",
        "#model 3\n",
        "print('\\nEvaluation Metrics for Model 3:')\n",
        "print(\"Accuracy: \", accuracy_score(y_val[2].astype('int'), y_pred_3))\n",
        "print(\"Precision: \", precision_score(y_val[2].astype('int'), y_pred_3))\n",
        "print(\"Recall: \", recall_score(y_val[2].astype('int'), y_pred_3))\n",
        "print(\"f1-score: \", f1_score(y_val[2].astype('int'), y_pred_3))\n",
        "\n",
        "#model 4\n",
        "print('\\nEvaluation Metrics for Model 4:')\n",
        "print(\"Accuracy: \", accuracy_score(y_val[3].astype('int'), y_pred_4))\n",
        "print(\"Precision: \", precision_score(y_val[3].astype('int'), y_pred_4))\n",
        "print(\"Recall: \", recall_score(y_val[3].astype('int'), y_pred_4))\n",
        "print(\"f1-score: \", f1_score(y_val[3].astype('int'), y_pred_4))\n",
        "\n",
        "#model 5\n",
        "print('\\nEvaluation Metrics for Model 5:')\n",
        "print(\"Accuracy: \", accuracy_score(y_val[4].astype('int'), y_pred_5))\n",
        "print(\"Precision: \", precision_score(y_val[4].astype('int'), y_pred_5))\n",
        "print(\"Recall: \", recall_score(y_val[4].astype('int'), y_pred_5))\n",
        "print(\"f1-score: \", f1_score(y_val[4].astype('int'), y_pred_5))"
      ],
      "metadata": {
        "id": "-xqZfRZs0IyV",
        "colab": {
          "base_uri": "https://localhost:8080/"
        },
        "outputId": "dd3c895c-7dac-42c1-8f82-4f3ae88f614f"
      },
      "execution_count": null,
      "outputs": [
        {
          "output_type": "stream",
          "name": "stdout",
          "text": [
            "Comparing the 5 KNN models on the 5 validation sets\n",
            "\n",
            "Evaluation Metrics for Model 1:\n",
            "Accuracy:  0.9481811942347289\n",
            "Precision:  0.9346970889063729\n",
            "Recall:  0.945859872611465\n",
            "f1-score:  0.9402453502176493\n",
            "\n",
            "Evaluation Metrics for Model 2:\n",
            "Accuracy:  0.94955387783116\n",
            "Precision:  0.9432454036770583\n",
            "Recall:  0.9394904458598726\n",
            "f1-score:  0.9413641802951735\n",
            "\n",
            "Evaluation Metrics for Model 3:\n",
            "Accuracy:  0.9512697323266986\n",
            "Precision:  0.9456\n",
            "Recall:  0.9410828025477707\n",
            "f1-score:  0.9433359936153232\n",
            "\n",
            "Evaluation Metrics for Model 4:\n",
            "Accuracy:  0.9491932715413662\n",
            "Precision:  0.9300699300699301\n",
            "Recall:  0.9537848605577689\n",
            "f1-score:  0.9417781274586939\n",
            "\n",
            "Evaluation Metrics for Model 5:\n",
            "Accuracy:  0.9485066941297632\n",
            "Precision:  0.9388888888888889\n",
            "Recall:  0.9418789808917197\n",
            "f1-score:  0.9403815580286169\n"
          ]
        }
      ]
    },
    {
      "cell_type": "code",
      "source": [
        "y_pred_1 = model_gbc_3.predict(X_test1.values)\n",
        "\n",
        "\n",
        "print('Comparing the 5 KNN models on the 5 validation sets')\n",
        "#model 1\n",
        "print('\\nEvaluation Metrics for Model 1:')\n",
        "print(\"Accuracy: \", accuracy_score(y_test1[\"label\"].values.astype('int'), y_pred_1))\n",
        "print(\"Precision: \", precision_score(y_test1[\"label\"].values.astype('int'), y_pred_1))\n",
        "print(\"Recall: \", recall_score(y_test1[\"label\"].values.astype('int'), y_pred_1))\n",
        "print(\"f1-score: \", f1_score(y_test1[\"label\"].values.astype('int'), y_pred_1))"
      ],
      "metadata": {
        "colab": {
          "base_uri": "https://localhost:8080/"
        },
        "id": "BKOpoWWEwioD",
        "outputId": "b8c880d9-4bdc-4d12-af61-12237141b2bc"
      },
      "execution_count": null,
      "outputs": [
        {
          "output_type": "stream",
          "name": "stdout",
          "text": [
            "Comparing the 5 KNN models on the 5 validation sets\n",
            "\n",
            "Evaluation Metrics for Model 1:\n",
            "Accuracy:  0.9527861652484216\n",
            "Precision:  0.9385579937304075\n",
            "Recall:  0.9528962444302992\n",
            "f1-score:  0.9456727732154138\n"
          ]
        }
      ]
    },
    {
      "cell_type": "code",
      "source": [
        "cm = confusion_matrix(y_test1[\"label\"].values.astype('int'), y_pred)\n",
        "sns.heatmap(cm, annot=True)"
      ],
      "metadata": {
        "colab": {
          "base_uri": "https://localhost:8080/",
          "height": 282
        },
        "id": "oRFNYKnPfTqq",
        "outputId": "db5ff0e8-f465-4346-e0e2-7ead35863377"
      },
      "execution_count": null,
      "outputs": [
        {
          "output_type": "execute_result",
          "data": {
            "text/plain": [
              "<matplotlib.axes._subplots.AxesSubplot at 0x7f77f80882d0>"
            ]
          },
          "metadata": {},
          "execution_count": 102
        },
        {
          "output_type": "display_data",
          "data": {
            "text/plain": [
              "<Figure size 432x288 with 2 Axes>"
            ],
            "image/png": "[encoded data removed]"
          },
          "metadata": {
            "needs_background": "light"
          }
        }
      ]
    },
    {
      "cell_type": "code",
      "source": [
        "fpr, tpr, thresholds = roc_curve(y_test1[\"label\"].values.astype('int'), y_pred)\n",
        "plt.plot(fpr, tpr)\n",
        "plt.xlabel('False positive rate')\n",
        "plt.ylabel('True Positive rate')\n",
        "plt.title('ROC curve for logistic regression')"
      ],
      "metadata": {
        "colab": {
          "base_uri": "https://localhost:8080/",
          "height": 312
        },
        "id": "1nguvkPXfXAq",
        "outputId": "b75544c8-9483-4d83-a59a-b68cd47a4926"
      },
      "execution_count": null,
      "outputs": [
        {
          "output_type": "execute_result",
          "data": {
            "text/plain": [
              "Text(0.5, 1.0, 'ROC curve for logistic regression')"
            ]
          },
          "metadata": {},
          "execution_count": 103
        },
        {
          "output_type": "display_data",
          "data": {
            "text/plain": [
              "<Figure size 432x288 with 1 Axes>"
            ],
            "image/png": "[encoded data removed]"
          },
          "metadata": {
            "needs_background": "light"
          }
        }
      ]
    },
    {
      "cell_type": "markdown",
      "source": [
        "6. Random Forest"
      ],
      "metadata": {
        "id": "beVhnNyXzgWt"
      }
    },
    {
      "cell_type": "code",
      "source": [
        "from sklearn.ensemble import RandomForestClassifier"
      ],
      "metadata": {
        "id": "wmKtr0m8z3vZ"
      },
      "execution_count": null,
      "outputs": []
    },
    {
      "cell_type": "code",
      "source": [
        "model_rf_1 = RandomForestClassifier(ccp_alpha=0.0,criterion='entropy',max_features='sqrt',min_samples_split=2,n_estimators=174,warm_start=False, random_state=0)    \n",
        "model_rf_2 = RandomForestClassifier(ccp_alpha=0.0,criterion='entropy',max_features='sqrt',min_samples_split=2,n_estimators=174,warm_start=False, random_state=0)\n",
        "model_rf_3 = RandomForestClassifier(ccp_alpha=0.0,criterion='entropy',max_features='sqrt',min_samples_split=2,n_estimators=174,warm_start=False, random_state=0)\n",
        "model_rf_4 = RandomForestClassifier(ccp_alpha=0.0,criterion='entropy',max_features='sqrt',min_samples_split=2,n_estimators=174,warm_start=False, random_state=0)\n",
        "model_rf_5 = RandomForestClassifier(ccp_alpha=0.0,criterion='entropy',max_features='sqrt',min_samples_split=2,n_estimators=174,warm_start=False, random_state=0)"
      ],
      "metadata": {
        "id": "8RCmbp0-ziNy"
      },
      "execution_count": null,
      "outputs": []
    },
    {
      "cell_type": "code",
      "source": [
        "model_rf_1.fit(X_train[0], y_train[0].astype('int'))\n",
        "model_rf_2.fit(X_train[1], y_train[1].astype('int'))\n",
        "model_rf_3.fit(X_train[2], y_train[2].astype('int'))\n",
        "model_rf_4.fit(X_train[3], y_train[3].astype('int'))\n",
        "model_rf_5.fit(X_train[4], y_train[4].astype('int'))"
      ],
      "metadata": {
        "colab": {
          "base_uri": "https://localhost:8080/"
        },
        "id": "qOKAuEu-zkdx",
        "outputId": "8902f082-2e93-4e18-df79-5eb85e9c2a8d"
      },
      "execution_count": null,
      "outputs": [
        {
          "output_type": "execute_result",
          "data": {
            "text/plain": [
              "RandomForestClassifier(criterion='entropy', max_features='sqrt',\n",
              "                       n_estimators=174, random_state=0)"
            ]
          },
          "metadata": {},
          "execution_count": 299
        }
      ]
    },
    {
      "cell_type": "code",
      "source": [
        "y_pred = model_rf_3.predict(X_test)\n",
        "sub = pd.DataFrame({'id':test_data['id'], 'label':y_pred})\n",
        "sub.to_csv('submit_rftryn.csv')"
      ],
      "metadata": {
        "id": "_5c301Nx0zHK"
      },
      "execution_count": null,
      "outputs": []
    },
    {
      "cell_type": "code",
      "source": [
        "y_pred_1 = model_rf_1.predict(X_val[0])\n",
        "y_pred_2 = model_rf_2.predict(X_val[1])\n",
        "y_pred_3 = model_rf_3.predict(X_val[2])\n",
        "y_pred_4 = model_rf_4.predict(X_val[3])\n",
        "y_pred_5 = model_rf_5.predict(X_val[4])\n",
        "\n",
        "\n",
        "print('Comparing the 5 KNN models on the 5 validation sets')\n",
        "#model 1\n",
        "print('\\nEvaluation Metrics for Model 1:')\n",
        "print(\"Accuracy: \", accuracy_score(y_val[0].astype('int'), y_pred_1))\n",
        "print(\"Precision: \", precision_score(y_val[0].astype('int'), y_pred_1))\n",
        "print(\"Recall: \", recall_score(y_val[0].astype('int'), y_pred_1))\n",
        "print(\"f1-score: \", f1_score(y_val[0].astype('int'), y_pred_1))\n",
        "\n",
        "#model 2\n",
        "print('\\nEvaluation Metrics for Model 2:')\n",
        "print(\"Accuracy: \", accuracy_score(y_val[1].astype('int'), y_pred_2))\n",
        "print(\"Precision: \", precision_score(y_val[1].astype('int'), y_pred_2))\n",
        "print(\"Recall: \", recall_score(y_val[1].astype('int'), y_pred_2))\n",
        "print(\"f1-score: \", f1_score(y_val[1].astype('int'), y_pred_2))\n",
        "\n",
        "#model 3\n",
        "print('\\nEvaluation Metrics for Model 3:')\n",
        "print(\"Accuracy: \", accuracy_score(y_val[2].astype('int'), y_pred_3))\n",
        "print(\"Precision: \", precision_score(y_val[2].astype('int'), y_pred_3))\n",
        "print(\"Recall: \", recall_score(y_val[2].astype('int'), y_pred_3))\n",
        "print(\"f1-score: \", f1_score(y_val[2].astype('int'), y_pred_3))\n",
        "\n",
        "#model 4\n",
        "print('\\nEvaluation Metrics for Model 4:')\n",
        "print(\"Accuracy: \", accuracy_score(y_val[3].astype('int'), y_pred_4))\n",
        "print(\"Precision: \", precision_score(y_val[3].astype('int'), y_pred_4))\n",
        "print(\"Recall: \", recall_score(y_val[3].astype('int'), y_pred_4))\n",
        "print(\"f1-score: \", f1_score(y_val[3].astype('int'), y_pred_4))\n",
        "\n",
        "#model 5\n",
        "print('\\nEvaluation Metrics for Model 5:')\n",
        "print(\"Accuracy: \", accuracy_score(y_val[4].astype('int'), y_pred_5))\n",
        "print(\"Precision: \", precision_score(y_val[4].astype('int'), y_pred_5))\n",
        "print(\"Recall: \", recall_score(y_val[4].astype('int'), y_pred_5))\n",
        "print(\"f1-score: \", f1_score(y_val[4].astype('int'), y_pred_5))"
      ],
      "metadata": {
        "colab": {
          "base_uri": "https://localhost:8080/"
        },
        "id": "MW7KY7_lzoV9",
        "outputId": "e02fc92a-313b-45e8-b27f-56e54ffafd51"
      },
      "execution_count": null,
      "outputs": [
        {
          "output_type": "stream",
          "name": "stdout",
          "text": [
            "Comparing the 5 KNN models on the 5 validation sets\n",
            "\n",
            "Evaluation Metrics for Model 1:\n",
            "Accuracy:  0.9486686796596212\n",
            "Precision:  0.9564356435643564\n",
            "Recall:  0.9229299363057325\n",
            "f1-score:  0.9393841166936792\n",
            "\n",
            "Evaluation Metrics for Model 2:\n",
            "Accuracy:  0.942339373970346\n",
            "Precision:  0.9485488126649076\n",
            "Recall:  0.9159235668789809\n",
            "f1-score:  0.9319507453013611\n",
            "\n",
            "Evaluation Metrics for Model 3:\n",
            "Accuracy:  0.9538714991762768\n",
            "Precision:  0.9563802083333334\n",
            "Recall:  0.9356687898089172\n",
            "f1-score:  0.9459111397295558\n",
            "\n",
            "Evaluation Metrics for Model 4:\n",
            "Accuracy:  0.9470071389346513\n",
            "Precision:  0.9502943100065402\n",
            "Recall:  0.9254777070063694\n",
            "f1-score:  0.9377218457566956\n",
            "\n",
            "Evaluation Metrics for Model 5:\n",
            "Accuracy:  0.943986820428336\n",
            "Precision:  0.9583892617449664\n",
            "Recall:  0.9095541401273886\n",
            "f1-score:  0.9333333333333335\n"
          ]
        }
      ]
    },
    {
      "cell_type": "code",
      "source": [
        "y_pred_1 = model_rf_1.predict(X_test1.values)\n",
        "\n",
        "\n",
        "print('Comparing the 5 KNN models on the 5 validation sets')\n",
        "#model 1\n",
        "print('\\nEvaluation Metrics for Model 1:')\n",
        "print(\"Accuracy: \", accuracy_score(y_test1[\"label\"].values.astype('int'), y_pred_1))\n",
        "print(\"Precision: \", precision_score(y_test1[\"label\"].values.astype('int'), y_pred_1))\n",
        "print(\"Recall: \", recall_score(y_test1[\"label\"].values.astype('int'), y_pred_1))\n",
        "print(\"f1-score: \", f1_score(y_test1[\"label\"].values.astype('int'), y_pred_1))"
      ],
      "metadata": {
        "id": "WGmgU4vKcPCX"
      },
      "execution_count": null,
      "outputs": []
    },
    {
      "cell_type": "code",
      "source": [
        "y_test = test_data[\"label\"].values "
      ],
      "metadata": {
        "id": "26d7FrSjx3aq"
      },
      "execution_count": null,
      "outputs": []
    },
    {
      "cell_type": "code",
      "source": [
        "y_pred = model_rf_3.predict(X_test)\n",
        "sub = pd.DataFrame({'id':test_data['id'], 'label':y_pred})\n",
        "sub.to_csv('submit_rftry1.csv')"
      ],
      "metadata": {
        "id": "ib-HgUzFxu74"
      },
      "execution_count": null,
      "outputs": []
    },
    {
      "cell_type": "code",
      "source": [
        "cm = confusion_matrix(y_test1[\"label\"].values.astype('int'), y_pred)\n",
        "sns.heatmap(cm, annot=True)"
      ],
      "metadata": {
        "colab": {
          "base_uri": "https://localhost:8080/",
          "height": 282
        },
        "id": "XVRj-ByEfdxu",
        "outputId": "5b6a7cce-6004-44e7-a441-880d40d50261"
      },
      "execution_count": null,
      "outputs": [
        {
          "output_type": "execute_result",
          "data": {
            "text/plain": [
              "<matplotlib.axes._subplots.AxesSubplot at 0x7f77d6e9d710>"
            ]
          },
          "metadata": {},
          "execution_count": 108
        },
        {
          "output_type": "display_data",
          "data": {
            "text/plain": [
              "<Figure size 432x288 with 2 Axes>"
            ],
            "image/png": "[encoded data removed]"
          },
          "metadata": {
            "needs_background": "light"
          }
        }
      ]
    },
    {
      "cell_type": "code",
      "source": [
        "fpr, tpr, thresholds = roc_curve(y_test1[\"label\"].values.astype('int'), y_pred)\n",
        "plt.plot(fpr, tpr)\n",
        "plt.xlabel('False positive rate')\n",
        "plt.ylabel('True Positive rate')\n",
        "plt.title('ROC curve for logistic regression')"
      ],
      "metadata": {
        "colab": {
          "base_uri": "https://localhost:8080/",
          "height": 312
        },
        "id": "mR9-8YaHfeDT",
        "outputId": "3df7a664-13c4-4226-82cf-9c99b8df8466"
      },
      "execution_count": null,
      "outputs": [
        {
          "output_type": "execute_result",
          "data": {
            "text/plain": [
              "Text(0.5, 1.0, 'ROC curve for logistic regression')"
            ]
          },
          "metadata": {},
          "execution_count": 109
        },
        {
          "output_type": "display_data",
          "data": {
            "text/plain": [
              "<Figure size 432x288 with 1 Axes>"
            ],
            "image/png": "[encoded data removed]"
          },
          "metadata": {
            "needs_background": "light"
          }
        }
      ]
    }
  ]
}